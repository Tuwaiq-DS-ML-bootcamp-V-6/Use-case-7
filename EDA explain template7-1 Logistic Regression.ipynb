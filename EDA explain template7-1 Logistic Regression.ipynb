{
 "cells": [
  {
   "cell_type": "markdown",
   "id": "8cbffa56-e5c1-4add-aa16-322513353154",
   "metadata": {},
   "source": [
    "### Import Libraries"
   ]
  },
  {
   "cell_type": "code",
   "execution_count": 1,
   "id": "49fc47df-2f9f-42fe-ab43-09299f38c8c8",
   "metadata": {},
   "outputs": [],
   "source": [
    "# To ignore warnings\n",
    "import warnings\n",
    "warnings.filterwarnings(\"ignore\")\n",
    "import pandas as pd\n",
    "import numpy as np\n",
    "import matplotlib.pyplot as plt\n",
    "import seaborn as sns\n",
    "\n",
    "from sklearn.model_selection import train_test_split\n",
    "from sklearn.preprocessing import StandardScaler\n",
    "from sklearn.linear_model import LogisticRegression\n",
    "from sklearn.metrics import accuracy_score, confusion_matrix, precision_score, recall_score, f1_score\n",
    "from sklearn.model_selection import GridSearchCV\n",
    "from sklearn.preprocessing import LabelEncoder\n",
    "\n",
    "from sklearn import metrics\n",
    "\n",
    "%matplotlib inline\n",
    "\n",
    "%matplotlib inline"
   ]
  },
  {
   "cell_type": "markdown",
   "id": "efbd91de-1243-48b4-b6ef-6612c77b7537",
   "metadata": {},
   "source": [
    "### Load the Data"
   ]
  },
  {
   "cell_type": "code",
   "execution_count": 2,
   "id": "1c8742f3-de67-4fef-b634-efd83cd775f6",
   "metadata": {},
   "outputs": [],
   "source": [
    "player = pd.read_csv(\"final_data.csv\")"
   ]
  },
  {
   "cell_type": "code",
   "execution_count": 3,
   "id": "db6a4e19-4504-4c3b-bbfe-4b9819627f55",
   "metadata": {},
   "outputs": [
    {
     "data": {
      "text/plain": [
       "(10754, 22)"
      ]
     },
     "execution_count": 3,
     "metadata": {},
     "output_type": "execute_result"
    }
   ],
   "source": [
    "player.shape"
   ]
  },
  {
   "cell_type": "code",
   "execution_count": 4,
   "id": "ef9d6218-1dbc-45f0-a83d-181da1b0e119",
   "metadata": {},
   "outputs": [
    {
     "data": {
      "text/html": [
       "<div>\n",
       "<style scoped>\n",
       "    .dataframe tbody tr th:only-of-type {\n",
       "        vertical-align: middle;\n",
       "    }\n",
       "\n",
       "    .dataframe tbody tr th {\n",
       "        vertical-align: top;\n",
       "    }\n",
       "\n",
       "    .dataframe thead th {\n",
       "        text-align: right;\n",
       "    }\n",
       "</style>\n",
       "<table border=\"1\" class=\"dataframe\">\n",
       "  <thead>\n",
       "    <tr style=\"text-align: right;\">\n",
       "      <th></th>\n",
       "      <th>player</th>\n",
       "      <th>team</th>\n",
       "      <th>name</th>\n",
       "      <th>position</th>\n",
       "      <th>height</th>\n",
       "      <th>age</th>\n",
       "      <th>appearance</th>\n",
       "      <th>goals</th>\n",
       "      <th>assists</th>\n",
       "      <th>yellow cards</th>\n",
       "      <th>...</th>\n",
       "      <th>goals conceded</th>\n",
       "      <th>clean sheets</th>\n",
       "      <th>minutes played</th>\n",
       "      <th>days_injured</th>\n",
       "      <th>games_injured</th>\n",
       "      <th>award</th>\n",
       "      <th>current_value</th>\n",
       "      <th>highest_value</th>\n",
       "      <th>position_encoded</th>\n",
       "      <th>winger</th>\n",
       "    </tr>\n",
       "  </thead>\n",
       "  <tbody>\n",
       "    <tr>\n",
       "      <th>0</th>\n",
       "      <td>/david-de-gea/profil/spieler/59377</td>\n",
       "      <td>Manchester United</td>\n",
       "      <td>David de Gea</td>\n",
       "      <td>Goalkeeper</td>\n",
       "      <td>189.0</td>\n",
       "      <td>32.0</td>\n",
       "      <td>104</td>\n",
       "      <td>0.0</td>\n",
       "      <td>0.0</td>\n",
       "      <td>0.009585</td>\n",
       "      <td>...</td>\n",
       "      <td>1.217252</td>\n",
       "      <td>0.335463</td>\n",
       "      <td>9390</td>\n",
       "      <td>42</td>\n",
       "      <td>5</td>\n",
       "      <td>13</td>\n",
       "      <td>15000000</td>\n",
       "      <td>70000000</td>\n",
       "      <td>1</td>\n",
       "      <td>0</td>\n",
       "    </tr>\n",
       "    <tr>\n",
       "      <th>1</th>\n",
       "      <td>/jack-butland/profil/spieler/128899</td>\n",
       "      <td>Manchester United</td>\n",
       "      <td>Jack Butland</td>\n",
       "      <td>Goalkeeper</td>\n",
       "      <td>196.0</td>\n",
       "      <td>30.0</td>\n",
       "      <td>15</td>\n",
       "      <td>0.0</td>\n",
       "      <td>0.0</td>\n",
       "      <td>0.069018</td>\n",
       "      <td>...</td>\n",
       "      <td>1.242331</td>\n",
       "      <td>0.207055</td>\n",
       "      <td>1304</td>\n",
       "      <td>510</td>\n",
       "      <td>58</td>\n",
       "      <td>1</td>\n",
       "      <td>1500000</td>\n",
       "      <td>22000000</td>\n",
       "      <td>1</td>\n",
       "      <td>0</td>\n",
       "    </tr>\n",
       "  </tbody>\n",
       "</table>\n",
       "<p>2 rows × 22 columns</p>\n",
       "</div>"
      ],
      "text/plain": [
       "                                player               team          name  \\\n",
       "0   /david-de-gea/profil/spieler/59377  Manchester United  David de Gea   \n",
       "1  /jack-butland/profil/spieler/128899  Manchester United  Jack Butland   \n",
       "\n",
       "     position  height   age  appearance  goals  assists  yellow cards  ...  \\\n",
       "0  Goalkeeper   189.0  32.0         104    0.0      0.0      0.009585  ...   \n",
       "1  Goalkeeper   196.0  30.0          15    0.0      0.0      0.069018  ...   \n",
       "\n",
       "   goals conceded  clean sheets  minutes played  days_injured  games_injured  \\\n",
       "0        1.217252      0.335463            9390            42              5   \n",
       "1        1.242331      0.207055            1304           510             58   \n",
       "\n",
       "   award  current_value  highest_value  position_encoded  winger  \n",
       "0     13       15000000       70000000                 1       0  \n",
       "1      1        1500000       22000000                 1       0  \n",
       "\n",
       "[2 rows x 22 columns]"
      ]
     },
     "execution_count": 4,
     "metadata": {},
     "output_type": "execute_result"
    }
   ],
   "source": [
    "player.head(2)"
   ]
  },
  {
   "cell_type": "markdown",
   "id": "a057e9aa-b9dd-454a-babe-6406fd3492f2",
   "metadata": {},
   "source": [
    "### Preprocess the Data"
   ]
  },
  {
   "cell_type": "markdown",
   "id": "98269a63-2b94-40a0-b4e3-f4fa66b88a01",
   "metadata": {},
   "source": [
    "#### 1. Simple EDA + Data Quality checking"
   ]
  },
  {
   "cell_type": "code",
   "execution_count": 5,
   "id": "e37e1fa4-248a-4d71-ae01-fbe2ece3d4a1",
   "metadata": {},
   "outputs": [
    {
     "data": {
      "text/html": [
       "<div>\n",
       "<style scoped>\n",
       "    .dataframe tbody tr th:only-of-type {\n",
       "        vertical-align: middle;\n",
       "    }\n",
       "\n",
       "    .dataframe tbody tr th {\n",
       "        vertical-align: top;\n",
       "    }\n",
       "\n",
       "    .dataframe thead th {\n",
       "        text-align: right;\n",
       "    }\n",
       "</style>\n",
       "<table border=\"1\" class=\"dataframe\">\n",
       "  <thead>\n",
       "    <tr style=\"text-align: right;\">\n",
       "      <th></th>\n",
       "      <th>player</th>\n",
       "      <th>team</th>\n",
       "      <th>name</th>\n",
       "      <th>position</th>\n",
       "      <th>height</th>\n",
       "      <th>age</th>\n",
       "      <th>appearance</th>\n",
       "      <th>goals</th>\n",
       "      <th>assists</th>\n",
       "      <th>yellow cards</th>\n",
       "      <th>...</th>\n",
       "      <th>goals conceded</th>\n",
       "      <th>clean sheets</th>\n",
       "      <th>minutes played</th>\n",
       "      <th>days_injured</th>\n",
       "      <th>games_injured</th>\n",
       "      <th>award</th>\n",
       "      <th>current_value</th>\n",
       "      <th>highest_value</th>\n",
       "      <th>position_encoded</th>\n",
       "      <th>winger</th>\n",
       "    </tr>\n",
       "  </thead>\n",
       "  <tbody>\n",
       "  </tbody>\n",
       "</table>\n",
       "<p>0 rows × 22 columns</p>\n",
       "</div>"
      ],
      "text/plain": [
       "Empty DataFrame\n",
       "Columns: [player, team, name, position, height, age, appearance, goals, assists, yellow cards, second yellow cards, red cards, goals conceded, clean sheets, minutes played, days_injured, games_injured, award, current_value, highest_value, position_encoded, winger]\n",
       "Index: []\n",
       "\n",
       "[0 rows x 22 columns]"
      ]
     },
     "execution_count": 5,
     "metadata": {},
     "output_type": "execute_result"
    }
   ],
   "source": [
    "# uniqeness\n",
    "player.drop_duplicates(inplace=True)\n",
    "player[player.duplicated()]"
   ]
  },
  {
   "cell_type": "code",
   "execution_count": 6,
   "id": "9256ce7d-d3ae-4a91-a7d4-90994e43b619",
   "metadata": {},
   "outputs": [
    {
     "data": {
      "text/plain": [
       "player                 0\n",
       "team                   0\n",
       "name                   0\n",
       "position               0\n",
       "height                 0\n",
       "age                    0\n",
       "appearance             0\n",
       "goals                  0\n",
       "assists                0\n",
       "yellow cards           0\n",
       "second yellow cards    0\n",
       "red cards              0\n",
       "goals conceded         0\n",
       "clean sheets           0\n",
       "minutes played         0\n",
       "days_injured           0\n",
       "games_injured          0\n",
       "award                  0\n",
       "current_value          0\n",
       "highest_value          0\n",
       "position_encoded       0\n",
       "winger                 0\n",
       "dtype: int64"
      ]
     },
     "execution_count": 6,
     "metadata": {},
     "output_type": "execute_result"
    }
   ],
   "source": [
    "# Completeness\n",
    "player.isnull().sum()"
   ]
  },
  {
   "cell_type": "code",
   "execution_count": 7,
   "id": "a3646f19-368a-49f0-b12f-b2dc69cdebf5",
   "metadata": {},
   "outputs": [
    {
     "data": {
      "text/plain": [
       "player                  object\n",
       "team                    object\n",
       "name                    object\n",
       "position                object\n",
       "height                 float64\n",
       "age                    float64\n",
       "appearance               int64\n",
       "goals                  float64\n",
       "assists                float64\n",
       "yellow cards           float64\n",
       "second yellow cards    float64\n",
       "red cards              float64\n",
       "goals conceded         float64\n",
       "clean sheets           float64\n",
       "minutes played           int64\n",
       "days_injured             int64\n",
       "games_injured            int64\n",
       "award                    int64\n",
       "current_value            int64\n",
       "highest_value            int64\n",
       "position_encoded         int64\n",
       "winger                   int64\n",
       "dtype: object"
      ]
     },
     "execution_count": 7,
     "metadata": {},
     "output_type": "execute_result"
    }
   ],
   "source": [
    "# Accurecy types\n",
    "player.dtypes"
   ]
  },
  {
   "cell_type": "code",
   "execution_count": 11,
   "id": "1d60d369-801d-4993-9915-309b5e03ccd8",
   "metadata": {},
   "outputs": [],
   "source": [
    "# Accurecy - Outlier\n",
    "# Convert categorical variables using OneHotEncoding\n",
    "\n",
    "categorical_features = ['team']\n",
    "\n",
    "numeric_features = ['height', 'age', 'appearance','goals', 'assists', 'yellow cards',\n",
    "                    'second yellow cards','red cards', 'goals conceded','clean sheets',\n",
    "                    'minutes played', 'days_injured','games_injured', 'award',\n",
    "                    'current_value','highest_value','position_encoded',\n",
    "                    'winger']"
   ]
  },
  {
   "cell_type": "code",
   "execution_count": 12,
   "id": "88fc4c51-c2db-4c0d-9c2e-506546851b34",
   "metadata": {},
   "outputs": [
    {
     "name": "stdout",
     "output_type": "stream",
     "text": [
      "team\n",
      "Daejeon Hana Citizen      46\n",
      "Jeonbuk Hyundai Motors    46\n",
      "FC Seoul                  45\n",
      "Gangwon FC                43\n",
      "Daegu FC                  42\n",
      "                          ..\n",
      "FC Barcelona              22\n",
      "Atlético de Madrid        22\n",
      "CA Osasuna                22\n",
      "Hatayspor                 12\n",
      "Gaziantep FK               6\n",
      "Name: count, Length: 374, dtype: int64\n"
     ]
    }
   ],
   "source": [
    "for i in categorical_features:\n",
    "    print (player[i].value_counts())"
   ]
  },
  {
   "cell_type": "code",
   "execution_count": 13,
   "id": "b491a2d6-92e9-4824-b2b5-c83f0cf22d9e",
   "metadata": {},
   "outputs": [
    {
     "name": "stdout",
     "output_type": "stream",
     "text": [
      "height\n",
      "180.000000    744\n",
      "185.000000    608\n",
      "175.000000    596\n",
      "178.000000    594\n",
      "183.000000    572\n",
      "188.000000    493\n",
      "184.000000    458\n",
      "182.000000    449\n",
      "181.240353    440\n",
      "186.000000    423\n",
      "187.000000    419\n",
      "176.000000    390\n",
      "177.000000    372\n",
      "190.000000    371\n",
      "173.000000    366\n",
      "179.000000    359\n",
      "181.000000    355\n",
      "170.000000    312\n",
      "191.000000    272\n",
      "174.000000    270\n",
      "189.000000    255\n",
      "172.000000    254\n",
      "192.000000    203\n",
      "193.000000    181\n",
      "171.000000    169\n",
      "168.000000    124\n",
      "194.000000    117\n",
      "169.000000    107\n",
      "195.000000     98\n",
      "167.000000     85\n",
      "196.000000     68\n",
      "166.000000     44\n",
      "165.000000     42\n",
      "197.000000     31\n",
      "198.000000     24\n",
      "163.000000     16\n",
      "160.000000     15\n",
      "164.000000     14\n",
      "199.000000     12\n",
      "200.000000     12\n",
      "202.000000      6\n",
      "162.000000      6\n",
      "161.000000      3\n",
      "206.000000      2\n",
      "204.000000      1\n",
      "156.000000      1\n",
      "159.000000      1\n",
      "Name: count, dtype: int64\n",
      "age\n",
      "22.000000    841\n",
      "23.000000    823\n",
      "26.000000    812\n",
      "25.000000    772\n",
      "24.000000    767\n",
      "21.000000    715\n",
      "28.000000    678\n",
      "27.000000    666\n",
      "29.000000    650\n",
      "30.000000    617\n",
      "20.000000    601\n",
      "31.000000    484\n",
      "32.000000    428\n",
      "19.000000    411\n",
      "33.000000    383\n",
      "34.000000    257\n",
      "18.000000    224\n",
      "35.000000    177\n",
      "36.000000    149\n",
      "37.000000     90\n",
      "17.000000     80\n",
      "38.000000     36\n",
      "39.000000     20\n",
      "40.000000     19\n",
      "16.000000     19\n",
      "26.041903     15\n",
      "42.000000      7\n",
      "41.000000      6\n",
      "15.000000      6\n",
      "43.000000      1\n",
      "Name: count, dtype: int64\n",
      "appearance\n",
      "0      389\n",
      "1      333\n",
      "4      225\n",
      "17     221\n",
      "10     216\n",
      "      ... \n",
      "98       3\n",
      "107      3\n",
      "106      2\n",
      "104      2\n",
      "103      1\n",
      "Name: count, Length: 108, dtype: int64\n",
      "goals\n",
      "0.000000    4354\n",
      "1.000000      10\n",
      "0.324910       8\n",
      "0.400000       6\n",
      "0.230769       6\n",
      "            ... \n",
      "0.195652       1\n",
      "0.334650       1\n",
      "0.633927       1\n",
      "0.806801       1\n",
      "0.312139       1\n",
      "Name: count, Length: 5329, dtype: int64\n",
      "assists\n",
      "0.000000    4539\n",
      "0.100784       6\n",
      "1.000000       6\n",
      "0.174081       6\n",
      "0.111111       6\n",
      "            ... \n",
      "0.147589       1\n",
      "0.176384       1\n",
      "0.188186       1\n",
      "0.015915       1\n",
      "0.208333       1\n",
      "Name: count, Length: 5065, dtype: int64\n",
      "yellow cards\n",
      "0.000000    2213\n",
      "0.142857      16\n",
      "0.333333      16\n",
      "0.250000      15\n",
      "0.125000      14\n",
      "            ... \n",
      "0.029202       1\n",
      "0.239203       1\n",
      "0.154004       1\n",
      "0.116167       1\n",
      "0.221402       1\n",
      "Name: count, Length: 6291, dtype: int64\n",
      "second yellow cards\n",
      "0.000000    9585\n",
      "0.025035       3\n",
      "0.021464       3\n",
      "0.021388       3\n",
      "0.036364       3\n",
      "            ... \n",
      "0.019007       1\n",
      "0.016657       1\n",
      "0.065934       1\n",
      "0.024045       1\n",
      "0.057878       1\n",
      "Name: count, Length: 1095, dtype: int64\n",
      "red cards\n",
      "0.000000    9423\n",
      "0.039233       3\n",
      "0.018572       3\n",
      "0.018821       3\n",
      "0.019811       3\n",
      "            ... \n",
      "0.030685       1\n",
      "0.016184       1\n",
      "0.038643       1\n",
      "0.017678       1\n",
      "0.104046       1\n",
      "Name: count, Length: 1219, dtype: int64\n",
      "goals conceded\n",
      "0.000000    9739\n",
      "1.000000      36\n",
      "2.000000      27\n",
      "1.500000      20\n",
      "1.333333      12\n",
      "            ... \n",
      "1.722222       1\n",
      "2.052632       1\n",
      "1.493776       1\n",
      "1.187755       1\n",
      "1.431373       1\n",
      "Name: count, Length: 742, dtype: int64\n",
      "clean sheets\n",
      "0.000000     9800\n",
      "0.500000       33\n",
      "0.333333       23\n",
      "0.250000       19\n",
      "1.000000       16\n",
      "             ... \n",
      "0.410865        1\n",
      "0.203046        1\n",
      "10.588235       1\n",
      "0.065598        1\n",
      "0.254902        1\n",
      "Name: count, Length: 635, dtype: int64\n",
      "minutes played\n",
      "0       405\n",
      "90       98\n",
      "180      41\n",
      "1530     39\n",
      "450      37\n",
      "       ... \n",
      "1718      1\n",
      "8411      1\n",
      "6621      1\n",
      "6369      1\n",
      "820       1\n",
      "Name: count, Length: 5036, dtype: int64\n",
      "days_injured\n",
      "0       4117\n",
      "14        72\n",
      "7         51\n",
      "10        51\n",
      "21        44\n",
      "        ... \n",
      "622        1\n",
      "522        1\n",
      "525        1\n",
      "637        1\n",
      "1307       1\n",
      "Name: count, Length: 772, dtype: int64\n",
      "games_injured\n",
      "0      4227\n",
      "2       277\n",
      "4       252\n",
      "3       250\n",
      "1       247\n",
      "       ... \n",
      "201       1\n",
      "136       1\n",
      "169       1\n",
      "168       1\n",
      "146       1\n",
      "Name: count, Length: 154, dtype: int64\n",
      "award\n",
      "0     4773\n",
      "1     2211\n",
      "2     1223\n",
      "3      730\n",
      "4      460\n",
      "5      323\n",
      "6      216\n",
      "7      199\n",
      "8      121\n",
      "9      110\n",
      "10      72\n",
      "11      61\n",
      "13      42\n",
      "12      35\n",
      "14      35\n",
      "15      21\n",
      "17      16\n",
      "18      16\n",
      "16      13\n",
      "19      11\n",
      "20      11\n",
      "33       6\n",
      "22       6\n",
      "21       4\n",
      "25       4\n",
      "24       4\n",
      "26       4\n",
      "23       3\n",
      "35       2\n",
      "36       2\n",
      "29       2\n",
      "27       2\n",
      "32       2\n",
      "37       2\n",
      "31       1\n",
      "42       1\n",
      "28       1\n",
      "92       1\n",
      "34       1\n",
      "30       1\n",
      "57       1\n",
      "65       1\n",
      "53       1\n",
      "38       1\n",
      "43       1\n",
      "90       1\n",
      "Name: count, dtype: int64\n",
      "current_value\n",
      "1000000      473\n",
      "300000       456\n",
      "500000       441\n",
      "50000        422\n",
      "1500000      412\n",
      "            ... \n",
      "23000000       1\n",
      "180000000      1\n",
      "925000         1\n",
      "5800000        1\n",
      "150000000      1\n",
      "Name: count, Length: 128, dtype: int64\n",
      "highest_value\n",
      "1000000      470\n",
      "1500000      417\n",
      "2000000      411\n",
      "50000        362\n",
      "3000000      351\n",
      "            ... \n",
      "200000000      1\n",
      "130000000      1\n",
      "48000000       1\n",
      "170000000      1\n",
      "36500000       1\n",
      "Name: count, Length: 156, dtype: int64\n",
      "position_encoded\n",
      "2    3528\n",
      "3    3095\n",
      "4    2902\n",
      "1    1229\n",
      "Name: count, dtype: int64\n",
      "winger\n",
      "0    7447\n",
      "1    3307\n",
      "Name: count, dtype: int64\n"
     ]
    }
   ],
   "source": [
    "for i in numeric_features:\n",
    "    print (player[i].value_counts())"
   ]
  },
  {
   "cell_type": "code",
   "execution_count": 14,
   "id": "9796161a-e43b-4b3f-b01a-5dd4833c1381",
   "metadata": {},
   "outputs": [
    {
     "data": {
      "image/png": "[encoded data removed]",
      "text/plain": [
       "<Figure size 1500x800 with 1 Axes>"
      ]
     },
     "metadata": {},
     "output_type": "display_data"
    }
   ],
   "source": [
    "plt.figure(figsize=(15,8))\n",
    "#plt.boxplot(player['highest_value'])\n",
    "plt.hist(player[player['highest_value']<=0.25]['highest_value'],bins=100);"
   ]
  },
  {
   "cell_type": "code",
   "execution_count": 15,
   "id": "608913b9-d7f2-4559-9a5f-7a904886eac7",
   "metadata": {},
   "outputs": [
    {
     "data": {
      "image/png": "[encoded data removed]",
      "text/plain": [
       "<Figure size 1500x800 with 1 Axes>"
      ]
     },
     "metadata": {},
     "output_type": "display_data"
    }
   ],
   "source": [
    "plt.figure(figsize=(15,8))\n",
    "#plt.boxplot(player['goals'])\n",
    "plt.hist(player[(player['goals']<=0.5) & (player['goals']>0.0125)]['goals'], bins=100);"
   ]
  },
  {
   "cell_type": "code",
   "execution_count": 16,
   "id": "aa5fb1f8-1100-495c-b544-1987c30d8394",
   "metadata": {},
   "outputs": [
    {
     "data": {
      "image/png": "[encoded data removed]",
      "text/plain": [
       "<Figure size 1500x800 with 1 Axes>"
      ]
     },
     "metadata": {},
     "output_type": "display_data"
    }
   ],
   "source": [
    "plt.figure(figsize=(15,8))\n",
    "#plt.boxplot(player['assists']);\n",
    "plt.hist(player[(player['assists']<=0.2) & (player['assists']>0.0125)]['assists'],bins=100);"
   ]
  },
  {
   "cell_type": "code",
   "execution_count": 17,
   "id": "06fc28a1-71d5-4050-a000-ec977929dc48",
   "metadata": {},
   "outputs": [
    {
     "data": {
      "image/png": "[encoded data removed]",
      "text/plain": [
       "<Figure size 1500x800 with 1 Axes>"
      ]
     },
     "metadata": {},
     "output_type": "display_data"
    }
   ],
   "source": [
    "plt.figure(figsize=(15,8))\n",
    "#plt.boxplot(player['minutes played'])\n",
    "plt.hist(player[player['minutes played']<=5000]['minutes played'],bins=100);"
   ]
  },
  {
   "cell_type": "code",
   "execution_count": 18,
   "id": "28f61c6a-ac8a-475e-aec3-29ed39bf3e66",
   "metadata": {},
   "outputs": [
    {
     "data": {
      "image/png": "[encoded data removed]",
      "text/plain": [
       "<Figure size 1500x800 with 1 Axes>"
      ]
     },
     "metadata": {},
     "output_type": "display_data"
    }
   ],
   "source": [
    "plt.figure(figsize=(15,8))\n",
    "#plt.boxplot(player['height'])\n",
    "plt.hist(player[(player['height']<=195) & (player['height']>166)]['height'],bins=100);"
   ]
  },
  {
   "cell_type": "code",
   "execution_count": 19,
   "id": "55ac194c-f50e-4bc8-8c36-909e4a407d40",
   "metadata": {},
   "outputs": [
    {
     "data": {
      "image/png": "[encoded data removed]",
      "text/plain": [
       "<Figure size 1500x800 with 1 Axes>"
      ]
     },
     "metadata": {},
     "output_type": "display_data"
    }
   ],
   "source": [
    "plt.figure(figsize=(15,8))\n",
    "#plt.boxplot(player['days_injured'])\n",
    "plt.hist(player[(player['days_injured']<=350) & (player['days_injured']>0)]['days_injured'],bins=100);\n"
   ]
  },
  {
   "cell_type": "code",
   "execution_count": 20,
   "id": "44886c68-93f5-4ec5-9f75-1bc37cf0f2da",
   "metadata": {},
   "outputs": [
    {
     "data": {
      "image/png": "[encoded data removed]",
      "text/plain": [
       "<Figure size 1500x800 with 1 Axes>"
      ]
     },
     "metadata": {},
     "output_type": "display_data"
    }
   ],
   "source": [
    "plt.figure(figsize=(15,8))\n",
    "#plt.boxplot(player['games_injured'])\n",
    "plt.hist(player[(player['games_injured']<=80) & (player['games_injured']>0)]['games_injured'],bins=100);"
   ]
  },
  {
   "cell_type": "markdown",
   "id": "a82e23cc-325e-4142-89ed-74b571e96ead",
   "metadata": {},
   "source": [
    "#### 2. Feature engineering"
   ]
  },
  {
   "cell_type": "markdown",
   "id": "27cfab06-ccec-4ffc-a9be-b097bc1589eb",
   "metadata": {},
   "source": [
    "1. Feature scaling\n",
    "\n",
    "2. Aggregation\n",
    "\n",
    "3. One hot coding"
   ]
  },
  {
   "cell_type": "code",
   "execution_count": 21,
   "id": "4a321e33-954f-47d5-96b6-11941eb7b6c7",
   "metadata": {},
   "outputs": [
    {
     "data": {
      "text/html": [
       "<div>\n",
       "<style scoped>\n",
       "    .dataframe tbody tr th:only-of-type {\n",
       "        vertical-align: middle;\n",
       "    }\n",
       "\n",
       "    .dataframe tbody tr th {\n",
       "        vertical-align: top;\n",
       "    }\n",
       "\n",
       "    .dataframe thead th {\n",
       "        text-align: right;\n",
       "    }\n",
       "</style>\n",
       "<table border=\"1\" class=\"dataframe\">\n",
       "  <thead>\n",
       "    <tr style=\"text-align: right;\">\n",
       "      <th></th>\n",
       "      <th>player</th>\n",
       "      <th>team</th>\n",
       "      <th>name</th>\n",
       "      <th>position</th>\n",
       "      <th>height</th>\n",
       "      <th>age</th>\n",
       "      <th>appearance</th>\n",
       "      <th>goals</th>\n",
       "      <th>assists</th>\n",
       "      <th>yellow cards</th>\n",
       "      <th>...</th>\n",
       "      <th>goals conceded</th>\n",
       "      <th>clean sheets</th>\n",
       "      <th>minutes played</th>\n",
       "      <th>days_injured</th>\n",
       "      <th>games_injured</th>\n",
       "      <th>award</th>\n",
       "      <th>current_value</th>\n",
       "      <th>highest_value</th>\n",
       "      <th>position_encoded</th>\n",
       "      <th>winger</th>\n",
       "    </tr>\n",
       "  </thead>\n",
       "  <tbody>\n",
       "    <tr>\n",
       "      <th>0</th>\n",
       "      <td>/david-de-gea/profil/spieler/59377</td>\n",
       "      <td>Manchester United</td>\n",
       "      <td>David de Gea</td>\n",
       "      <td>Goalkeeper</td>\n",
       "      <td>189.0</td>\n",
       "      <td>32.0</td>\n",
       "      <td>104</td>\n",
       "      <td>0.0</td>\n",
       "      <td>0.0</td>\n",
       "      <td>0.009585</td>\n",
       "      <td>...</td>\n",
       "      <td>1.217252</td>\n",
       "      <td>0.335463</td>\n",
       "      <td>9390</td>\n",
       "      <td>42</td>\n",
       "      <td>5</td>\n",
       "      <td>13</td>\n",
       "      <td>15000000</td>\n",
       "      <td>70000000</td>\n",
       "      <td>1</td>\n",
       "      <td>0</td>\n",
       "    </tr>\n",
       "    <tr>\n",
       "      <th>1</th>\n",
       "      <td>/jack-butland/profil/spieler/128899</td>\n",
       "      <td>Manchester United</td>\n",
       "      <td>Jack Butland</td>\n",
       "      <td>Goalkeeper</td>\n",
       "      <td>196.0</td>\n",
       "      <td>30.0</td>\n",
       "      <td>15</td>\n",
       "      <td>0.0</td>\n",
       "      <td>0.0</td>\n",
       "      <td>0.069018</td>\n",
       "      <td>...</td>\n",
       "      <td>1.242331</td>\n",
       "      <td>0.207055</td>\n",
       "      <td>1304</td>\n",
       "      <td>510</td>\n",
       "      <td>58</td>\n",
       "      <td>1</td>\n",
       "      <td>1500000</td>\n",
       "      <td>22000000</td>\n",
       "      <td>1</td>\n",
       "      <td>0</td>\n",
       "    </tr>\n",
       "  </tbody>\n",
       "</table>\n",
       "<p>2 rows × 22 columns</p>\n",
       "</div>"
      ],
      "text/plain": [
       "                                player               team          name  \\\n",
       "0   /david-de-gea/profil/spieler/59377  Manchester United  David de Gea   \n",
       "1  /jack-butland/profil/spieler/128899  Manchester United  Jack Butland   \n",
       "\n",
       "     position  height   age  appearance  goals  assists  yellow cards  ...  \\\n",
       "0  Goalkeeper   189.0  32.0         104    0.0      0.0      0.009585  ...   \n",
       "1  Goalkeeper   196.0  30.0          15    0.0      0.0      0.069018  ...   \n",
       "\n",
       "   goals conceded  clean sheets  minutes played  days_injured  games_injured  \\\n",
       "0        1.217252      0.335463            9390            42              5   \n",
       "1        1.242331      0.207055            1304           510             58   \n",
       "\n",
       "   award  current_value  highest_value  position_encoded  winger  \n",
       "0     13       15000000       70000000                 1       0  \n",
       "1      1        1500000       22000000                 1       0  \n",
       "\n",
       "[2 rows x 22 columns]"
      ]
     },
     "execution_count": 21,
     "metadata": {},
     "output_type": "execute_result"
    }
   ],
   "source": [
    "player.head(2)"
   ]
  },
  {
   "cell_type": "code",
   "execution_count": 22,
   "id": "96d3cc64-76c9-48f6-ab1c-a51141f814a6",
   "metadata": {},
   "outputs": [
    {
     "data": {
      "text/plain": [
       "['team']"
      ]
     },
     "execution_count": 22,
     "metadata": {},
     "output_type": "execute_result"
    }
   ],
   "source": [
    "categorical_features"
   ]
  },
  {
   "cell_type": "code",
   "execution_count": 23,
   "id": "d28de52e-8065-4abc-9d1a-9c9040a1c890",
   "metadata": {},
   "outputs": [],
   "source": [
    "# one hot coding\n",
    "player = pd.get_dummies(player, columns=categorical_features)"
   ]
  },
  {
   "cell_type": "code",
   "execution_count": 24,
   "id": "f4c474f5-8ac5-4328-beb7-e7f50210541c",
   "metadata": {},
   "outputs": [
    {
     "data": {
      "text/plain": [
       "(10754, 395)"
      ]
     },
     "execution_count": 24,
     "metadata": {},
     "output_type": "execute_result"
    }
   ],
   "source": [
    "player.shape"
   ]
  },
  {
   "cell_type": "code",
   "execution_count": 25,
   "id": "c8fcbef3-7c51-4650-894b-4068847b3fb9",
   "metadata": {},
   "outputs": [
    {
     "name": "stdout",
     "output_type": "stream",
     "text": [
      "player price category\n",
      "Medium Value    6267\n",
      "High Value      2690\n",
      "Low Value       1797\n",
      "Name: count, dtype: int64\n"
     ]
    }
   ],
   "source": [
    "# Calculate the 20th and 75th percentiles of the price\n",
    "p20 = player['current_value'].quantile(0.20)\n",
    "p75 = player['current_value'].quantile(0.75)\n",
    "\n",
    "# Function to categorize prices\n",
    "def categorize_price(current_value):\n",
    "    if current_value < p20:\n",
    "        return 'Low Value'\n",
    "    elif current_value < p75:\n",
    "        return 'Medium Value'\n",
    "    else:\n",
    "        return 'High Value'\n",
    "\n",
    "# Apply the function to create a new column\n",
    "player['player price category'] = player['current_value'].apply(categorize_price)\n",
    "\n",
    "player.drop('current_value', axis=1, inplace=True)\n",
    "\n",
    "# Verify the distribution of the new categories\n",
    "print(player['player price category'].value_counts())"
   ]
  },
  {
   "cell_type": "code",
   "execution_count": 26,
   "id": "43181578-88e8-4cff-a3ff-e1727e68b3b7",
   "metadata": {},
   "outputs": [
    {
     "data": {
      "text/plain": [
       "(200000.0, 3000000.0)"
      ]
     },
     "execution_count": 26,
     "metadata": {},
     "output_type": "execute_result"
    }
   ],
   "source": [
    "p20, p75"
   ]
  },
  {
   "cell_type": "code",
   "execution_count": 27,
   "id": "f2619e47-a5a7-4d90-a0d5-e5937cc4b7b9",
   "metadata": {},
   "outputs": [],
   "source": [
    "encoder = LabelEncoder()\n",
    "player['player price category encoded'] = encoder.fit_transform(player['player price category']) "
   ]
  },
  {
   "cell_type": "markdown",
   "id": "af41bf5e-b1c0-4258-9a71-72434026cce1",
   "metadata": {},
   "source": [
    "#### 3. Feature selection"
   ]
  },
  {
   "cell_type": "code",
   "execution_count": 28,
   "id": "140fb144-8096-4722-bb63-0b2689292c42",
   "metadata": {},
   "outputs": [
    {
     "name": "stdout",
     "output_type": "stream",
     "text": [
      "player price category encoded    1.000000\n",
      "age                              0.129679\n",
      "goals conceded                   0.046740\n",
      "yellow cards                     0.025661\n",
      "winger                           0.023954\n",
      "red cards                        0.016435\n",
      "clean sheets                     0.012854\n",
      "second yellow cards              0.011286\n",
      "height                          -0.042982\n",
      "position_encoded                -0.050054\n",
      "days_injured                    -0.062428\n",
      "goals                           -0.078823\n",
      "assists                         -0.083448\n",
      "games_injured                   -0.088692\n",
      "award                           -0.161728\n",
      "minutes played                  -0.305306\n",
      "appearance                      -0.311844\n",
      "highest_value                   -0.466720\n",
      "Name: player price category encoded, dtype: float64\n"
     ]
    }
   ],
   "source": [
    "# only use numeric data in my model!\n",
    "numeric_player = player.select_dtypes(include=[np.number])\n",
    "\n",
    "correlation = numeric_player.corr()\n",
    "#print(correlation['current_value'].sort_values(ascending=False))\n",
    "print(correlation['player price category encoded'].sort_values(ascending=False))"
   ]
  },
  {
   "cell_type": "code",
   "execution_count": 29,
   "id": "ac3c2576-fdfd-47ae-a9bf-9eb24257fd81",
   "metadata": {},
   "outputs": [
    {
     "data": {
      "text/plain": [
       "Index(['appearance', 'minutes played', 'highest_value',\n",
       "       'player price category encoded'],\n",
       "      dtype='object')"
      ]
     },
     "execution_count": 29,
     "metadata": {},
     "output_type": "execute_result"
    }
   ],
   "source": [
    "# Set the correlation threshold\n",
    "threshold = 0.2  # You can change this value based on your requirement\n",
    "\n",
    "# Filter the correlations\n",
    "# We use `abs()` for absolute value to consider both strong positive and negative correlations\n",
    "selected_features = correlation[abs(correlation['player price category encoded']) > \\\n",
    "threshold]['player price category encoded'].index\n",
    "selected_features"
   ]
  },
  {
   "cell_type": "code",
   "execution_count": 30,
   "id": "5aee1dcd-ac8c-41e3-b378-ee17c62bf86d",
   "metadata": {},
   "outputs": [],
   "source": [
    "selected_features = ['appearance', 'minutes played', 'highest_value',\n",
    "       'player price category encoded']"
   ]
  },
  {
   "cell_type": "code",
   "execution_count": 31,
   "id": "2954ca57-869d-4c37-95ce-1d2dffd1c85e",
   "metadata": {},
   "outputs": [
    {
     "data": {
      "text/html": [
       "<div>\n",
       "<style scoped>\n",
       "    .dataframe tbody tr th:only-of-type {\n",
       "        vertical-align: middle;\n",
       "    }\n",
       "\n",
       "    .dataframe tbody tr th {\n",
       "        vertical-align: top;\n",
       "    }\n",
       "\n",
       "    .dataframe thead th {\n",
       "        text-align: right;\n",
       "    }\n",
       "</style>\n",
       "<table border=\"1\" class=\"dataframe\">\n",
       "  <thead>\n",
       "    <tr style=\"text-align: right;\">\n",
       "      <th></th>\n",
       "      <th>appearance</th>\n",
       "      <th>minutes played</th>\n",
       "      <th>highest_value</th>\n",
       "      <th>player price category encoded</th>\n",
       "    </tr>\n",
       "  </thead>\n",
       "  <tbody>\n",
       "    <tr>\n",
       "      <th>0</th>\n",
       "      <td>104</td>\n",
       "      <td>9390</td>\n",
       "      <td>70000000</td>\n",
       "      <td>0</td>\n",
       "    </tr>\n",
       "    <tr>\n",
       "      <th>1</th>\n",
       "      <td>15</td>\n",
       "      <td>1304</td>\n",
       "      <td>22000000</td>\n",
       "      <td>2</td>\n",
       "    </tr>\n",
       "    <tr>\n",
       "      <th>2</th>\n",
       "      <td>4</td>\n",
       "      <td>292</td>\n",
       "      <td>6000000</td>\n",
       "      <td>2</td>\n",
       "    </tr>\n",
       "    <tr>\n",
       "      <th>3</th>\n",
       "      <td>82</td>\n",
       "      <td>6408</td>\n",
       "      <td>50000000</td>\n",
       "      <td>0</td>\n",
       "    </tr>\n",
       "    <tr>\n",
       "      <th>4</th>\n",
       "      <td>63</td>\n",
       "      <td>5031</td>\n",
       "      <td>80000000</td>\n",
       "      <td>0</td>\n",
       "    </tr>\n",
       "  </tbody>\n",
       "</table>\n",
       "</div>"
      ],
      "text/plain": [
       "   appearance  minutes played  highest_value  player price category encoded\n",
       "0         104            9390       70000000                              0\n",
       "1          15            1304       22000000                              2\n",
       "2           4             292        6000000                              2\n",
       "3          82            6408       50000000                              0\n",
       "4          63            5031       80000000                              0"
      ]
     },
     "execution_count": 31,
     "metadata": {},
     "output_type": "execute_result"
    }
   ],
   "source": [
    "player = player[selected_features]\n",
    "player.head()"
   ]
  },
  {
   "cell_type": "markdown",
   "id": "d78f8828-13c1-4f6f-9fb5-6856d65538a8",
   "metadata": {},
   "source": [
    "#### 4. Prepare train and test data"
   ]
  },
  {
   "cell_type": "code",
   "execution_count": 32,
   "id": "dd38db21-e8d2-4042-b849-13186bb87e84",
   "metadata": {},
   "outputs": [],
   "source": [
    "# Prepare data\n",
    "X = player.drop(['player price category encoded'], axis=1)\n",
    "y = player['player price category encoded']\n",
    "\n",
    "# Split data into training and testing sets\n",
    "X_train, X_test, y_train, y_test = train_test_split(X, y,\n",
    "                                                    test_size=0.2,\n",
    "                                                    shuffle=True,\n",
    "                                                    random_state=42)\n",
    "\n",
    "# sacle the data\n",
    "scaler = StandardScaler()\n",
    "scaler.fit(X_train)\n",
    "X_train_scaled = scaler.transform(X_train)\n",
    "X_test_scaled = scaler.transform(X_test)"
   ]
  },
  {
   "cell_type": "markdown",
   "id": "025f9f84-b931-47d5-879a-0f6db6d1576c",
   "metadata": {},
   "source": [
    "### Buliding the Model   "
   ]
  },
  {
   "cell_type": "markdown",
   "id": "86bad53d-2bda-4992-8309-e8043c00db2d",
   "metadata": {},
   "source": [
    "#### Logistic Regression"
   ]
  },
  {
   "cell_type": "code",
   "execution_count": 33,
   "id": "c0175127-26a7-40ad-a265-4b757cc92a8c",
   "metadata": {},
   "outputs": [],
   "source": [
    "model = LogisticRegression()"
   ]
  },
  {
   "cell_type": "markdown",
   "id": "ebd8c86a-b56e-41f8-9ac7-1924342afac4",
   "metadata": {},
   "source": [
    "### Train the Model"
   ]
  },
  {
   "cell_type": "code",
   "execution_count": 34,
   "id": "a0234f92-e1cb-460b-9911-2c35f7c4fd37",
   "metadata": {},
   "outputs": [
    {
     "data": {
      "text/html": [
       "<style>#sk-container-id-1 {color: black;background-color: white;}#sk-container-id-1 pre{padding: 0;}#sk-container-id-1 div.sk-toggleable {background-color: white;}#sk-container-id-1 label.sk-toggleable__label {cursor: pointer;display: block;width: 100%;margin-bottom: 0;padding: 0.3em;box-sizing: border-box;text-align: center;}#sk-container-id-1 label.sk-toggleable__label-arrow:before {content: \"▸\";float: left;margin-right: 0.25em;color: #696969;}#sk-container-id-1 label.sk-toggleable__label-arrow:hover:before {color: black;}#sk-container-id-1 div.sk-estimator:hover label.sk-toggleable__label-arrow:before {color: black;}#sk-container-id-1 div.sk-toggleable__content {max-height: 0;max-width: 0;overflow: hidden;text-align: left;background-color: #f0f8ff;}#sk-container-id-1 div.sk-toggleable__content pre {margin: 0.2em;color: black;border-radius: 0.25em;background-color: #f0f8ff;}#sk-container-id-1 input.sk-toggleable__control:checked~div.sk-toggleable__content {max-height: 200px;max-width: 100%;overflow: auto;}#sk-container-id-1 input.sk-toggleable__control:checked~label.sk-toggleable__label-arrow:before {content: \"▾\";}#sk-container-id-1 div.sk-estimator input.sk-toggleable__control:checked~label.sk-toggleable__label {background-color: #d4ebff;}#sk-container-id-1 div.sk-label input.sk-toggleable__control:checked~label.sk-toggleable__label {background-color: #d4ebff;}#sk-container-id-1 input.sk-hidden--visually {border: 0;clip: rect(1px 1px 1px 1px);clip: rect(1px, 1px, 1px, 1px);height: 1px;margin: -1px;overflow: hidden;padding: 0;position: absolute;width: 1px;}#sk-container-id-1 div.sk-estimator {font-family: monospace;background-color: #f0f8ff;border: 1px dotted black;border-radius: 0.25em;box-sizing: border-box;margin-bottom: 0.5em;}#sk-container-id-1 div.sk-estimator:hover {background-color: #d4ebff;}#sk-container-id-1 div.sk-parallel-item::after {content: \"\";width: 100%;border-bottom: 1px solid gray;flex-grow: 1;}#sk-container-id-1 div.sk-label:hover label.sk-toggleable__label {background-color: #d4ebff;}#sk-container-id-1 div.sk-serial::before {content: \"\";position: absolute;border-left: 1px solid gray;box-sizing: border-box;top: 0;bottom: 0;left: 50%;z-index: 0;}#sk-container-id-1 div.sk-serial {display: flex;flex-direction: column;align-items: center;background-color: white;padding-right: 0.2em;padding-left: 0.2em;position: relative;}#sk-container-id-1 div.sk-item {position: relative;z-index: 1;}#sk-container-id-1 div.sk-parallel {display: flex;align-items: stretch;justify-content: center;background-color: white;position: relative;}#sk-container-id-1 div.sk-item::before, #sk-container-id-1 div.sk-parallel-item::before {content: \"\";position: absolute;border-left: 1px solid gray;box-sizing: border-box;top: 0;bottom: 0;left: 50%;z-index: -1;}#sk-container-id-1 div.sk-parallel-item {display: flex;flex-direction: column;z-index: 1;position: relative;background-color: white;}#sk-container-id-1 div.sk-parallel-item:first-child::after {align-self: flex-end;width: 50%;}#sk-container-id-1 div.sk-parallel-item:last-child::after {align-self: flex-start;width: 50%;}#sk-container-id-1 div.sk-parallel-item:only-child::after {width: 0;}#sk-container-id-1 div.sk-dashed-wrapped {border: 1px dashed gray;margin: 0 0.4em 0.5em 0.4em;box-sizing: border-box;padding-bottom: 0.4em;background-color: white;}#sk-container-id-1 div.sk-label label {font-family: monospace;font-weight: bold;display: inline-block;line-height: 1.2em;}#sk-container-id-1 div.sk-label-container {text-align: center;}#sk-container-id-1 div.sk-container {/* jupyter's `normalize.less` sets `[hidden] { display: none; }` but bootstrap.min.css set `[hidden] { display: none !important; }` so we also need the `!important` here to be able to override the default hidden behavior on the sphinx rendered scikit-learn.org. See: https://github.com/scikit-learn/scikit-learn/issues/21755 */display: inline-block !important;position: relative;}#sk-container-id-1 div.sk-text-repr-fallback {display: none;}</style><div id=\"sk-container-id-1\" class=\"sk-top-container\"><div class=\"sk-text-repr-fallback\"><pre>LogisticRegression()</pre><b>In a Jupyter environment, please rerun this cell to show the HTML representation or trust the notebook. <br />On GitHub, the HTML representation is unable to render, please try loading this page with nbviewer.org.</b></div><div class=\"sk-container\" hidden><div class=\"sk-item\"><div class=\"sk-estimator sk-toggleable\"><input class=\"sk-toggleable__control sk-hidden--visually\" id=\"sk-estimator-id-1\" type=\"checkbox\" checked><label for=\"sk-estimator-id-1\" class=\"sk-toggleable__label sk-toggleable__label-arrow\">LogisticRegression</label><div class=\"sk-toggleable__content\"><pre>LogisticRegression()</pre></div></div></div></div></div>"
      ],
      "text/plain": [
       "LogisticRegression()"
      ]
     },
     "execution_count": 34,
     "metadata": {},
     "output_type": "execute_result"
    }
   ],
   "source": [
    "# Fit the model on the training data\n",
    "model.fit(X_train_scaled, y_train)"
   ]
  },
  {
   "cell_type": "markdown",
   "id": "9f4e927a-3544-4ccb-9232-0b6b51971c9e",
   "metadata": {},
   "source": [
    "## Test the Model"
   ]
  },
  {
   "cell_type": "code",
   "execution_count": 35,
   "id": "7e63844a-2711-43f7-a73d-038d0cf2fc74",
   "metadata": {},
   "outputs": [],
   "source": [
    "# Predict and evaluate the model\n",
    "y_pred = model.predict(X_test_scaled)"
   ]
  },
  {
   "cell_type": "markdown",
   "id": "909c9505-a199-4349-aa21-0ad1a3ae8308",
   "metadata": {},
   "source": [
    "## Interpretation of the Model"
   ]
  },
  {
   "cell_type": "code",
   "execution_count": 36,
   "id": "4e5afd74-3d99-4fd5-887c-dd595d439a48",
   "metadata": {},
   "outputs": [
    {
     "data": {
      "text/html": [
       "<div>\n",
       "<style scoped>\n",
       "    .dataframe tbody tr th:only-of-type {\n",
       "        vertical-align: middle;\n",
       "    }\n",
       "\n",
       "    .dataframe tbody tr th {\n",
       "        vertical-align: top;\n",
       "    }\n",
       "\n",
       "    .dataframe thead th {\n",
       "        text-align: right;\n",
       "    }\n",
       "</style>\n",
       "<table border=\"1\" class=\"dataframe\">\n",
       "  <thead>\n",
       "    <tr style=\"text-align: right;\">\n",
       "      <th></th>\n",
       "      <th>Coefficient</th>\n",
       "    </tr>\n",
       "  </thead>\n",
       "  <tbody>\n",
       "    <tr>\n",
       "      <th>appearance</th>\n",
       "      <td>0.246145</td>\n",
       "    </tr>\n",
       "    <tr>\n",
       "      <th>minutes played</th>\n",
       "      <td>-0.110831</td>\n",
       "    </tr>\n",
       "    <tr>\n",
       "      <th>highest_value</th>\n",
       "      <td>3.264343</td>\n",
       "    </tr>\n",
       "  </tbody>\n",
       "</table>\n",
       "</div>"
      ],
      "text/plain": [
       "                Coefficient\n",
       "appearance         0.246145\n",
       "minutes played    -0.110831\n",
       "highest_value      3.264343"
      ]
     },
     "execution_count": 36,
     "metadata": {},
     "output_type": "execute_result"
    }
   ],
   "source": [
    "# Each row of the model.coef_ matrix tells you how each feature affects being in the corresponding class versus any other class\n",
    "coeff_df = pd.DataFrame(model.coef_[2],X.columns,columns=['Coefficient'])\n",
    "coeff_df"
   ]
  },
  {
   "cell_type": "code",
   "execution_count": 37,
   "id": "dd79726d-3a03-487f-bc8f-70e751105a25",
   "metadata": {},
   "outputs": [
    {
     "data": {
      "text/plain": [
       "array([[ 0.59620381,  0.19371822,  6.3193208 ],\n",
       "       [-0.84234926, -0.08288766, -9.58366419],\n",
       "       [ 0.24614545, -0.11083056,  3.26434339]])"
      ]
     },
     "execution_count": 37,
     "metadata": {},
     "output_type": "execute_result"
    }
   ],
   "source": [
    "model.coef_"
   ]
  },
  {
   "cell_type": "code",
   "execution_count": 38,
   "id": "0457d796-4122-4122-8687-3df1e4266415",
   "metadata": {},
   "outputs": [
    {
     "name": "stdout",
     "output_type": "stream",
     "text": [
      "[ 1.63350963 -4.24234931  2.60883968]\n"
     ]
    }
   ],
   "source": [
    "print(model.intercept_)"
   ]
  },
  {
   "cell_type": "markdown",
   "id": "5f789445-7a67-4817-85bf-1236ae3bb5ed",
   "metadata": {},
   "source": [
    "### Evaluating the Model\n"
   ]
  },
  {
   "cell_type": "code",
   "execution_count": 39,
   "id": "34c447be-8b79-42e4-baf6-e9503c5a86ac",
   "metadata": {},
   "outputs": [
    {
     "data": {
      "text/plain": [
       "16.71"
      ]
     },
     "execution_count": 39,
     "metadata": {},
     "output_type": "execute_result"
    }
   ],
   "source": [
    "# our benchmark model\n",
    "base_model = round(player['player price category encoded'].value_counts()[1]/player.shape[0]*100, 2)\n",
    "base_model"
   ]
  },
  {
   "cell_type": "markdown",
   "id": "b4eb6dde-29be-4ed9-ad94-6e2bd3e9a8ec",
   "metadata": {},
   "source": [
    "1. Accuracy"
   ]
  },
  {
   "cell_type": "code",
   "execution_count": 40,
   "id": "71090fdd-f918-4e85-937b-98895d04e526",
   "metadata": {},
   "outputs": [
    {
     "data": {
      "text/plain": [
       "0.7801022780102278"
      ]
     },
     "execution_count": 40,
     "metadata": {},
     "output_type": "execute_result"
    }
   ],
   "source": [
    "# Evaluate the model\n",
    "accuracy = accuracy_score(y_test, y_pred)\n",
    "accuracy"
   ]
  },
  {
   "cell_type": "code",
   "execution_count": 41,
   "id": "d875df72-8982-4240-b1b3-96a34bbe4c67",
   "metadata": {},
   "outputs": [
    {
     "data": {
      "text/plain": [
       "0.7689178193653377"
      ]
     },
     "execution_count": 41,
     "metadata": {},
     "output_type": "execute_result"
    }
   ],
   "source": [
    "y_pred_train = model.predict(X_train_scaled)\n",
    "accuracy = accuracy_score(y_train, y_pred_train)\n",
    "accuracy"
   ]
  },
  {
   "cell_type": "markdown",
   "id": "f0150ea5-5dd7-40fc-aa44-8930d9708790",
   "metadata": {},
   "source": [
    "2. Confusion Matrix"
   ]
  },
  {
   "cell_type": "code",
   "execution_count": 42,
   "id": "2fe91c53-3214-4626-955e-d79b282d61af",
   "metadata": {},
   "outputs": [
    {
     "data": {
      "text/plain": [
       "array([[ 313,    0,  200],\n",
       "       [   3,  199,  168],\n",
       "       [  60,   42, 1166]], dtype=int64)"
      ]
     },
     "execution_count": 42,
     "metadata": {},
     "output_type": "execute_result"
    }
   ],
   "source": [
    "conf_matrix = confusion_matrix(y_test, y_pred)\n",
    "conf_matrix"
   ]
  },
  {
   "cell_type": "code",
   "execution_count": 43,
   "id": "67b75c11-86c7-44a8-94fe-cc2f74334bb9",
   "metadata": {},
   "outputs": [
    {
     "data": {
      "image/png": "[encoded data removed]",
      "text/plain": [
       "<Figure size 640x480 with 2 Axes>"
      ]
     },
     "metadata": {},
     "output_type": "display_data"
    }
   ],
   "source": [
    "from sklearn.metrics import confusion_matrix, ConfusionMatrixDisplay\n",
    "\n",
    "ConfusionMatrixDisplay.from_predictions(y_test, y_pred,\n",
    "                                        display_labels=model.classes_,\n",
    "                                        cmap=\"Blues\",\n",
    "                                        xticks_rotation='vertical')\n",
    "plt.title('Confusion Matrix')\n",
    "plt.show()"
   ]
  },
  {
   "cell_type": "markdown",
   "id": "8c90cd80-1320-4c8e-89c6-9225fc91bbb7",
   "metadata": {},
   "source": [
    "3. Precision"
   ]
  },
  {
   "cell_type": "code",
   "execution_count": 44,
   "id": "6603a799-60db-405f-abce-9a407de4a0af",
   "metadata": {},
   "outputs": [
    {
     "name": "stdout",
     "output_type": "stream",
     "text": [
      "Precision: 0.81\n"
     ]
    }
   ],
   "source": [
    "# Calculate Precision\n",
    "precision = precision_score(y_test, y_pred, average='macro')\n",
    "print(f\"Precision: {precision:.2f}\")"
   ]
  },
  {
   "cell_type": "markdown",
   "id": "f6f20bfc-f27e-4cb9-9315-ea4e68d792df",
   "metadata": {},
   "source": [
    "4. Recall"
   ]
  },
  {
   "cell_type": "code",
   "execution_count": 45,
   "id": "ca987b0d-3815-4bea-9e53-c659bb37c8a9",
   "metadata": {},
   "outputs": [
    {
     "name": "stdout",
     "output_type": "stream",
     "text": [
      "Recall: 0.69\n"
     ]
    }
   ],
   "source": [
    "# Calculate Recall\n",
    "recall = recall_score(y_test, y_pred, average='macro')\n",
    "print(f\"Recall: {recall:.2f}\")"
   ]
  },
  {
   "cell_type": "markdown",
   "id": "fc958fa6-4209-474b-86c5-e67d2243b46b",
   "metadata": {},
   "source": [
    "5. F1 Score"
   ]
  },
  {
   "cell_type": "code",
   "execution_count": 46,
   "id": "2b275187-2a0a-47b1-b233-c8636c2ba0a7",
   "metadata": {},
   "outputs": [
    {
     "name": "stdout",
     "output_type": "stream",
     "text": [
      "F1 Score: 0.73\n"
     ]
    }
   ],
   "source": [
    "# Calculate F1 Score\n",
    "f1 = f1_score(y_test, y_pred, average='macro')\n",
    "print(f\"F1 Score: {f1:.2f}\")"
   ]
  }
 ],
 "metadata": {
  "kernelspec": {
   "display_name": "Python 3 (ipykernel)",
   "language": "python",
   "name": "python3"
  },
  "language_info": {
   "codemirror_mode": {
    "name": "ipython",
    "version": 3
   },
   "file_extension": ".py",
   "mimetype": "text/x-python",
   "name": "python",
   "nbconvert_exporter": "python",
   "pygments_lexer": "ipython3",
   "version": "3.11.7"
  }
 },
 "nbformat": 4,
 "nbformat_minor": 5
}
