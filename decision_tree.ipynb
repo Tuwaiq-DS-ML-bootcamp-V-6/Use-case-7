{
 "cells": [
  {
   "cell_type": "markdown",
   "metadata": {},
   "source": [
    "# Import Libraries:"
   ]
  },
  {
   "cell_type": "code",
   "execution_count": 120,
   "metadata": {},
   "outputs": [],
   "source": [
    "import warnings\n",
    "warnings.filterwarnings('ignore')\n",
    "\n",
    "import pandas as pd\n",
    "import numpy as np\n",
    "import matplotlib.pyplot as plt\n",
    "import seaborn as sns\n",
    "\n",
    "from sklearn.model_selection import train_test_split\n",
    "from sklearn.linear_model import LogisticRegression\n",
    "from sklearn.model_selection import GridSearchCV\n",
    "from sklearn.preprocessing import LabelEncoder\n",
    "from sklearn.metrics import accuracy_score, confusion_matrix, precision_score, recall_score, f1_score, ConfusionMatrixDisplay\n",
    "from sklearn.tree import DecisionTreeClassifier\n",
    "from sklearn.ensemble import RandomForestClassifier\n",
    "\n",
    "%matplotlib inline"
   ]
  },
  {
   "cell_type": "markdown",
   "metadata": {},
   "source": [
    "# Loading the Data:"
   ]
  },
  {
   "cell_type": "code",
   "execution_count": 121,
   "metadata": {},
   "outputs": [],
   "source": [
    "df = pd.read_csv('data/final_data.csv')"
   ]
  },
  {
   "cell_type": "code",
   "execution_count": 122,
   "metadata": {},
   "outputs": [
    {
     "data": {
      "text/html": [
       "<div>\n",
       "<style scoped>\n",
       "    .dataframe tbody tr th:only-of-type {\n",
       "        vertical-align: middle;\n",
       "    }\n",
       "\n",
       "    .dataframe tbody tr th {\n",
       "        vertical-align: top;\n",
       "    }\n",
       "\n",
       "    .dataframe thead th {\n",
       "        text-align: right;\n",
       "    }\n",
       "</style>\n",
       "<table border=\"1\" class=\"dataframe\">\n",
       "  <thead>\n",
       "    <tr style=\"text-align: right;\">\n",
       "      <th></th>\n",
       "      <th>player</th>\n",
       "      <th>team</th>\n",
       "      <th>name</th>\n",
       "      <th>position</th>\n",
       "      <th>height</th>\n",
       "      <th>age</th>\n",
       "      <th>appearance</th>\n",
       "      <th>goals</th>\n",
       "      <th>assists</th>\n",
       "      <th>yellow cards</th>\n",
       "      <th>...</th>\n",
       "      <th>goals conceded</th>\n",
       "      <th>clean sheets</th>\n",
       "      <th>minutes played</th>\n",
       "      <th>days_injured</th>\n",
       "      <th>games_injured</th>\n",
       "      <th>award</th>\n",
       "      <th>current_value</th>\n",
       "      <th>highest_value</th>\n",
       "      <th>position_encoded</th>\n",
       "      <th>winger</th>\n",
       "    </tr>\n",
       "  </thead>\n",
       "  <tbody>\n",
       "    <tr>\n",
       "      <th>0</th>\n",
       "      <td>/david-de-gea/profil/spieler/59377</td>\n",
       "      <td>Manchester United</td>\n",
       "      <td>David de Gea</td>\n",
       "      <td>Goalkeeper</td>\n",
       "      <td>189.000</td>\n",
       "      <td>32.000</td>\n",
       "      <td>104</td>\n",
       "      <td>0.000</td>\n",
       "      <td>0.000</td>\n",
       "      <td>0.010</td>\n",
       "      <td>...</td>\n",
       "      <td>1.217</td>\n",
       "      <td>0.335</td>\n",
       "      <td>9390</td>\n",
       "      <td>42</td>\n",
       "      <td>5</td>\n",
       "      <td>13</td>\n",
       "      <td>15000000</td>\n",
       "      <td>70000000</td>\n",
       "      <td>1</td>\n",
       "      <td>0</td>\n",
       "    </tr>\n",
       "    <tr>\n",
       "      <th>1</th>\n",
       "      <td>/jack-butland/profil/spieler/128899</td>\n",
       "      <td>Manchester United</td>\n",
       "      <td>Jack Butland</td>\n",
       "      <td>Goalkeeper</td>\n",
       "      <td>196.000</td>\n",
       "      <td>30.000</td>\n",
       "      <td>15</td>\n",
       "      <td>0.000</td>\n",
       "      <td>0.000</td>\n",
       "      <td>0.069</td>\n",
       "      <td>...</td>\n",
       "      <td>1.242</td>\n",
       "      <td>0.207</td>\n",
       "      <td>1304</td>\n",
       "      <td>510</td>\n",
       "      <td>58</td>\n",
       "      <td>1</td>\n",
       "      <td>1500000</td>\n",
       "      <td>22000000</td>\n",
       "      <td>1</td>\n",
       "      <td>0</td>\n",
       "    </tr>\n",
       "    <tr>\n",
       "      <th>2</th>\n",
       "      <td>/tom-heaton/profil/spieler/34130</td>\n",
       "      <td>Manchester United</td>\n",
       "      <td>Tom Heaton</td>\n",
       "      <td>Goalkeeper</td>\n",
       "      <td>188.000</td>\n",
       "      <td>37.000</td>\n",
       "      <td>4</td>\n",
       "      <td>0.000</td>\n",
       "      <td>0.000</td>\n",
       "      <td>0.000</td>\n",
       "      <td>...</td>\n",
       "      <td>0.616</td>\n",
       "      <td>0.925</td>\n",
       "      <td>292</td>\n",
       "      <td>697</td>\n",
       "      <td>84</td>\n",
       "      <td>4</td>\n",
       "      <td>600000</td>\n",
       "      <td>6000000</td>\n",
       "      <td>1</td>\n",
       "      <td>0</td>\n",
       "    </tr>\n",
       "    <tr>\n",
       "      <th>3</th>\n",
       "      <td>/lisandro-martinez/profil/spieler/480762</td>\n",
       "      <td>Manchester United</td>\n",
       "      <td>Lisandro Martínez</td>\n",
       "      <td>Defender Centre-Back</td>\n",
       "      <td>175.000</td>\n",
       "      <td>25.000</td>\n",
       "      <td>82</td>\n",
       "      <td>0.028</td>\n",
       "      <td>0.056</td>\n",
       "      <td>0.225</td>\n",
       "      <td>...</td>\n",
       "      <td>0.000</td>\n",
       "      <td>0.000</td>\n",
       "      <td>6408</td>\n",
       "      <td>175</td>\n",
       "      <td>22</td>\n",
       "      <td>9</td>\n",
       "      <td>50000000</td>\n",
       "      <td>50000000</td>\n",
       "      <td>2</td>\n",
       "      <td>0</td>\n",
       "    </tr>\n",
       "    <tr>\n",
       "      <th>4</th>\n",
       "      <td>/raphael-varane/profil/spieler/164770</td>\n",
       "      <td>Manchester United</td>\n",
       "      <td>Raphaël Varane</td>\n",
       "      <td>Defender Centre-Back</td>\n",
       "      <td>191.000</td>\n",
       "      <td>30.000</td>\n",
       "      <td>63</td>\n",
       "      <td>0.018</td>\n",
       "      <td>0.018</td>\n",
       "      <td>0.054</td>\n",
       "      <td>...</td>\n",
       "      <td>0.000</td>\n",
       "      <td>0.000</td>\n",
       "      <td>5031</td>\n",
       "      <td>238</td>\n",
       "      <td>51</td>\n",
       "      <td>21</td>\n",
       "      <td>40000000</td>\n",
       "      <td>80000000</td>\n",
       "      <td>2</td>\n",
       "      <td>0</td>\n",
       "    </tr>\n",
       "  </tbody>\n",
       "</table>\n",
       "<p>5 rows × 22 columns</p>\n",
       "</div>"
      ],
      "text/plain": [
       "                                     player               team  \\\n",
       "0        /david-de-gea/profil/spieler/59377  Manchester United   \n",
       "1       /jack-butland/profil/spieler/128899  Manchester United   \n",
       "2          /tom-heaton/profil/spieler/34130  Manchester United   \n",
       "3  /lisandro-martinez/profil/spieler/480762  Manchester United   \n",
       "4     /raphael-varane/profil/spieler/164770  Manchester United   \n",
       "\n",
       "                name              position  height    age  appearance  goals  \\\n",
       "0       David de Gea            Goalkeeper 189.000 32.000         104  0.000   \n",
       "1       Jack Butland            Goalkeeper 196.000 30.000          15  0.000   \n",
       "2         Tom Heaton            Goalkeeper 188.000 37.000           4  0.000   \n",
       "3  Lisandro Martínez  Defender Centre-Back 175.000 25.000          82  0.028   \n",
       "4     Raphaël Varane  Defender Centre-Back 191.000 30.000          63  0.018   \n",
       "\n",
       "   assists  yellow cards  ...  goals conceded  clean sheets  minutes played  \\\n",
       "0    0.000         0.010  ...           1.217         0.335            9390   \n",
       "1    0.000         0.069  ...           1.242         0.207            1304   \n",
       "2    0.000         0.000  ...           0.616         0.925             292   \n",
       "3    0.056         0.225  ...           0.000         0.000            6408   \n",
       "4    0.018         0.054  ...           0.000         0.000            5031   \n",
       "\n",
       "   days_injured  games_injured  award  current_value  highest_value  \\\n",
       "0            42              5     13       15000000       70000000   \n",
       "1           510             58      1        1500000       22000000   \n",
       "2           697             84      4         600000        6000000   \n",
       "3           175             22      9       50000000       50000000   \n",
       "4           238             51     21       40000000       80000000   \n",
       "\n",
       "   position_encoded  winger  \n",
       "0                 1       0  \n",
       "1                 1       0  \n",
       "2                 1       0  \n",
       "3                 2       0  \n",
       "4                 2       0  \n",
       "\n",
       "[5 rows x 22 columns]"
      ]
     },
     "execution_count": 122,
     "metadata": {},
     "output_type": "execute_result"
    }
   ],
   "source": [
    "df.head()"
   ]
  },
  {
   "cell_type": "markdown",
   "metadata": {},
   "source": [
    "# Data Preprocessing:"
   ]
  },
  {
   "cell_type": "code",
   "execution_count": 123,
   "metadata": {},
   "outputs": [
    {
     "data": {
      "text/html": [
       "<div>\n",
       "<style scoped>\n",
       "    .dataframe tbody tr th:only-of-type {\n",
       "        vertical-align: middle;\n",
       "    }\n",
       "\n",
       "    .dataframe tbody tr th {\n",
       "        vertical-align: top;\n",
       "    }\n",
       "\n",
       "    .dataframe thead th {\n",
       "        text-align: right;\n",
       "    }\n",
       "</style>\n",
       "<table border=\"1\" class=\"dataframe\">\n",
       "  <thead>\n",
       "    <tr style=\"text-align: right;\">\n",
       "      <th></th>\n",
       "      <th>goals</th>\n",
       "      <th>assists</th>\n",
       "      <th>clean sheets</th>\n",
       "      <th>goals conceded</th>\n",
       "      <th>yellow cards</th>\n",
       "      <th>second yellow cards</th>\n",
       "      <th>red cards</th>\n",
       "      <th>minutes played</th>\n",
       "    </tr>\n",
       "  </thead>\n",
       "  <tbody>\n",
       "    <tr>\n",
       "      <th>0</th>\n",
       "      <td>0.000</td>\n",
       "      <td>0.000</td>\n",
       "      <td>35.000</td>\n",
       "      <td>127.000</td>\n",
       "      <td>1.000</td>\n",
       "      <td>0.000</td>\n",
       "      <td>0.000</td>\n",
       "      <td>9390</td>\n",
       "    </tr>\n",
       "    <tr>\n",
       "      <th>1</th>\n",
       "      <td>0.000</td>\n",
       "      <td>0.000</td>\n",
       "      <td>3.000</td>\n",
       "      <td>18.000</td>\n",
       "      <td>1.000</td>\n",
       "      <td>0.000</td>\n",
       "      <td>0.000</td>\n",
       "      <td>1304</td>\n",
       "    </tr>\n",
       "    <tr>\n",
       "      <th>2</th>\n",
       "      <td>0.000</td>\n",
       "      <td>0.000</td>\n",
       "      <td>3.000</td>\n",
       "      <td>2.000</td>\n",
       "      <td>0.000</td>\n",
       "      <td>0.000</td>\n",
       "      <td>0.000</td>\n",
       "      <td>292</td>\n",
       "    </tr>\n",
       "    <tr>\n",
       "      <th>3</th>\n",
       "      <td>2.000</td>\n",
       "      <td>4.000</td>\n",
       "      <td>0.000</td>\n",
       "      <td>0.000</td>\n",
       "      <td>16.000</td>\n",
       "      <td>0.000</td>\n",
       "      <td>0.000</td>\n",
       "      <td>6408</td>\n",
       "    </tr>\n",
       "    <tr>\n",
       "      <th>4</th>\n",
       "      <td>1.000</td>\n",
       "      <td>1.000</td>\n",
       "      <td>0.000</td>\n",
       "      <td>0.000</td>\n",
       "      <td>3.000</td>\n",
       "      <td>0.000</td>\n",
       "      <td>0.000</td>\n",
       "      <td>5031</td>\n",
       "    </tr>\n",
       "  </tbody>\n",
       "</table>\n",
       "</div>"
      ],
      "text/plain": [
       "   goals  assists  clean sheets  goals conceded  yellow cards  \\\n",
       "0  0.000    0.000        35.000         127.000         1.000   \n",
       "1  0.000    0.000         3.000          18.000         1.000   \n",
       "2  0.000    0.000         3.000           2.000         0.000   \n",
       "3  2.000    4.000         0.000           0.000        16.000   \n",
       "4  1.000    1.000         0.000           0.000         3.000   \n",
       "\n",
       "   second yellow cards  red cards  minutes played  \n",
       "0                0.000      0.000            9390  \n",
       "1                0.000      0.000            1304  \n",
       "2                0.000      0.000             292  \n",
       "3                0.000      0.000            6408  \n",
       "4                0.000      0.000            5031  "
      ]
     },
     "execution_count": 123,
     "metadata": {},
     "output_type": "execute_result"
    }
   ],
   "source": [
    "temp = df[['goals', 'assists', 'clean sheets', 'goals conceded', 'yellow cards', 'second yellow cards', 'red cards', 'minutes played']].copy()\n",
    "temp.iloc[:, :-1] = temp.iloc[:, :-1].apply(lambda x: x * (temp['minutes played'] / 90))\n",
    "temp.head()"
   ]
  },
  {
   "cell_type": "code",
   "execution_count": 124,
   "metadata": {},
   "outputs": [
    {
     "data": {
      "text/html": [
       "<div>\n",
       "<style scoped>\n",
       "    .dataframe tbody tr th:only-of-type {\n",
       "        vertical-align: middle;\n",
       "    }\n",
       "\n",
       "    .dataframe tbody tr th {\n",
       "        vertical-align: top;\n",
       "    }\n",
       "\n",
       "    .dataframe thead th {\n",
       "        text-align: right;\n",
       "    }\n",
       "</style>\n",
       "<table border=\"1\" class=\"dataframe\">\n",
       "  <thead>\n",
       "    <tr style=\"text-align: right;\">\n",
       "      <th></th>\n",
       "      <th>player</th>\n",
       "      <th>team</th>\n",
       "      <th>name</th>\n",
       "      <th>position</th>\n",
       "      <th>height</th>\n",
       "      <th>age</th>\n",
       "      <th>appearance</th>\n",
       "      <th>goals_per_90</th>\n",
       "      <th>assists_per_90</th>\n",
       "      <th>yellow_cards_per_90</th>\n",
       "      <th>...</th>\n",
       "      <th>goals_conceded_per_90</th>\n",
       "      <th>clean_sheets_per_90</th>\n",
       "      <th>minutes_played_per_90</th>\n",
       "      <th>days_injured</th>\n",
       "      <th>games_injured</th>\n",
       "      <th>award</th>\n",
       "      <th>current_value</th>\n",
       "      <th>highest_value</th>\n",
       "      <th>position_encoded</th>\n",
       "      <th>winger</th>\n",
       "    </tr>\n",
       "  </thead>\n",
       "  <tbody>\n",
       "    <tr>\n",
       "      <th>0</th>\n",
       "      <td>/david-de-gea/profil/spieler/59377</td>\n",
       "      <td>Manchester United</td>\n",
       "      <td>David de Gea</td>\n",
       "      <td>Goalkeeper</td>\n",
       "      <td>189.000</td>\n",
       "      <td>32.000</td>\n",
       "      <td>104</td>\n",
       "      <td>0.000</td>\n",
       "      <td>0.000</td>\n",
       "      <td>0.010</td>\n",
       "      <td>...</td>\n",
       "      <td>1.217</td>\n",
       "      <td>0.335</td>\n",
       "      <td>9390</td>\n",
       "      <td>42</td>\n",
       "      <td>5</td>\n",
       "      <td>13</td>\n",
       "      <td>15000000</td>\n",
       "      <td>70000000</td>\n",
       "      <td>1</td>\n",
       "      <td>0</td>\n",
       "    </tr>\n",
       "    <tr>\n",
       "      <th>1</th>\n",
       "      <td>/jack-butland/profil/spieler/128899</td>\n",
       "      <td>Manchester United</td>\n",
       "      <td>Jack Butland</td>\n",
       "      <td>Goalkeeper</td>\n",
       "      <td>196.000</td>\n",
       "      <td>30.000</td>\n",
       "      <td>15</td>\n",
       "      <td>0.000</td>\n",
       "      <td>0.000</td>\n",
       "      <td>0.069</td>\n",
       "      <td>...</td>\n",
       "      <td>1.242</td>\n",
       "      <td>0.207</td>\n",
       "      <td>1304</td>\n",
       "      <td>510</td>\n",
       "      <td>58</td>\n",
       "      <td>1</td>\n",
       "      <td>1500000</td>\n",
       "      <td>22000000</td>\n",
       "      <td>1</td>\n",
       "      <td>0</td>\n",
       "    </tr>\n",
       "    <tr>\n",
       "      <th>2</th>\n",
       "      <td>/tom-heaton/profil/spieler/34130</td>\n",
       "      <td>Manchester United</td>\n",
       "      <td>Tom Heaton</td>\n",
       "      <td>Goalkeeper</td>\n",
       "      <td>188.000</td>\n",
       "      <td>37.000</td>\n",
       "      <td>4</td>\n",
       "      <td>0.000</td>\n",
       "      <td>0.000</td>\n",
       "      <td>0.000</td>\n",
       "      <td>...</td>\n",
       "      <td>0.616</td>\n",
       "      <td>0.925</td>\n",
       "      <td>292</td>\n",
       "      <td>697</td>\n",
       "      <td>84</td>\n",
       "      <td>4</td>\n",
       "      <td>600000</td>\n",
       "      <td>6000000</td>\n",
       "      <td>1</td>\n",
       "      <td>0</td>\n",
       "    </tr>\n",
       "    <tr>\n",
       "      <th>3</th>\n",
       "      <td>/lisandro-martinez/profil/spieler/480762</td>\n",
       "      <td>Manchester United</td>\n",
       "      <td>Lisandro Martínez</td>\n",
       "      <td>Defender Centre-Back</td>\n",
       "      <td>175.000</td>\n",
       "      <td>25.000</td>\n",
       "      <td>82</td>\n",
       "      <td>0.028</td>\n",
       "      <td>0.056</td>\n",
       "      <td>0.225</td>\n",
       "      <td>...</td>\n",
       "      <td>0.000</td>\n",
       "      <td>0.000</td>\n",
       "      <td>6408</td>\n",
       "      <td>175</td>\n",
       "      <td>22</td>\n",
       "      <td>9</td>\n",
       "      <td>50000000</td>\n",
       "      <td>50000000</td>\n",
       "      <td>2</td>\n",
       "      <td>0</td>\n",
       "    </tr>\n",
       "    <tr>\n",
       "      <th>4</th>\n",
       "      <td>/raphael-varane/profil/spieler/164770</td>\n",
       "      <td>Manchester United</td>\n",
       "      <td>Raphaël Varane</td>\n",
       "      <td>Defender Centre-Back</td>\n",
       "      <td>191.000</td>\n",
       "      <td>30.000</td>\n",
       "      <td>63</td>\n",
       "      <td>0.018</td>\n",
       "      <td>0.018</td>\n",
       "      <td>0.054</td>\n",
       "      <td>...</td>\n",
       "      <td>0.000</td>\n",
       "      <td>0.000</td>\n",
       "      <td>5031</td>\n",
       "      <td>238</td>\n",
       "      <td>51</td>\n",
       "      <td>21</td>\n",
       "      <td>40000000</td>\n",
       "      <td>80000000</td>\n",
       "      <td>2</td>\n",
       "      <td>0</td>\n",
       "    </tr>\n",
       "  </tbody>\n",
       "</table>\n",
       "<p>5 rows × 22 columns</p>\n",
       "</div>"
      ],
      "text/plain": [
       "                                     player               team  \\\n",
       "0        /david-de-gea/profil/spieler/59377  Manchester United   \n",
       "1       /jack-butland/profil/spieler/128899  Manchester United   \n",
       "2          /tom-heaton/profil/spieler/34130  Manchester United   \n",
       "3  /lisandro-martinez/profil/spieler/480762  Manchester United   \n",
       "4     /raphael-varane/profil/spieler/164770  Manchester United   \n",
       "\n",
       "                name              position  height    age  appearance  \\\n",
       "0       David de Gea            Goalkeeper 189.000 32.000         104   \n",
       "1       Jack Butland            Goalkeeper 196.000 30.000          15   \n",
       "2         Tom Heaton            Goalkeeper 188.000 37.000           4   \n",
       "3  Lisandro Martínez  Defender Centre-Back 175.000 25.000          82   \n",
       "4     Raphaël Varane  Defender Centre-Back 191.000 30.000          63   \n",
       "\n",
       "   goals_per_90  assists_per_90  yellow_cards_per_90  ...  \\\n",
       "0         0.000           0.000                0.010  ...   \n",
       "1         0.000           0.000                0.069  ...   \n",
       "2         0.000           0.000                0.000  ...   \n",
       "3         0.028           0.056                0.225  ...   \n",
       "4         0.018           0.018                0.054  ...   \n",
       "\n",
       "   goals_conceded_per_90  clean_sheets_per_90  minutes_played_per_90  \\\n",
       "0                  1.217                0.335                   9390   \n",
       "1                  1.242                0.207                   1304   \n",
       "2                  0.616                0.925                    292   \n",
       "3                  0.000                0.000                   6408   \n",
       "4                  0.000                0.000                   5031   \n",
       "\n",
       "   days_injured  games_injured  award  current_value  highest_value  \\\n",
       "0            42              5     13       15000000       70000000   \n",
       "1           510             58      1        1500000       22000000   \n",
       "2           697             84      4         600000        6000000   \n",
       "3           175             22      9       50000000       50000000   \n",
       "4           238             51     21       40000000       80000000   \n",
       "\n",
       "   position_encoded  winger  \n",
       "0                 1       0  \n",
       "1                 1       0  \n",
       "2                 1       0  \n",
       "3                 2       0  \n",
       "4                 2       0  \n",
       "\n",
       "[5 rows x 22 columns]"
      ]
     },
     "execution_count": 124,
     "metadata": {},
     "output_type": "execute_result"
    }
   ],
   "source": [
    "pd.set_option('display.float_format', lambda x: '%.3f' % x)\n",
    "df.rename(columns={\n",
    "    'goals': 'goals_per_90',\n",
    "    'assists': 'assists_per_90',\n",
    "    'clean sheets': 'clean_sheets_per_90',\n",
    "    'goals conceded': 'goals_conceded_per_90',\n",
    "    'yellow cards': 'yellow_cards_per_90',\n",
    "    'second yellow cards': 'second_yellow_cards_per_90',\n",
    "    'red cards': 'red_cards_per_90',\n",
    "    'minutes played': 'minutes_played_per_90'\n",
    "}, inplace=True)\n",
    "df.head()"
   ]
  },
  {
   "cell_type": "code",
   "execution_count": 125,
   "metadata": {},
   "outputs": [
    {
     "name": "stdout",
     "output_type": "stream",
     "text": [
      "<class 'pandas.core.frame.DataFrame'>\n",
      "RangeIndex: 10754 entries, 0 to 10753\n",
      "Data columns (total 19 columns):\n",
      " #   Column               Non-Null Count  Dtype  \n",
      "---  ------               --------------  -----  \n",
      " 0   player               10754 non-null  object \n",
      " 1   team                 10754 non-null  object \n",
      " 2   name                 10754 non-null  object \n",
      " 3   position             10754 non-null  object \n",
      " 4   height               10754 non-null  float64\n",
      " 5   age                  10754 non-null  float64\n",
      " 6   appearance           10754 non-null  int64  \n",
      " 7   days_injured         10754 non-null  int64  \n",
      " 8   games_injured        10754 non-null  int64  \n",
      " 9   award                10754 non-null  int64  \n",
      " 10  current_value        10754 non-null  int64  \n",
      " 11  highest_value        10754 non-null  int64  \n",
      " 12  goals                10754 non-null  float64\n",
      " 13  assists              10754 non-null  float64\n",
      " 14  clean sheets         10754 non-null  float64\n",
      " 15  goals conceded       10754 non-null  float64\n",
      " 16  yellow cards         10754 non-null  float64\n",
      " 17  second yellow cards  10754 non-null  float64\n",
      " 18  red cards            10754 non-null  float64\n",
      "dtypes: float64(9), int64(6), object(4)\n",
      "memory usage: 1.6+ MB\n"
     ]
    }
   ],
   "source": [
    "df = pd.concat([df, temp], axis=1)\n",
    "df.drop(['minutes_played_per_90', 'goals_per_90', 'assists_per_90', 'clean_sheets_per_90', 'goals_conceded_per_90',\n",
    "                     'goals_conceded_per_90', 'yellow_cards_per_90', 'second_yellow_cards_per_90', 'red_cards_per_90', 'winger', \n",
    "                     'minutes played', 'position_encoded' ],axis=1, inplace=True)\n",
    "df = df.loc[:,~df.columns.duplicated()]\n",
    "df.info()"
   ]
  },
  {
   "cell_type": "code",
   "execution_count": 126,
   "metadata": {},
   "outputs": [
    {
     "data": {
      "text/plain": [
       "array(['Goalkeeper', 'Defender', 'midfield', 'Attack'], dtype=object)"
      ]
     },
     "execution_count": 126,
     "metadata": {},
     "output_type": "execute_result"
    }
   ],
   "source": [
    "df['position'] = df['position'].apply(lambda x: x.split('-')[0]).apply(lambda x: x.split(' ')[0])\n",
    "df['position'].unique()"
   ]
  },
  {
   "cell_type": "code",
   "execution_count": 127,
   "metadata": {},
   "outputs": [],
   "source": [
    "df.drop(['player', 'name'], axis=1, inplace=True)"
   ]
  },
  {
   "cell_type": "code",
   "execution_count": 128,
   "metadata": {},
   "outputs": [
    {
     "data": {
      "text/plain": [
       "Daejeon Hana Citizen      46\n",
       "Jeonbuk Hyundai Motors    46\n",
       "FC Seoul                  45\n",
       "Gangwon FC                43\n",
       "Daegu FC                  42\n",
       "                          ..\n",
       "FC Barcelona              22\n",
       "Atlético de Madrid        22\n",
       "CA Osasuna                22\n",
       "Hatayspor                 12\n",
       "Gaziantep FK               6\n",
       "Name: team, Length: 374, dtype: int64"
      ]
     },
     "execution_count": 128,
     "metadata": {},
     "output_type": "execute_result"
    }
   ],
   "source": [
    "df['team'].value_counts()"
   ]
  },
  {
   "cell_type": "code",
   "execution_count": 129,
   "metadata": {},
   "outputs": [],
   "source": [
    "df = df[df['team'] != 'Gaziantep FK']"
   ]
  },
  {
   "cell_type": "code",
   "execution_count": 130,
   "metadata": {},
   "outputs": [
    {
     "data": {
      "text/plain": [
       "(10748, 17)"
      ]
     },
     "execution_count": 130,
     "metadata": {},
     "output_type": "execute_result"
    }
   ],
   "source": [
    "df.shape"
   ]
  },
  {
   "cell_type": "markdown",
   "metadata": {},
   "source": [
    "# Model Building:"
   ]
  },
  {
   "cell_type": "markdown",
   "metadata": {},
   "source": [
    "## Feature Engineering:"
   ]
  },
  {
   "cell_type": "code",
   "execution_count": 131,
   "metadata": {},
   "outputs": [],
   "source": [
    "df = pd.get_dummies(df, columns=['team'])"
   ]
  },
  {
   "cell_type": "code",
   "execution_count": 132,
   "metadata": {},
   "outputs": [
    {
     "data": {
      "text/plain": [
       "(10748, 389)"
      ]
     },
     "execution_count": 132,
     "metadata": {},
     "output_type": "execute_result"
    }
   ],
   "source": [
    "df.shape"
   ]
  },
  {
   "cell_type": "code",
   "execution_count": 133,
   "metadata": {},
   "outputs": [],
   "source": [
    "df_gk = df[df['position'] == 'Goalkeeper'].drop('position', axis=1)\n",
    "df_def = df[df['position'] == 'Defender'].drop('position', axis=1)\n",
    "df_mid = df[df['position'] == 'midfield'].drop('position', axis=1)\n",
    "df_fwd = df[df['position'] == 'Attack'].drop('position', axis=1)"
   ]
  },
  {
   "cell_type": "code",
   "execution_count": 134,
   "metadata": {},
   "outputs": [
    {
     "data": {
      "text/plain": [
       "((1228, 388), (3528, 388), (3091, 388), (2901, 388))"
      ]
     },
     "execution_count": 134,
     "metadata": {},
     "output_type": "execute_result"
    }
   ],
   "source": [
    "df_gk.shape, df_def.shape, df_mid.shape, df_fwd.shape"
   ]
  },
  {
   "cell_type": "code",
   "execution_count": 135,
   "metadata": {},
   "outputs": [
    {
     "data": {
      "text/plain": [
       "Text(0.5, 1.0, 'Forwards')"
      ]
     },
     "execution_count": 135,
     "metadata": {},
     "output_type": "execute_result"
    },
    {
     "data": {
      "image/png": "[encoded data removed]",
      "text/plain": [
       "<Figure size 2000x1000 with 4 Axes>"
      ]
     },
     "metadata": {},
     "output_type": "display_data"
    }
   ],
   "source": [
    "fig, ax = plt.subplots(2, 2, figsize=(20, 10))\n",
    "sns.histplot(data=df_gk['current_value'], bins=20, kde=True, ax=ax[0, 0])\n",
    "ax[0, 0].set_title('Goalkeepers')\n",
    "sns.histplot(data=df_def['current_value'], bins=20, kde=True, ax=ax[0, 1])\n",
    "ax[0, 1].set_title('Defenders')\n",
    "sns.histplot(data=df_mid['current_value'], bins=20, kde=True, ax=ax[1, 0])\n",
    "ax[1, 0].set_title('Midfielders')\n",
    "sns.histplot(data=df_fwd['current_value'], bins=20, kde=True, ax=ax[1, 1])\n",
    "ax[1, 1].set_title('Forwards')"
   ]
  },
  {
   "cell_type": "markdown",
   "metadata": {},
   "source": [
    "Judging by the graphs above, we will split the prices into 3 categories: low, medium, and high. We will use the following thresholds:\n",
    "\n",
    "For goalkeepers:\n",
    "- Low: 0-2500000\n",
    "- Medium: 2500000-10000000\n",
    "- High: 10000000+\n",
    "\n",
    "For defenders:\n",
    "- Low: 0-10000000\n",
    "- Medium: 10000000-20000000\n",
    "- High: 20000000+\n",
    "\n",
    "For midfielders:\n",
    "- Low: 0-10000000\n",
    "- Medium: 10000000-20000000\n",
    "- High: 40000000+\n",
    "\n",
    "For forwards:\n",
    "- Low: 0-12500000\n",
    "- Medium: 12500000-30000000\n",
    "- High: 30000000+"
   ]
  },
  {
   "cell_type": "code",
   "execution_count": 136,
   "metadata": {},
   "outputs": [],
   "source": [
    "bins_goalkeepers = [0, 2500000, 10000000, float('inf')]\n",
    "bins_defenders = [0, 10000000, 20000000, float('inf')]\n",
    "bins_midfielders = [0, 10000000, 20000000, float('inf')]\n",
    "bins_forwards = [0, 12500000, 50000000, float('inf')]\n",
    "\n",
    "labels = ['Low', 'Medium', 'High']"
   ]
  },
  {
   "cell_type": "code",
   "execution_count": 137,
   "metadata": {},
   "outputs": [],
   "source": [
    "df_gk['value_category'] = pd.cut(df_gk['current_value'], bins=bins_goalkeepers, labels=labels, right=False)\n",
    "df_def['value_category'] = pd.cut(df_def['current_value'], bins=bins_defenders, labels=labels, right=False)\n",
    "df_mid['value_category'] = pd.cut(df_mid['current_value'], bins=bins_midfielders, labels=labels, right=False)\n",
    "df_fwd['value_category'] = pd.cut(df_fwd['current_value'], bins=bins_forwards, labels=labels, right=False)\n"
   ]
  },
  {
   "cell_type": "code",
   "execution_count": 138,
   "metadata": {},
   "outputs": [],
   "source": [
    "df_gk.drop('current_value', axis=1, inplace=True)\n",
    "df_def.drop('current_value', axis=1, inplace=True)\n",
    "df_mid.drop('current_value', axis=1, inplace=True)\n",
    "df_fwd.drop('current_value', axis=1, inplace=True)"
   ]
  },
  {
   "cell_type": "code",
   "execution_count": 139,
   "metadata": {},
   "outputs": [
    {
     "data": {
      "text/plain": [
       "(Low       1066\n",
       " Medium     113\n",
       " High        49\n",
       " Name: value_category, dtype: int64,\n",
       " Low       3227\n",
       " Medium     160\n",
       " High       141\n",
       " Name: value_category, dtype: int64,\n",
       " Low       2769\n",
       " Medium     163\n",
       " High       159\n",
       " Name: value_category, dtype: int64,\n",
       " Low       2655\n",
       " Medium     203\n",
       " High        43\n",
       " Name: value_category, dtype: int64)"
      ]
     },
     "execution_count": 139,
     "metadata": {},
     "output_type": "execute_result"
    }
   ],
   "source": [
    "df_gk['value_category'].value_counts(), df_def['value_category'].value_counts(), df_mid['value_category'].value_counts(), df_fwd['value_category'].value_counts()"
   ]
  },
  {
   "cell_type": "code",
   "execution_count": 140,
   "metadata": {},
   "outputs": [],
   "source": [
    "encoder = LabelEncoder()\n",
    "df_gk['value_category_encoded'] = encoder.fit_transform(df_gk['value_category'])  \n",
    "df_def['value_category_encoded'] = encoder.fit_transform(df_def['value_category'])\n",
    "df_mid['value_category_encoded'] = encoder.fit_transform(df_mid['value_category'])\n",
    "df_fwd['value_category_encoded'] = encoder.fit_transform(df_fwd['value_category'])"
   ]
  },
  {
   "cell_type": "code",
   "execution_count": 141,
   "metadata": {},
   "outputs": [
    {
     "name": "stdout",
     "output_type": "stream",
     "text": [
      "value_category_encoded         1.000\n",
      "team_CA Osasuna                0.107\n",
      "team_RCD Espanyol Barcelona    0.085\n",
      "team_SC Freiburg               0.085\n",
      "days_injured                   0.074\n",
      "                               ...  \n",
      "clean sheets                  -0.056\n",
      "team_FK Krasnodar             -0.062\n",
      "team_Real Sociedad            -0.062\n",
      "highest_value                 -0.209\n",
      "assists                          NaN\n",
      "Name: value_category_encoded, Length: 388, dtype: float64\n"
     ]
    }
   ],
   "source": [
    "correlation_gk = df_gk.corr()\n",
    "print(correlation_gk['value_category_encoded'].sort_values(ascending=False))"
   ]
  },
  {
   "cell_type": "code",
   "execution_count": 142,
   "metadata": {},
   "outputs": [
    {
     "name": "stdout",
     "output_type": "stream",
     "text": [
      "value_category_encoded      1.000\n",
      "team_Fulham FC              0.081\n",
      "team_Everton FC             0.072\n",
      "team_Sevilla FC             0.060\n",
      "team_Olympique Marseille    0.060\n",
      "                            ...  \n",
      "team_Arsenal FC            -0.123\n",
      "team_Chelsea FC            -0.129\n",
      "highest_value              -0.245\n",
      "clean sheets                  NaN\n",
      "goals conceded                NaN\n",
      "Name: value_category_encoded, Length: 388, dtype: float64\n"
     ]
    }
   ],
   "source": [
    "correlation_def = df_def.corr()\n",
    "print(correlation_def['value_category_encoded'].sort_values(ascending=False))"
   ]
  },
  {
   "cell_type": "code",
   "execution_count": 143,
   "metadata": {},
   "outputs": [
    {
     "name": "stdout",
     "output_type": "stream",
     "text": [
      "value_category_encoded      1.000\n",
      "team_Olympique Marseille    0.079\n",
      "team_LOSC Lille             0.068\n",
      "team_Liverpool FC           0.067\n",
      "team_AFC Bournemouth        0.063\n",
      "                            ...  \n",
      "team_Arsenal FC            -0.127\n",
      "team_Chelsea FC            -0.130\n",
      "highest_value              -0.272\n",
      "clean sheets                  NaN\n",
      "goals conceded                NaN\n",
      "Name: value_category_encoded, Length: 388, dtype: float64\n"
     ]
    }
   ],
   "source": [
    "correlation_mid = df_mid.corr()\n",
    "print(correlation_mid['value_category_encoded'].sort_values(ascending=False))"
   ]
  },
  {
   "cell_type": "code",
   "execution_count": 144,
   "metadata": {},
   "outputs": [
    {
     "name": "stdout",
     "output_type": "stream",
     "text": [
      "value_category_encoded     1.000\n",
      "appearance                 0.202\n",
      "goals                      0.168\n",
      "assists                    0.146\n",
      "team_Atlético de Madrid    0.137\n",
      "                           ...  \n",
      "team_Tottenham Hotspur    -0.088\n",
      "team_Manchester City      -0.095\n",
      "team_Liverpool FC         -0.115\n",
      "clean sheets                 NaN\n",
      "goals conceded               NaN\n",
      "Name: value_category_encoded, Length: 388, dtype: float64\n"
     ]
    }
   ],
   "source": [
    "correlation_fwd = df_fwd.corr()\n",
    "print(correlation_fwd['value_category_encoded'].sort_values(ascending=False))"
   ]
  },
  {
   "cell_type": "code",
   "execution_count": 145,
   "metadata": {},
   "outputs": [
    {
     "data": {
      "text/plain": [
       "(Index(['highest_value', 'team_Arsenal FC', 'team_Bayer 04 Leverkusen',\n",
       "        'team_Bayern Munich', 'team_Chelsea FC', 'team_Tottenham Hotspur',\n",
       "        'value_category_encoded'],\n",
       "       dtype='object'),\n",
       " Index(['highest_value', 'team_Arsenal FC', 'team_Bayer 04 Leverkusen',\n",
       "        'team_Bayern Munich', 'team_Chelsea FC', 'team_Tottenham Hotspur',\n",
       "        'value_category_encoded'],\n",
       "       dtype='object'),\n",
       " Index(['highest_value', 'assists', 'team_Arsenal FC', 'team_Chelsea FC',\n",
       "        'team_Leicester City', 'value_category_encoded'],\n",
       "       dtype='object'),\n",
       " Index(['appearance', 'highest_value', 'goals', 'assists', 'yellow cards',\n",
       "        'team_Aston Villa', 'team_Atlético de Madrid', 'team_Borussia Dortmund',\n",
       "        'team_Leicester City', 'team_Liverpool FC', 'team_Villarreal CF',\n",
       "        'team_West Ham United', 'value_category_encoded'],\n",
       "       dtype='object'))"
      ]
     },
     "execution_count": 145,
     "metadata": {},
     "output_type": "execute_result"
    }
   ],
   "source": [
    "threshold = 0.1\n",
    "\n",
    "selected_features_gk = correlation_gk.index[abs(correlation_def['value_category_encoded']) > threshold]\n",
    "selected_features_def = correlation_def.index[abs(correlation_def['value_category_encoded']) > threshold]\n",
    "selected_features_mid = correlation_mid.index[abs(correlation_mid['value_category_encoded']) > threshold]\n",
    "selected_features_fwd = correlation_fwd.index[abs(correlation_fwd['value_category_encoded']) > threshold]\n",
    "\n",
    "selected_features_gk, selected_features_def, selected_features_mid, selected_features_fwd"
   ]
  },
  {
   "cell_type": "code",
   "execution_count": 146,
   "metadata": {},
   "outputs": [],
   "source": [
    "df_gk = df_gk[selected_features_gk]\n",
    "df_def = df_def[selected_features_def]\n",
    "df_mid = df_mid[selected_features_mid]\n",
    "df_fwd = df_fwd[selected_features_fwd]"
   ]
  },
  {
   "cell_type": "code",
   "execution_count": 147,
   "metadata": {},
   "outputs": [
    {
     "data": {
      "text/html": [
       "<div>\n",
       "<style scoped>\n",
       "    .dataframe tbody tr th:only-of-type {\n",
       "        vertical-align: middle;\n",
       "    }\n",
       "\n",
       "    .dataframe tbody tr th {\n",
       "        vertical-align: top;\n",
       "    }\n",
       "\n",
       "    .dataframe thead th {\n",
       "        text-align: right;\n",
       "    }\n",
       "</style>\n",
       "<table border=\"1\" class=\"dataframe\">\n",
       "  <thead>\n",
       "    <tr style=\"text-align: right;\">\n",
       "      <th></th>\n",
       "      <th>appearance</th>\n",
       "      <th>highest_value</th>\n",
       "      <th>goals</th>\n",
       "      <th>assists</th>\n",
       "      <th>yellow cards</th>\n",
       "      <th>team_Aston Villa</th>\n",
       "      <th>team_Atlético de Madrid</th>\n",
       "      <th>team_Borussia Dortmund</th>\n",
       "      <th>team_Leicester City</th>\n",
       "      <th>team_Liverpool FC</th>\n",
       "      <th>team_Villarreal CF</th>\n",
       "      <th>team_West Ham United</th>\n",
       "      <th>value_category_encoded</th>\n",
       "    </tr>\n",
       "  </thead>\n",
       "  <tbody>\n",
       "    <tr>\n",
       "      <th>23</th>\n",
       "      <td>88</td>\n",
       "      <td>85000000</td>\n",
       "      <td>35.000</td>\n",
       "      <td>13.000</td>\n",
       "      <td>5.000</td>\n",
       "      <td>0</td>\n",
       "      <td>0</td>\n",
       "      <td>0</td>\n",
       "      <td>0</td>\n",
       "      <td>0</td>\n",
       "      <td>0</td>\n",
       "      <td>0</td>\n",
       "      <td>0</td>\n",
       "    </tr>\n",
       "    <tr>\n",
       "      <th>24</th>\n",
       "      <td>79</td>\n",
       "      <td>130000000</td>\n",
       "      <td>12.000</td>\n",
       "      <td>6.000</td>\n",
       "      <td>0.000</td>\n",
       "      <td>0</td>\n",
       "      <td>0</td>\n",
       "      <td>0</td>\n",
       "      <td>0</td>\n",
       "      <td>0</td>\n",
       "      <td>0</td>\n",
       "      <td>0</td>\n",
       "      <td>0</td>\n",
       "    </tr>\n",
       "    <tr>\n",
       "      <th>25</th>\n",
       "      <td>63</td>\n",
       "      <td>25000000</td>\n",
       "      <td>8.000</td>\n",
       "      <td>7.000</td>\n",
       "      <td>1.000</td>\n",
       "      <td>0</td>\n",
       "      <td>0</td>\n",
       "      <td>0</td>\n",
       "      <td>0</td>\n",
       "      <td>0</td>\n",
       "      <td>0</td>\n",
       "      <td>0</td>\n",
       "      <td>2</td>\n",
       "    </tr>\n",
       "    <tr>\n",
       "      <th>26</th>\n",
       "      <td>72</td>\n",
       "      <td>25000000</td>\n",
       "      <td>21.000</td>\n",
       "      <td>12.000</td>\n",
       "      <td>9.000</td>\n",
       "      <td>0</td>\n",
       "      <td>0</td>\n",
       "      <td>0</td>\n",
       "      <td>0</td>\n",
       "      <td>0</td>\n",
       "      <td>0</td>\n",
       "      <td>0</td>\n",
       "      <td>2</td>\n",
       "    </tr>\n",
       "    <tr>\n",
       "      <th>27</th>\n",
       "      <td>80</td>\n",
       "      <td>75000000</td>\n",
       "      <td>22.000</td>\n",
       "      <td>15.000</td>\n",
       "      <td>12.000</td>\n",
       "      <td>0</td>\n",
       "      <td>0</td>\n",
       "      <td>0</td>\n",
       "      <td>0</td>\n",
       "      <td>0</td>\n",
       "      <td>0</td>\n",
       "      <td>0</td>\n",
       "      <td>0</td>\n",
       "    </tr>\n",
       "  </tbody>\n",
       "</table>\n",
       "</div>"
      ],
      "text/plain": [
       "    appearance  highest_value  goals  assists  yellow cards  team_Aston Villa  \\\n",
       "23          88       85000000 35.000   13.000         5.000                 0   \n",
       "24          79      130000000 12.000    6.000         0.000                 0   \n",
       "25          63       25000000  8.000    7.000         1.000                 0   \n",
       "26          72       25000000 21.000   12.000         9.000                 0   \n",
       "27          80       75000000 22.000   15.000        12.000                 0   \n",
       "\n",
       "    team_Atlético de Madrid  team_Borussia Dortmund  team_Leicester City  \\\n",
       "23                        0                       0                    0   \n",
       "24                        0                       0                    0   \n",
       "25                        0                       0                    0   \n",
       "26                        0                       0                    0   \n",
       "27                        0                       0                    0   \n",
       "\n",
       "    team_Liverpool FC  team_Villarreal CF  team_West Ham United  \\\n",
       "23                  0                   0                     0   \n",
       "24                  0                   0                     0   \n",
       "25                  0                   0                     0   \n",
       "26                  0                   0                     0   \n",
       "27                  0                   0                     0   \n",
       "\n",
       "    value_category_encoded  \n",
       "23                       0  \n",
       "24                       0  \n",
       "25                       2  \n",
       "26                       2  \n",
       "27                       0  "
      ]
     },
     "execution_count": 147,
     "metadata": {},
     "output_type": "execute_result"
    }
   ],
   "source": [
    "df_fwd.head()"
   ]
  },
  {
   "cell_type": "markdown",
   "metadata": {},
   "source": [
    "## Data Preparation:"
   ]
  },
  {
   "cell_type": "code",
   "execution_count": 148,
   "metadata": {},
   "outputs": [],
   "source": [
    "X_gk = df_gk.drop('value_category_encoded', axis=1)\n",
    "y_gk = df_gk['value_category_encoded']\n",
    "\n",
    "X_def = df_def.drop('value_category_encoded', axis=1)\n",
    "y_def = df_def['value_category_encoded']\n",
    "\n",
    "X_mid = df_mid.drop('value_category_encoded', axis=1)\n",
    "y_mid = df_mid['value_category_encoded']\n",
    "\n",
    "X_fwd = df_fwd.drop('value_category_encoded', axis=1)\n",
    "y_fwd = df_fwd['value_category_encoded']\n",
    "\n",
    "X_train_gk, X_test_gk, y_train_gk, y_test_gk = train_test_split(X_gk, y_gk, test_size=0.2, random_state=42)\n",
    "X_train_def, X_test_def, y_train_def, y_test_def = train_test_split(X_def, y_def, test_size=0.2, random_state=42)\n",
    "X_train_mid, X_test_mid, y_train_mid, y_test_mid = train_test_split(X_mid, y_mid, test_size=0.2, random_state=42)\n",
    "X_train_fwd, X_test_fwd, y_train_fwd, y_test_fwd = train_test_split(X_fwd, y_fwd, test_size=0.2, random_state=42)"
   ]
  },
  {
   "cell_type": "markdown",
   "metadata": {},
   "source": [
    "# Model Building:"
   ]
  },
  {
   "cell_type": "code",
   "execution_count": 149,
   "metadata": {},
   "outputs": [],
   "source": [
    "model_gk_dt = DecisionTreeClassifier()\n",
    "model_def_dt = DecisionTreeClassifier()\n",
    "model_mid_dt = DecisionTreeClassifier()\n",
    "model_fwd_dt = DecisionTreeClassifier()\n",
    "\n",
    "model_gk_rf = RandomForestClassifier()\n",
    "model_def_rf = RandomForestClassifier()\n",
    "model_mid_rf = RandomForestClassifier()\n",
    "model_fwd_rf = RandomForestClassifier()"
   ]
  },
  {
   "cell_type": "code",
   "execution_count": 150,
   "metadata": {},
   "outputs": [],
   "source": [
    "param_grid_gk = {\n",
    "    'max_depth': [7],\n",
    "    'n_estimators': [50]\n",
    "}\n",
    "\n",
    "param_grid_def = {\n",
    "    'max_depth': [11],\n",
    "    'n_estimators': [50]\n",
    "}\n",
    "\n",
    "param_grid_mid = {\n",
    "    'max_depth': [7],\n",
    "    'n_estimators': [27]\n",
    "}\n",
    "\n",
    "param_grid_fwd = {\n",
    "    'max_depth': [17],\n",
    "    'n_estimators': [70]\n",
    "}\n",
    "\n",
    "grid_search_gk = GridSearchCV(estimator=model_gk_rf, param_grid=param_grid_gk, cv=5,\n",
    "                              scoring='f1_macro', verbose=1)\n",
    "\n",
    "grid_search_def = GridSearchCV(estimator=model_def_rf, param_grid=param_grid_def, cv=5,\n",
    "                                scoring='f1_macro', verbose=1)\n",
    "\n",
    "grid_search_mid = GridSearchCV(estimator=model_mid_rf, param_grid=param_grid_mid, cv=5,\n",
    "                                scoring='f1_macro', verbose=1)\n",
    "\n",
    "grid_search_fwd = GridSearchCV(estimator=model_fwd_rf, param_grid=param_grid_fwd, cv=5,\n",
    "                                scoring='f1_macro', verbose=1)"
   ]
  },
  {
   "cell_type": "markdown",
   "metadata": {},
   "source": [
    "## Model Training:"
   ]
  },
  {
   "cell_type": "code",
   "execution_count": 151,
   "metadata": {},
   "outputs": [
    {
     "data": {
      "text/plain": [
       "RandomForestClassifier()"
      ]
     },
     "execution_count": 151,
     "metadata": {},
     "output_type": "execute_result"
    }
   ],
   "source": [
    "model_gk_rf.fit(X_train_gk, y_train_gk)\n",
    "model_def_rf.fit(X_train_def, y_train_def)\n",
    "model_mid_rf.fit(X_train_mid, y_train_mid)\n",
    "model_fwd_rf.fit(X_train_fwd, y_train_fwd)"
   ]
  },
  {
   "cell_type": "code",
   "execution_count": 152,
   "metadata": {},
   "outputs": [
    {
     "data": {
      "text/plain": [
       "DecisionTreeClassifier()"
      ]
     },
     "execution_count": 152,
     "metadata": {},
     "output_type": "execute_result"
    }
   ],
   "source": [
    "model_gk_dt.fit(X_train_gk, y_train_gk)\n",
    "model_def_dt.fit(X_train_def, y_train_def)\n",
    "model_mid_dt.fit(X_train_mid, y_train_mid)\n",
    "model_fwd_dt.fit(X_train_fwd, y_train_fwd)"
   ]
  },
  {
   "cell_type": "code",
   "execution_count": 153,
   "metadata": {},
   "outputs": [
    {
     "name": "stdout",
     "output_type": "stream",
     "text": [
      "Fitting 5 folds for each of 1 candidates, totalling 5 fits\n",
      "Fitting 5 folds for each of 1 candidates, totalling 5 fits\n",
      "Fitting 5 folds for each of 1 candidates, totalling 5 fits\n",
      "Fitting 5 folds for each of 1 candidates, totalling 5 fits\n"
     ]
    },
    {
     "data": {
      "text/plain": [
       "GridSearchCV(cv=5, estimator=RandomForestClassifier(),\n",
       "             param_grid={'max_depth': [17], 'n_estimators': [70]},\n",
       "             scoring='f1_macro', verbose=1)"
      ]
     },
     "execution_count": 153,
     "metadata": {},
     "output_type": "execute_result"
    }
   ],
   "source": [
    "grid_search_gk.fit(X_train_gk, y_train_gk)\n",
    "grid_search_def.fit(X_train_def, y_train_def)\n",
    "grid_search_mid.fit(X_train_mid, y_train_mid)\n",
    "grid_search_fwd.fit(X_train_fwd, y_train_fwd)"
   ]
  },
  {
   "cell_type": "code",
   "execution_count": 154,
   "metadata": {},
   "outputs": [
    {
     "data": {
      "text/plain": [
       "({'max_depth': 7, 'n_estimators': 50},\n",
       " {'max_depth': 11, 'n_estimators': 50},\n",
       " {'max_depth': 7, 'n_estimators': 27},\n",
       " {'max_depth': 17, 'n_estimators': 70})"
      ]
     },
     "execution_count": 154,
     "metadata": {},
     "output_type": "execute_result"
    }
   ],
   "source": [
    "grid_search_gk.best_params_, grid_search_def.best_params_, grid_search_mid.best_params_, grid_search_fwd.best_params_"
   ]
  },
  {
   "cell_type": "code",
   "execution_count": 155,
   "metadata": {},
   "outputs": [],
   "source": [
    "best_model_gk_rf = grid_search_gk.best_estimator_\n",
    "best_model_def_rf = grid_search_def.best_estimator_\n",
    "best_model_mid_rf = grid_search_mid.best_estimator_\n",
    "best_model_fwd_rf = grid_search_fwd.best_estimator_"
   ]
  },
  {
   "cell_type": "markdown",
   "metadata": {},
   "source": [
    "## Model Testing:"
   ]
  },
  {
   "cell_type": "code",
   "execution_count": 156,
   "metadata": {},
   "outputs": [],
   "source": [
    "y_pred_gk_dt = model_gk_dt.predict(X_test_gk)\n",
    "y_pred_def_dt = model_def_dt.predict(X_test_def)\n",
    "y_pred_mid_dt = model_mid_dt.predict(X_test_mid)\n",
    "y_pred_fwd_dt = model_fwd_dt.predict(X_test_fwd)"
   ]
  },
  {
   "cell_type": "code",
   "execution_count": 157,
   "metadata": {},
   "outputs": [],
   "source": [
    "y_pred_gk_rf = model_gk_rf.predict(X_test_gk)\n",
    "y_pred_def_rf = model_def_rf.predict(X_test_def)\n",
    "y_pred_mid_rf = model_mid_rf.predict(X_test_mid)\n",
    "y_pred_fwd_rf = model_fwd_rf.predict(X_test_fwd)"
   ]
  },
  {
   "cell_type": "code",
   "execution_count": 158,
   "metadata": {},
   "outputs": [],
   "source": [
    "y_pred_gk_rf_best = best_model_gk_rf.predict(X_test_gk)\n",
    "y_pred_def_rf_best = best_model_def_rf.predict(X_test_def)\n",
    "y_pred_mid_rf_best = best_model_mid_rf.predict(X_test_mid)\n",
    "y_pred_fwd_rf_best = best_model_fwd_rf.predict(X_test_fwd)"
   ]
  },
  {
   "cell_type": "markdown",
   "metadata": {},
   "source": [
    "# Model Evaluation:"
   ]
  },
  {
   "cell_type": "markdown",
   "metadata": {},
   "source": [
    "### Base Model:"
   ]
  },
  {
   "cell_type": "code",
   "execution_count": 159,
   "metadata": {},
   "outputs": [
    {
     "data": {
      "text/plain": [
       "(9.92, 30.02, 25.76, 24.7)"
      ]
     },
     "execution_count": 159,
     "metadata": {},
     "output_type": "execute_result"
    }
   ],
   "source": [
    "base_model_gk = round(df_gk['value_category_encoded'].value_counts()[1]/df.shape[0]*100, 2)\n",
    "base_model_def = round(df_def['value_category_encoded'].value_counts()[1]/df.shape[0]*100, 2)\n",
    "base_model_mid = round(df_mid['value_category_encoded'].value_counts()[1]/df.shape[0]*100, 2)\n",
    "base_model_fwd = round(df_fwd['value_category_encoded'].value_counts()[1]/df.shape[0]*100, 2)\n",
    "\n",
    "base_model_gk, base_model_def, base_model_mid, base_model_fwd"
   ]
  },
  {
   "cell_type": "markdown",
   "metadata": {},
   "source": [
    "### Accuracy:  "
   ]
  },
  {
   "cell_type": "code",
   "execution_count": 160,
   "metadata": {},
   "outputs": [
    {
     "data": {
      "text/plain": [
       "(0.9105691056910569, 0.9305949008498584, 0.9046849757673667, 0.927710843373494)"
      ]
     },
     "execution_count": 160,
     "metadata": {},
     "output_type": "execute_result"
    }
   ],
   "source": [
    "accuracy_gk_dt = accuracy_score(y_test_gk, y_pred_gk_dt)\n",
    "accuracy_def_dt = accuracy_score(y_test_def, y_pred_def_dt)\n",
    "accuracy_mid_dt = accuracy_score(y_test_mid, y_pred_mid_dt)\n",
    "accuracy_fwd_dt = accuracy_score(y_test_fwd, y_pred_fwd_dt)\n",
    "\n",
    "accuracy_gk_dt, accuracy_def_dt, accuracy_mid_dt, accuracy_fwd_dt"
   ]
  },
  {
   "cell_type": "code",
   "execution_count": 161,
   "metadata": {},
   "outputs": [
    {
     "data": {
      "text/plain": [
       "(0.9195519348268839, 0.9468462083628633, 0.9716828478964401, 1.0)"
      ]
     },
     "execution_count": 161,
     "metadata": {},
     "output_type": "execute_result"
    }
   ],
   "source": [
    "y_pred_train_gk_dt = model_gk_dt.predict(X_train_gk)\n",
    "y_pred_train_def_dt = model_def_dt.predict(X_train_def)\n",
    "y_pred_train_mid_dt = model_mid_dt.predict(X_train_mid)\n",
    "y_pred_train_fwd_dt = model_fwd_dt.predict(X_train_fwd)\n",
    "\n",
    "accuracy_train_gk_dt = accuracy_score(y_train_gk, y_pred_train_gk_dt)\n",
    "accuracy_train_def_dt = accuracy_score(y_train_def, y_pred_train_def_dt)\n",
    "accuracy_train_mid_dt = accuracy_score(y_train_mid, y_pred_train_mid_dt)\n",
    "accuracy_train_fwd_dt = accuracy_score(y_train_fwd, y_pred_train_fwd_dt)\n",
    "\n",
    "accuracy_train_gk_dt, accuracy_train_def_dt, accuracy_train_mid_dt, accuracy_train_fwd_dt"
   ]
  },
  {
   "cell_type": "code",
   "execution_count": 162,
   "metadata": {},
   "outputs": [
    {
     "data": {
      "text/plain": [
       "(0.8983739837398373, 0.93342776203966, 0.9079159935379645, 0.9328743545611016)"
      ]
     },
     "execution_count": 162,
     "metadata": {},
     "output_type": "execute_result"
    }
   ],
   "source": [
    "accuracy_gk_rf = accuracy_score(y_test_gk, y_pred_gk_rf)\n",
    "accuracy_def_rf = accuracy_score(y_test_def, y_pred_def_rf)\n",
    "accuracy_mid_rf = accuracy_score(y_test_mid, y_pred_mid_rf)\n",
    "accuracy_fwd_rf = accuracy_score(y_test_fwd, y_pred_fwd_rf)\n",
    "\n",
    "accuracy_gk_rf, accuracy_def_rf, accuracy_mid_rf, accuracy_fwd_rf"
   ]
  },
  {
   "cell_type": "code",
   "execution_count": 163,
   "metadata": {},
   "outputs": [
    {
     "data": {
      "text/plain": [
       "(0.8943089430894309,\n",
       " 0.9291784702549575,\n",
       " 0.9063004846526656,\n",
       " 0.9328743545611016)"
      ]
     },
     "execution_count": 163,
     "metadata": {},
     "output_type": "execute_result"
    }
   ],
   "source": [
    "accuracy_gk_rf = accuracy_score(y_test_gk, y_pred_gk_rf_best)\n",
    "accuracy_def_rf = accuracy_score(y_test_def, y_pred_def_rf_best)\n",
    "accuracy_mid_rf = accuracy_score(y_test_mid, y_pred_mid_rf_best)\n",
    "accuracy_fwd_rf = accuracy_score(y_test_fwd, y_pred_fwd_rf_best)\n",
    "\n",
    "accuracy_gk_rf, accuracy_def_rf, accuracy_mid_rf, accuracy_fwd_rf"
   ]
  },
  {
   "cell_type": "markdown",
   "metadata": {},
   "source": [
    "### Confusion Matrix:"
   ]
  },
  {
   "cell_type": "code",
   "execution_count": 164,
   "metadata": {},
   "outputs": [
    {
     "data": {
      "image/png": "[encoded data removed]",
      "text/plain": [
       "<Figure size 640x480 with 2 Axes>"
      ]
     },
     "metadata": {},
     "output_type": "display_data"
    }
   ],
   "source": [
    "ConfusionMatrixDisplay.from_predictions(y_test_gk, y_pred_gk_rf_best,\n",
    "                                        display_labels=best_model_gk_rf.classes_,\n",
    "                                        cmap=\"Blues\",\n",
    "                                        xticks_rotation='vertical')\n",
    "plt.title('Confusion Matrix')\n",
    "plt.show()"
   ]
  },
  {
   "cell_type": "code",
   "execution_count": 165,
   "metadata": {},
   "outputs": [
    {
     "data": {
      "image/png": "[encoded data removed]",
      "text/plain": [
       "<Figure size 640x480 with 2 Axes>"
      ]
     },
     "metadata": {},
     "output_type": "display_data"
    }
   ],
   "source": [
    "ConfusionMatrixDisplay.from_predictions(y_test_def, y_pred_def_rf_best,\n",
    "                                        display_labels=best_model_def_rf.classes_,\n",
    "                                        cmap=\"Blues\",\n",
    "                                        xticks_rotation='vertical')\n",
    "plt.title('Confusion Matrix')\n",
    "plt.show()"
   ]
  },
  {
   "cell_type": "code",
   "execution_count": 166,
   "metadata": {},
   "outputs": [
    {
     "data": {
      "image/png": "[encoded data removed]",
      "text/plain": [
       "<Figure size 640x480 with 2 Axes>"
      ]
     },
     "metadata": {},
     "output_type": "display_data"
    }
   ],
   "source": [
    "ConfusionMatrixDisplay.from_predictions(y_test_mid, y_pred_mid_rf_best,\n",
    "                                        display_labels=best_model_mid_rf.classes_,\n",
    "                                        cmap=\"Blues\",\n",
    "                                        xticks_rotation='vertical')\n",
    "plt.title('Confusion Matrix')\n",
    "plt.show()"
   ]
  },
  {
   "cell_type": "code",
   "execution_count": 167,
   "metadata": {},
   "outputs": [
    {
     "data": {
      "image/png": "[encoded data removed]",
      "text/plain": [
       "<Figure size 640x480 with 2 Axes>"
      ]
     },
     "metadata": {},
     "output_type": "display_data"
    }
   ],
   "source": [
    "ConfusionMatrixDisplay.from_predictions(y_test_fwd, y_pred_fwd_rf_best,\n",
    "                                        display_labels=best_model_fwd_rf.classes_,\n",
    "                                        cmap=\"Blues\",\n",
    "                                        xticks_rotation='vertical')\n",
    "plt.title('Confusion Matrix')\n",
    "plt.show()"
   ]
  },
  {
   "cell_type": "markdown",
   "metadata": {},
   "source": [
    "### Percision:"
   ]
  },
  {
   "cell_type": "code",
   "execution_count": 168,
   "metadata": {},
   "outputs": [
    {
     "data": {
      "text/plain": [
       "(0.895244262177135, 0.9169599625828465, 0.8769318713904174, 0.9242685025817556)"
      ]
     },
     "execution_count": 168,
     "metadata": {},
     "output_type": "execute_result"
    }
   ],
   "source": [
    "percision_gk = precision_score(y_test_gk, y_pred_gk_rf_best, average='weighted')\n",
    "percision_def = precision_score(y_test_def, y_pred_def_rf_best, average='weighted')\n",
    "percision_mid = precision_score(y_test_mid, y_pred_mid_rf_best, average='weighted')\n",
    "percision_fwd = precision_score(y_test_fwd, y_pred_fwd_rf_best, average='weighted')\n",
    "\n",
    "percision_gk, percision_def, percision_mid, percision_fwd"
   ]
  },
  {
   "cell_type": "markdown",
   "metadata": {},
   "source": [
    "### Recall:"
   ]
  },
  {
   "cell_type": "code",
   "execution_count": 169,
   "metadata": {},
   "outputs": [
    {
     "data": {
      "text/plain": [
       "(0.8943089430894309,\n",
       " 0.9291784702549575,\n",
       " 0.9063004846526656,\n",
       " 0.9328743545611016)"
      ]
     },
     "execution_count": 169,
     "metadata": {},
     "output_type": "execute_result"
    }
   ],
   "source": [
    "recall_gk = recall_score(y_test_gk, y_pred_gk_rf_best, average='weighted')\n",
    "recall_def = recall_score(y_test_def, y_pred_def_rf_best, average='weighted')\n",
    "recall_mid = recall_score(y_test_mid, y_pred_mid_rf_best, average='weighted')\n",
    "recall_fwd = recall_score(y_test_fwd, y_pred_fwd_rf_best, average='weighted')\n",
    "\n",
    "recall_gk, recall_def, recall_mid, recall_fwd"
   ]
  },
  {
   "cell_type": "markdown",
   "metadata": {},
   "source": [
    "### F1 Score:"
   ]
  },
  {
   "cell_type": "code",
   "execution_count": 170,
   "metadata": {},
   "outputs": [
    {
     "data": {
      "text/plain": [
       "(0.8919981610530392, 0.920064327320131, 0.8868450851159181, 0.9270277987363197)"
      ]
     },
     "execution_count": 170,
     "metadata": {},
     "output_type": "execute_result"
    }
   ],
   "source": [
    "f1_gk = f1_score(y_test_gk, y_pred_gk_rf_best, average='weighted')\n",
    "f1_def = f1_score(y_test_def, y_pred_def_rf_best, average='weighted')\n",
    "f1_mid = f1_score(y_test_mid, y_pred_mid_rf_best, average='weighted')\n",
    "f1_fwd = f1_score(y_test_fwd, y_pred_fwd_rf_best, average='weighted')\n",
    "\n",
    "f1_gk, f1_def, f1_mid, f1_fwd"
   ]
  },
  {
   "cell_type": "code",
   "execution_count": 172,
   "metadata": {},
   "outputs": [
    {
     "data": {
      "image/png": "[encoded data removed]",
      "text/plain": [
       "<Figure size 640x480 with 1 Axes>"
      ]
     },
     "metadata": {},
     "output_type": "display_data"
    }
   ],
   "source": [
    "feature_importances = best_model_gk_rf.feature_importances_\n",
    "plt.barh(X_gk.columns, feature_importances)\n",
    "plt.xlabel('Feature Importance')\n",
    "plt.title('Feature Importance from Random Forest')\n",
    "plt.show()"
   ]
  },
  {
   "cell_type": "code",
   "execution_count": 173,
   "metadata": {},
   "outputs": [
    {
     "data": {
      "image/png": "[encoded data removed]",
      "text/plain": [
       "<Figure size 640x480 with 1 Axes>"
      ]
     },
     "metadata": {},
     "output_type": "display_data"
    }
   ],
   "source": [
    "feature_importances = best_model_def_rf.feature_importances_\n",
    "plt.barh(X_def.columns, feature_importances)\n",
    "plt.xlabel('Feature Importance')\n",
    "plt.title('Feature Importance from Random Forest')\n",
    "plt.show()"
   ]
  },
  {
   "cell_type": "code",
   "execution_count": 174,
   "metadata": {},
   "outputs": [
    {
     "data": {
      "image/png": "[encoded data removed]",
      "text/plain": [
       "<Figure size 640x480 with 1 Axes>"
      ]
     },
     "metadata": {},
     "output_type": "display_data"
    }
   ],
   "source": [
    "feature_importances = best_model_mid_rf.feature_importances_\n",
    "plt.barh(X_mid.columns, feature_importances)\n",
    "plt.xlabel('Feature Importance')\n",
    "plt.title('Feature Importance from Random Forest')\n",
    "plt.show()"
   ]
  },
  {
   "cell_type": "code",
   "execution_count": 175,
   "metadata": {},
   "outputs": [
    {
     "data": {
      "image/png": "[encoded data removed]",
      "text/plain": [
       "<Figure size 640x480 with 1 Axes>"
      ]
     },
     "metadata": {},
     "output_type": "display_data"
    }
   ],
   "source": [
    "feature_importances = best_model_fwd_rf.feature_importances_\n",
    "plt.barh(X_fwd.columns, feature_importances)\n",
    "plt.xlabel('Feature Importance')\n",
    "plt.title('Feature Importance from Random Forest')\n",
    "plt.show()"
   ]
  }
 ],
 "metadata": {
  "kernelspec": {
   "display_name": "base",
   "language": "python",
   "name": "python3"
  },
  "language_info": {
   "codemirror_mode": {
    "name": "ipython",
    "version": 3
   },
   "file_extension": ".py",
   "mimetype": "text/x-python",
   "name": "python",
   "nbconvert_exporter": "python",
   "pygments_lexer": "ipython3",
   "version": "3.9.13"
  }
 },
 "nbformat": 4,
 "nbformat_minor": 2
}
