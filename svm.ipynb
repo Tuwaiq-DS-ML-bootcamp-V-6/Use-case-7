{
 "cells": [
  {
   "cell_type": "code",
   "execution_count": 1,
   "id": "e69c4ba1-85f3-4a02-ae37-c64347a01803",
   "metadata": {},
   "outputs": [],
   "source": [
    "#Import all relevant libraries\n",
    "import numpy as np\n",
    "import pandas as pd\n",
    "import matplotlib.pyplot as plt\n",
    "import seaborn as sns\n",
    "import dtale as dt\n",
    "\n",
    "from sklearn.model_selection import train_test_split\n",
    "from sklearn.metrics import accuracy_score, confusion_matrix, precision_score, recall_score, f1_score\n",
    "from sklearn.preprocessing import LabelEncoder, StandardScaler\n",
    "from sklearn.model_selection import GridSearchCV\n",
    "from sklearn.tree import DecisionTreeClassifier\n",
    "from sklearn.ensemble import RandomForestClassifier\n",
    "from sklearn import metrics\n",
    " \n",
    "## This statement allows the visuals to render within your Jupyter Notebook.\n",
    "%matplotlib inline"
   ]
  },
  {
   "cell_type": "markdown",
   "id": "66c0130c",
   "metadata": {},
   "source": []
  },
  {
   "cell_type": "markdown",
   "id": "e395e8bf-b530-4720-8d0f-26811e927d6e",
   "metadata": {},
   "source": [
    "Loading the data\n"
   ]
  },
  {
   "cell_type": "code",
   "execution_count": 2,
   "id": "cf4030b0-aa7f-4bd7-8e9c-c1b7f4d202d0",
   "metadata": {},
   "outputs": [],
   "source": [
    "#Read in the csv file and convert to a Pandas dataframe\n",
    "df = pd.read_csv('Data/final_data.csv')"
   ]
  },
  {
   "cell_type": "code",
   "execution_count": 3,
   "id": "04c62559-3b48-48cf-a4e9-857e2e0ff416",
   "metadata": {},
   "outputs": [],
   "source": [
    "# go to delete duplicates columns\n",
    "df.drop(columns=['position_encoded', 'player', 'name'], inplace=True)"
   ]
  },
  {
   "cell_type": "code",
   "execution_count": 4,
   "id": "48a4de54-a344-4b94-9908-9528c15c13f7",
   "metadata": {},
   "outputs": [
    {
     "data": {
      "text/plain": [
       "team                   0\n",
       "goals conceded         0\n",
       "highest_value          0\n",
       "current_value          0\n",
       "award                  0\n",
       "games_injured          0\n",
       "days_injured           0\n",
       "minutes played         0\n",
       "clean sheets           0\n",
       "red cards              0\n",
       "position               0\n",
       "second yellow cards    0\n",
       "yellow cards           0\n",
       "assists                0\n",
       "goals                  0\n",
       "appearance             0\n",
       "age                    0\n",
       "height                 0\n",
       "winger                 0\n",
       "dtype: int64"
      ]
     },
     "execution_count": 4,
     "metadata": {},
     "output_type": "execute_result"
    }
   ],
   "source": [
    "#Display number missing values per column\n",
    "df.isnull().sum().sort_values(ascending=False)"
   ]
  },
  {
   "cell_type": "code",
   "execution_count": 5,
   "id": "68be5334-ae10-4abd-8097-3259fe5e72c8",
   "metadata": {},
   "outputs": [
    {
     "data": {
      "text/plain": [
       "team                    object\n",
       "position                object\n",
       "height                 float64\n",
       "age                    float64\n",
       "appearance               int64\n",
       "goals                  float64\n",
       "assists                float64\n",
       "yellow cards           float64\n",
       "second yellow cards    float64\n",
       "red cards              float64\n",
       "goals conceded         float64\n",
       "clean sheets           float64\n",
       "minutes played           int64\n",
       "days_injured             int64\n",
       "games_injured            int64\n",
       "award                    int64\n",
       "current_value            int64\n",
       "highest_value            int64\n",
       "winger                   int64\n",
       "dtype: object"
      ]
     },
     "execution_count": 5,
     "metadata": {},
     "output_type": "execute_result"
    }
   ],
   "source": [
    "# check columns types \n",
    "df.dtypes"
   ]
  },
  {
   "cell_type": "code",
   "execution_count": 6,
   "id": "d36232ad",
   "metadata": {},
   "outputs": [],
   "source": [
    "convert_per90 = ['goals', 'assists', 'yellow cards', 'second yellow cards', 'red cards', 'goals conceded', 'clean sheets']\n",
    "for n in convert_per90:\n",
    "    df[n] = (df[n]) * (df['minutes played'] / 90)"
   ]
  },
  {
   "cell_type": "code",
   "execution_count": 7,
   "id": "1ef7b434",
   "metadata": {},
   "outputs": [
    {
     "data": {
      "text/html": [
       "<div>\n",
       "<style scoped>\n",
       "    .dataframe tbody tr th:only-of-type {\n",
       "        vertical-align: middle;\n",
       "    }\n",
       "\n",
       "    .dataframe tbody tr th {\n",
       "        vertical-align: top;\n",
       "    }\n",
       "\n",
       "    .dataframe thead th {\n",
       "        text-align: right;\n",
       "    }\n",
       "</style>\n",
       "<table border=\"1\" class=\"dataframe\">\n",
       "  <thead>\n",
       "    <tr style=\"text-align: right;\">\n",
       "      <th></th>\n",
       "      <th>team</th>\n",
       "      <th>position</th>\n",
       "      <th>height</th>\n",
       "      <th>age</th>\n",
       "      <th>appearance</th>\n",
       "      <th>goals</th>\n",
       "      <th>assists</th>\n",
       "      <th>yellow cards</th>\n",
       "      <th>second yellow cards</th>\n",
       "      <th>red cards</th>\n",
       "      <th>goals conceded</th>\n",
       "      <th>clean sheets</th>\n",
       "      <th>minutes played</th>\n",
       "      <th>days_injured</th>\n",
       "      <th>games_injured</th>\n",
       "      <th>award</th>\n",
       "      <th>current_value</th>\n",
       "      <th>highest_value</th>\n",
       "      <th>winger</th>\n",
       "    </tr>\n",
       "  </thead>\n",
       "  <tbody>\n",
       "    <tr>\n",
       "      <th>0</th>\n",
       "      <td>Manchester United</td>\n",
       "      <td>Goalkeeper</td>\n",
       "      <td>189.0</td>\n",
       "      <td>32.0</td>\n",
       "      <td>104</td>\n",
       "      <td>0.0</td>\n",
       "      <td>0.0</td>\n",
       "      <td>1.0</td>\n",
       "      <td>0.0</td>\n",
       "      <td>0.0</td>\n",
       "      <td>127.0</td>\n",
       "      <td>35.0</td>\n",
       "      <td>9390</td>\n",
       "      <td>42</td>\n",
       "      <td>5</td>\n",
       "      <td>13</td>\n",
       "      <td>15000000</td>\n",
       "      <td>70000000</td>\n",
       "      <td>0</td>\n",
       "    </tr>\n",
       "    <tr>\n",
       "      <th>1</th>\n",
       "      <td>Manchester United</td>\n",
       "      <td>Goalkeeper</td>\n",
       "      <td>196.0</td>\n",
       "      <td>30.0</td>\n",
       "      <td>15</td>\n",
       "      <td>0.0</td>\n",
       "      <td>0.0</td>\n",
       "      <td>1.0</td>\n",
       "      <td>0.0</td>\n",
       "      <td>0.0</td>\n",
       "      <td>18.0</td>\n",
       "      <td>3.0</td>\n",
       "      <td>1304</td>\n",
       "      <td>510</td>\n",
       "      <td>58</td>\n",
       "      <td>1</td>\n",
       "      <td>1500000</td>\n",
       "      <td>22000000</td>\n",
       "      <td>0</td>\n",
       "    </tr>\n",
       "    <tr>\n",
       "      <th>2</th>\n",
       "      <td>Manchester United</td>\n",
       "      <td>Goalkeeper</td>\n",
       "      <td>188.0</td>\n",
       "      <td>37.0</td>\n",
       "      <td>4</td>\n",
       "      <td>0.0</td>\n",
       "      <td>0.0</td>\n",
       "      <td>0.0</td>\n",
       "      <td>0.0</td>\n",
       "      <td>0.0</td>\n",
       "      <td>2.0</td>\n",
       "      <td>3.0</td>\n",
       "      <td>292</td>\n",
       "      <td>697</td>\n",
       "      <td>84</td>\n",
       "      <td>4</td>\n",
       "      <td>600000</td>\n",
       "      <td>6000000</td>\n",
       "      <td>0</td>\n",
       "    </tr>\n",
       "    <tr>\n",
       "      <th>3</th>\n",
       "      <td>Manchester United</td>\n",
       "      <td>Defender Centre-Back</td>\n",
       "      <td>175.0</td>\n",
       "      <td>25.0</td>\n",
       "      <td>82</td>\n",
       "      <td>2.0</td>\n",
       "      <td>4.0</td>\n",
       "      <td>16.0</td>\n",
       "      <td>0.0</td>\n",
       "      <td>0.0</td>\n",
       "      <td>0.0</td>\n",
       "      <td>0.0</td>\n",
       "      <td>6408</td>\n",
       "      <td>175</td>\n",
       "      <td>22</td>\n",
       "      <td>9</td>\n",
       "      <td>50000000</td>\n",
       "      <td>50000000</td>\n",
       "      <td>0</td>\n",
       "    </tr>\n",
       "    <tr>\n",
       "      <th>4</th>\n",
       "      <td>Manchester United</td>\n",
       "      <td>Defender Centre-Back</td>\n",
       "      <td>191.0</td>\n",
       "      <td>30.0</td>\n",
       "      <td>63</td>\n",
       "      <td>1.0</td>\n",
       "      <td>1.0</td>\n",
       "      <td>3.0</td>\n",
       "      <td>0.0</td>\n",
       "      <td>0.0</td>\n",
       "      <td>0.0</td>\n",
       "      <td>0.0</td>\n",
       "      <td>5031</td>\n",
       "      <td>238</td>\n",
       "      <td>51</td>\n",
       "      <td>21</td>\n",
       "      <td>40000000</td>\n",
       "      <td>80000000</td>\n",
       "      <td>0</td>\n",
       "    </tr>\n",
       "    <tr>\n",
       "      <th>5</th>\n",
       "      <td>Manchester United</td>\n",
       "      <td>Defender Centre-Back</td>\n",
       "      <td>194.0</td>\n",
       "      <td>30.0</td>\n",
       "      <td>68</td>\n",
       "      <td>2.0</td>\n",
       "      <td>0.0</td>\n",
       "      <td>16.0</td>\n",
       "      <td>1.0</td>\n",
       "      <td>0.0</td>\n",
       "      <td>0.0</td>\n",
       "      <td>0.0</td>\n",
       "      <td>4762</td>\n",
       "      <td>148</td>\n",
       "      <td>27</td>\n",
       "      <td>1</td>\n",
       "      <td>25000000</td>\n",
       "      <td>70000000</td>\n",
       "      <td>0</td>\n",
       "    </tr>\n",
       "    <tr>\n",
       "      <th>6</th>\n",
       "      <td>Manchester United</td>\n",
       "      <td>Defender Centre-Back</td>\n",
       "      <td>187.0</td>\n",
       "      <td>28.0</td>\n",
       "      <td>70</td>\n",
       "      <td>0.0</td>\n",
       "      <td>2.0</td>\n",
       "      <td>7.0</td>\n",
       "      <td>0.0</td>\n",
       "      <td>0.0</td>\n",
       "      <td>0.0</td>\n",
       "      <td>0.0</td>\n",
       "      <td>5471</td>\n",
       "      <td>95</td>\n",
       "      <td>19</td>\n",
       "      <td>10</td>\n",
       "      <td>15000000</td>\n",
       "      <td>35000000</td>\n",
       "      <td>0</td>\n",
       "    </tr>\n",
       "    <tr>\n",
       "      <th>7</th>\n",
       "      <td>Manchester United</td>\n",
       "      <td>Defender Centre-Back</td>\n",
       "      <td>185.0</td>\n",
       "      <td>31.0</td>\n",
       "      <td>8</td>\n",
       "      <td>0.0</td>\n",
       "      <td>0.0</td>\n",
       "      <td>1.0</td>\n",
       "      <td>0.0</td>\n",
       "      <td>0.0</td>\n",
       "      <td>0.0</td>\n",
       "      <td>0.0</td>\n",
       "      <td>416</td>\n",
       "      <td>932</td>\n",
       "      <td>169</td>\n",
       "      <td>7</td>\n",
       "      <td>2000000</td>\n",
       "      <td>20000000</td>\n",
       "      <td>0</td>\n",
       "    </tr>\n",
       "    <tr>\n",
       "      <th>8</th>\n",
       "      <td>Manchester United</td>\n",
       "      <td>Defender Centre-Back</td>\n",
       "      <td>186.0</td>\n",
       "      <td>21.0</td>\n",
       "      <td>34</td>\n",
       "      <td>0.0</td>\n",
       "      <td>0.0</td>\n",
       "      <td>4.0</td>\n",
       "      <td>0.0</td>\n",
       "      <td>0.0</td>\n",
       "      <td>0.0</td>\n",
       "      <td>0.0</td>\n",
       "      <td>2758</td>\n",
       "      <td>47</td>\n",
       "      <td>13</td>\n",
       "      <td>0</td>\n",
       "      <td>2000000</td>\n",
       "      <td>2000000</td>\n",
       "      <td>0</td>\n",
       "    </tr>\n",
       "    <tr>\n",
       "      <th>9</th>\n",
       "      <td>Manchester United</td>\n",
       "      <td>Defender Left-Back</td>\n",
       "      <td>178.0</td>\n",
       "      <td>27.0</td>\n",
       "      <td>74</td>\n",
       "      <td>1.0</td>\n",
       "      <td>11.0</td>\n",
       "      <td>23.0</td>\n",
       "      <td>0.0</td>\n",
       "      <td>0.0</td>\n",
       "      <td>0.0</td>\n",
       "      <td>0.0</td>\n",
       "      <td>5854</td>\n",
       "      <td>443</td>\n",
       "      <td>70</td>\n",
       "      <td>4</td>\n",
       "      <td>35000000</td>\n",
       "      <td>42000000</td>\n",
       "      <td>1</td>\n",
       "    </tr>\n",
       "  </tbody>\n",
       "</table>\n",
       "</div>"
      ],
      "text/plain": [
       "                team              position  height   age  appearance  goals  \\\n",
       "0  Manchester United            Goalkeeper   189.0  32.0         104    0.0   \n",
       "1  Manchester United            Goalkeeper   196.0  30.0          15    0.0   \n",
       "2  Manchester United            Goalkeeper   188.0  37.0           4    0.0   \n",
       "3  Manchester United  Defender Centre-Back   175.0  25.0          82    2.0   \n",
       "4  Manchester United  Defender Centre-Back   191.0  30.0          63    1.0   \n",
       "5  Manchester United  Defender Centre-Back   194.0  30.0          68    2.0   \n",
       "6  Manchester United  Defender Centre-Back   187.0  28.0          70    0.0   \n",
       "7  Manchester United  Defender Centre-Back   185.0  31.0           8    0.0   \n",
       "8  Manchester United  Defender Centre-Back   186.0  21.0          34    0.0   \n",
       "9  Manchester United    Defender Left-Back   178.0  27.0          74    1.0   \n",
       "\n",
       "   assists  yellow cards  second yellow cards  red cards  goals conceded  \\\n",
       "0      0.0           1.0                  0.0        0.0           127.0   \n",
       "1      0.0           1.0                  0.0        0.0            18.0   \n",
       "2      0.0           0.0                  0.0        0.0             2.0   \n",
       "3      4.0          16.0                  0.0        0.0             0.0   \n",
       "4      1.0           3.0                  0.0        0.0             0.0   \n",
       "5      0.0          16.0                  1.0        0.0             0.0   \n",
       "6      2.0           7.0                  0.0        0.0             0.0   \n",
       "7      0.0           1.0                  0.0        0.0             0.0   \n",
       "8      0.0           4.0                  0.0        0.0             0.0   \n",
       "9     11.0          23.0                  0.0        0.0             0.0   \n",
       "\n",
       "   clean sheets  minutes played  days_injured  games_injured  award  \\\n",
       "0          35.0            9390            42              5     13   \n",
       "1           3.0            1304           510             58      1   \n",
       "2           3.0             292           697             84      4   \n",
       "3           0.0            6408           175             22      9   \n",
       "4           0.0            5031           238             51     21   \n",
       "5           0.0            4762           148             27      1   \n",
       "6           0.0            5471            95             19     10   \n",
       "7           0.0             416           932            169      7   \n",
       "8           0.0            2758            47             13      0   \n",
       "9           0.0            5854           443             70      4   \n",
       "\n",
       "   current_value  highest_value  winger  \n",
       "0       15000000       70000000       0  \n",
       "1        1500000       22000000       0  \n",
       "2         600000        6000000       0  \n",
       "3       50000000       50000000       0  \n",
       "4       40000000       80000000       0  \n",
       "5       25000000       70000000       0  \n",
       "6       15000000       35000000       0  \n",
       "7        2000000       20000000       0  \n",
       "8        2000000        2000000       0  \n",
       "9       35000000       42000000       1  "
      ]
     },
     "execution_count": 7,
     "metadata": {},
     "output_type": "execute_result"
    }
   ],
   "source": [
    "df.head(10)"
   ]
  },
  {
   "cell_type": "markdown",
   "id": "5ecc7dbb-6867-44cf-8f99-1b969a80be40",
   "metadata": {},
   "source": [
    "### Dealing with outliers:"
   ]
  },
  {
   "cell_type": "code",
   "execution_count": 8,
   "id": "ae7d317b",
   "metadata": {},
   "outputs": [
    {
     "name": "stdout",
     "output_type": "stream",
     "text": [
      "current_value : Q1=300000.0, Q3=3000000.0, IQR=2700000.0 | lower bound=-3750000.0, upper bound=7050000.0 min=0 max=180000000\n",
      "highest_value : Q1=450000.0, Q3=5000000.0, IQR=4550000.0 | lower bound=-6375000.0, upper bound=11825000.0 min=0 max=200000000\n"
     ]
    }
   ],
   "source": [
    "outliers = ['current_value', 'highest_value']\n",
    "for n in outliers:\n",
    "    q25, q75 = np.nanpercentile(df[n], [25, 75])\n",
    "    iqr = q75 - q25\n",
    "    lower_bound = q25 - 1.5 * iqr\n",
    "    upper_bound = q75 + 1.5 * iqr\n",
    "    print(f'{n} : Q1={q25}, Q3={q75}, IQR={iqr} | lower bound={lower_bound}, upper bound={upper_bound} min={df[n].min()} max={df[n].max()}')\n"
   ]
  },
  {
   "cell_type": "code",
   "execution_count": 9,
   "id": "ec2f6fca",
   "metadata": {},
   "outputs": [],
   "source": [
    "df_outliers = df[df['current_value'] > 7050000.0]"
   ]
  },
  {
   "cell_type": "code",
   "execution_count": 10,
   "id": "47738f57",
   "metadata": {},
   "outputs": [],
   "source": [
    "df_outliers = df[df['highest_value'] > 11825000.0]"
   ]
  },
  {
   "cell_type": "code",
   "execution_count": 11,
   "id": "f6ce5550",
   "metadata": {},
   "outputs": [],
   "source": [
    "df_all = df.copy()"
   ]
  },
  {
   "cell_type": "code",
   "execution_count": 12,
   "id": "f72f58f1",
   "metadata": {},
   "outputs": [],
   "source": [
    "df = df[df['current_value'] <= 7050000.0]"
   ]
  },
  {
   "cell_type": "code",
   "execution_count": 13,
   "id": "d35b666a",
   "metadata": {},
   "outputs": [],
   "source": [
    "df = df[df['highest_value'] <= 11825000.0]"
   ]
  },
  {
   "cell_type": "code",
   "execution_count": 14,
   "id": "db79d803-b75c-4686-a623-e8420321a90f",
   "metadata": {},
   "outputs": [
    {
     "data": {
      "text/plain": [
       "team                    object\n",
       "position                object\n",
       "height                 float64\n",
       "age                    float64\n",
       "appearance               int64\n",
       "goals                  float64\n",
       "assists                float64\n",
       "yellow cards           float64\n",
       "second yellow cards    float64\n",
       "red cards              float64\n",
       "goals conceded         float64\n",
       "clean sheets           float64\n",
       "minutes played           int64\n",
       "days_injured             int64\n",
       "games_injured            int64\n",
       "award                    int64\n",
       "current_value            int64\n",
       "highest_value            int64\n",
       "winger                   int64\n",
       "dtype: object"
      ]
     },
     "execution_count": 14,
     "metadata": {},
     "output_type": "execute_result"
    }
   ],
   "source": [
    "df.dtypes"
   ]
  },
  {
   "cell_type": "code",
   "execution_count": 15,
   "id": "f1058d84-e61e-4f5b-b66a-29931e77821b",
   "metadata": {},
   "outputs": [
    {
     "data": {
      "text/html": [
       "<div>\n",
       "<style scoped>\n",
       "    .dataframe tbody tr th:only-of-type {\n",
       "        vertical-align: middle;\n",
       "    }\n",
       "\n",
       "    .dataframe tbody tr th {\n",
       "        vertical-align: top;\n",
       "    }\n",
       "\n",
       "    .dataframe thead th {\n",
       "        text-align: right;\n",
       "    }\n",
       "</style>\n",
       "<table border=\"1\" class=\"dataframe\">\n",
       "  <thead>\n",
       "    <tr style=\"text-align: right;\">\n",
       "      <th></th>\n",
       "      <th>height</th>\n",
       "      <th>age</th>\n",
       "      <th>appearance</th>\n",
       "      <th>goals</th>\n",
       "      <th>assists</th>\n",
       "      <th>yellow cards</th>\n",
       "      <th>second yellow cards</th>\n",
       "      <th>red cards</th>\n",
       "      <th>goals conceded</th>\n",
       "      <th>clean sheets</th>\n",
       "      <th>minutes played</th>\n",
       "      <th>days_injured</th>\n",
       "      <th>games_injured</th>\n",
       "      <th>award</th>\n",
       "      <th>current_value</th>\n",
       "      <th>highest_value</th>\n",
       "      <th>winger</th>\n",
       "    </tr>\n",
       "  </thead>\n",
       "  <tbody>\n",
       "    <tr>\n",
       "      <th>count</th>\n",
       "      <td>10754.000000</td>\n",
       "      <td>10754.000000</td>\n",
       "      <td>10754.000000</td>\n",
       "      <td>10754.000000</td>\n",
       "      <td>10754.000000</td>\n",
       "      <td>10754.000000</td>\n",
       "      <td>10754.000000</td>\n",
       "      <td>10754.000000</td>\n",
       "      <td>10754.000000</td>\n",
       "      <td>10754.000000</td>\n",
       "      <td>10754.000000</td>\n",
       "      <td>10754.000000</td>\n",
       "      <td>10754.000000</td>\n",
       "      <td>10754.000000</td>\n",
       "      <td>1.075400e+04</td>\n",
       "      <td>1.075400e+04</td>\n",
       "      <td>10754.000000</td>\n",
       "    </tr>\n",
       "    <tr>\n",
       "      <th>mean</th>\n",
       "      <td>181.240353</td>\n",
       "      <td>26.041903</td>\n",
       "      <td>36.407011</td>\n",
       "      <td>3.716013</td>\n",
       "      <td>2.649061</td>\n",
       "      <td>4.824344</td>\n",
       "      <td>0.122187</td>\n",
       "      <td>0.142924</td>\n",
       "      <td>3.571973</td>\n",
       "      <td>0.812907</td>\n",
       "      <td>2470.789381</td>\n",
       "      <td>117.961689</td>\n",
       "      <td>15.826297</td>\n",
       "      <td>1.960759</td>\n",
       "      <td>3.622971e+06</td>\n",
       "      <td>6.152606e+06</td>\n",
       "      <td>0.307513</td>\n",
       "    </tr>\n",
       "    <tr>\n",
       "      <th>std</th>\n",
       "      <td>6.969818</td>\n",
       "      <td>4.777629</td>\n",
       "      <td>26.526541</td>\n",
       "      <td>6.575578</td>\n",
       "      <td>4.137904</td>\n",
       "      <td>4.954899</td>\n",
       "      <td>0.370673</td>\n",
       "      <td>0.408380</td>\n",
       "      <td>14.683058</td>\n",
       "      <td>3.597683</td>\n",
       "      <td>2021.703271</td>\n",
       "      <td>175.206827</td>\n",
       "      <td>23.383606</td>\n",
       "      <td>3.743936</td>\n",
       "      <td>9.095410e+06</td>\n",
       "      <td>1.338988e+07</td>\n",
       "      <td>0.461485</td>\n",
       "    </tr>\n",
       "    <tr>\n",
       "      <th>min</th>\n",
       "      <td>156.000000</td>\n",
       "      <td>15.000000</td>\n",
       "      <td>0.000000</td>\n",
       "      <td>0.000000</td>\n",
       "      <td>0.000000</td>\n",
       "      <td>0.000000</td>\n",
       "      <td>0.000000</td>\n",
       "      <td>0.000000</td>\n",
       "      <td>0.000000</td>\n",
       "      <td>0.000000</td>\n",
       "      <td>0.000000</td>\n",
       "      <td>0.000000</td>\n",
       "      <td>0.000000</td>\n",
       "      <td>0.000000</td>\n",
       "      <td>0.000000e+00</td>\n",
       "      <td>0.000000e+00</td>\n",
       "      <td>0.000000</td>\n",
       "    </tr>\n",
       "    <tr>\n",
       "      <th>25%</th>\n",
       "      <td>176.000000</td>\n",
       "      <td>22.000000</td>\n",
       "      <td>12.000000</td>\n",
       "      <td>0.000000</td>\n",
       "      <td>0.000000</td>\n",
       "      <td>1.000000</td>\n",
       "      <td>0.000000</td>\n",
       "      <td>0.000000</td>\n",
       "      <td>0.000000</td>\n",
       "      <td>0.000000</td>\n",
       "      <td>660.000000</td>\n",
       "      <td>0.000000</td>\n",
       "      <td>0.000000</td>\n",
       "      <td>0.000000</td>\n",
       "      <td>3.000000e+05</td>\n",
       "      <td>4.500000e+05</td>\n",
       "      <td>0.000000</td>\n",
       "    </tr>\n",
       "    <tr>\n",
       "      <th>50%</th>\n",
       "      <td>181.240353</td>\n",
       "      <td>26.000000</td>\n",
       "      <td>35.000000</td>\n",
       "      <td>1.000000</td>\n",
       "      <td>1.000000</td>\n",
       "      <td>3.000000</td>\n",
       "      <td>0.000000</td>\n",
       "      <td>0.000000</td>\n",
       "      <td>0.000000</td>\n",
       "      <td>0.000000</td>\n",
       "      <td>2101.500000</td>\n",
       "      <td>37.000000</td>\n",
       "      <td>5.000000</td>\n",
       "      <td>1.000000</td>\n",
       "      <td>8.000000e+05</td>\n",
       "      <td>1.500000e+06</td>\n",
       "      <td>0.000000</td>\n",
       "    </tr>\n",
       "    <tr>\n",
       "      <th>75%</th>\n",
       "      <td>186.000000</td>\n",
       "      <td>29.000000</td>\n",
       "      <td>59.000000</td>\n",
       "      <td>4.000000</td>\n",
       "      <td>4.000000</td>\n",
       "      <td>8.000000</td>\n",
       "      <td>0.000000</td>\n",
       "      <td>0.000000</td>\n",
       "      <td>0.000000</td>\n",
       "      <td>0.000000</td>\n",
       "      <td>3968.000000</td>\n",
       "      <td>181.000000</td>\n",
       "      <td>24.000000</td>\n",
       "      <td>2.000000</td>\n",
       "      <td>3.000000e+06</td>\n",
       "      <td>5.000000e+06</td>\n",
       "      <td>1.000000</td>\n",
       "    </tr>\n",
       "    <tr>\n",
       "      <th>max</th>\n",
       "      <td>206.000000</td>\n",
       "      <td>43.000000</td>\n",
       "      <td>107.000000</td>\n",
       "      <td>83.000000</td>\n",
       "      <td>45.000000</td>\n",
       "      <td>35.000000</td>\n",
       "      <td>4.000000</td>\n",
       "      <td>4.000000</td>\n",
       "      <td>155.000000</td>\n",
       "      <td>46.000000</td>\n",
       "      <td>9510.000000</td>\n",
       "      <td>2349.000000</td>\n",
       "      <td>339.000000</td>\n",
       "      <td>92.000000</td>\n",
       "      <td>1.800000e+08</td>\n",
       "      <td>2.000000e+08</td>\n",
       "      <td>1.000000</td>\n",
       "    </tr>\n",
       "  </tbody>\n",
       "</table>\n",
       "</div>"
      ],
      "text/plain": [
       "             height           age    appearance         goals       assists  \\\n",
       "count  10754.000000  10754.000000  10754.000000  10754.000000  10754.000000   \n",
       "mean     181.240353     26.041903     36.407011      3.716013      2.649061   \n",
       "std        6.969818      4.777629     26.526541      6.575578      4.137904   \n",
       "min      156.000000     15.000000      0.000000      0.000000      0.000000   \n",
       "25%      176.000000     22.000000     12.000000      0.000000      0.000000   \n",
       "50%      181.240353     26.000000     35.000000      1.000000      1.000000   \n",
       "75%      186.000000     29.000000     59.000000      4.000000      4.000000   \n",
       "max      206.000000     43.000000    107.000000     83.000000     45.000000   \n",
       "\n",
       "       yellow cards  second yellow cards     red cards  goals conceded  \\\n",
       "count  10754.000000         10754.000000  10754.000000    10754.000000   \n",
       "mean       4.824344             0.122187      0.142924        3.571973   \n",
       "std        4.954899             0.370673      0.408380       14.683058   \n",
       "min        0.000000             0.000000      0.000000        0.000000   \n",
       "25%        1.000000             0.000000      0.000000        0.000000   \n",
       "50%        3.000000             0.000000      0.000000        0.000000   \n",
       "75%        8.000000             0.000000      0.000000        0.000000   \n",
       "max       35.000000             4.000000      4.000000      155.000000   \n",
       "\n",
       "       clean sheets  minutes played  days_injured  games_injured  \\\n",
       "count  10754.000000    10754.000000  10754.000000   10754.000000   \n",
       "mean       0.812907     2470.789381    117.961689      15.826297   \n",
       "std        3.597683     2021.703271    175.206827      23.383606   \n",
       "min        0.000000        0.000000      0.000000       0.000000   \n",
       "25%        0.000000      660.000000      0.000000       0.000000   \n",
       "50%        0.000000     2101.500000     37.000000       5.000000   \n",
       "75%        0.000000     3968.000000    181.000000      24.000000   \n",
       "max       46.000000     9510.000000   2349.000000     339.000000   \n",
       "\n",
       "              award  current_value  highest_value        winger  \n",
       "count  10754.000000   1.075400e+04   1.075400e+04  10754.000000  \n",
       "mean       1.960759   3.622971e+06   6.152606e+06      0.307513  \n",
       "std        3.743936   9.095410e+06   1.338988e+07      0.461485  \n",
       "min        0.000000   0.000000e+00   0.000000e+00      0.000000  \n",
       "25%        0.000000   3.000000e+05   4.500000e+05      0.000000  \n",
       "50%        1.000000   8.000000e+05   1.500000e+06      0.000000  \n",
       "75%        2.000000   3.000000e+06   5.000000e+06      1.000000  \n",
       "max       92.000000   1.800000e+08   2.000000e+08      1.000000  "
      ]
     },
     "execution_count": 15,
     "metadata": {},
     "output_type": "execute_result"
    }
   ],
   "source": [
    "df_all.describe()"
   ]
  },
  {
   "cell_type": "markdown",
   "id": "d7648ae0",
   "metadata": {},
   "source": [
    "Feature Engineering"
   ]
  },
  {
   "cell_type": "code",
   "execution_count": 16,
   "id": "30eee013",
   "metadata": {},
   "outputs": [
    {
     "data": {
      "text/plain": [
       "['height',\n",
       " 'age',\n",
       " 'appearance',\n",
       " 'goals',\n",
       " 'assists',\n",
       " 'yellow cards',\n",
       " 'second yellow cards',\n",
       " 'red cards',\n",
       " 'goals conceded',\n",
       " 'clean sheets',\n",
       " 'minutes played',\n",
       " 'days_injured',\n",
       " 'games_injured',\n",
       " 'award',\n",
       " 'current_value',\n",
       " 'highest_value',\n",
       " 'winger']"
      ]
     },
     "execution_count": 16,
     "metadata": {},
     "output_type": "execute_result"
    }
   ],
   "source": [
    "categorical_features = ['team','position']\n",
    "numeric_features = [n for n in list(df.select_dtypes(include=np.number)) if n not in categorical_features]\n",
    "numeric_features"
   ]
  },
  {
   "cell_type": "code",
   "execution_count": 17,
   "id": "c0f9d77c",
   "metadata": {},
   "outputs": [],
   "source": [
    "df2 = pd.get_dummies(df_all, columns=categorical_features)"
   ]
  },
  {
   "cell_type": "code",
   "execution_count": 18,
   "id": "67049deb",
   "metadata": {},
   "outputs": [],
   "source": [
    "corr = df2.select_dtypes(include=np.number).corr()"
   ]
  },
  {
   "cell_type": "code",
   "execution_count": 19,
   "id": "3c3cc03b",
   "metadata": {},
   "outputs": [
    {
     "data": {
      "text/plain": [
       "Index(['height', 'age', 'appearance', 'goals', 'assists', 'yellow cards',\n",
       "       'second yellow cards', 'red cards', 'goals conceded', 'clean sheets',\n",
       "       ...\n",
       "       'position_Defender Centre-Back', 'position_Defender Left-Back',\n",
       "       'position_Defender Right-Back', 'position_Goalkeeper',\n",
       "       'position_midfield', 'position_midfield-AttackingMidfield',\n",
       "       'position_midfield-CentralMidfield',\n",
       "       'position_midfield-DefensiveMidfield', 'position_midfield-LeftMidfield',\n",
       "       'position_midfield-RightMidfield'],\n",
       "      dtype='object', length=407)"
      ]
     },
     "execution_count": 19,
     "metadata": {},
     "output_type": "execute_result"
    }
   ],
   "source": [
    "df2.columns"
   ]
  },
  {
   "cell_type": "code",
   "execution_count": 20,
   "id": "86d29f9f",
   "metadata": {},
   "outputs": [
    {
     "name": "stdout",
     "output_type": "stream",
     "text": [
      "current_value_category\n",
      "Superstar    4310\n",
      "Star         3754\n",
      "MidStar      2690\n",
      "Name: count, dtype: int64\n"
     ]
    }
   ],
   "source": [
    "p35 = df2['current_value'].quantile(0.35)\n",
    "p75 = df2['current_value'].quantile(0.75)\n",
    "\n",
    "def categorize_value(value):\n",
    "    if value < p35:\n",
    "        return 'Star'\n",
    "    elif value < p75:\n",
    "        return 'Superstar'\n",
    "    else:\n",
    "        return 'MidStar'\n",
    "\n",
    "df2['current_value_category'] = df2['current_value'].apply(categorize_value)\n",
    "df2.drop('current_value', axis=1, inplace=True)\n",
    "\n",
    "print(df2['current_value_category'].value_counts())"
   ]
  },
  {
   "cell_type": "code",
   "execution_count": 21,
   "id": "9fa0f6e9",
   "metadata": {},
   "outputs": [],
   "source": [
    "encoder = LabelEncoder()\n",
    "df2['current_value_category'] = encoder.fit_transform(df2['current_value_category'])"
   ]
  },
  {
   "cell_type": "code",
   "execution_count": 22,
   "id": "24b16ea7",
   "metadata": {},
   "outputs": [
    {
     "name": "stdout",
     "output_type": "stream",
     "text": [
      "current_value_category          1.000000\n",
      "age                             0.106704\n",
      "team_Mamelodi Sundowns FC       0.042064\n",
      "team_Fortaleza Esporte Clube    0.041108\n",
      "team_Fortuna Sittard            0.040810\n",
      "                                  ...   \n",
      "goals                          -0.197427\n",
      "assists                        -0.224802\n",
      "minutes played                 -0.238808\n",
      "appearance                     -0.243714\n",
      "highest_value                  -0.413106\n",
      "Name: current_value_category, Length: 407, dtype: float64\n"
     ]
    }
   ],
   "source": [
    "correlation = df2.corr()\n",
    "print(correlation['current_value_category'].sort_values(ascending=False))"
   ]
  },
  {
   "cell_type": "code",
   "execution_count": 23,
   "id": "57e142e8",
   "metadata": {},
   "outputs": [
    {
     "data": {
      "text/plain": [
       "['appearance',\n",
       " 'goals',\n",
       " 'assists',\n",
       " 'yellow cards',\n",
       " 'minutes played',\n",
       " 'highest_value',\n",
       " 'current_value_category']"
      ]
     },
     "execution_count": 23,
     "metadata": {},
     "output_type": "execute_result"
    }
   ],
   "source": [
    "# Set the correlation threshold\n",
    "threshold = 0.17 \n",
    "\n",
    "selected_features = list(correlation[abs(correlation['current_value_category']) > threshold]['current_value_category'].index)\n",
    "df2 = df2[selected_features]\n",
    "selected_features"
   ]
  },
  {
   "cell_type": "markdown",
   "id": "36a08f03",
   "metadata": {},
   "source": [
    "# Prepare test and train"
   ]
  },
  {
   "cell_type": "code",
   "execution_count": 24,
   "id": "1015710f",
   "metadata": {},
   "outputs": [],
   "source": [
    "# Prepare data\n",
    "X = df2.drop(['current_value_category'], axis=1)\n",
    "y = df2['current_value_category']\n",
    "\n",
    "# Split data into training and testing sets\n",
    "X_train, X_test, y_train, y_test = train_test_split(X, y,\n",
    "                                                    test_size=0.2,\n",
    "                                                    shuffle=True,\n",
    "                                                    random_state=43)\n",
    "\n",
    "scaler = StandardScaler()\n",
    "scaler.fit(X_train)\n",
    "X_train_scaled = scaler.transform(X_train)\n",
    "X_test_scaled = scaler.transform(X_test)\n",
    "\n",
    "#random_state=2"
   ]
  },
  {
   "cell_type": "markdown",
   "id": "e87d505c",
   "metadata": {},
   "source": [
    "## Building Model"
   ]
  },
  {
   "cell_type": "code",
   "execution_count": 25,
   "id": "d8591feb",
   "metadata": {},
   "outputs": [],
   "source": [
    "from sklearn.svm import SVC"
   ]
  },
  {
   "cell_type": "code",
   "execution_count": 27,
   "id": "54056fbf",
   "metadata": {},
   "outputs": [],
   "source": [
    "model = SVC(kernel='linear', C=10, gamma=1)"
   ]
  },
  {
   "cell_type": "code",
   "execution_count": null,
   "id": "3b3f69f5",
   "metadata": {},
   "outputs": [],
   "source": [
    "# param_grid = {\n",
    "#     'kernel': ['linear', 'rbf', 'poly'],\n",
    "#     'C': [10, 20, 30],\n",
    "#     'gamma': [1, 3, 5]\n",
    "# }\n",
    "\n",
    "# grid_search = GridSearchCV(estimator=model, param_grid=param_grid, cv=5, scoring='f1_macro', verbose=1)"
   ]
  },
  {
   "cell_type": "markdown",
   "id": "a39d033c",
   "metadata": {},
   "source": [
    "## Train Model"
   ]
  },
  {
   "cell_type": "code",
   "execution_count": 28,
   "id": "c97da247",
   "metadata": {},
   "outputs": [
    {
     "data": {
      "text/html": [
       "<style>#sk-container-id-1 {color: black;background-color: white;}#sk-container-id-1 pre{padding: 0;}#sk-container-id-1 div.sk-toggleable {background-color: white;}#sk-container-id-1 label.sk-toggleable__label {cursor: pointer;display: block;width: 100%;margin-bottom: 0;padding: 0.3em;box-sizing: border-box;text-align: center;}#sk-container-id-1 label.sk-toggleable__label-arrow:before {content: \"▸\";float: left;margin-right: 0.25em;color: #696969;}#sk-container-id-1 label.sk-toggleable__label-arrow:hover:before {color: black;}#sk-container-id-1 div.sk-estimator:hover label.sk-toggleable__label-arrow:before {color: black;}#sk-container-id-1 div.sk-toggleable__content {max-height: 0;max-width: 0;overflow: hidden;text-align: left;background-color: #f0f8ff;}#sk-container-id-1 div.sk-toggleable__content pre {margin: 0.2em;color: black;border-radius: 0.25em;background-color: #f0f8ff;}#sk-container-id-1 input.sk-toggleable__control:checked~div.sk-toggleable__content {max-height: 200px;max-width: 100%;overflow: auto;}#sk-container-id-1 input.sk-toggleable__control:checked~label.sk-toggleable__label-arrow:before {content: \"▾\";}#sk-container-id-1 div.sk-estimator input.sk-toggleable__control:checked~label.sk-toggleable__label {background-color: #d4ebff;}#sk-container-id-1 div.sk-label input.sk-toggleable__control:checked~label.sk-toggleable__label {background-color: #d4ebff;}#sk-container-id-1 input.sk-hidden--visually {border: 0;clip: rect(1px 1px 1px 1px);clip: rect(1px, 1px, 1px, 1px);height: 1px;margin: -1px;overflow: hidden;padding: 0;position: absolute;width: 1px;}#sk-container-id-1 div.sk-estimator {font-family: monospace;background-color: #f0f8ff;border: 1px dotted black;border-radius: 0.25em;box-sizing: border-box;margin-bottom: 0.5em;}#sk-container-id-1 div.sk-estimator:hover {background-color: #d4ebff;}#sk-container-id-1 div.sk-parallel-item::after {content: \"\";width: 100%;border-bottom: 1px solid gray;flex-grow: 1;}#sk-container-id-1 div.sk-label:hover label.sk-toggleable__label {background-color: #d4ebff;}#sk-container-id-1 div.sk-serial::before {content: \"\";position: absolute;border-left: 1px solid gray;box-sizing: border-box;top: 0;bottom: 0;left: 50%;z-index: 0;}#sk-container-id-1 div.sk-serial {display: flex;flex-direction: column;align-items: center;background-color: white;padding-right: 0.2em;padding-left: 0.2em;position: relative;}#sk-container-id-1 div.sk-item {position: relative;z-index: 1;}#sk-container-id-1 div.sk-parallel {display: flex;align-items: stretch;justify-content: center;background-color: white;position: relative;}#sk-container-id-1 div.sk-item::before, #sk-container-id-1 div.sk-parallel-item::before {content: \"\";position: absolute;border-left: 1px solid gray;box-sizing: border-box;top: 0;bottom: 0;left: 50%;z-index: -1;}#sk-container-id-1 div.sk-parallel-item {display: flex;flex-direction: column;z-index: 1;position: relative;background-color: white;}#sk-container-id-1 div.sk-parallel-item:first-child::after {align-self: flex-end;width: 50%;}#sk-container-id-1 div.sk-parallel-item:last-child::after {align-self: flex-start;width: 50%;}#sk-container-id-1 div.sk-parallel-item:only-child::after {width: 0;}#sk-container-id-1 div.sk-dashed-wrapped {border: 1px dashed gray;margin: 0 0.4em 0.5em 0.4em;box-sizing: border-box;padding-bottom: 0.4em;background-color: white;}#sk-container-id-1 div.sk-label label {font-family: monospace;font-weight: bold;display: inline-block;line-height: 1.2em;}#sk-container-id-1 div.sk-label-container {text-align: center;}#sk-container-id-1 div.sk-container {/* jupyter's `normalize.less` sets `[hidden] { display: none; }` but bootstrap.min.css set `[hidden] { display: none !important; }` so we also need the `!important` here to be able to override the default hidden behavior on the sphinx rendered scikit-learn.org. See: https://github.com/scikit-learn/scikit-learn/issues/21755 */display: inline-block !important;position: relative;}#sk-container-id-1 div.sk-text-repr-fallback {display: none;}</style><div id=\"sk-container-id-1\" class=\"sk-top-container\"><div class=\"sk-text-repr-fallback\"><pre>SVC(C=10, gamma=1, kernel=&#x27;linear&#x27;)</pre><b>In a Jupyter environment, please rerun this cell to show the HTML representation or trust the notebook. <br />On GitHub, the HTML representation is unable to render, please try loading this page with nbviewer.org.</b></div><div class=\"sk-container\" hidden><div class=\"sk-item\"><div class=\"sk-estimator sk-toggleable\"><input class=\"sk-toggleable__control sk-hidden--visually\" id=\"sk-estimator-id-1\" type=\"checkbox\" checked><label for=\"sk-estimator-id-1\" class=\"sk-toggleable__label sk-toggleable__label-arrow\">SVC</label><div class=\"sk-toggleable__content\"><pre>SVC(C=10, gamma=1, kernel=&#x27;linear&#x27;)</pre></div></div></div></div></div>"
      ],
      "text/plain": [
       "SVC(C=10, gamma=1, kernel='linear')"
      ]
     },
     "execution_count": 28,
     "metadata": {},
     "output_type": "execute_result"
    }
   ],
   "source": [
    "# grid_search.fit(X_train_scaled, y_train)\n",
    "model.fit(X_train_scaled, y_train)"
   ]
  },
  {
   "attachments": {
    "image.png": {
     "image/png": "[encoded data removed]"
    }
   },
   "cell_type": "markdown",
   "id": "45ca1d62",
   "metadata": {},
   "source": [
    "\n",
    "i will put simple hyperparameters because of this\n",
    "![image.png](attachment:image.png)"
   ]
  },
  {
   "cell_type": "code",
   "execution_count": null,
   "id": "40030ec2",
   "metadata": {},
   "outputs": [
    {
     "data": {
      "text/plain": [
       "{'max_depth': 35, 'n_estimators': 50}"
      ]
     },
     "execution_count": 31,
     "metadata": {},
     "output_type": "execute_result"
    }
   ],
   "source": [
    "# grid_search.best_params_"
   ]
  },
  {
   "cell_type": "code",
   "execution_count": null,
   "id": "2789bf30",
   "metadata": {},
   "outputs": [],
   "source": [
    "# best_model = grid_search.best_estimator_"
   ]
  },
  {
   "cell_type": "markdown",
   "id": "14f1ff18",
   "metadata": {},
   "source": [
    "Test Model"
   ]
  },
  {
   "cell_type": "code",
   "execution_count": 32,
   "id": "904e7e57",
   "metadata": {},
   "outputs": [],
   "source": [
    "# y_pred = best_model.predict(X_test)\n",
    "y_pred = model.predict(X_test_scaled)"
   ]
  },
  {
   "cell_type": "markdown",
   "id": "c514a4fc",
   "metadata": {},
   "source": [
    "## Intrepetatin of the model"
   ]
  },
  {
   "cell_type": "markdown",
   "id": "140cf091",
   "metadata": {},
   "source": [
    "## Evaluating"
   ]
  },
  {
   "cell_type": "markdown",
   "id": "deb57e4a",
   "metadata": {},
   "source": [
    "1. Accuracy\n",
    "2. Precision\n",
    "3. Confusion\n",
    "4. Recall\n",
    "5. F1 Score\n"
   ]
  },
  {
   "cell_type": "code",
   "execution_count": 33,
   "id": "21310bd1",
   "metadata": {},
   "outputs": [
    {
     "data": {
      "text/plain": [
       "34.91"
      ]
     },
     "execution_count": 33,
     "metadata": {},
     "output_type": "execute_result"
    }
   ],
   "source": [
    "# Benchmark\n",
    "base_model = round(df2['current_value_category'].value_counts()[1]/df2.shape[0]*100, 2)\n",
    "base_model"
   ]
  },
  {
   "cell_type": "code",
   "execution_count": 35,
   "id": "8dd42508",
   "metadata": {},
   "outputs": [
    {
     "name": "stdout",
     "output_type": "stream",
     "text": [
      "Model: SVM\n",
      "Accuracy: 0.7103672710367271\n",
      "precision: 0.7307684540395366\n",
      "recall: 0.7072453667771458\n",
      "F1 Score: 0.71\n",
      "Confusion Matrix:\n"
     ]
    },
    {
     "data": {
      "image/png": "[encoded data removed]",
      "text/plain": [
       "<Figure size 640x480 with 2 Axes>"
      ]
     },
     "metadata": {},
     "output_type": "display_data"
    },
    {
     "name": "stdout",
     "output_type": "stream",
     "text": [
      "\n"
     ]
    }
   ],
   "source": [
    "# Accuracy\n",
    "from sklearn.metrics import ConfusionMatrixDisplay\n",
    "\n",
    "\n",
    "print(f'Model: SVM')\n",
    "accuracy = accuracy_score(y_test, y_pred)\n",
    "conf_matrix = confusion_matrix(y_test, y_pred)\n",
    "precision = precision_score(y_test, y_pred, average='macro')\n",
    "recall = recall_score(y_test, y_pred, average='macro')\n",
    "f1 = f1_score(y_test, y_pred, average='macro')\n",
    "\n",
    "print(f'Accuracy: {accuracy}')\n",
    "print(f'precision: {precision}')\n",
    "print(f'recall: {recall}')\n",
    "print(f'F1 Score: {f1:.2f}')\n",
    "print('Confusion Matrix:')\n",
    "ConfusionMatrixDisplay.from_predictions(y_test, y_pred,\n",
    "                                        display_labels=model.classes_,\n",
    "                                        cmap='Blues',\n",
    "                                        xticks_rotation='vertical')\n",
    "plt.title('Confusion Matrix')\n",
    "plt.show()\n",
    "print()\n"
   ]
  }
 ],
 "metadata": {
  "kernelspec": {
   "display_name": "base",
   "language": "python",
   "name": "python3"
  },
  "language_info": {
   "codemirror_mode": {
    "name": "ipython",
    "version": 3
   },
   "file_extension": ".py",
   "mimetype": "text/x-python",
   "name": "python",
   "nbconvert_exporter": "python",
   "pygments_lexer": "ipython3",
   "version": "3.11.7"
  }
 },
 "nbformat": 4,
 "nbformat_minor": 5
}
