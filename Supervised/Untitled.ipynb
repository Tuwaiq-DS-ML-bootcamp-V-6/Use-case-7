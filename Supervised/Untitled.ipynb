{
 "cells": [
  {
   "cell_type": "code",
   "execution_count": 54,
   "id": "900b669f-1cb7-46f8-95e3-77c4c39978d2",
   "metadata": {
    "tags": []
   },
   "outputs": [],
   "source": [
    "from typing import List\n",
    "import re\n",
    "def removeSpecialCharacters(strParam: str) -> str:\n",
    "    #return strParam.replace(\"r'[^a-zA-Z0-9]\", \"\");\n",
    "    return re.sub('[^a-zA-Z0-9_\\- \\s]', \"\", strParam)"
   ]
  },
  {
   "cell_type": "code",
   "execution_count": 70,
   "id": "dfa674dd-6cef-4b72-845f-c57daf74d874",
   "metadata": {
    "tags": []
   },
   "outputs": [
    {
     "data": {
      "text/plain": [
       "'Nora Rahaf'"
      ]
     },
     "execution_count": 70,
     "metadata": {},
     "output_type": "execute_result"
    }
   ],
   "source": [
    "removeSpecialCharacters('Nora Rahaf$')"
   ]
  },
  {
   "cell_type": "code",
   "execution_count": null,
   "id": "c056bf3c-4743-4e35-a74b-6e5e56f10ad0",
   "metadata": {},
   "outputs": [],
   "source": []
  }
 ],
 "metadata": {
  "kernelspec": {
   "display_name": "Python 3 (ipykernel)",
   "language": "python",
   "name": "python3"
  },
  "language_info": {
   "codemirror_mode": {
    "name": "ipython",
    "version": 3
   },
   "file_extension": ".py",
   "mimetype": "text/x-python",
   "name": "python",
   "nbconvert_exporter": "python",
   "pygments_lexer": "ipython3",
   "version": "3.11.7"
  }
 },
 "nbformat": 4,
 "nbformat_minor": 5
}
