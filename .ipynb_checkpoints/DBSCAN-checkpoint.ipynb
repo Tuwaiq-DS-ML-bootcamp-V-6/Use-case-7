{
 "cells": [
  {
   "cell_type": "code",
   "execution_count": 3,
   "id": "d95fbb33",
   "metadata": {},
   "outputs": [],
   "source": [
    "# To ignore warnings\n",
    "import warnings\n",
    "warnings.filterwarnings(\"ignore\")\n",
    "import pandas as pd\n",
    "import numpy as np\n",
    "import matplotlib.pyplot as plt\n",
    "import seaborn as sns\n",
    "\n",
    "from sklearn.model_selection import train_test_split, cross_val_score\n",
    "from sklearn.preprocessing import StandardScaler\n",
    "from sklearn.neighbors import NearestNeighbors\n",
    "from sklearn.cluster import DBSCAN\n",
    "from sklearn.metrics import silhouette_score\n",
    "from sklearn.preprocessing import LabelEncoder\n",
    "\n",
    "from sklearn import metrics\n",
    "\n",
    "%matplotlib inline"
   ]
  },
  {
   "cell_type": "markdown",
   "id": "97a1be23",
   "metadata": {},
   "source": [
    "### Load the Data"
   ]
  },
  {
   "cell_type": "code",
   "execution_count": 4,
   "id": "82d27744",
   "metadata": {},
   "outputs": [],
   "source": [
    "df = pd.read_csv('Data/final_data.csv')"
   ]
  },
  {
   "cell_type": "code",
   "execution_count": 5,
   "id": "1238425f",
   "metadata": {},
   "outputs": [],
   "source": [
    "grouped_df = df.groupby(\"position_encoded\")"
   ]
  },
  {
   "cell_type": "code",
   "execution_count": 6,
   "id": "ed7418ac",
   "metadata": {},
   "outputs": [],
   "source": [
    "df = df.drop(columns='player')"
   ]
  },
  {
   "cell_type": "code",
   "execution_count": 6,
   "id": "e15efe5e",
   "metadata": {},
   "outputs": [
    {
     "data": {
      "text/plain": [
       "(10754, 21)"
      ]
     },
     "execution_count": 6,
     "metadata": {},
     "output_type": "execute_result"
    }
   ],
   "source": [
    "df.shape"
   ]
  },
  {
   "cell_type": "code",
   "execution_count": 7,
   "id": "eebeb628",
   "metadata": {},
   "outputs": [
    {
     "data": {
      "text/html": [
       "<div>\n",
       "<style scoped>\n",
       "    .dataframe tbody tr th:only-of-type {\n",
       "        vertical-align: middle;\n",
       "    }\n",
       "\n",
       "    .dataframe tbody tr th {\n",
       "        vertical-align: top;\n",
       "    }\n",
       "\n",
       "    .dataframe thead th {\n",
       "        text-align: right;\n",
       "    }\n",
       "</style>\n",
       "<table border=\"1\" class=\"dataframe\">\n",
       "  <thead>\n",
       "    <tr style=\"text-align: right;\">\n",
       "      <th></th>\n",
       "      <th>team</th>\n",
       "      <th>name</th>\n",
       "      <th>position</th>\n",
       "      <th>height</th>\n",
       "      <th>age</th>\n",
       "      <th>appearance</th>\n",
       "      <th>goals</th>\n",
       "      <th>assists</th>\n",
       "      <th>yellow cards</th>\n",
       "      <th>second yellow cards</th>\n",
       "      <th>...</th>\n",
       "      <th>goals conceded</th>\n",
       "      <th>clean sheets</th>\n",
       "      <th>minutes played</th>\n",
       "      <th>days_injured</th>\n",
       "      <th>games_injured</th>\n",
       "      <th>award</th>\n",
       "      <th>current_value</th>\n",
       "      <th>highest_value</th>\n",
       "      <th>position_encoded</th>\n",
       "      <th>winger</th>\n",
       "    </tr>\n",
       "  </thead>\n",
       "  <tbody>\n",
       "    <tr>\n",
       "      <th>0</th>\n",
       "      <td>Manchester United</td>\n",
       "      <td>David de Gea</td>\n",
       "      <td>Goalkeeper</td>\n",
       "      <td>189.0</td>\n",
       "      <td>32.0</td>\n",
       "      <td>104</td>\n",
       "      <td>0.0</td>\n",
       "      <td>0.0</td>\n",
       "      <td>0.009585</td>\n",
       "      <td>0.0</td>\n",
       "      <td>...</td>\n",
       "      <td>1.217252</td>\n",
       "      <td>0.335463</td>\n",
       "      <td>9390</td>\n",
       "      <td>42</td>\n",
       "      <td>5</td>\n",
       "      <td>13</td>\n",
       "      <td>15000000</td>\n",
       "      <td>70000000</td>\n",
       "      <td>1</td>\n",
       "      <td>0</td>\n",
       "    </tr>\n",
       "    <tr>\n",
       "      <th>1</th>\n",
       "      <td>Manchester United</td>\n",
       "      <td>Jack Butland</td>\n",
       "      <td>Goalkeeper</td>\n",
       "      <td>196.0</td>\n",
       "      <td>30.0</td>\n",
       "      <td>15</td>\n",
       "      <td>0.0</td>\n",
       "      <td>0.0</td>\n",
       "      <td>0.069018</td>\n",
       "      <td>0.0</td>\n",
       "      <td>...</td>\n",
       "      <td>1.242331</td>\n",
       "      <td>0.207055</td>\n",
       "      <td>1304</td>\n",
       "      <td>510</td>\n",
       "      <td>58</td>\n",
       "      <td>1</td>\n",
       "      <td>1500000</td>\n",
       "      <td>22000000</td>\n",
       "      <td>1</td>\n",
       "      <td>0</td>\n",
       "    </tr>\n",
       "  </tbody>\n",
       "</table>\n",
       "<p>2 rows × 21 columns</p>\n",
       "</div>"
      ],
      "text/plain": [
       "                team          name    position  height   age  appearance  \\\n",
       "0  Manchester United  David de Gea  Goalkeeper   189.0  32.0         104   \n",
       "1  Manchester United  Jack Butland  Goalkeeper   196.0  30.0          15   \n",
       "\n",
       "   goals  assists  yellow cards  second yellow cards  ...  goals conceded  \\\n",
       "0    0.0      0.0      0.009585                  0.0  ...        1.217252   \n",
       "1    0.0      0.0      0.069018                  0.0  ...        1.242331   \n",
       "\n",
       "   clean sheets  minutes played  days_injured  games_injured  award  \\\n",
       "0      0.335463            9390            42              5     13   \n",
       "1      0.207055            1304           510             58      1   \n",
       "\n",
       "   current_value  highest_value  position_encoded  winger  \n",
       "0       15000000       70000000                 1       0  \n",
       "1        1500000       22000000                 1       0  \n",
       "\n",
       "[2 rows x 21 columns]"
      ]
     },
     "execution_count": 7,
     "metadata": {},
     "output_type": "execute_result"
    }
   ],
   "source": [
    "df.head(2)"
   ]
  },
  {
   "cell_type": "markdown",
   "id": "34586523",
   "metadata": {},
   "source": [
    "### Preprocess the Data"
   ]
  },
  {
   "cell_type": "markdown",
   "id": "8fa011c6",
   "metadata": {},
   "source": [
    "#### 1. Simple EDA + Data Quality checking"
   ]
  },
  {
   "cell_type": "code",
   "execution_count": 8,
   "id": "0264d3d1",
   "metadata": {},
   "outputs": [
    {
     "data": {
      "text/html": [
       "<div>\n",
       "<style scoped>\n",
       "    .dataframe tbody tr th:only-of-type {\n",
       "        vertical-align: middle;\n",
       "    }\n",
       "\n",
       "    .dataframe tbody tr th {\n",
       "        vertical-align: top;\n",
       "    }\n",
       "\n",
       "    .dataframe thead th {\n",
       "        text-align: right;\n",
       "    }\n",
       "</style>\n",
       "<table border=\"1\" class=\"dataframe\">\n",
       "  <thead>\n",
       "    <tr style=\"text-align: right;\">\n",
       "      <th></th>\n",
       "      <th>team</th>\n",
       "      <th>name</th>\n",
       "      <th>position</th>\n",
       "      <th>height</th>\n",
       "      <th>age</th>\n",
       "      <th>appearance</th>\n",
       "      <th>goals</th>\n",
       "      <th>assists</th>\n",
       "      <th>yellow cards</th>\n",
       "      <th>second yellow cards</th>\n",
       "      <th>...</th>\n",
       "      <th>goals conceded</th>\n",
       "      <th>clean sheets</th>\n",
       "      <th>minutes played</th>\n",
       "      <th>days_injured</th>\n",
       "      <th>games_injured</th>\n",
       "      <th>award</th>\n",
       "      <th>current_value</th>\n",
       "      <th>highest_value</th>\n",
       "      <th>position_encoded</th>\n",
       "      <th>winger</th>\n",
       "    </tr>\n",
       "  </thead>\n",
       "  <tbody>\n",
       "  </tbody>\n",
       "</table>\n",
       "<p>0 rows × 21 columns</p>\n",
       "</div>"
      ],
      "text/plain": [
       "Empty DataFrame\n",
       "Columns: [team, name, position, height, age, appearance, goals, assists, yellow cards, second yellow cards, red cards, goals conceded, clean sheets, minutes played, days_injured, games_injured, award, current_value, highest_value, position_encoded, winger]\n",
       "Index: []\n",
       "\n",
       "[0 rows x 21 columns]"
      ]
     },
     "execution_count": 8,
     "metadata": {},
     "output_type": "execute_result"
    }
   ],
   "source": [
    "# uniqeness\n",
    "df.drop_duplicates(inplace=True)\n",
    "df[df.duplicated()]"
   ]
  },
  {
   "cell_type": "code",
   "execution_count": 9,
   "id": "dee596da",
   "metadata": {},
   "outputs": [
    {
     "data": {
      "text/plain": [
       "team                   0\n",
       "name                   0\n",
       "position               0\n",
       "height                 0\n",
       "age                    0\n",
       "appearance             0\n",
       "goals                  0\n",
       "assists                0\n",
       "yellow cards           0\n",
       "second yellow cards    0\n",
       "red cards              0\n",
       "goals conceded         0\n",
       "clean sheets           0\n",
       "minutes played         0\n",
       "days_injured           0\n",
       "games_injured          0\n",
       "award                  0\n",
       "current_value          0\n",
       "highest_value          0\n",
       "position_encoded       0\n",
       "winger                 0\n",
       "dtype: int64"
      ]
     },
     "execution_count": 9,
     "metadata": {},
     "output_type": "execute_result"
    }
   ],
   "source": [
    "# Completeness\n",
    "df.isnull().sum()"
   ]
  },
  {
   "cell_type": "code",
   "execution_count": 10,
   "id": "f679aac8",
   "metadata": {},
   "outputs": [
    {
     "data": {
      "text/plain": [
       "team                    object\n",
       "name                    object\n",
       "position                object\n",
       "height                 float64\n",
       "age                    float64\n",
       "appearance               int64\n",
       "goals                  float64\n",
       "assists                float64\n",
       "yellow cards           float64\n",
       "second yellow cards    float64\n",
       "red cards              float64\n",
       "goals conceded         float64\n",
       "clean sheets           float64\n",
       "minutes played           int64\n",
       "days_injured             int64\n",
       "games_injured            int64\n",
       "award                    int64\n",
       "current_value            int64\n",
       "highest_value            int64\n",
       "position_encoded         int64\n",
       "winger                   int64\n",
       "dtype: object"
      ]
     },
     "execution_count": 10,
     "metadata": {},
     "output_type": "execute_result"
    }
   ],
   "source": [
    "# Accurecy types\n",
    "df.dtypes"
   ]
  },
  {
   "cell_type": "code",
   "execution_count": 11,
   "id": "f7ad5a69",
   "metadata": {},
   "outputs": [],
   "source": [
    "# Accurecy - Outlier\n",
    "\n",
    "# Convert categorical variables using OneHotEncoding\n",
    "categorical_features = ['team']\n",
    "numeric_features = ['height', 'age', 'appearance','goals','assists','yellow cards',\n",
    "                    'second yellow cards','red cards','goals conceded','clean sheets','award',\n",
    "                    'games_injured','days_injured','minutes played']"
   ]
  },
  {
   "cell_type": "code",
   "execution_count": 12,
   "id": "d42623c6",
   "metadata": {},
   "outputs": [
    {
     "name": "stdout",
     "output_type": "stream",
     "text": [
      "team\n",
      "Daejeon Hana Citizen      46\n",
      "Jeonbuk Hyundai Motors    46\n",
      "FC Seoul                  45\n",
      "Gangwon FC                43\n",
      "Daegu FC                  42\n",
      "                          ..\n",
      "FC Barcelona              22\n",
      "Atlético de Madrid        22\n",
      "CA Osasuna                22\n",
      "Hatayspor                 12\n",
      "Gaziantep FK               6\n",
      "Name: count, Length: 374, dtype: int64\n"
     ]
    }
   ],
   "source": [
    "for i in categorical_features:\n",
    "    print (df[i].value_counts())"
   ]
  },
  {
   "cell_type": "code",
   "execution_count": 13,
   "id": "a2f1b53e",
   "metadata": {},
   "outputs": [
    {
     "data": {
      "text/plain": [
       "(array([  17.,   81.,  672., 1655., 2459., 2882., 1961.,  871.,  147.,\n",
       "           9.]),\n",
       " array([156., 161., 166., 171., 176., 181., 186., 191., 196., 201., 206.]),\n",
       " <BarContainer object of 10 artists>)"
      ]
     },
     "execution_count": 13,
     "metadata": {},
     "output_type": "execute_result"
    },
    {
     "data": {
      "image/png": "[encoded data removed]",
      "text/plain": [
       "<Figure size 1080x576 with 1 Axes>"
      ]
     },
     "metadata": {
      "needs_background": "light"
     },
     "output_type": "display_data"
    }
   ],
   "source": [
    "plt.figure(figsize=(15,8))\n",
    "plt.hist(df['height'])"
   ]
  },
  {
   "cell_type": "code",
   "execution_count": 14,
   "id": "7c35ad2d",
   "metadata": {},
   "outputs": [
    {
     "data": {
      "text/plain": [
       "(array([ 105.,  635., 2157., 1590., 1599., 1994., 1101., 1068.,  326.,\n",
       "         146.]),\n",
       " array([15. , 17.4, 19.8, 22.2, 24.6, 27. , 29.4, 31.8, 34.2, 36.6, 39. ]),\n",
       " <BarContainer object of 10 artists>)"
      ]
     },
     "execution_count": 14,
     "metadata": {},
     "output_type": "execute_result"
    },
    {
     "data": {
      "image/png": "[encoded data removed]",
      "text/plain": [
       "<Figure size 1080x576 with 1 Axes>"
      ]
     },
     "metadata": {
      "needs_background": "light"
     },
     "output_type": "display_data"
    }
   ],
   "source": [
    "plt.figure(figsize=(15,8))\n",
    "plt.hist(df[df['age']<40]['age'])"
   ]
  },
  {
   "cell_type": "code",
   "execution_count": 15,
   "id": "89a9a0ff",
   "metadata": {},
   "outputs": [],
   "source": [
    "df = df[df['age']<40]"
   ]
  },
  {
   "cell_type": "code",
   "execution_count": 16,
   "id": "cf45b185",
   "metadata": {},
   "outputs": [
    {
     "data": {
      "text/plain": [
       "(10721, 21)"
      ]
     },
     "execution_count": 16,
     "metadata": {},
     "output_type": "execute_result"
    }
   ],
   "source": [
    "df.shape"
   ]
  },
  {
   "cell_type": "code",
   "execution_count": 17,
   "id": "8c56c02e",
   "metadata": {},
   "outputs": [
    {
     "data": {
      "text/plain": [
       "(array([2262., 1738.,  837.,  969., 1130., 1222., 1179.,  813.,  376.,\n",
       "         161.]),\n",
       " array([ 0. ,  9.9, 19.8, 29.7, 39.6, 49.5, 59.4, 69.3, 79.2, 89.1, 99. ]),\n",
       " <BarContainer object of 10 artists>)"
      ]
     },
     "execution_count": 17,
     "metadata": {},
     "output_type": "execute_result"
    },
    {
     "data": {
      "image/png": "[encoded data removed]",
      "text/plain": [
       "<Figure size 1080x576 with 1 Axes>"
      ]
     },
     "metadata": {
      "needs_background": "light"
     },
     "output_type": "display_data"
    }
   ],
   "source": [
    "plt.figure(figsize=(15,8))\n",
    "plt.hist(df[df['appearance']<100][\"appearance\"])"
   ]
  },
  {
   "cell_type": "code",
   "execution_count": 18,
   "id": "fec93ae3",
   "metadata": {},
   "outputs": [],
   "source": [
    "df = df[df[\"appearance\"]<100]"
   ]
  },
  {
   "cell_type": "code",
   "execution_count": 19,
   "id": "f6dc5a24",
   "metadata": {},
   "outputs": [
    {
     "data": {
      "text/plain": [
       "(10687, 21)"
      ]
     },
     "execution_count": 19,
     "metadata": {},
     "output_type": "execute_result"
    }
   ],
   "source": [
    "df.shape"
   ]
  },
  {
   "cell_type": "code",
   "execution_count": 20,
   "id": "84a0c5d4",
   "metadata": {},
   "outputs": [
    {
     "data": {
      "text/plain": [
       "(array([1.065e+04, 3.100e+01, 2.000e+00, 1.000e+00, 1.000e+00, 1.000e+00,\n",
       "        0.000e+00, 0.000e+00, 0.000e+00, 1.000e+00]),\n",
       " array([ 0.   ,  1.125,  2.25 ,  3.375,  4.5  ,  5.625,  6.75 ,  7.875,\n",
       "         9.   , 10.125, 11.25 ]),\n",
       " <BarContainer object of 10 artists>)"
      ]
     },
     "execution_count": 20,
     "metadata": {},
     "output_type": "execute_result"
    },
    {
     "data": {
      "image/png": "[encoded data removed]",
      "text/plain": [
       "<Figure size 1080x576 with 1 Axes>"
      ]
     },
     "metadata": {
      "needs_background": "light"
     },
     "output_type": "display_data"
    }
   ],
   "source": [
    "plt.figure(figsize=(15,8))\n",
    "plt.hist(df[df['goals']<20][\"goals\"])"
   ]
  },
  {
   "cell_type": "code",
   "execution_count": 21,
   "id": "1dffa4d7",
   "metadata": {},
   "outputs": [],
   "source": [
    "df = df[df[\"goals\"]<100]"
   ]
  },
  {
   "cell_type": "code",
   "execution_count": 22,
   "id": "59bd8b0a",
   "metadata": {},
   "outputs": [
    {
     "data": {
      "text/plain": [
       "(10687, 21)"
      ]
     },
     "execution_count": 22,
     "metadata": {},
     "output_type": "execute_result"
    }
   ],
   "source": [
    "df.shape"
   ]
  },
  {
   "cell_type": "code",
   "execution_count": 23,
   "id": "5b6052c8",
   "metadata": {},
   "outputs": [
    {
     "data": {
      "text/plain": [
       "(array([1.065e+04, 3.100e+01, 2.000e+00, 1.000e+00, 1.000e+00, 1.000e+00,\n",
       "        0.000e+00, 0.000e+00, 0.000e+00, 1.000e+00]),\n",
       " array([ 0.   ,  1.125,  2.25 ,  3.375,  4.5  ,  5.625,  6.75 ,  7.875,\n",
       "         9.   , 10.125, 11.25 ]),\n",
       " <BarContainer object of 10 artists>)"
      ]
     },
     "execution_count": 23,
     "metadata": {},
     "output_type": "execute_result"
    },
    {
     "data": {
      "image/png": "[encoded data removed]",
      "text/plain": [
       "<Figure size 1080x576 with 1 Axes>"
      ]
     },
     "metadata": {
      "needs_background": "light"
     },
     "output_type": "display_data"
    }
   ],
   "source": [
    "plt.figure(figsize=(15,8))\n",
    "plt.hist(df[df['goals']<20][\"goals\"])"
   ]
  },
  {
   "cell_type": "code",
   "execution_count": 24,
   "id": "f79513a3",
   "metadata": {},
   "outputs": [],
   "source": [
    "df = df[df[\"goals\"]<20]"
   ]
  },
  {
   "cell_type": "code",
   "execution_count": 25,
   "id": "4f6b3ecd",
   "metadata": {},
   "outputs": [
    {
     "data": {
      "text/plain": [
       "(10687, 21)"
      ]
     },
     "execution_count": 25,
     "metadata": {},
     "output_type": "execute_result"
    }
   ],
   "source": [
    "df.shape"
   ]
  },
  {
   "cell_type": "code",
   "execution_count": 26,
   "id": "4042d4be",
   "metadata": {},
   "outputs": [
    {
     "data": {
      "text/plain": [
       "(array([1.0435e+04, 2.0800e+02, 2.9000e+01, 5.0000e+00, 5.0000e+00,\n",
       "        1.0000e+00, 1.0000e+00, 1.0000e+00, 1.0000e+00, 1.0000e+00]),\n",
       " array([0. , 0.4, 0.8, 1.2, 1.6, 2. , 2.4, 2.8, 3.2, 3.6, 4. ]),\n",
       " <BarContainer object of 10 artists>)"
      ]
     },
     "execution_count": 26,
     "metadata": {},
     "output_type": "execute_result"
    },
    {
     "data": {
      "image/png": "[encoded data removed]",
      "text/plain": [
       "<Figure size 1080x576 with 1 Axes>"
      ]
     },
     "metadata": {
      "needs_background": "light"
     },
     "output_type": "display_data"
    }
   ],
   "source": [
    "plt.figure(figsize=(15,8))\n",
    "plt.hist(df[df['assists']<12][\"assists\"])"
   ]
  },
  {
   "cell_type": "code",
   "execution_count": 27,
   "id": "4f0b2d3b",
   "metadata": {},
   "outputs": [],
   "source": [
    "df = df[df['assists']<12]"
   ]
  },
  {
   "cell_type": "code",
   "execution_count": 28,
   "id": "b5cba9f5",
   "metadata": {},
   "outputs": [
    {
     "data": {
      "text/plain": [
       "(10687, 21)"
      ]
     },
     "execution_count": 28,
     "metadata": {},
     "output_type": "execute_result"
    }
   ],
   "source": [
    "df.shape"
   ]
  },
  {
   "cell_type": "code",
   "execution_count": 29,
   "id": "73198251",
   "metadata": {},
   "outputs": [
    {
     "data": {
      "text/plain": [
       "(array([1.0629e+04, 4.2000e+01, 3.0000e+00, 4.0000e+00, 2.0000e+00,\n",
       "        2.0000e+00, 1.0000e+00, 1.0000e+00, 1.0000e+00, 1.0000e+00]),\n",
       " array([ 0.        ,  1.28571429,  2.57142857,  3.85714286,  5.14285714,\n",
       "         6.42857143,  7.71428572,  9.        , 10.28571429, 11.57142857,\n",
       "        12.85714286]),\n",
       " <BarContainer object of 10 artists>)"
      ]
     },
     "execution_count": 29,
     "metadata": {},
     "output_type": "execute_result"
    },
    {
     "data": {
      "image/png": "[encoded data removed]",
      "text/plain": [
       "<Figure size 1080x576 with 1 Axes>"
      ]
     },
     "metadata": {
      "needs_background": "light"
     },
     "output_type": "display_data"
    }
   ],
   "source": [
    "plt.figure(figsize=(15,8))\n",
    "plt.hist(df[df['yellow cards']<=20][\"yellow cards\"])"
   ]
  },
  {
   "cell_type": "code",
   "execution_count": 30,
   "id": "6b9d2bcd",
   "metadata": {},
   "outputs": [],
   "source": [
    "df = df[df['yellow cards']<=20]"
   ]
  },
  {
   "cell_type": "code",
   "execution_count": 31,
   "id": "2431ded4",
   "metadata": {},
   "outputs": [
    {
     "data": {
      "text/plain": [
       "(10686, 21)"
      ]
     },
     "execution_count": 31,
     "metadata": {},
     "output_type": "execute_result"
    }
   ],
   "source": [
    "df.shape"
   ]
  },
  {
   "cell_type": "code",
   "execution_count": 32,
   "id": "c692e759",
   "metadata": {},
   "outputs": [
    {
     "data": {
      "text/plain": [
       "second yellow cards\n",
       "0.000000    9519\n",
       "0.025035       3\n",
       "0.021464       3\n",
       "0.021388       3\n",
       "0.036364       3\n",
       "            ... \n",
       "0.019007       1\n",
       "0.016657       1\n",
       "0.065934       1\n",
       "0.024045       1\n",
       "0.057878       1\n",
       "Name: count, Length: 1094, dtype: int64"
      ]
     },
     "execution_count": 32,
     "metadata": {},
     "output_type": "execute_result"
    }
   ],
   "source": [
    "df['second yellow cards'].value_counts()"
   ]
  },
  {
   "cell_type": "code",
   "execution_count": 33,
   "id": "a5453726",
   "metadata": {},
   "outputs": [],
   "source": [
    "df = df[df[\"second yellow cards\"]<3]"
   ]
  },
  {
   "cell_type": "code",
   "execution_count": 34,
   "id": "10338845",
   "metadata": {},
   "outputs": [
    {
     "data": {
      "text/plain": [
       "red cards\n",
       "0.000000    9363\n",
       "0.039233       3\n",
       "0.018572       3\n",
       "0.019811       3\n",
       "0.081818       3\n",
       "            ... \n",
       "0.020045       1\n",
       "0.018995       1\n",
       "0.028391       1\n",
       "0.025288       1\n",
       "0.104046       1\n",
       "Name: count, Length: 1211, dtype: int64"
      ]
     },
     "execution_count": 34,
     "metadata": {},
     "output_type": "execute_result"
    }
   ],
   "source": [
    "df['red cards'].value_counts()"
   ]
  },
  {
   "cell_type": "code",
   "execution_count": 35,
   "id": "eb080ec5",
   "metadata": {},
   "outputs": [],
   "source": [
    "df = df[df[\"red cards\"]<3]"
   ]
  },
  {
   "cell_type": "code",
   "execution_count": 36,
   "id": "b805574a",
   "metadata": {},
   "outputs": [
    {
     "data": {
      "text/plain": [
       "(array([4766., 2204., 1218.,  726.,    0.,  455.,  320.,  214.,  193.,\n",
       "         118.]),\n",
       " array([0. , 0.8, 1.6, 2.4, 3.2, 4. , 4.8, 5.6, 6.4, 7.2, 8. ]),\n",
       " <BarContainer object of 10 artists>)"
      ]
     },
     "execution_count": 36,
     "metadata": {},
     "output_type": "execute_result"
    },
    {
     "data": {
      "image/png": "[encoded data removed]",
      "text/plain": [
       "<Figure size 1080x576 with 1 Axes>"
      ]
     },
     "metadata": {
      "needs_background": "light"
     },
     "output_type": "display_data"
    }
   ],
   "source": [
    "plt.figure(figsize=(15,8))\n",
    "plt.hist(df[df[\"award\"]<9][\"award\"])"
   ]
  },
  {
   "cell_type": "code",
   "execution_count": 37,
   "id": "22cfa3b4",
   "metadata": {},
   "outputs": [],
   "source": [
    "df = df[df['award']<9]"
   ]
  },
  {
   "cell_type": "code",
   "execution_count": 38,
   "id": "eeac7bd1",
   "metadata": {},
   "outputs": [
    {
     "data": {
      "text/plain": [
       "(array([6120., 1242.,  782.,  707.,  432.,  297.,  184.,  145.,   88.,\n",
       "          80.]),\n",
       " array([  0. ,  69.7, 139.4, 209.1, 278.8, 348.5, 418.2, 487.9, 557.6,\n",
       "        627.3, 697. ]),\n",
       " <BarContainer object of 10 artists>)"
      ]
     },
     "execution_count": 38,
     "metadata": {},
     "output_type": "execute_result"
    },
    {
     "data": {
      "image/png": "[encoded data removed]",
      "text/plain": [
       "<Figure size 1080x576 with 1 Axes>"
      ]
     },
     "metadata": {
      "needs_background": "light"
     },
     "output_type": "display_data"
    }
   ],
   "source": [
    "plt.figure(figsize=(15,8))\n",
    "plt.hist(df[df[\"days_injured\"]<=700][\"days_injured\"])"
   ]
  },
  {
   "cell_type": "code",
   "execution_count": 39,
   "id": "388b6998",
   "metadata": {},
   "outputs": [],
   "source": [
    "df = df[df[\"days_injured\"]<=700]"
   ]
  },
  {
   "cell_type": "code",
   "execution_count": 40,
   "id": "c64b3dca",
   "metadata": {},
   "outputs": [
    {
     "data": {
      "text/plain": [
       "(array([5609., 1146.,  824.,  597.,  470.,  385.,  302.,  242.,  168.,\n",
       "         107.]),\n",
       " array([ 0. ,  6.9, 13.8, 20.7, 27.6, 34.5, 41.4, 48.3, 55.2, 62.1, 69. ]),\n",
       " <BarContainer object of 10 artists>)"
      ]
     },
     "execution_count": 40,
     "metadata": {},
     "output_type": "execute_result"
    },
    {
     "data": {
      "image/png": "[encoded data removed]",
      "text/plain": [
       "<Figure size 1080x576 with 1 Axes>"
      ]
     },
     "metadata": {
      "needs_background": "light"
     },
     "output_type": "display_data"
    }
   ],
   "source": [
    "plt.figure(figsize=(15,8))\n",
    "plt.hist(df[df['games_injured']<70][\"games_injured\"])"
   ]
  },
  {
   "cell_type": "code",
   "execution_count": 41,
   "id": "a7bbf440",
   "metadata": {},
   "outputs": [],
   "source": [
    "df = df[df['games_injured']<70]"
   ]
  },
  {
   "cell_type": "code",
   "execution_count": 42,
   "id": "1525269f",
   "metadata": {},
   "outputs": [
    {
     "data": {
      "text/plain": [
       "(array([2834., 1536., 1049., 1099.,  965.,  911.,  680.,  395.,  254.,\n",
       "         105.]),\n",
       " array([   0. ,  793.2, 1586.4, 2379.6, 3172.8, 3966. , 4759.2, 5552.4,\n",
       "        6345.6, 7138.8, 7932. ]),\n",
       " <BarContainer object of 10 artists>)"
      ]
     },
     "execution_count": 42,
     "metadata": {},
     "output_type": "execute_result"
    },
    {
     "data": {
      "image/png": "[encoded data removed]",
      "text/plain": [
       "<Figure size 1080x576 with 1 Axes>"
      ]
     },
     "metadata": {
      "needs_background": "light"
     },
     "output_type": "display_data"
    }
   ],
   "source": [
    "plt.figure(figsize=(15,8))\n",
    "plt.hist(df[df[\"minutes played\"]<8000][\"minutes played\"])"
   ]
  },
  {
   "cell_type": "code",
   "execution_count": 43,
   "id": "9dcc777f",
   "metadata": {},
   "outputs": [],
   "source": [
    "df = df[df[\"minutes played\"]<8000]"
   ]
  },
  {
   "cell_type": "code",
   "execution_count": 44,
   "id": "7dd17591",
   "metadata": {},
   "outputs": [
    {
     "data": {
      "text/plain": [
       "Index(['team', 'name', 'position', 'height', 'age', 'appearance', 'goals',\n",
       "       'assists', 'yellow cards', 'second yellow cards', 'red cards',\n",
       "       'goals conceded', 'clean sheets', 'minutes played', 'days_injured',\n",
       "       'games_injured', 'award', 'current_value', 'highest_value',\n",
       "       'position_encoded', 'winger'],\n",
       "      dtype='object')"
      ]
     },
     "execution_count": 44,
     "metadata": {},
     "output_type": "execute_result"
    }
   ],
   "source": [
    "df.columns"
   ]
  },
  {
   "cell_type": "code",
   "execution_count": 45,
   "id": "0aa42f7c",
   "metadata": {},
   "outputs": [
    {
     "name": "stdout",
     "output_type": "stream",
     "text": [
      "Columns not found in DataFrame: ['Unnamed: 0', 'goals per 90', 'assists per 90', 'yellow cards per 90', 'second yellow cards per 90', 'red cards per 90', 'goals conceded per 90', 'clean sheets per 90']\n"
     ]
    }
   ],
   "source": [
    "columns_to_drop = ['Unnamed: 0', 'goals per 90', 'assists per 90', 'yellow cards per 90', \n",
    "                   'second yellow cards per 90', 'red cards per 90', 'goals conceded per 90', \n",
    "                   'clean sheets per 90']\n",
    "\n",
    "# Check if the columns exist in the DataFrame\n",
    "missing_columns = [col for col in columns_to_drop if col not in df.columns]\n",
    "if missing_columns:\n",
    "    print(\"Columns not found in DataFrame:\", missing_columns)\n",
    "else:\n",
    "    # Drop the specified columns from the DataFrame\n",
    "    df = df.drop(columns_to_drop, axis=1)\n",
    "    print(\"Columns dropped successfully.\")\n"
   ]
  },
  {
   "cell_type": "code",
   "execution_count": 46,
   "id": "7a1892ec",
   "metadata": {},
   "outputs": [],
   "source": [
    "df = df.drop(['position','name'],axis=1)"
   ]
  },
  {
   "cell_type": "code",
   "execution_count": 47,
   "id": "61522b73",
   "metadata": {},
   "outputs": [
    {
     "data": {
      "text/plain": [
       "Index(['team', 'height', 'age', 'appearance', 'goals', 'assists',\n",
       "       'yellow cards', 'second yellow cards', 'red cards', 'goals conceded',\n",
       "       'clean sheets', 'minutes played', 'days_injured', 'games_injured',\n",
       "       'award', 'current_value', 'highest_value', 'position_encoded',\n",
       "       'winger'],\n",
       "      dtype='object')"
      ]
     },
     "execution_count": 47,
     "metadata": {},
     "output_type": "execute_result"
    }
   ],
   "source": [
    "df.columns"
   ]
  },
  {
   "cell_type": "code",
   "execution_count": 48,
   "id": "d2b76e4b",
   "metadata": {},
   "outputs": [
    {
     "data": {
      "text/plain": [
       "(9828, 19)"
      ]
     },
     "execution_count": 48,
     "metadata": {},
     "output_type": "execute_result"
    }
   ],
   "source": [
    "df.shape"
   ]
  },
  {
   "cell_type": "markdown",
   "id": "333b5263",
   "metadata": {},
   "source": [
    "### 2. Feature engineering"
   ]
  },
  {
   "cell_type": "markdown",
   "id": "dc55513f",
   "metadata": {},
   "source": [
    "1.Feature scaling\n",
    "\n",
    "2.Aggregation\n",
    "\n",
    "3.One hot coding"
   ]
  },
  {
   "cell_type": "code",
   "execution_count": 49,
   "id": "81607f75",
   "metadata": {},
   "outputs": [
    {
     "data": {
      "text/html": [
       "<div>\n",
       "<style scoped>\n",
       "    .dataframe tbody tr th:only-of-type {\n",
       "        vertical-align: middle;\n",
       "    }\n",
       "\n",
       "    .dataframe tbody tr th {\n",
       "        vertical-align: top;\n",
       "    }\n",
       "\n",
       "    .dataframe thead th {\n",
       "        text-align: right;\n",
       "    }\n",
       "</style>\n",
       "<table border=\"1\" class=\"dataframe\">\n",
       "  <thead>\n",
       "    <tr style=\"text-align: right;\">\n",
       "      <th></th>\n",
       "      <th>team</th>\n",
       "      <th>height</th>\n",
       "      <th>age</th>\n",
       "      <th>appearance</th>\n",
       "      <th>goals</th>\n",
       "      <th>assists</th>\n",
       "      <th>yellow cards</th>\n",
       "      <th>second yellow cards</th>\n",
       "      <th>red cards</th>\n",
       "      <th>goals conceded</th>\n",
       "      <th>clean sheets</th>\n",
       "      <th>minutes played</th>\n",
       "      <th>days_injured</th>\n",
       "      <th>games_injured</th>\n",
       "      <th>award</th>\n",
       "      <th>current_value</th>\n",
       "      <th>highest_value</th>\n",
       "      <th>position_encoded</th>\n",
       "      <th>winger</th>\n",
       "    </tr>\n",
       "  </thead>\n",
       "  <tbody>\n",
       "    <tr>\n",
       "      <th>1</th>\n",
       "      <td>Manchester United</td>\n",
       "      <td>196.0</td>\n",
       "      <td>30.0</td>\n",
       "      <td>15</td>\n",
       "      <td>0.000000</td>\n",
       "      <td>0.0</td>\n",
       "      <td>0.069018</td>\n",
       "      <td>0.0000</td>\n",
       "      <td>0.0</td>\n",
       "      <td>1.242331</td>\n",
       "      <td>0.207055</td>\n",
       "      <td>1304</td>\n",
       "      <td>510</td>\n",
       "      <td>58</td>\n",
       "      <td>1</td>\n",
       "      <td>1500000</td>\n",
       "      <td>22000000</td>\n",
       "      <td>1</td>\n",
       "      <td>0</td>\n",
       "    </tr>\n",
       "    <tr>\n",
       "      <th>5</th>\n",
       "      <td>Manchester United</td>\n",
       "      <td>194.0</td>\n",
       "      <td>30.0</td>\n",
       "      <td>68</td>\n",
       "      <td>0.037799</td>\n",
       "      <td>0.0</td>\n",
       "      <td>0.302394</td>\n",
       "      <td>0.0189</td>\n",
       "      <td>0.0</td>\n",
       "      <td>0.000000</td>\n",
       "      <td>0.000000</td>\n",
       "      <td>4762</td>\n",
       "      <td>148</td>\n",
       "      <td>27</td>\n",
       "      <td>1</td>\n",
       "      <td>25000000</td>\n",
       "      <td>70000000</td>\n",
       "      <td>2</td>\n",
       "      <td>0</td>\n",
       "    </tr>\n",
       "  </tbody>\n",
       "</table>\n",
       "</div>"
      ],
      "text/plain": [
       "                team  height   age  appearance     goals  assists  \\\n",
       "1  Manchester United   196.0  30.0          15  0.000000      0.0   \n",
       "5  Manchester United   194.0  30.0          68  0.037799      0.0   \n",
       "\n",
       "   yellow cards  second yellow cards  red cards  goals conceded  clean sheets  \\\n",
       "1      0.069018               0.0000        0.0        1.242331      0.207055   \n",
       "5      0.302394               0.0189        0.0        0.000000      0.000000   \n",
       "\n",
       "   minutes played  days_injured  games_injured  award  current_value  \\\n",
       "1            1304           510             58      1        1500000   \n",
       "5            4762           148             27      1       25000000   \n",
       "\n",
       "   highest_value  position_encoded  winger  \n",
       "1       22000000                 1       0  \n",
       "5       70000000                 2       0  "
      ]
     },
     "execution_count": 49,
     "metadata": {},
     "output_type": "execute_result"
    }
   ],
   "source": [
    "df.head(2)"
   ]
  },
  {
   "cell_type": "code",
   "execution_count": 50,
   "id": "f4c3fd60",
   "metadata": {},
   "outputs": [
    {
     "data": {
      "text/plain": [
       "['team']"
      ]
     },
     "execution_count": 50,
     "metadata": {},
     "output_type": "execute_result"
    }
   ],
   "source": [
    "categorical_features"
   ]
  },
  {
   "cell_type": "code",
   "execution_count": 51,
   "id": "23199855",
   "metadata": {},
   "outputs": [],
   "source": [
    "df = pd.get_dummies(df, columns=categorical_features)"
   ]
  },
  {
   "cell_type": "code",
   "execution_count": 52,
   "id": "564de0cf",
   "metadata": {},
   "outputs": [
    {
     "data": {
      "text/plain": [
       "(9828, 392)"
      ]
     },
     "execution_count": 52,
     "metadata": {},
     "output_type": "execute_result"
    }
   ],
   "source": [
    "df.shape"
   ]
  },
  {
   "cell_type": "code",
   "execution_count": 53,
   "id": "d381042f",
   "metadata": {},
   "outputs": [
    {
     "data": {
      "text/html": [
       "<div>\n",
       "<style scoped>\n",
       "    .dataframe tbody tr th:only-of-type {\n",
       "        vertical-align: middle;\n",
       "    }\n",
       "\n",
       "    .dataframe tbody tr th {\n",
       "        vertical-align: top;\n",
       "    }\n",
       "\n",
       "    .dataframe thead th {\n",
       "        text-align: right;\n",
       "    }\n",
       "</style>\n",
       "<table border=\"1\" class=\"dataframe\">\n",
       "  <thead>\n",
       "    <tr style=\"text-align: right;\">\n",
       "      <th></th>\n",
       "      <th>height</th>\n",
       "      <th>age</th>\n",
       "      <th>appearance</th>\n",
       "      <th>goals</th>\n",
       "      <th>assists</th>\n",
       "      <th>yellow cards</th>\n",
       "      <th>second yellow cards</th>\n",
       "      <th>red cards</th>\n",
       "      <th>goals conceded</th>\n",
       "      <th>clean sheets</th>\n",
       "      <th>...</th>\n",
       "      <th>team_West Ham United</th>\n",
       "      <th>team_Western Sydney Wanderers</th>\n",
       "      <th>team_Western United FC</th>\n",
       "      <th>team_Wigan Athletic</th>\n",
       "      <th>team_Wolfsberger AC</th>\n",
       "      <th>team_Wolverhampton Wanderers</th>\n",
       "      <th>team_Yokohama F. Marinos</th>\n",
       "      <th>team_Yokohama FC</th>\n",
       "      <th>team_Zenit St. Petersburg</th>\n",
       "      <th>team_Ümraniyespor</th>\n",
       "    </tr>\n",
       "  </thead>\n",
       "  <tbody>\n",
       "    <tr>\n",
       "      <th>1</th>\n",
       "      <td>196.0</td>\n",
       "      <td>30.0</td>\n",
       "      <td>15</td>\n",
       "      <td>0.000000</td>\n",
       "      <td>0.0</td>\n",
       "      <td>0.069018</td>\n",
       "      <td>0.0000</td>\n",
       "      <td>0.0</td>\n",
       "      <td>1.242331</td>\n",
       "      <td>0.207055</td>\n",
       "      <td>...</td>\n",
       "      <td>False</td>\n",
       "      <td>False</td>\n",
       "      <td>False</td>\n",
       "      <td>False</td>\n",
       "      <td>False</td>\n",
       "      <td>False</td>\n",
       "      <td>False</td>\n",
       "      <td>False</td>\n",
       "      <td>False</td>\n",
       "      <td>False</td>\n",
       "    </tr>\n",
       "    <tr>\n",
       "      <th>5</th>\n",
       "      <td>194.0</td>\n",
       "      <td>30.0</td>\n",
       "      <td>68</td>\n",
       "      <td>0.037799</td>\n",
       "      <td>0.0</td>\n",
       "      <td>0.302394</td>\n",
       "      <td>0.0189</td>\n",
       "      <td>0.0</td>\n",
       "      <td>0.000000</td>\n",
       "      <td>0.000000</td>\n",
       "      <td>...</td>\n",
       "      <td>False</td>\n",
       "      <td>False</td>\n",
       "      <td>False</td>\n",
       "      <td>False</td>\n",
       "      <td>False</td>\n",
       "      <td>False</td>\n",
       "      <td>False</td>\n",
       "      <td>False</td>\n",
       "      <td>False</td>\n",
       "      <td>False</td>\n",
       "    </tr>\n",
       "  </tbody>\n",
       "</table>\n",
       "<p>2 rows × 392 columns</p>\n",
       "</div>"
      ],
      "text/plain": [
       "   height   age  appearance     goals  assists  yellow cards  \\\n",
       "1   196.0  30.0          15  0.000000      0.0      0.069018   \n",
       "5   194.0  30.0          68  0.037799      0.0      0.302394   \n",
       "\n",
       "   second yellow cards  red cards  goals conceded  clean sheets  ...  \\\n",
       "1               0.0000        0.0        1.242331      0.207055  ...   \n",
       "5               0.0189        0.0        0.000000      0.000000  ...   \n",
       "\n",
       "   team_West Ham United  team_Western Sydney Wanderers  \\\n",
       "1                 False                          False   \n",
       "5                 False                          False   \n",
       "\n",
       "   team_Western United FC  team_Wigan Athletic  team_Wolfsberger AC  \\\n",
       "1                   False                False                False   \n",
       "5                   False                False                False   \n",
       "\n",
       "   team_Wolverhampton Wanderers  team_Yokohama F. Marinos  team_Yokohama FC  \\\n",
       "1                         False                     False             False   \n",
       "5                         False                     False             False   \n",
       "\n",
       "   team_Zenit St. Petersburg  team_Ümraniyespor  \n",
       "1                      False              False  \n",
       "5                      False              False  \n",
       "\n",
       "[2 rows x 392 columns]"
      ]
     },
     "execution_count": 53,
     "metadata": {},
     "output_type": "execute_result"
    }
   ],
   "source": [
    "df.head(2)"
   ]
  },
  {
   "cell_type": "code",
   "execution_count": 54,
   "id": "aa3c0f93",
   "metadata": {},
   "outputs": [
    {
     "name": "stdout",
     "output_type": "stream",
     "text": [
      "current_value_category\n",
      "Good_Value     4053\n",
      "Cheap_Value    3174\n",
      "High_Value     2601\n",
      "Name: count, dtype: int64\n"
     ]
    }
   ],
   "source": [
    "# Calculate the 35th and 75th percentiles of the price\n",
    "p35 = df['current_value'].quantile(0.35)\n",
    "p75 = df['current_value'].quantile(0.75)\n",
    "\n",
    "# Function to categorize prices\n",
    "def categorize_price(value):\n",
    "    if value < p35:\n",
    "        return 'Cheap_Value'\n",
    "    elif value < p75:\n",
    "        return 'Good_Value'\n",
    "    else:\n",
    "        return 'High_Value'\n",
    "\n",
    "# Apply the function to create a new column\n",
    "df['current_value_category'] = df['current_value'].apply(categorize_price)\n",
    "\n",
    "df.drop('current_value', axis=1, inplace=True)\n",
    "\n",
    "# Verify the distribution of the new categories\n",
    "print(df['current_value_category'].value_counts())"
   ]
  },
  {
   "cell_type": "code",
   "execution_count": 55,
   "id": "228cab73",
   "metadata": {},
   "outputs": [
    {
     "data": {
      "text/plain": [
       "(400000.0, 2500000.0)"
      ]
     },
     "execution_count": 55,
     "metadata": {},
     "output_type": "execute_result"
    }
   ],
   "source": [
    "p35, p75"
   ]
  },
  {
   "cell_type": "code",
   "execution_count": 56,
   "id": "f7deb08e",
   "metadata": {},
   "outputs": [],
   "source": [
    "encoder = LabelEncoder()\n",
    "df['current_value_category'] = encoder.fit_transform(df['current_value_category']) "
   ]
  },
  {
   "cell_type": "markdown",
   "id": "23843db8",
   "metadata": {},
   "source": [
    "### 3. Feature selection"
   ]
  },
  {
   "cell_type": "code",
   "execution_count": 57,
   "id": "26c90631",
   "metadata": {},
   "outputs": [],
   "source": [
    "# sns.heatmap(df.corr(), annot=True);"
   ]
  },
  {
   "cell_type": "code",
   "execution_count": 58,
   "id": "45589cd9",
   "metadata": {},
   "outputs": [
    {
     "name": "stdout",
     "output_type": "stream",
     "text": [
      "current_value_category     1.000000\n",
      "appearance                 0.528936\n",
      "highest_value              0.509113\n",
      "minutes played             0.502761\n",
      "award                      0.264919\n",
      "                             ...   \n",
      "team_Swallows FC          -0.064124\n",
      "team_Richards Bay FC      -0.064609\n",
      "team_Royal AM FC          -0.068306\n",
      "team_Marumo Gallants FC   -0.069296\n",
      "goals conceded            -0.130302\n",
      "Name: current_value_category, Length: 392, dtype: float64\n"
     ]
    }
   ],
   "source": [
    "correlation = df.corr()\n",
    "print(correlation['current_value_category'].sort_values(ascending=False))"
   ]
  },
  {
   "cell_type": "code",
   "execution_count": 59,
   "id": "d6aca7ea",
   "metadata": {},
   "outputs": [
    {
     "data": {
      "text/plain": [
       "Index(['appearance', 'minutes played', 'games_injured', 'award',\n",
       "       'highest_value', 'current_value_category'],\n",
       "      dtype='object')"
      ]
     },
     "execution_count": 59,
     "metadata": {},
     "output_type": "execute_result"
    }
   ],
   "source": [
    "# Set the correlation threshold\n",
    "threshold = 0.24  # You can change this value based on your requirement\n",
    "\n",
    "# Filter the correlations\n",
    "# We use `abs()` for absolute value to consider both strong positive and negative correlations\n",
    "selected_features = correlation[abs(correlation['current_value_category']) > \\\n",
    "threshold]['current_value_category'].index\n",
    "selected_features"
   ]
  },
  {
   "cell_type": "code",
   "execution_count": 60,
   "id": "5355034b",
   "metadata": {},
   "outputs": [],
   "source": [
    "# selected_features = ['appearance', 'minutes played', 'current_value',\n",
    "                    #  'highest_value', 'assists', 'yellow cards', 'goals']"
   ]
  },
  {
   "cell_type": "code",
   "execution_count": 61,
   "id": "17535658",
   "metadata": {},
   "outputs": [
    {
     "data": {
      "text/html": [
       "<div>\n",
       "<style scoped>\n",
       "    .dataframe tbody tr th:only-of-type {\n",
       "        vertical-align: middle;\n",
       "    }\n",
       "\n",
       "    .dataframe tbody tr th {\n",
       "        vertical-align: top;\n",
       "    }\n",
       "\n",
       "    .dataframe thead th {\n",
       "        text-align: right;\n",
       "    }\n",
       "</style>\n",
       "<table border=\"1\" class=\"dataframe\">\n",
       "  <thead>\n",
       "    <tr style=\"text-align: right;\">\n",
       "      <th></th>\n",
       "      <th>appearance</th>\n",
       "      <th>minutes played</th>\n",
       "      <th>games_injured</th>\n",
       "      <th>award</th>\n",
       "      <th>highest_value</th>\n",
       "      <th>current_value_category</th>\n",
       "    </tr>\n",
       "  </thead>\n",
       "  <tbody>\n",
       "    <tr>\n",
       "      <th>1</th>\n",
       "      <td>15</td>\n",
       "      <td>1304</td>\n",
       "      <td>58</td>\n",
       "      <td>1</td>\n",
       "      <td>22000000</td>\n",
       "      <td>1</td>\n",
       "    </tr>\n",
       "    <tr>\n",
       "      <th>5</th>\n",
       "      <td>68</td>\n",
       "      <td>4762</td>\n",
       "      <td>27</td>\n",
       "      <td>1</td>\n",
       "      <td>70000000</td>\n",
       "      <td>2</td>\n",
       "    </tr>\n",
       "    <tr>\n",
       "      <th>8</th>\n",
       "      <td>34</td>\n",
       "      <td>2758</td>\n",
       "      <td>13</td>\n",
       "      <td>0</td>\n",
       "      <td>2000000</td>\n",
       "      <td>1</td>\n",
       "    </tr>\n",
       "    <tr>\n",
       "      <th>10</th>\n",
       "      <td>89</td>\n",
       "      <td>7132</td>\n",
       "      <td>15</td>\n",
       "      <td>3</td>\n",
       "      <td>22000000</td>\n",
       "      <td>2</td>\n",
       "    </tr>\n",
       "    <tr>\n",
       "      <th>11</th>\n",
       "      <td>34</td>\n",
       "      <td>2686</td>\n",
       "      <td>28</td>\n",
       "      <td>1</td>\n",
       "      <td>12000000</td>\n",
       "      <td>2</td>\n",
       "    </tr>\n",
       "  </tbody>\n",
       "</table>\n",
       "</div>"
      ],
      "text/plain": [
       "    appearance  minutes played  games_injured  award  highest_value  \\\n",
       "1           15            1304             58      1       22000000   \n",
       "5           68            4762             27      1       70000000   \n",
       "8           34            2758             13      0        2000000   \n",
       "10          89            7132             15      3       22000000   \n",
       "11          34            2686             28      1       12000000   \n",
       "\n",
       "    current_value_category  \n",
       "1                        1  \n",
       "5                        2  \n",
       "8                        1  \n",
       "10                       2  \n",
       "11                       2  "
      ]
     },
     "execution_count": 61,
     "metadata": {},
     "output_type": "execute_result"
    }
   ],
   "source": [
    "df = df[selected_features]\n",
    "df.head()"
   ]
  },
  {
   "cell_type": "markdown",
   "id": "ded131d2",
   "metadata": {},
   "source": [
    "### 4. Prepare train and test data"
   ]
  },
  {
   "cell_type": "code",
   "execution_count": 65,
   "id": "bac626b6",
   "metadata": {},
   "outputs": [],
   "source": [
    "# Prepare data\n",
    "X = df.drop(['current_value_category'], axis=1)\n",
    "\n",
    "\n",
    "# scale the data\n",
    "scaler = StandardScaler()\n",
    "X_scaled = scaler.fit_transform(X)"
   ]
  },
  {
   "cell_type": "code",
   "execution_count": 66,
   "id": "33b5cf3a",
   "metadata": {},
   "outputs": [
    {
     "data": {
      "text/plain": [
       "(9828, 5)"
      ]
     },
     "execution_count": 66,
     "metadata": {},
     "output_type": "execute_result"
    }
   ],
   "source": [
    "X_scaled.shape"
   ]
  },
  {
   "cell_type": "code",
   "execution_count": 67,
   "id": "876b549c",
   "metadata": {},
   "outputs": [
    {
     "data": {
      "text/html": [
       "<div>\n",
       "<style scoped>\n",
       "    .dataframe tbody tr th:only-of-type {\n",
       "        vertical-align: middle;\n",
       "    }\n",
       "\n",
       "    .dataframe tbody tr th {\n",
       "        vertical-align: top;\n",
       "    }\n",
       "\n",
       "    .dataframe thead th {\n",
       "        text-align: right;\n",
       "    }\n",
       "</style>\n",
       "<table border=\"1\" class=\"dataframe\">\n",
       "  <thead>\n",
       "    <tr style=\"text-align: right;\">\n",
       "      <th></th>\n",
       "      <th>appearance</th>\n",
       "      <th>minutes played</th>\n",
       "      <th>games_injured</th>\n",
       "      <th>award</th>\n",
       "      <th>highest_value</th>\n",
       "    </tr>\n",
       "  </thead>\n",
       "  <tbody>\n",
       "    <tr>\n",
       "      <th>1</th>\n",
       "      <td>15</td>\n",
       "      <td>1304</td>\n",
       "      <td>58</td>\n",
       "      <td>1</td>\n",
       "      <td>22000000</td>\n",
       "    </tr>\n",
       "    <tr>\n",
       "      <th>5</th>\n",
       "      <td>68</td>\n",
       "      <td>4762</td>\n",
       "      <td>27</td>\n",
       "      <td>1</td>\n",
       "      <td>70000000</td>\n",
       "    </tr>\n",
       "    <tr>\n",
       "      <th>8</th>\n",
       "      <td>34</td>\n",
       "      <td>2758</td>\n",
       "      <td>13</td>\n",
       "      <td>0</td>\n",
       "      <td>2000000</td>\n",
       "    </tr>\n",
       "    <tr>\n",
       "      <th>10</th>\n",
       "      <td>89</td>\n",
       "      <td>7132</td>\n",
       "      <td>15</td>\n",
       "      <td>3</td>\n",
       "      <td>22000000</td>\n",
       "    </tr>\n",
       "    <tr>\n",
       "      <th>11</th>\n",
       "      <td>34</td>\n",
       "      <td>2686</td>\n",
       "      <td>28</td>\n",
       "      <td>1</td>\n",
       "      <td>12000000</td>\n",
       "    </tr>\n",
       "  </tbody>\n",
       "</table>\n",
       "</div>"
      ],
      "text/plain": [
       "    appearance  minutes played  games_injured  award  highest_value\n",
       "1           15            1304             58      1       22000000\n",
       "5           68            4762             27      1       70000000\n",
       "8           34            2758             13      0        2000000\n",
       "10          89            7132             15      3       22000000\n",
       "11          34            2686             28      1       12000000"
      ]
     },
     "execution_count": 67,
     "metadata": {},
     "output_type": "execute_result"
    }
   ],
   "source": [
    "X.head()"
   ]
  },
  {
   "cell_type": "markdown",
   "id": "f09c4ef2",
   "metadata": {},
   "source": [
    "## Buliding the Model"
   ]
  },
  {
   "cell_type": "code",
   "execution_count": 68,
   "id": "df355a82",
   "metadata": {},
   "outputs": [],
   "source": [
    "# 2. Use NearestNeighbors to find the optimal eps\n",
    "min_samples = 2"
   ]
  },
  {
   "cell_type": "code",
   "execution_count": 69,
   "id": "176c4abd",
   "metadata": {},
   "outputs": [],
   "source": [
    "nn = NearestNeighbors(n_neighbors=min_samples)\n",
    "nn.fit(X_scaled)\n",
    "distances, indices = nn.kneighbors(X_scaled)"
   ]
  },
  {
   "cell_type": "code",
   "execution_count": 70,
   "id": "20f03ae2",
   "metadata": {},
   "outputs": [
    {
     "data": {
      "text/plain": [
       "array([0.86435961, 1.06562782, 0.14043865, ..., 0.00760145, 0.02391917,\n",
       "       0.03992418])"
      ]
     },
     "execution_count": 70,
     "metadata": {},
     "output_type": "execute_result"
    }
   ],
   "source": [
    "distances[:,min_samples-1]"
   ]
  },
  {
   "cell_type": "code",
   "execution_count": 71,
   "id": "efa9648a",
   "metadata": {},
   "outputs": [
    {
     "data": {
      "image/png": "[encoded data removed]",
      "text/plain": [
       "<Figure size 576x432 with 1 Axes>"
      ]
     },
     "metadata": {
      "needs_background": "light"
     },
     "output_type": "display_data"
    }
   ],
   "source": [
    "# The distance to the furthest neighbor (min_samples-th nearest) for each point\n",
    "k_dist = distances[:, min_samples-1]\n",
    "\n",
    "# Sort distances\n",
    "k_dist_sorted = np.sort(k_dist)\n",
    "\n",
    "# 3. Plotting the k-distance graph\n",
    "plt.figure(figsize=(8, 6))\n",
    "plt.plot(k_dist_sorted)\n",
    "plt.title('K-Distance Graph')\n",
    "plt.xlabel('Points sorted by distance')\n",
    "plt.ylabel('k-distance (eps value)')\n",
    "plt.grid(True)\n",
    "plt.show()"
   ]
  },
  {
   "cell_type": "code",
   "execution_count": 72,
   "id": "03b1ac3e",
   "metadata": {},
   "outputs": [],
   "source": [
    "# 4. Apply DBSCAN with chosen eps and min_samples\n",
    "# Typically, you choose eps at the \"elbow\" point in this plot, where the slope changes significantly\n",
    "chosen_eps = 0.4  # This is an example; choose this value based on the plot\n",
    "dbscan = DBSCAN(eps=chosen_eps, min_samples=min_samples)"
   ]
  },
  {
   "cell_type": "markdown",
   "id": "5ea03dad",
   "metadata": {},
   "source": [
    "## Train the Model"
   ]
  },
  {
   "cell_type": "code",
   "execution_count": 73,
   "id": "2f0944ed",
   "metadata": {},
   "outputs": [],
   "source": [
    "# Fit the model on the training data\n",
    "\n",
    "clusters = dbscan.fit_predict(X_scaled)"
   ]
  },
  {
   "cell_type": "code",
   "execution_count": 74,
   "id": "805b6d2e",
   "metadata": {},
   "outputs": [
    {
     "data": {
      "text/plain": [
       " 0      4460\n",
       " 2      1858\n",
       "-1      1160\n",
       " 5       829\n",
       " 33      396\n",
       "        ... \n",
       " 128       2\n",
       " 129       2\n",
       " 130       2\n",
       " 131       2\n",
       " 278       2\n",
       "Name: count, Length: 280, dtype: int64"
      ]
     },
     "execution_count": 74,
     "metadata": {},
     "output_type": "execute_result"
    }
   ],
   "source": [
    "pd.Series(clusters).value_counts()"
   ]
  },
  {
   "cell_type": "markdown",
   "id": "ee22f430",
   "metadata": {},
   "source": [
    "## Evaluating the Model"
   ]
  },
  {
   "cell_type": "code",
   "execution_count": 75,
   "id": "bd7fa071",
   "metadata": {},
   "outputs": [
    {
     "data": {
      "text/plain": [
       "-0.8638603387951966"
      ]
     },
     "execution_count": 75,
     "metadata": {},
     "output_type": "execute_result"
    }
   ],
   "source": [
    "silhouette_avg = silhouette_score(X, clusters)\n",
    "silhouette_avg"
   ]
  },
  {
   "cell_type": "code",
   "execution_count": 76,
   "id": "5b6a19f4",
   "metadata": {},
   "outputs": [
    {
     "data": {
      "image/png": "[encoded data removed]",
      "text/plain": [
       "<Figure size 576x432 with 2 Axes>"
      ]
     },
     "metadata": {
      "needs_background": "light"
     },
     "output_type": "display_data"
    }
   ],
   "source": [
    "# Evaluate the model\n",
    "# 5. Plot the clustering result\n",
    "plt.figure(figsize=(8, 6))\n",
    "plt.scatter(X_scaled[:, 0], X_scaled[:, 1], c=clusters, cmap='viridis', s=50, edgecolor='k')\n",
    "plt.title(f'DBSCAN Clustering with eps={chosen_eps}')\n",
    "plt.xlabel('Feature 1')\n",
    "plt.ylabel('Feature 2')\n",
    "plt.colorbar(label='Cluster Label')\n",
    "plt.show()"
   ]
  }
 ],
 "metadata": {
  "kernelspec": {
   "display_name": "Python 3",
   "language": "python",
   "name": "python3"
  },
  "language_info": {
   "codemirror_mode": {
    "name": "ipython",
    "version": 3
   },
   "file_extension": ".py",
   "mimetype": "text/x-python",
   "name": "python",
   "nbconvert_exporter": "python",
   "pygments_lexer": "ipython3",
   "version": "3.8.8"
  }
 },
 "nbformat": 4,
 "nbformat_minor": 5
}
