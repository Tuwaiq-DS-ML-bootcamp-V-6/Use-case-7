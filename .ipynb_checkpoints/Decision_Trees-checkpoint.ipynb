{
 "cells": [
  {
   "cell_type": "code",
   "execution_count": 69,
   "id": "d95fbb33",
   "metadata": {},
   "outputs": [],
   "source": [
    "# To ignore warnings\n",
    "import warnings\n",
    "warnings.filterwarnings(\"ignore\")\n",
    "import pandas as pd\n",
    "import numpy as np\n",
    "import matplotlib.pyplot as plt\n",
    "import seaborn as sns\n",
    "\n",
    "from sklearn.model_selection import train_test_split\n",
    "from sklearn.metrics import mean_squared_error, r2_score, mean_absolute_error\n",
    "from sklearn.preprocessing import StandardScaler\n",
    "from sklearn.tree import DecisionTreeClassifier\n",
    "from sklearn.ensemble import RandomForestClassifier\n",
    "from sklearn.model_selection import GridSearchCV\n",
    "from sklearn import metrics\n",
    "from sklearn.preprocessing import LabelEncoder\n",
    "from sklearn.metrics import accuracy_score, confusion_matrix, precision_score, recall_score, f1_score\n",
    "\n",
    "%matplotlib inline"
   ]
  },
  {
   "cell_type": "markdown",
   "id": "97a1be23",
   "metadata": {},
   "source": [
    "### Load the Data"
   ]
  },
  {
   "cell_type": "code",
   "execution_count": 3,
   "id": "82d27744",
   "metadata": {},
   "outputs": [],
   "source": [
    "df = pd.read_csv('Data/final_data.csv')"
   ]
  },
  {
   "cell_type": "code",
   "execution_count": 4,
   "id": "1238425f",
   "metadata": {},
   "outputs": [],
   "source": [
    "grouped_df = df.groupby(\"position_encoded\")"
   ]
  },
  {
   "cell_type": "code",
   "execution_count": 5,
   "id": "ed7418ac",
   "metadata": {},
   "outputs": [],
   "source": [
    "df = df.drop(columns='player')"
   ]
  },
  {
   "cell_type": "code",
   "execution_count": 7,
   "id": "e15efe5e",
   "metadata": {},
   "outputs": [
    {
     "data": {
      "text/plain": [
       "(10754, 21)"
      ]
     },
     "execution_count": 7,
     "metadata": {},
     "output_type": "execute_result"
    }
   ],
   "source": [
    "df.shape"
   ]
  },
  {
   "cell_type": "code",
   "execution_count": 8,
   "id": "eebeb628",
   "metadata": {},
   "outputs": [
    {
     "data": {
      "text/html": [
       "<div>\n",
       "<style scoped>\n",
       "    .dataframe tbody tr th:only-of-type {\n",
       "        vertical-align: middle;\n",
       "    }\n",
       "\n",
       "    .dataframe tbody tr th {\n",
       "        vertical-align: top;\n",
       "    }\n",
       "\n",
       "    .dataframe thead th {\n",
       "        text-align: right;\n",
       "    }\n",
       "</style>\n",
       "<table border=\"1\" class=\"dataframe\">\n",
       "  <thead>\n",
       "    <tr style=\"text-align: right;\">\n",
       "      <th></th>\n",
       "      <th>team</th>\n",
       "      <th>name</th>\n",
       "      <th>position</th>\n",
       "      <th>height</th>\n",
       "      <th>age</th>\n",
       "      <th>appearance</th>\n",
       "      <th>goals</th>\n",
       "      <th>assists</th>\n",
       "      <th>yellow cards</th>\n",
       "      <th>second yellow cards</th>\n",
       "      <th>...</th>\n",
       "      <th>goals conceded</th>\n",
       "      <th>clean sheets</th>\n",
       "      <th>minutes played</th>\n",
       "      <th>days_injured</th>\n",
       "      <th>games_injured</th>\n",
       "      <th>award</th>\n",
       "      <th>current_value</th>\n",
       "      <th>highest_value</th>\n",
       "      <th>position_encoded</th>\n",
       "      <th>winger</th>\n",
       "    </tr>\n",
       "  </thead>\n",
       "  <tbody>\n",
       "    <tr>\n",
       "      <th>0</th>\n",
       "      <td>Manchester United</td>\n",
       "      <td>David de Gea</td>\n",
       "      <td>Goalkeeper</td>\n",
       "      <td>189.0</td>\n",
       "      <td>32.0</td>\n",
       "      <td>104</td>\n",
       "      <td>0.0</td>\n",
       "      <td>0.0</td>\n",
       "      <td>0.009585</td>\n",
       "      <td>0.0</td>\n",
       "      <td>...</td>\n",
       "      <td>1.217252</td>\n",
       "      <td>0.335463</td>\n",
       "      <td>9390</td>\n",
       "      <td>42</td>\n",
       "      <td>5</td>\n",
       "      <td>13</td>\n",
       "      <td>15000000</td>\n",
       "      <td>70000000</td>\n",
       "      <td>1</td>\n",
       "      <td>0</td>\n",
       "    </tr>\n",
       "    <tr>\n",
       "      <th>1</th>\n",
       "      <td>Manchester United</td>\n",
       "      <td>Jack Butland</td>\n",
       "      <td>Goalkeeper</td>\n",
       "      <td>196.0</td>\n",
       "      <td>30.0</td>\n",
       "      <td>15</td>\n",
       "      <td>0.0</td>\n",
       "      <td>0.0</td>\n",
       "      <td>0.069018</td>\n",
       "      <td>0.0</td>\n",
       "      <td>...</td>\n",
       "      <td>1.242331</td>\n",
       "      <td>0.207055</td>\n",
       "      <td>1304</td>\n",
       "      <td>510</td>\n",
       "      <td>58</td>\n",
       "      <td>1</td>\n",
       "      <td>1500000</td>\n",
       "      <td>22000000</td>\n",
       "      <td>1</td>\n",
       "      <td>0</td>\n",
       "    </tr>\n",
       "  </tbody>\n",
       "</table>\n",
       "<p>2 rows × 21 columns</p>\n",
       "</div>"
      ],
      "text/plain": [
       "                team          name    position  height   age  appearance  \\\n",
       "0  Manchester United  David de Gea  Goalkeeper   189.0  32.0         104   \n",
       "1  Manchester United  Jack Butland  Goalkeeper   196.0  30.0          15   \n",
       "\n",
       "   goals  assists  yellow cards  second yellow cards  ...  goals conceded  \\\n",
       "0    0.0      0.0      0.009585                  0.0  ...        1.217252   \n",
       "1    0.0      0.0      0.069018                  0.0  ...        1.242331   \n",
       "\n",
       "   clean sheets  minutes played  days_injured  games_injured  award  \\\n",
       "0      0.335463            9390            42              5     13   \n",
       "1      0.207055            1304           510             58      1   \n",
       "\n",
       "   current_value  highest_value  position_encoded  winger  \n",
       "0       15000000       70000000                 1       0  \n",
       "1        1500000       22000000                 1       0  \n",
       "\n",
       "[2 rows x 21 columns]"
      ]
     },
     "execution_count": 8,
     "metadata": {},
     "output_type": "execute_result"
    }
   ],
   "source": [
    "df.head(2)"
   ]
  },
  {
   "cell_type": "markdown",
   "id": "34586523",
   "metadata": {},
   "source": [
    "### Preprocess the Data"
   ]
  },
  {
   "cell_type": "markdown",
   "id": "8fa011c6",
   "metadata": {},
   "source": [
    "#### 1. Simple EDA + Data Quality checking"
   ]
  },
  {
   "cell_type": "code",
   "execution_count": 10,
   "id": "0264d3d1",
   "metadata": {},
   "outputs": [
    {
     "data": {
      "text/html": [
       "<div>\n",
       "<style scoped>\n",
       "    .dataframe tbody tr th:only-of-type {\n",
       "        vertical-align: middle;\n",
       "    }\n",
       "\n",
       "    .dataframe tbody tr th {\n",
       "        vertical-align: top;\n",
       "    }\n",
       "\n",
       "    .dataframe thead th {\n",
       "        text-align: right;\n",
       "    }\n",
       "</style>\n",
       "<table border=\"1\" class=\"dataframe\">\n",
       "  <thead>\n",
       "    <tr style=\"text-align: right;\">\n",
       "      <th></th>\n",
       "      <th>team</th>\n",
       "      <th>name</th>\n",
       "      <th>position</th>\n",
       "      <th>height</th>\n",
       "      <th>age</th>\n",
       "      <th>appearance</th>\n",
       "      <th>goals</th>\n",
       "      <th>assists</th>\n",
       "      <th>yellow cards</th>\n",
       "      <th>second yellow cards</th>\n",
       "      <th>...</th>\n",
       "      <th>goals conceded</th>\n",
       "      <th>clean sheets</th>\n",
       "      <th>minutes played</th>\n",
       "      <th>days_injured</th>\n",
       "      <th>games_injured</th>\n",
       "      <th>award</th>\n",
       "      <th>current_value</th>\n",
       "      <th>highest_value</th>\n",
       "      <th>position_encoded</th>\n",
       "      <th>winger</th>\n",
       "    </tr>\n",
       "  </thead>\n",
       "  <tbody>\n",
       "  </tbody>\n",
       "</table>\n",
       "<p>0 rows × 21 columns</p>\n",
       "</div>"
      ],
      "text/plain": [
       "Empty DataFrame\n",
       "Columns: [team, name, position, height, age, appearance, goals, assists, yellow cards, second yellow cards, red cards, goals conceded, clean sheets, minutes played, days_injured, games_injured, award, current_value, highest_value, position_encoded, winger]\n",
       "Index: []\n",
       "\n",
       "[0 rows x 21 columns]"
      ]
     },
     "execution_count": 10,
     "metadata": {},
     "output_type": "execute_result"
    }
   ],
   "source": [
    "# uniqeness\n",
    "df.drop_duplicates(inplace=True)\n",
    "df[df.duplicated()]"
   ]
  },
  {
   "cell_type": "code",
   "execution_count": 11,
   "id": "dee596da",
   "metadata": {},
   "outputs": [
    {
     "data": {
      "text/plain": [
       "team                   0\n",
       "name                   0\n",
       "position               0\n",
       "height                 0\n",
       "age                    0\n",
       "appearance             0\n",
       "goals                  0\n",
       "assists                0\n",
       "yellow cards           0\n",
       "second yellow cards    0\n",
       "red cards              0\n",
       "goals conceded         0\n",
       "clean sheets           0\n",
       "minutes played         0\n",
       "days_injured           0\n",
       "games_injured          0\n",
       "award                  0\n",
       "current_value          0\n",
       "highest_value          0\n",
       "position_encoded       0\n",
       "winger                 0\n",
       "dtype: int64"
      ]
     },
     "execution_count": 11,
     "metadata": {},
     "output_type": "execute_result"
    }
   ],
   "source": [
    "# Completeness\n",
    "df.isnull().sum()"
   ]
  },
  {
   "cell_type": "code",
   "execution_count": 12,
   "id": "f679aac8",
   "metadata": {},
   "outputs": [
    {
     "data": {
      "text/plain": [
       "team                    object\n",
       "name                    object\n",
       "position                object\n",
       "height                 float64\n",
       "age                    float64\n",
       "appearance               int64\n",
       "goals                  float64\n",
       "assists                float64\n",
       "yellow cards           float64\n",
       "second yellow cards    float64\n",
       "red cards              float64\n",
       "goals conceded         float64\n",
       "clean sheets           float64\n",
       "minutes played           int64\n",
       "days_injured             int64\n",
       "games_injured            int64\n",
       "award                    int64\n",
       "current_value            int64\n",
       "highest_value            int64\n",
       "position_encoded         int64\n",
       "winger                   int64\n",
       "dtype: object"
      ]
     },
     "execution_count": 12,
     "metadata": {},
     "output_type": "execute_result"
    }
   ],
   "source": [
    "# Accurecy types\n",
    "df.dtypes"
   ]
  },
  {
   "cell_type": "code",
   "execution_count": 13,
   "id": "f7ad5a69",
   "metadata": {},
   "outputs": [],
   "source": [
    "# Accurecy - Outlier\n",
    "\n",
    "# Convert categorical variables using OneHotEncoding\n",
    "categorical_features = ['team']\n",
    "numeric_features = ['height', 'age', 'appearance','goals','assists','yellow cards',\n",
    "                    'second yellow cards','red cards','goals conceded','clean sheets','award',\n",
    "                    'games_injured','days_injured','minutes played']"
   ]
  },
  {
   "cell_type": "code",
   "execution_count": 14,
   "id": "d42623c6",
   "metadata": {},
   "outputs": [
    {
     "name": "stdout",
     "output_type": "stream",
     "text": [
      "team\n",
      "Daejeon Hana Citizen      46\n",
      "Jeonbuk Hyundai Motors    46\n",
      "FC Seoul                  45\n",
      "Gangwon FC                43\n",
      "Daegu FC                  42\n",
      "                          ..\n",
      "FC Barcelona              22\n",
      "Atlético de Madrid        22\n",
      "CA Osasuna                22\n",
      "Hatayspor                 12\n",
      "Gaziantep FK               6\n",
      "Name: count, Length: 374, dtype: int64\n"
     ]
    }
   ],
   "source": [
    "for i in categorical_features:\n",
    "    print (df[i].value_counts())"
   ]
  },
  {
   "cell_type": "code",
   "execution_count": 15,
   "id": "a2f1b53e",
   "metadata": {},
   "outputs": [
    {
     "data": {
      "text/plain": [
       "(array([  17.,   81.,  672., 1655., 2459., 2882., 1961.,  871.,  147.,\n",
       "           9.]),\n",
       " array([156., 161., 166., 171., 176., 181., 186., 191., 196., 201., 206.]),\n",
       " <BarContainer object of 10 artists>)"
      ]
     },
     "execution_count": 15,
     "metadata": {},
     "output_type": "execute_result"
    },
    {
     "data": {
      "image/png": "[encoded data removed]",
      "text/plain": [
       "<Figure size 1080x576 with 1 Axes>"
      ]
     },
     "metadata": {
      "needs_background": "light"
     },
     "output_type": "display_data"
    }
   ],
   "source": [
    "plt.figure(figsize=(15,8))\n",
    "plt.hist(df['height'])"
   ]
  },
  {
   "cell_type": "code",
   "execution_count": 16,
   "id": "7c35ad2d",
   "metadata": {},
   "outputs": [
    {
     "data": {
      "text/plain": [
       "(array([ 105.,  635., 2157., 1590., 1599., 1994., 1101., 1068.,  326.,\n",
       "         146.]),\n",
       " array([15. , 17.4, 19.8, 22.2, 24.6, 27. , 29.4, 31.8, 34.2, 36.6, 39. ]),\n",
       " <BarContainer object of 10 artists>)"
      ]
     },
     "execution_count": 16,
     "metadata": {},
     "output_type": "execute_result"
    },
    {
     "data": {
      "image/png": "[encoded data removed]",
      "text/plain": [
       "<Figure size 1080x576 with 1 Axes>"
      ]
     },
     "metadata": {
      "needs_background": "light"
     },
     "output_type": "display_data"
    }
   ],
   "source": [
    "plt.figure(figsize=(15,8))\n",
    "plt.hist(df[df['age']<40]['age'])"
   ]
  },
  {
   "cell_type": "code",
   "execution_count": 17,
   "id": "89a9a0ff",
   "metadata": {},
   "outputs": [],
   "source": [
    "df = df[df['age']<40]"
   ]
  },
  {
   "cell_type": "code",
   "execution_count": 18,
   "id": "cf45b185",
   "metadata": {},
   "outputs": [
    {
     "data": {
      "text/plain": [
       "(10721, 21)"
      ]
     },
     "execution_count": 18,
     "metadata": {},
     "output_type": "execute_result"
    }
   ],
   "source": [
    "df.shape"
   ]
  },
  {
   "cell_type": "code",
   "execution_count": 19,
   "id": "8c56c02e",
   "metadata": {},
   "outputs": [
    {
     "data": {
      "text/plain": [
       "(array([2262., 1738.,  837.,  969., 1130., 1222., 1179.,  813.,  376.,\n",
       "         161.]),\n",
       " array([ 0. ,  9.9, 19.8, 29.7, 39.6, 49.5, 59.4, 69.3, 79.2, 89.1, 99. ]),\n",
       " <BarContainer object of 10 artists>)"
      ]
     },
     "execution_count": 19,
     "metadata": {},
     "output_type": "execute_result"
    },
    {
     "data": {
      "image/png": "[encoded data removed]",
      "text/plain": [
       "<Figure size 1080x576 with 1 Axes>"
      ]
     },
     "metadata": {
      "needs_background": "light"
     },
     "output_type": "display_data"
    }
   ],
   "source": [
    "plt.figure(figsize=(15,8))\n",
    "plt.hist(df[df['appearance']<100][\"appearance\"])"
   ]
  },
  {
   "cell_type": "code",
   "execution_count": 20,
   "id": "fec93ae3",
   "metadata": {},
   "outputs": [],
   "source": [
    "df = df[df[\"appearance\"]<100]"
   ]
  },
  {
   "cell_type": "code",
   "execution_count": 21,
   "id": "f6dc5a24",
   "metadata": {},
   "outputs": [
    {
     "data": {
      "text/plain": [
       "(10687, 21)"
      ]
     },
     "execution_count": 21,
     "metadata": {},
     "output_type": "execute_result"
    }
   ],
   "source": [
    "df.shape"
   ]
  },
  {
   "cell_type": "code",
   "execution_count": 22,
   "id": "84a0c5d4",
   "metadata": {},
   "outputs": [
    {
     "data": {
      "text/plain": [
       "(array([1.065e+04, 3.100e+01, 2.000e+00, 1.000e+00, 1.000e+00, 1.000e+00,\n",
       "        0.000e+00, 0.000e+00, 0.000e+00, 1.000e+00]),\n",
       " array([ 0.   ,  1.125,  2.25 ,  3.375,  4.5  ,  5.625,  6.75 ,  7.875,\n",
       "         9.   , 10.125, 11.25 ]),\n",
       " <BarContainer object of 10 artists>)"
      ]
     },
     "execution_count": 22,
     "metadata": {},
     "output_type": "execute_result"
    },
    {
     "data": {
      "image/png": "[encoded data removed]",
      "text/plain": [
       "<Figure size 1080x576 with 1 Axes>"
      ]
     },
     "metadata": {
      "needs_background": "light"
     },
     "output_type": "display_data"
    }
   ],
   "source": [
    "plt.figure(figsize=(15,8))\n",
    "plt.hist(df[df['goals']<20][\"goals\"])"
   ]
  },
  {
   "cell_type": "code",
   "execution_count": 23,
   "id": "1dffa4d7",
   "metadata": {},
   "outputs": [],
   "source": [
    "df = df[df[\"goals\"]<100]"
   ]
  },
  {
   "cell_type": "code",
   "execution_count": 24,
   "id": "59bd8b0a",
   "metadata": {},
   "outputs": [
    {
     "data": {
      "text/plain": [
       "(10687, 21)"
      ]
     },
     "execution_count": 24,
     "metadata": {},
     "output_type": "execute_result"
    }
   ],
   "source": [
    "df.shape"
   ]
  },
  {
   "cell_type": "code",
   "execution_count": 25,
   "id": "5b6052c8",
   "metadata": {},
   "outputs": [
    {
     "data": {
      "text/plain": [
       "(array([1.065e+04, 3.100e+01, 2.000e+00, 1.000e+00, 1.000e+00, 1.000e+00,\n",
       "        0.000e+00, 0.000e+00, 0.000e+00, 1.000e+00]),\n",
       " array([ 0.   ,  1.125,  2.25 ,  3.375,  4.5  ,  5.625,  6.75 ,  7.875,\n",
       "         9.   , 10.125, 11.25 ]),\n",
       " <BarContainer object of 10 artists>)"
      ]
     },
     "execution_count": 25,
     "metadata": {},
     "output_type": "execute_result"
    },
    {
     "data": {
      "image/png": "[encoded data removed]",
      "text/plain": [
       "<Figure size 1080x576 with 1 Axes>"
      ]
     },
     "metadata": {
      "needs_background": "light"
     },
     "output_type": "display_data"
    }
   ],
   "source": [
    "plt.figure(figsize=(15,8))\n",
    "plt.hist(df[df['goals']<20][\"goals\"])"
   ]
  },
  {
   "cell_type": "code",
   "execution_count": 26,
   "id": "f79513a3",
   "metadata": {},
   "outputs": [],
   "source": [
    "df = df[df[\"goals\"]<20]"
   ]
  },
  {
   "cell_type": "code",
   "execution_count": 27,
   "id": "4f6b3ecd",
   "metadata": {},
   "outputs": [
    {
     "data": {
      "text/plain": [
       "(10687, 21)"
      ]
     },
     "execution_count": 27,
     "metadata": {},
     "output_type": "execute_result"
    }
   ],
   "source": [
    "df.shape"
   ]
  },
  {
   "cell_type": "code",
   "execution_count": 28,
   "id": "4042d4be",
   "metadata": {},
   "outputs": [
    {
     "data": {
      "text/plain": [
       "(array([1.0435e+04, 2.0800e+02, 2.9000e+01, 5.0000e+00, 5.0000e+00,\n",
       "        1.0000e+00, 1.0000e+00, 1.0000e+00, 1.0000e+00, 1.0000e+00]),\n",
       " array([0. , 0.4, 0.8, 1.2, 1.6, 2. , 2.4, 2.8, 3.2, 3.6, 4. ]),\n",
       " <BarContainer object of 10 artists>)"
      ]
     },
     "execution_count": 28,
     "metadata": {},
     "output_type": "execute_result"
    },
    {
     "data": {
      "image/png": "[encoded data removed]",
      "text/plain": [
       "<Figure size 1080x576 with 1 Axes>"
      ]
     },
     "metadata": {
      "needs_background": "light"
     },
     "output_type": "display_data"
    }
   ],
   "source": [
    "plt.figure(figsize=(15,8))\n",
    "plt.hist(df[df['assists']<12][\"assists\"])"
   ]
  },
  {
   "cell_type": "code",
   "execution_count": 29,
   "id": "4f0b2d3b",
   "metadata": {},
   "outputs": [],
   "source": [
    "df = df[df['assists']<12]"
   ]
  },
  {
   "cell_type": "code",
   "execution_count": 30,
   "id": "b5cba9f5",
   "metadata": {},
   "outputs": [
    {
     "data": {
      "text/plain": [
       "(10687, 21)"
      ]
     },
     "execution_count": 30,
     "metadata": {},
     "output_type": "execute_result"
    }
   ],
   "source": [
    "df.shape"
   ]
  },
  {
   "cell_type": "code",
   "execution_count": 31,
   "id": "73198251",
   "metadata": {},
   "outputs": [
    {
     "data": {
      "text/plain": [
       "(array([1.0629e+04, 4.2000e+01, 3.0000e+00, 4.0000e+00, 2.0000e+00,\n",
       "        2.0000e+00, 1.0000e+00, 1.0000e+00, 1.0000e+00, 1.0000e+00]),\n",
       " array([ 0.        ,  1.28571429,  2.57142857,  3.85714286,  5.14285714,\n",
       "         6.42857143,  7.71428572,  9.        , 10.28571429, 11.57142857,\n",
       "        12.85714286]),\n",
       " <BarContainer object of 10 artists>)"
      ]
     },
     "execution_count": 31,
     "metadata": {},
     "output_type": "execute_result"
    },
    {
     "data": {
      "image/png": "[encoded data removed]",
      "text/plain": [
       "<Figure size 1080x576 with 1 Axes>"
      ]
     },
     "metadata": {
      "needs_background": "light"
     },
     "output_type": "display_data"
    }
   ],
   "source": [
    "plt.figure(figsize=(15,8))\n",
    "plt.hist(df[df['yellow cards']<=20][\"yellow cards\"])"
   ]
  },
  {
   "cell_type": "code",
   "execution_count": 32,
   "id": "6b9d2bcd",
   "metadata": {},
   "outputs": [],
   "source": [
    "df = df[df['yellow cards']<=20]"
   ]
  },
  {
   "cell_type": "code",
   "execution_count": 33,
   "id": "2431ded4",
   "metadata": {},
   "outputs": [
    {
     "data": {
      "text/plain": [
       "(10686, 21)"
      ]
     },
     "execution_count": 33,
     "metadata": {},
     "output_type": "execute_result"
    }
   ],
   "source": [
    "df.shape"
   ]
  },
  {
   "cell_type": "code",
   "execution_count": 34,
   "id": "c692e759",
   "metadata": {},
   "outputs": [
    {
     "data": {
      "text/plain": [
       "second yellow cards\n",
       "0.000000    9519\n",
       "0.025035       3\n",
       "0.021464       3\n",
       "0.021388       3\n",
       "0.036364       3\n",
       "            ... \n",
       "0.019007       1\n",
       "0.016657       1\n",
       "0.065934       1\n",
       "0.024045       1\n",
       "0.057878       1\n",
       "Name: count, Length: 1094, dtype: int64"
      ]
     },
     "execution_count": 34,
     "metadata": {},
     "output_type": "execute_result"
    }
   ],
   "source": [
    "df['second yellow cards'].value_counts()"
   ]
  },
  {
   "cell_type": "code",
   "execution_count": 35,
   "id": "a5453726",
   "metadata": {},
   "outputs": [],
   "source": [
    "df = df[df[\"second yellow cards\"]<3]"
   ]
  },
  {
   "cell_type": "code",
   "execution_count": 37,
   "id": "10338845",
   "metadata": {},
   "outputs": [
    {
     "data": {
      "text/plain": [
       "red cards\n",
       "0.000000    9363\n",
       "0.039233       3\n",
       "0.018572       3\n",
       "0.019811       3\n",
       "0.081818       3\n",
       "            ... \n",
       "0.020045       1\n",
       "0.018995       1\n",
       "0.028391       1\n",
       "0.025288       1\n",
       "0.104046       1\n",
       "Name: count, Length: 1211, dtype: int64"
      ]
     },
     "execution_count": 37,
     "metadata": {},
     "output_type": "execute_result"
    }
   ],
   "source": [
    "df['red cards'].value_counts()"
   ]
  },
  {
   "cell_type": "code",
   "execution_count": 38,
   "id": "eb080ec5",
   "metadata": {},
   "outputs": [],
   "source": [
    "df = df[df[\"red cards\"]<3]"
   ]
  },
  {
   "cell_type": "code",
   "execution_count": 39,
   "id": "b805574a",
   "metadata": {},
   "outputs": [
    {
     "data": {
      "text/plain": [
       "(array([4766., 2204., 1218.,  726.,    0.,  455.,  320.,  214.,  193.,\n",
       "         118.]),\n",
       " array([0. , 0.8, 1.6, 2.4, 3.2, 4. , 4.8, 5.6, 6.4, 7.2, 8. ]),\n",
       " <BarContainer object of 10 artists>)"
      ]
     },
     "execution_count": 39,
     "metadata": {},
     "output_type": "execute_result"
    },
    {
     "data": {
      "image/png": "[encoded data removed]",
      "text/plain": [
       "<Figure size 1080x576 with 1 Axes>"
      ]
     },
     "metadata": {
      "needs_background": "light"
     },
     "output_type": "display_data"
    }
   ],
   "source": [
    "plt.figure(figsize=(15,8))\n",
    "plt.hist(df[df[\"award\"]<9][\"award\"])"
   ]
  },
  {
   "cell_type": "code",
   "execution_count": 40,
   "id": "22cfa3b4",
   "metadata": {},
   "outputs": [],
   "source": [
    "df = df[df['award']<9]"
   ]
  },
  {
   "cell_type": "code",
   "execution_count": 41,
   "id": "eeac7bd1",
   "metadata": {},
   "outputs": [
    {
     "data": {
      "text/plain": [
       "(array([6120., 1242.,  782.,  707.,  432.,  297.,  184.,  145.,   88.,\n",
       "          80.]),\n",
       " array([  0. ,  69.7, 139.4, 209.1, 278.8, 348.5, 418.2, 487.9, 557.6,\n",
       "        627.3, 697. ]),\n",
       " <BarContainer object of 10 artists>)"
      ]
     },
     "execution_count": 41,
     "metadata": {},
     "output_type": "execute_result"
    },
    {
     "data": {
      "image/png": "[encoded data removed]",
      "text/plain": [
       "<Figure size 1080x576 with 1 Axes>"
      ]
     },
     "metadata": {
      "needs_background": "light"
     },
     "output_type": "display_data"
    }
   ],
   "source": [
    "plt.figure(figsize=(15,8))\n",
    "plt.hist(df[df[\"days_injured\"]<=700][\"days_injured\"])"
   ]
  },
  {
   "cell_type": "code",
   "execution_count": 42,
   "id": "388b6998",
   "metadata": {},
   "outputs": [],
   "source": [
    "df = df[df[\"days_injured\"]<=700]"
   ]
  },
  {
   "cell_type": "code",
   "execution_count": 43,
   "id": "c64b3dca",
   "metadata": {},
   "outputs": [
    {
     "data": {
      "text/plain": [
       "(array([5609., 1146.,  824.,  597.,  470.,  385.,  302.,  242.,  168.,\n",
       "         107.]),\n",
       " array([ 0. ,  6.9, 13.8, 20.7, 27.6, 34.5, 41.4, 48.3, 55.2, 62.1, 69. ]),\n",
       " <BarContainer object of 10 artists>)"
      ]
     },
     "execution_count": 43,
     "metadata": {},
     "output_type": "execute_result"
    },
    {
     "data": {
      "image/png": "[encoded data removed]",
      "text/plain": [
       "<Figure size 1080x576 with 1 Axes>"
      ]
     },
     "metadata": {
      "needs_background": "light"
     },
     "output_type": "display_data"
    }
   ],
   "source": [
    "plt.figure(figsize=(15,8))\n",
    "plt.hist(df[df['games_injured']<70][\"games_injured\"])"
   ]
  },
  {
   "cell_type": "code",
   "execution_count": 44,
   "id": "a7bbf440",
   "metadata": {},
   "outputs": [],
   "source": [
    "df = df[df['games_injured']<70]"
   ]
  },
  {
   "cell_type": "code",
   "execution_count": 45,
   "id": "1525269f",
   "metadata": {},
   "outputs": [
    {
     "data": {
      "text/plain": [
       "(array([2834., 1536., 1049., 1099.,  965.,  911.,  680.,  395.,  254.,\n",
       "         105.]),\n",
       " array([   0. ,  793.2, 1586.4, 2379.6, 3172.8, 3966. , 4759.2, 5552.4,\n",
       "        6345.6, 7138.8, 7932. ]),\n",
       " <BarContainer object of 10 artists>)"
      ]
     },
     "execution_count": 45,
     "metadata": {},
     "output_type": "execute_result"
    },
    {
     "data": {
      "image/png": "[encoded data removed]",
      "text/plain": [
       "<Figure size 1080x576 with 1 Axes>"
      ]
     },
     "metadata": {
      "needs_background": "light"
     },
     "output_type": "display_data"
    }
   ],
   "source": [
    "plt.figure(figsize=(15,8))\n",
    "plt.hist(df[df[\"minutes played\"]<8000][\"minutes played\"])"
   ]
  },
  {
   "cell_type": "code",
   "execution_count": 46,
   "id": "9dcc777f",
   "metadata": {},
   "outputs": [],
   "source": [
    "df = df[df[\"minutes played\"]<8000]"
   ]
  },
  {
   "cell_type": "code",
   "execution_count": 47,
   "id": "7dd17591",
   "metadata": {},
   "outputs": [
    {
     "data": {
      "text/plain": [
       "Index(['team', 'name', 'position', 'height', 'age', 'appearance', 'goals',\n",
       "       'assists', 'yellow cards', 'second yellow cards', 'red cards',\n",
       "       'goals conceded', 'clean sheets', 'minutes played', 'days_injured',\n",
       "       'games_injured', 'award', 'current_value', 'highest_value',\n",
       "       'position_encoded', 'winger'],\n",
       "      dtype='object')"
      ]
     },
     "execution_count": 47,
     "metadata": {},
     "output_type": "execute_result"
    }
   ],
   "source": [
    "df.columns"
   ]
  },
  {
   "cell_type": "code",
   "execution_count": 48,
   "id": "0aa42f7c",
   "metadata": {},
   "outputs": [
    {
     "ename": "KeyError",
     "evalue": "\"['Unnamed: 0', 'goals per 90', 'assists per 90', 'yellow cards per 90', 'second yellow cards per 90', 'red cards per 90', 'goals conceded per 90', 'clean sheets per 90'] not found in axis\"",
     "output_type": "error",
     "traceback": [
      "\u001b[1;31m---------------------------------------------------------------------------\u001b[0m",
      "\u001b[1;31mKeyError\u001b[0m                                  Traceback (most recent call last)",
      "\u001b[1;32m<ipython-input-48-e93d7bf1fe0e>\u001b[0m in \u001b[0;36m<module>\u001b[1;34m\u001b[0m\n\u001b[1;32m----> 1\u001b[1;33m df = df.drop(['Unnamed: 0','goals per 90','assists per 90','yellow cards per 90','second yellow cards per 90',\n\u001b[0m\u001b[0;32m      2\u001b[0m          'red cards per 90','goals conceded per 90','clean sheets per 90'], axis=1)\n",
      "\u001b[1;32m~\\anaconda3\\lib\\site-packages\\pandas\\core\\frame.py\u001b[0m in \u001b[0;36mdrop\u001b[1;34m(self, labels, axis, index, columns, level, inplace, errors)\u001b[0m\n\u001b[0;32m   5256\u001b[0m                 \u001b[0mweight\u001b[0m  \u001b[1;36m1.0\u001b[0m     \u001b[1;36m0.8\u001b[0m\u001b[1;33m\u001b[0m\u001b[1;33m\u001b[0m\u001b[0m\n\u001b[0;32m   5257\u001b[0m         \"\"\"\n\u001b[1;32m-> 5258\u001b[1;33m         return super().drop(\n\u001b[0m\u001b[0;32m   5259\u001b[0m             \u001b[0mlabels\u001b[0m\u001b[1;33m=\u001b[0m\u001b[0mlabels\u001b[0m\u001b[1;33m,\u001b[0m\u001b[1;33m\u001b[0m\u001b[1;33m\u001b[0m\u001b[0m\n\u001b[0;32m   5260\u001b[0m             \u001b[0maxis\u001b[0m\u001b[1;33m=\u001b[0m\u001b[0maxis\u001b[0m\u001b[1;33m,\u001b[0m\u001b[1;33m\u001b[0m\u001b[1;33m\u001b[0m\u001b[0m\n",
      "\u001b[1;32m~\\anaconda3\\lib\\site-packages\\pandas\\core\\generic.py\u001b[0m in \u001b[0;36mdrop\u001b[1;34m(self, labels, axis, index, columns, level, inplace, errors)\u001b[0m\n\u001b[0;32m   4547\u001b[0m         \u001b[1;32mfor\u001b[0m \u001b[0maxis\u001b[0m\u001b[1;33m,\u001b[0m \u001b[0mlabels\u001b[0m \u001b[1;32min\u001b[0m \u001b[0maxes\u001b[0m\u001b[1;33m.\u001b[0m\u001b[0mitems\u001b[0m\u001b[1;33m(\u001b[0m\u001b[1;33m)\u001b[0m\u001b[1;33m:\u001b[0m\u001b[1;33m\u001b[0m\u001b[1;33m\u001b[0m\u001b[0m\n\u001b[0;32m   4548\u001b[0m             \u001b[1;32mif\u001b[0m \u001b[0mlabels\u001b[0m \u001b[1;32mis\u001b[0m \u001b[1;32mnot\u001b[0m \u001b[1;32mNone\u001b[0m\u001b[1;33m:\u001b[0m\u001b[1;33m\u001b[0m\u001b[1;33m\u001b[0m\u001b[0m\n\u001b[1;32m-> 4549\u001b[1;33m                 \u001b[0mobj\u001b[0m \u001b[1;33m=\u001b[0m \u001b[0mobj\u001b[0m\u001b[1;33m.\u001b[0m\u001b[0m_drop_axis\u001b[0m\u001b[1;33m(\u001b[0m\u001b[0mlabels\u001b[0m\u001b[1;33m,\u001b[0m \u001b[0maxis\u001b[0m\u001b[1;33m,\u001b[0m \u001b[0mlevel\u001b[0m\u001b[1;33m=\u001b[0m\u001b[0mlevel\u001b[0m\u001b[1;33m,\u001b[0m \u001b[0merrors\u001b[0m\u001b[1;33m=\u001b[0m\u001b[0merrors\u001b[0m\u001b[1;33m)\u001b[0m\u001b[1;33m\u001b[0m\u001b[1;33m\u001b[0m\u001b[0m\n\u001b[0m\u001b[0;32m   4550\u001b[0m \u001b[1;33m\u001b[0m\u001b[0m\n\u001b[0;32m   4551\u001b[0m         \u001b[1;32mif\u001b[0m \u001b[0minplace\u001b[0m\u001b[1;33m:\u001b[0m\u001b[1;33m\u001b[0m\u001b[1;33m\u001b[0m\u001b[0m\n",
      "\u001b[1;32m~\\anaconda3\\lib\\site-packages\\pandas\\core\\generic.py\u001b[0m in \u001b[0;36m_drop_axis\u001b[1;34m(self, labels, axis, level, errors, only_slice)\u001b[0m\n\u001b[0;32m   4589\u001b[0m                 \u001b[0mnew_axis\u001b[0m \u001b[1;33m=\u001b[0m \u001b[0maxis\u001b[0m\u001b[1;33m.\u001b[0m\u001b[0mdrop\u001b[0m\u001b[1;33m(\u001b[0m\u001b[0mlabels\u001b[0m\u001b[1;33m,\u001b[0m \u001b[0mlevel\u001b[0m\u001b[1;33m=\u001b[0m\u001b[0mlevel\u001b[0m\u001b[1;33m,\u001b[0m \u001b[0merrors\u001b[0m\u001b[1;33m=\u001b[0m\u001b[0merrors\u001b[0m\u001b[1;33m)\u001b[0m\u001b[1;33m\u001b[0m\u001b[1;33m\u001b[0m\u001b[0m\n\u001b[0;32m   4590\u001b[0m             \u001b[1;32melse\u001b[0m\u001b[1;33m:\u001b[0m\u001b[1;33m\u001b[0m\u001b[1;33m\u001b[0m\u001b[0m\n\u001b[1;32m-> 4591\u001b[1;33m                 \u001b[0mnew_axis\u001b[0m \u001b[1;33m=\u001b[0m \u001b[0maxis\u001b[0m\u001b[1;33m.\u001b[0m\u001b[0mdrop\u001b[0m\u001b[1;33m(\u001b[0m\u001b[0mlabels\u001b[0m\u001b[1;33m,\u001b[0m \u001b[0merrors\u001b[0m\u001b[1;33m=\u001b[0m\u001b[0merrors\u001b[0m\u001b[1;33m)\u001b[0m\u001b[1;33m\u001b[0m\u001b[1;33m\u001b[0m\u001b[0m\n\u001b[0m\u001b[0;32m   4592\u001b[0m             \u001b[0mindexer\u001b[0m \u001b[1;33m=\u001b[0m \u001b[0maxis\u001b[0m\u001b[1;33m.\u001b[0m\u001b[0mget_indexer\u001b[0m\u001b[1;33m(\u001b[0m\u001b[0mnew_axis\u001b[0m\u001b[1;33m)\u001b[0m\u001b[1;33m\u001b[0m\u001b[1;33m\u001b[0m\u001b[0m\n\u001b[0;32m   4593\u001b[0m \u001b[1;33m\u001b[0m\u001b[0m\n",
      "\u001b[1;32m~\\anaconda3\\lib\\site-packages\\pandas\\core\\indexes\\base.py\u001b[0m in \u001b[0;36mdrop\u001b[1;34m(self, labels, errors)\u001b[0m\n\u001b[0;32m   6697\u001b[0m         \u001b[1;32mif\u001b[0m \u001b[0mmask\u001b[0m\u001b[1;33m.\u001b[0m\u001b[0many\u001b[0m\u001b[1;33m(\u001b[0m\u001b[1;33m)\u001b[0m\u001b[1;33m:\u001b[0m\u001b[1;33m\u001b[0m\u001b[1;33m\u001b[0m\u001b[0m\n\u001b[0;32m   6698\u001b[0m             \u001b[1;32mif\u001b[0m \u001b[0merrors\u001b[0m \u001b[1;33m!=\u001b[0m \u001b[1;34m\"ignore\"\u001b[0m\u001b[1;33m:\u001b[0m\u001b[1;33m\u001b[0m\u001b[1;33m\u001b[0m\u001b[0m\n\u001b[1;32m-> 6699\u001b[1;33m                 \u001b[1;32mraise\u001b[0m \u001b[0mKeyError\u001b[0m\u001b[1;33m(\u001b[0m\u001b[1;34mf\"{list(labels[mask])} not found in axis\"\u001b[0m\u001b[1;33m)\u001b[0m\u001b[1;33m\u001b[0m\u001b[1;33m\u001b[0m\u001b[0m\n\u001b[0m\u001b[0;32m   6700\u001b[0m             \u001b[0mindexer\u001b[0m \u001b[1;33m=\u001b[0m \u001b[0mindexer\u001b[0m\u001b[1;33m[\u001b[0m\u001b[1;33m~\u001b[0m\u001b[0mmask\u001b[0m\u001b[1;33m]\u001b[0m\u001b[1;33m\u001b[0m\u001b[1;33m\u001b[0m\u001b[0m\n\u001b[0;32m   6701\u001b[0m         \u001b[1;32mreturn\u001b[0m \u001b[0mself\u001b[0m\u001b[1;33m.\u001b[0m\u001b[0mdelete\u001b[0m\u001b[1;33m(\u001b[0m\u001b[0mindexer\u001b[0m\u001b[1;33m)\u001b[0m\u001b[1;33m\u001b[0m\u001b[1;33m\u001b[0m\u001b[0m\n",
      "\u001b[1;31mKeyError\u001b[0m: \"['Unnamed: 0', 'goals per 90', 'assists per 90', 'yellow cards per 90', 'second yellow cards per 90', 'red cards per 90', 'goals conceded per 90', 'clean sheets per 90'] not found in axis\""
     ]
    }
   ],
   "source": [
    "df = df.drop(['Unnamed: 0','goals per 90','assists per 90','yellow cards per 90','second yellow cards per 90',\n",
    "         'red cards per 90','goals conceded per 90','clean sheets per 90'], axis=1)"
   ]
  },
  {
   "cell_type": "code",
   "execution_count": 49,
   "id": "7a1892ec",
   "metadata": {},
   "outputs": [],
   "source": [
    "df = df.drop(['position','name'],axis=1)"
   ]
  },
  {
   "cell_type": "code",
   "execution_count": 50,
   "id": "61522b73",
   "metadata": {},
   "outputs": [
    {
     "data": {
      "text/plain": [
       "Index(['team', 'height', 'age', 'appearance', 'goals', 'assists',\n",
       "       'yellow cards', 'second yellow cards', 'red cards', 'goals conceded',\n",
       "       'clean sheets', 'minutes played', 'days_injured', 'games_injured',\n",
       "       'award', 'current_value', 'highest_value', 'position_encoded',\n",
       "       'winger'],\n",
       "      dtype='object')"
      ]
     },
     "execution_count": 50,
     "metadata": {},
     "output_type": "execute_result"
    }
   ],
   "source": [
    "df.columns"
   ]
  },
  {
   "cell_type": "code",
   "execution_count": 51,
   "id": "d2b76e4b",
   "metadata": {},
   "outputs": [
    {
     "data": {
      "text/plain": [
       "(9828, 19)"
      ]
     },
     "execution_count": 51,
     "metadata": {},
     "output_type": "execute_result"
    }
   ],
   "source": [
    "df.shape"
   ]
  },
  {
   "cell_type": "markdown",
   "id": "333b5263",
   "metadata": {},
   "source": [
    "### 2. Feature engineering"
   ]
  },
  {
   "cell_type": "markdown",
   "id": "dc55513f",
   "metadata": {},
   "source": [
    "1.Feature scaling\n",
    "\n",
    "2.Aggregation\n",
    "\n",
    "3.One hot coding"
   ]
  },
  {
   "cell_type": "code",
   "execution_count": 52,
   "id": "81607f75",
   "metadata": {},
   "outputs": [
    {
     "data": {
      "text/html": [
       "<div>\n",
       "<style scoped>\n",
       "    .dataframe tbody tr th:only-of-type {\n",
       "        vertical-align: middle;\n",
       "    }\n",
       "\n",
       "    .dataframe tbody tr th {\n",
       "        vertical-align: top;\n",
       "    }\n",
       "\n",
       "    .dataframe thead th {\n",
       "        text-align: right;\n",
       "    }\n",
       "</style>\n",
       "<table border=\"1\" class=\"dataframe\">\n",
       "  <thead>\n",
       "    <tr style=\"text-align: right;\">\n",
       "      <th></th>\n",
       "      <th>team</th>\n",
       "      <th>height</th>\n",
       "      <th>age</th>\n",
       "      <th>appearance</th>\n",
       "      <th>goals</th>\n",
       "      <th>assists</th>\n",
       "      <th>yellow cards</th>\n",
       "      <th>second yellow cards</th>\n",
       "      <th>red cards</th>\n",
       "      <th>goals conceded</th>\n",
       "      <th>clean sheets</th>\n",
       "      <th>minutes played</th>\n",
       "      <th>days_injured</th>\n",
       "      <th>games_injured</th>\n",
       "      <th>award</th>\n",
       "      <th>current_value</th>\n",
       "      <th>highest_value</th>\n",
       "      <th>position_encoded</th>\n",
       "      <th>winger</th>\n",
       "    </tr>\n",
       "  </thead>\n",
       "  <tbody>\n",
       "    <tr>\n",
       "      <th>1</th>\n",
       "      <td>Manchester United</td>\n",
       "      <td>196.0</td>\n",
       "      <td>30.0</td>\n",
       "      <td>15</td>\n",
       "      <td>0.000000</td>\n",
       "      <td>0.0</td>\n",
       "      <td>0.069018</td>\n",
       "      <td>0.0000</td>\n",
       "      <td>0.0</td>\n",
       "      <td>1.242331</td>\n",
       "      <td>0.207055</td>\n",
       "      <td>1304</td>\n",
       "      <td>510</td>\n",
       "      <td>58</td>\n",
       "      <td>1</td>\n",
       "      <td>1500000</td>\n",
       "      <td>22000000</td>\n",
       "      <td>1</td>\n",
       "      <td>0</td>\n",
       "    </tr>\n",
       "    <tr>\n",
       "      <th>5</th>\n",
       "      <td>Manchester United</td>\n",
       "      <td>194.0</td>\n",
       "      <td>30.0</td>\n",
       "      <td>68</td>\n",
       "      <td>0.037799</td>\n",
       "      <td>0.0</td>\n",
       "      <td>0.302394</td>\n",
       "      <td>0.0189</td>\n",
       "      <td>0.0</td>\n",
       "      <td>0.000000</td>\n",
       "      <td>0.000000</td>\n",
       "      <td>4762</td>\n",
       "      <td>148</td>\n",
       "      <td>27</td>\n",
       "      <td>1</td>\n",
       "      <td>25000000</td>\n",
       "      <td>70000000</td>\n",
       "      <td>2</td>\n",
       "      <td>0</td>\n",
       "    </tr>\n",
       "  </tbody>\n",
       "</table>\n",
       "</div>"
      ],
      "text/plain": [
       "                team  height   age  appearance     goals  assists  \\\n",
       "1  Manchester United   196.0  30.0          15  0.000000      0.0   \n",
       "5  Manchester United   194.0  30.0          68  0.037799      0.0   \n",
       "\n",
       "   yellow cards  second yellow cards  red cards  goals conceded  clean sheets  \\\n",
       "1      0.069018               0.0000        0.0        1.242331      0.207055   \n",
       "5      0.302394               0.0189        0.0        0.000000      0.000000   \n",
       "\n",
       "   minutes played  days_injured  games_injured  award  current_value  \\\n",
       "1            1304           510             58      1        1500000   \n",
       "5            4762           148             27      1       25000000   \n",
       "\n",
       "   highest_value  position_encoded  winger  \n",
       "1       22000000                 1       0  \n",
       "5       70000000                 2       0  "
      ]
     },
     "execution_count": 52,
     "metadata": {},
     "output_type": "execute_result"
    }
   ],
   "source": [
    "df.head(2)"
   ]
  },
  {
   "cell_type": "code",
   "execution_count": 53,
   "id": "f4c3fd60",
   "metadata": {},
   "outputs": [
    {
     "data": {
      "text/plain": [
       "['team']"
      ]
     },
     "execution_count": 53,
     "metadata": {},
     "output_type": "execute_result"
    }
   ],
   "source": [
    "categorical_features"
   ]
  },
  {
   "cell_type": "code",
   "execution_count": 54,
   "id": "23199855",
   "metadata": {},
   "outputs": [],
   "source": [
    "df = pd.get_dummies(df, columns=categorical_features)"
   ]
  },
  {
   "cell_type": "code",
   "execution_count": 55,
   "id": "564de0cf",
   "metadata": {},
   "outputs": [
    {
     "data": {
      "text/plain": [
       "(9828, 392)"
      ]
     },
     "execution_count": 55,
     "metadata": {},
     "output_type": "execute_result"
    }
   ],
   "source": [
    "df.shape"
   ]
  },
  {
   "cell_type": "code",
   "execution_count": 56,
   "id": "d381042f",
   "metadata": {},
   "outputs": [
    {
     "data": {
      "text/html": [
       "<div>\n",
       "<style scoped>\n",
       "    .dataframe tbody tr th:only-of-type {\n",
       "        vertical-align: middle;\n",
       "    }\n",
       "\n",
       "    .dataframe tbody tr th {\n",
       "        vertical-align: top;\n",
       "    }\n",
       "\n",
       "    .dataframe thead th {\n",
       "        text-align: right;\n",
       "    }\n",
       "</style>\n",
       "<table border=\"1\" class=\"dataframe\">\n",
       "  <thead>\n",
       "    <tr style=\"text-align: right;\">\n",
       "      <th></th>\n",
       "      <th>height</th>\n",
       "      <th>age</th>\n",
       "      <th>appearance</th>\n",
       "      <th>goals</th>\n",
       "      <th>assists</th>\n",
       "      <th>yellow cards</th>\n",
       "      <th>second yellow cards</th>\n",
       "      <th>red cards</th>\n",
       "      <th>goals conceded</th>\n",
       "      <th>clean sheets</th>\n",
       "      <th>...</th>\n",
       "      <th>team_West Ham United</th>\n",
       "      <th>team_Western Sydney Wanderers</th>\n",
       "      <th>team_Western United FC</th>\n",
       "      <th>team_Wigan Athletic</th>\n",
       "      <th>team_Wolfsberger AC</th>\n",
       "      <th>team_Wolverhampton Wanderers</th>\n",
       "      <th>team_Yokohama F. Marinos</th>\n",
       "      <th>team_Yokohama FC</th>\n",
       "      <th>team_Zenit St. Petersburg</th>\n",
       "      <th>team_Ümraniyespor</th>\n",
       "    </tr>\n",
       "  </thead>\n",
       "  <tbody>\n",
       "    <tr>\n",
       "      <th>1</th>\n",
       "      <td>196.0</td>\n",
       "      <td>30.0</td>\n",
       "      <td>15</td>\n",
       "      <td>0.000000</td>\n",
       "      <td>0.0</td>\n",
       "      <td>0.069018</td>\n",
       "      <td>0.0000</td>\n",
       "      <td>0.0</td>\n",
       "      <td>1.242331</td>\n",
       "      <td>0.207055</td>\n",
       "      <td>...</td>\n",
       "      <td>False</td>\n",
       "      <td>False</td>\n",
       "      <td>False</td>\n",
       "      <td>False</td>\n",
       "      <td>False</td>\n",
       "      <td>False</td>\n",
       "      <td>False</td>\n",
       "      <td>False</td>\n",
       "      <td>False</td>\n",
       "      <td>False</td>\n",
       "    </tr>\n",
       "    <tr>\n",
       "      <th>5</th>\n",
       "      <td>194.0</td>\n",
       "      <td>30.0</td>\n",
       "      <td>68</td>\n",
       "      <td>0.037799</td>\n",
       "      <td>0.0</td>\n",
       "      <td>0.302394</td>\n",
       "      <td>0.0189</td>\n",
       "      <td>0.0</td>\n",
       "      <td>0.000000</td>\n",
       "      <td>0.000000</td>\n",
       "      <td>...</td>\n",
       "      <td>False</td>\n",
       "      <td>False</td>\n",
       "      <td>False</td>\n",
       "      <td>False</td>\n",
       "      <td>False</td>\n",
       "      <td>False</td>\n",
       "      <td>False</td>\n",
       "      <td>False</td>\n",
       "      <td>False</td>\n",
       "      <td>False</td>\n",
       "    </tr>\n",
       "  </tbody>\n",
       "</table>\n",
       "<p>2 rows × 392 columns</p>\n",
       "</div>"
      ],
      "text/plain": [
       "   height   age  appearance     goals  assists  yellow cards  \\\n",
       "1   196.0  30.0          15  0.000000      0.0      0.069018   \n",
       "5   194.0  30.0          68  0.037799      0.0      0.302394   \n",
       "\n",
       "   second yellow cards  red cards  goals conceded  clean sheets  ...  \\\n",
       "1               0.0000        0.0        1.242331      0.207055  ...   \n",
       "5               0.0189        0.0        0.000000      0.000000  ...   \n",
       "\n",
       "   team_West Ham United  team_Western Sydney Wanderers  \\\n",
       "1                 False                          False   \n",
       "5                 False                          False   \n",
       "\n",
       "   team_Western United FC  team_Wigan Athletic  team_Wolfsberger AC  \\\n",
       "1                   False                False                False   \n",
       "5                   False                False                False   \n",
       "\n",
       "   team_Wolverhampton Wanderers  team_Yokohama F. Marinos  team_Yokohama FC  \\\n",
       "1                         False                     False             False   \n",
       "5                         False                     False             False   \n",
       "\n",
       "   team_Zenit St. Petersburg  team_Ümraniyespor  \n",
       "1                      False              False  \n",
       "5                      False              False  \n",
       "\n",
       "[2 rows x 392 columns]"
      ]
     },
     "execution_count": 56,
     "metadata": {},
     "output_type": "execute_result"
    }
   ],
   "source": [
    "df.head(2)"
   ]
  },
  {
   "cell_type": "code",
   "execution_count": 57,
   "id": "aa3c0f93",
   "metadata": {},
   "outputs": [
    {
     "name": "stdout",
     "output_type": "stream",
     "text": [
      "current_value_category\n",
      "Good_Value     4053\n",
      "Cheap_Value    3174\n",
      "High_Value     2601\n",
      "Name: count, dtype: int64\n"
     ]
    }
   ],
   "source": [
    "# Calculate the 35th and 75th percentiles of the price\n",
    "p35 = df['current_value'].quantile(0.35)\n",
    "p75 = df['current_value'].quantile(0.75)\n",
    "\n",
    "# Function to categorize prices\n",
    "def categorize_price(value):\n",
    "    if value < p35:\n",
    "        return 'Cheap_Value'\n",
    "    elif value < p75:\n",
    "        return 'Good_Value'\n",
    "    else:\n",
    "        return 'High_Value'\n",
    "\n",
    "# Apply the function to create a new column\n",
    "df['current_value_category'] = df['current_value'].apply(categorize_price)\n",
    "\n",
    "df.drop('current_value', axis=1, inplace=True)\n",
    "\n",
    "# Verify the distribution of the new categories\n",
    "print(df['current_value_category'].value_counts())"
   ]
  },
  {
   "cell_type": "code",
   "execution_count": 58,
   "id": "228cab73",
   "metadata": {},
   "outputs": [
    {
     "data": {
      "text/plain": [
       "(400000.0, 2500000.0)"
      ]
     },
     "execution_count": 58,
     "metadata": {},
     "output_type": "execute_result"
    }
   ],
   "source": [
    "p35, p75"
   ]
  },
  {
   "cell_type": "code",
   "execution_count": 59,
   "id": "f7deb08e",
   "metadata": {},
   "outputs": [],
   "source": [
    "encoder = LabelEncoder()\n",
    "df['current_value_category'] = encoder.fit_transform(df['current_value_category']) "
   ]
  },
  {
   "cell_type": "markdown",
   "id": "23843db8",
   "metadata": {},
   "source": [
    "### 3. Feature selection"
   ]
  },
  {
   "cell_type": "code",
   "execution_count": 60,
   "id": "26c90631",
   "metadata": {},
   "outputs": [],
   "source": [
    "# sns.heatmap(df.corr(), annot=True);"
   ]
  },
  {
   "cell_type": "code",
   "execution_count": 61,
   "id": "45589cd9",
   "metadata": {},
   "outputs": [
    {
     "name": "stdout",
     "output_type": "stream",
     "text": [
      "current_value_category     1.000000\n",
      "appearance                 0.528936\n",
      "highest_value              0.509113\n",
      "minutes played             0.502761\n",
      "award                      0.264919\n",
      "                             ...   \n",
      "team_Swallows FC          -0.064124\n",
      "team_Richards Bay FC      -0.064609\n",
      "team_Royal AM FC          -0.068306\n",
      "team_Marumo Gallants FC   -0.069296\n",
      "goals conceded            -0.130302\n",
      "Name: current_value_category, Length: 392, dtype: float64\n"
     ]
    }
   ],
   "source": [
    "correlation = df.corr()\n",
    "print(correlation['current_value_category'].sort_values(ascending=False))"
   ]
  },
  {
   "cell_type": "code",
   "execution_count": 62,
   "id": "d6aca7ea",
   "metadata": {},
   "outputs": [
    {
     "data": {
      "text/plain": [
       "Index(['appearance', 'minutes played', 'games_injured', 'award',\n",
       "       'highest_value', 'current_value_category'],\n",
       "      dtype='object')"
      ]
     },
     "execution_count": 62,
     "metadata": {},
     "output_type": "execute_result"
    }
   ],
   "source": [
    "# Set the correlation threshold\n",
    "threshold = 0.24  # You can change this value based on your requirement\n",
    "\n",
    "# Filter the correlations\n",
    "# We use `abs()` for absolute value to consider both strong positive and negative correlations\n",
    "selected_features = correlation[abs(correlation['current_value_category']) > \\\n",
    "threshold]['current_value_category'].index\n",
    "selected_features"
   ]
  },
  {
   "cell_type": "code",
   "execution_count": 63,
   "id": "5355034b",
   "metadata": {},
   "outputs": [],
   "source": [
    "# selected_features = ['appearance', 'minutes played', 'current_value',\n",
    "                    #  'highest_value', 'assists', 'yellow cards', 'goals']"
   ]
  },
  {
   "cell_type": "code",
   "execution_count": 64,
   "id": "17535658",
   "metadata": {},
   "outputs": [
    {
     "data": {
      "text/html": [
       "<div>\n",
       "<style scoped>\n",
       "    .dataframe tbody tr th:only-of-type {\n",
       "        vertical-align: middle;\n",
       "    }\n",
       "\n",
       "    .dataframe tbody tr th {\n",
       "        vertical-align: top;\n",
       "    }\n",
       "\n",
       "    .dataframe thead th {\n",
       "        text-align: right;\n",
       "    }\n",
       "</style>\n",
       "<table border=\"1\" class=\"dataframe\">\n",
       "  <thead>\n",
       "    <tr style=\"text-align: right;\">\n",
       "      <th></th>\n",
       "      <th>appearance</th>\n",
       "      <th>minutes played</th>\n",
       "      <th>games_injured</th>\n",
       "      <th>award</th>\n",
       "      <th>highest_value</th>\n",
       "      <th>current_value_category</th>\n",
       "    </tr>\n",
       "  </thead>\n",
       "  <tbody>\n",
       "    <tr>\n",
       "      <th>1</th>\n",
       "      <td>15</td>\n",
       "      <td>1304</td>\n",
       "      <td>58</td>\n",
       "      <td>1</td>\n",
       "      <td>22000000</td>\n",
       "      <td>1</td>\n",
       "    </tr>\n",
       "    <tr>\n",
       "      <th>5</th>\n",
       "      <td>68</td>\n",
       "      <td>4762</td>\n",
       "      <td>27</td>\n",
       "      <td>1</td>\n",
       "      <td>70000000</td>\n",
       "      <td>2</td>\n",
       "    </tr>\n",
       "    <tr>\n",
       "      <th>8</th>\n",
       "      <td>34</td>\n",
       "      <td>2758</td>\n",
       "      <td>13</td>\n",
       "      <td>0</td>\n",
       "      <td>2000000</td>\n",
       "      <td>1</td>\n",
       "    </tr>\n",
       "    <tr>\n",
       "      <th>10</th>\n",
       "      <td>89</td>\n",
       "      <td>7132</td>\n",
       "      <td>15</td>\n",
       "      <td>3</td>\n",
       "      <td>22000000</td>\n",
       "      <td>2</td>\n",
       "    </tr>\n",
       "    <tr>\n",
       "      <th>11</th>\n",
       "      <td>34</td>\n",
       "      <td>2686</td>\n",
       "      <td>28</td>\n",
       "      <td>1</td>\n",
       "      <td>12000000</td>\n",
       "      <td>2</td>\n",
       "    </tr>\n",
       "  </tbody>\n",
       "</table>\n",
       "</div>"
      ],
      "text/plain": [
       "    appearance  minutes played  games_injured  award  highest_value  \\\n",
       "1           15            1304             58      1       22000000   \n",
       "5           68            4762             27      1       70000000   \n",
       "8           34            2758             13      0        2000000   \n",
       "10          89            7132             15      3       22000000   \n",
       "11          34            2686             28      1       12000000   \n",
       "\n",
       "    current_value_category  \n",
       "1                        1  \n",
       "5                        2  \n",
       "8                        1  \n",
       "10                       2  \n",
       "11                       2  "
      ]
     },
     "execution_count": 64,
     "metadata": {},
     "output_type": "execute_result"
    }
   ],
   "source": [
    "df = df[selected_features]\n",
    "df.head()"
   ]
  },
  {
   "cell_type": "markdown",
   "id": "ded131d2",
   "metadata": {},
   "source": [
    "### 4. Prepare train and test data"
   ]
  },
  {
   "cell_type": "code",
   "execution_count": 66,
   "id": "bac626b6",
   "metadata": {},
   "outputs": [],
   "source": [
    "# Prepare data\n",
    "X = df.drop(['current_value_category'], axis=1)\n",
    "y = df['current_value_category']\n",
    "\n",
    "# Split data into training and testing sets\n",
    "X_train, X_test, y_train, y_test = train_test_split(X, y,\n",
    "                                                    test_size=0.2,\n",
    "                                                    shuffle=True,\n",
    "                                                    random_state=43)"
   ]
  },
  {
   "cell_type": "code",
   "execution_count": 96,
   "id": "33b5cf3a",
   "metadata": {},
   "outputs": [
    {
     "data": {
      "text/plain": [
       "(9828, 5)"
      ]
     },
     "execution_count": 96,
     "metadata": {},
     "output_type": "execute_result"
    }
   ],
   "source": [
    "X.shape"
   ]
  },
  {
   "cell_type": "markdown",
   "id": "f09c4ef2",
   "metadata": {},
   "source": [
    "## Buliding the Model"
   ]
  },
  {
   "cell_type": "code",
   "execution_count": 70,
   "id": "c665f769",
   "metadata": {},
   "outputs": [],
   "source": [
    "dt_model = DecisionTreeClassifier()\n",
    "rf_model = RandomForestClassifier()"
   ]
  },
  {
   "cell_type": "code",
   "execution_count": 73,
   "id": "1cad3de3",
   "metadata": {},
   "outputs": [],
   "source": [
    "param_grid = {\n",
    "    'max_depth': [4, 5, 6, 7, 10, 15],   # Regularization strength\n",
    "    'n_estimators':[35, 40, 50, 60]\n",
    "}\n",
    "grid_search = GridSearchCV(estimator=rf_model,\n",
    "                           param_grid=param_grid,\n",
    "                           cv=5,\n",
    "                           scoring='f1_macro', \n",
    "                           verbose=1)"
   ]
  },
  {
   "cell_type": "markdown",
   "id": "5ea03dad",
   "metadata": {},
   "source": [
    "## Train the Model"
   ]
  },
  {
   "cell_type": "code",
   "execution_count": 74,
   "id": "5aca51f6",
   "metadata": {},
   "outputs": [
    {
     "data": {
      "text/plain": [
       "DecisionTreeClassifier()"
      ]
     },
     "execution_count": 74,
     "metadata": {},
     "output_type": "execute_result"
    }
   ],
   "source": [
    "# Fit the model on the training data\n",
    "dt_model.fit(X_train, y_train)"
   ]
  },
  {
   "cell_type": "code",
   "execution_count": 75,
   "id": "15a90dd0",
   "metadata": {},
   "outputs": [
    {
     "data": {
      "text/plain": [
       "RandomForestClassifier()"
      ]
     },
     "execution_count": 75,
     "metadata": {},
     "output_type": "execute_result"
    }
   ],
   "source": [
    "rf_model.fit(X_train, y_train)"
   ]
  },
  {
   "cell_type": "code",
   "execution_count": 76,
   "id": "c2376714",
   "metadata": {},
   "outputs": [
    {
     "name": "stdout",
     "output_type": "stream",
     "text": [
      "Fitting 5 folds for each of 24 candidates, totalling 120 fits\n"
     ]
    },
    {
     "data": {
      "text/plain": [
       "GridSearchCV(cv=5, estimator=RandomForestClassifier(),\n",
       "             param_grid={'max_depth': [4, 5, 6, 7, 10, 15],\n",
       "                         'n_estimators': [35, 40, 50, 60]},\n",
       "             scoring='f1_macro', verbose=1)"
      ]
     },
     "execution_count": 76,
     "metadata": {},
     "output_type": "execute_result"
    }
   ],
   "source": [
    "grid_search.fit(X_train, y_train)"
   ]
  },
  {
   "cell_type": "code",
   "execution_count": 84,
   "id": "349cfa1d",
   "metadata": {},
   "outputs": [
    {
     "data": {
      "text/plain": [
       "{'max_depth': 7, 'n_estimators': 40}"
      ]
     },
     "execution_count": 84,
     "metadata": {},
     "output_type": "execute_result"
    }
   ],
   "source": [
    "grid_search.best_params_"
   ]
  },
  {
   "cell_type": "code",
   "execution_count": 80,
   "id": "3cb1d7ca",
   "metadata": {},
   "outputs": [],
   "source": [
    "best_model = grid_search.best_estimator_"
   ]
  },
  {
   "cell_type": "markdown",
   "id": "d9aea31d",
   "metadata": {},
   "source": [
    "## Test the Model"
   ]
  },
  {
   "cell_type": "code",
   "execution_count": 85,
   "id": "e1401155",
   "metadata": {},
   "outputs": [],
   "source": [
    "# Predict and evaluate the model\n",
    "y_pred_dt = dt_model.predict(X_test)"
   ]
  },
  {
   "cell_type": "code",
   "execution_count": 86,
   "id": "dae51b0e",
   "metadata": {},
   "outputs": [],
   "source": [
    "y_pred_rf = rf_model.predict(X_test)"
   ]
  },
  {
   "cell_type": "code",
   "execution_count": 87,
   "id": "f1966c56",
   "metadata": {},
   "outputs": [],
   "source": [
    "y_pred_rf_g = best_model.predict(X_test)"
   ]
  },
  {
   "cell_type": "markdown",
   "id": "ee22f430",
   "metadata": {},
   "source": [
    "## Evaluating the Model"
   ]
  },
  {
   "cell_type": "code",
   "execution_count": 88,
   "id": "e2fa2bbd",
   "metadata": {},
   "outputs": [
    {
     "data": {
      "text/plain": [
       "41.24"
      ]
     },
     "execution_count": 88,
     "metadata": {},
     "output_type": "execute_result"
    }
   ],
   "source": [
    "# our benchmark model\n",
    "base_model = round(df['current_value_category'].value_counts()[1]/df.shape[0]*100, 2)\n",
    "base_model"
   ]
  },
  {
   "cell_type": "markdown",
   "id": "77afb0e0",
   "metadata": {},
   "source": [
    "1.Accuracy"
   ]
  },
  {
   "cell_type": "code",
   "execution_count": 90,
   "id": "1e01c5a8",
   "metadata": {},
   "outputs": [
    {
     "data": {
      "text/plain": [
       "0.7695829094608342"
      ]
     },
     "execution_count": 90,
     "metadata": {},
     "output_type": "execute_result"
    }
   ],
   "source": [
    "# Evaluate the model\n",
    "accuracy = accuracy_score(y_test, y_pred_dt)\n",
    "accuracy"
   ]
  },
  {
   "cell_type": "code",
   "execution_count": 92,
   "id": "83ef73c2",
   "metadata": {},
   "outputs": [
    {
     "data": {
      "text/plain": [
       "0.9994912236072246"
      ]
     },
     "execution_count": 92,
     "metadata": {},
     "output_type": "execute_result"
    }
   ],
   "source": [
    "y_pred_train_dt = dt_model.predict(X_train)\n",
    "accuracy = accuracy_score(y_train, y_pred_train_dt)\n",
    "accuracy"
   ]
  },
  {
   "cell_type": "code",
   "execution_count": 93,
   "id": "802f8159",
   "metadata": {},
   "outputs": [
    {
     "data": {
      "text/plain": [
       "0.8280773143438453"
      ]
     },
     "execution_count": 93,
     "metadata": {},
     "output_type": "execute_result"
    }
   ],
   "source": [
    "accuracy = accuracy_score(y_test, y_pred_rf)\n",
    "accuracy"
   ]
  },
  {
   "cell_type": "code",
   "execution_count": 94,
   "id": "2618823a",
   "metadata": {},
   "outputs": [
    {
     "data": {
      "text/plain": [
       "0.9994912236072246"
      ]
     },
     "execution_count": 94,
     "metadata": {},
     "output_type": "execute_result"
    }
   ],
   "source": [
    "y_pred_train_rf = rf_model.predict(X_train)\n",
    "accuracy = accuracy_score(y_train, y_pred_train_rf)\n",
    "accuracy"
   ]
  },
  {
   "cell_type": "code",
   "execution_count": 95,
   "id": "be17a51d",
   "metadata": {},
   "outputs": [
    {
     "data": {
      "text/plain": [
       "0.8387589013224822"
      ]
     },
     "execution_count": 95,
     "metadata": {},
     "output_type": "execute_result"
    }
   ],
   "source": [
    "accuracy = accuracy_score(y_test, y_pred_rf_g)\n",
    "accuracy"
   ]
  },
  {
   "cell_type": "code",
   "execution_count": 96,
   "id": "4d1bacb1",
   "metadata": {},
   "outputs": [
    {
     "data": {
      "text/plain": [
       "0.8410073772576953"
      ]
     },
     "execution_count": 96,
     "metadata": {},
     "output_type": "execute_result"
    }
   ],
   "source": [
    "y_pred_train_rf_g = best_model.predict(X_train)\n",
    "accuracy = accuracy_score(y_train, y_pred_train_rf_g)\n",
    "accuracy"
   ]
  },
  {
   "cell_type": "code",
   "execution_count": 97,
   "id": "b36a6275",
   "metadata": {},
   "outputs": [
    {
     "data": {
      "text/plain": [
       "array([[489, 153,  11],\n",
       "       [  0, 656, 111],\n",
       "       [  0,  42, 504]], dtype=int64)"
      ]
     },
     "execution_count": 97,
     "metadata": {},
     "output_type": "execute_result"
    }
   ],
   "source": [
    "conf_matrix = confusion_matrix(y_test, y_pred_rf_g)\n",
    "conf_matrix"
   ]
  },
  {
   "cell_type": "code",
   "execution_count": 98,
   "id": "66cacf45",
   "metadata": {},
   "outputs": [
    {
     "name": "stdout",
     "output_type": "stream",
     "text": [
      "              precision    recall  f1-score   support\n",
      "\n",
      "           0       1.00      0.75      0.86       653\n",
      "           1       0.77      0.86      0.81       767\n",
      "           2       0.81      0.92      0.86       546\n",
      "\n",
      "    accuracy                           0.84      1966\n",
      "   macro avg       0.86      0.84      0.84      1966\n",
      "weighted avg       0.86      0.84      0.84      1966\n",
      "\n"
     ]
    }
   ],
   "source": [
    "from sklearn.metrics import classification_report\n",
    "print(classification_report(y_test,\n",
    "                      y_pred_rf_g,\n",
    "                      labels=list(best_model.classes_)))"
   ]
  },
  {
   "cell_type": "code",
   "execution_count": 99,
   "id": "a4a7645b",
   "metadata": {},
   "outputs": [
    {
     "data": {
      "text/plain": [
       "array([[526, 115,  12],\n",
       "       [116, 564,  87],\n",
       "       [  9, 114, 423]], dtype=int64)"
      ]
     },
     "execution_count": 99,
     "metadata": {},
     "output_type": "execute_result"
    }
   ],
   "source": [
    "conf_matrix = confusion_matrix(y_test, y_pred_dt)\n",
    "conf_matrix"
   ]
  },
  {
   "cell_type": "code",
   "execution_count": 100,
   "id": "941e3fb3",
   "metadata": {},
   "outputs": [
    {
     "data": {
      "text/plain": [
       "array([[513, 128,  12],\n",
       "       [ 37, 623, 107],\n",
       "       [  1,  53, 492]], dtype=int64)"
      ]
     },
     "execution_count": 100,
     "metadata": {},
     "output_type": "execute_result"
    }
   ],
   "source": [
    "conf_matrix = confusion_matrix(y_test, y_pred_rf)\n",
    "conf_matrix"
   ]
  },
  {
   "cell_type": "code",
   "execution_count": 105,
   "id": "d4ccb3d7",
   "metadata": {},
   "outputs": [
    {
     "data": {
      "image/png": "[encoded data removed]",
      "text/plain": [
       "<Figure size 432x288 with 2 Axes>"
      ]
     },
     "metadata": {
      "needs_background": "light"
     },
     "output_type": "display_data"
    }
   ],
   "source": [
    "from sklearn.metrics import plot_confusion_matrix\n",
    "import matplotlib.pyplot as plt\n",
    "\n",
    "plot_confusion_matrix(dt_model, X_test, y_test, \n",
    "                      display_labels=dt_model.classes_,\n",
    "                      cmap=\"Blues\",\n",
    "                      xticks_rotation='vertical')\n",
    "plt.title('Confusion Matrix')\n",
    "plt.show()"
   ]
  },
  {
   "cell_type": "code",
   "execution_count": 108,
   "id": "7ca25a2b",
   "metadata": {},
   "outputs": [
    {
     "name": "stdout",
     "output_type": "stream",
     "text": [
      "Precision dt: 0.78\n"
     ]
    }
   ],
   "source": [
    "# Calculate Precision\n",
    "precision = precision_score(y_test, y_pred_dt, average='macro')\n",
    "print(f\"Precision dt: {precision:.2f}\")"
   ]
  },
  {
   "cell_type": "code",
   "execution_count": 109,
   "id": "158b980f",
   "metadata": {},
   "outputs": [
    {
     "name": "stdout",
     "output_type": "stream",
     "text": [
      "Precision rf: 0.84\n"
     ]
    }
   ],
   "source": [
    "# Calculate Precision\n",
    "precision = precision_score(y_test, y_pred_rf, average='macro')\n",
    "print(f\"Precision rf: {precision:.2f}\")"
   ]
  },
  {
   "cell_type": "code",
   "execution_count": 110,
   "id": "8cdea29d",
   "metadata": {},
   "outputs": [
    {
     "name": "stdout",
     "output_type": "stream",
     "text": [
      "Precision g: 0.86\n"
     ]
    }
   ],
   "source": [
    "# Calculate Precision\n",
    "precision = precision_score(y_test, y_pred_rf_g, average='macro')\n",
    "print(f\"Precision g: {precision:.2f}\")"
   ]
  },
  {
   "cell_type": "code",
   "execution_count": 111,
   "id": "6f790cb0",
   "metadata": {},
   "outputs": [
    {
     "name": "stdout",
     "output_type": "stream",
     "text": [
      "Recall dt: 0.77\n"
     ]
    }
   ],
   "source": [
    "# Calculate Recall\n",
    "recall = recall_score(y_test, y_pred_dt, average='macro')\n",
    "print(f\"Recall dt: {recall:.2f}\")"
   ]
  },
  {
   "cell_type": "code",
   "execution_count": 112,
   "id": "92ce2821",
   "metadata": {},
   "outputs": [
    {
     "name": "stdout",
     "output_type": "stream",
     "text": [
      "Recall rf: 0.83\n"
     ]
    }
   ],
   "source": [
    "# Calculate Recall\n",
    "recall = recall_score(y_test, y_pred_rf, average='macro')\n",
    "print(f\"Recall rf: {recall:.2f}\")"
   ]
  },
  {
   "cell_type": "code",
   "execution_count": 113,
   "id": "4da05101",
   "metadata": {},
   "outputs": [
    {
     "name": "stdout",
     "output_type": "stream",
     "text": [
      "Recall g: 0.84\n"
     ]
    }
   ],
   "source": [
    "# Calculate Recall\n",
    "recall = recall_score(y_test, y_pred_rf_g, average='macro')\n",
    "print(f\"Recall g: {recall:.2f}\")"
   ]
  },
  {
   "cell_type": "code",
   "execution_count": 114,
   "id": "0571e65e",
   "metadata": {},
   "outputs": [
    {
     "name": "stdout",
     "output_type": "stream",
     "text": [
      "F1 Score dt: 0.77\n"
     ]
    }
   ],
   "source": [
    "# Calculate F1 Score\n",
    "f1 = f1_score(y_test, y_pred_dt, average='macro')\n",
    "print(f\"F1 Score dt: {f1:.2f}\")"
   ]
  },
  {
   "cell_type": "code",
   "execution_count": 115,
   "id": "106fe9b6",
   "metadata": {},
   "outputs": [
    {
     "name": "stdout",
     "output_type": "stream",
     "text": [
      "F1 Score rf: 0.83\n"
     ]
    }
   ],
   "source": [
    "# Calculate F1 Score\n",
    "f1 = f1_score(y_test, y_pred_rf, average='macro')\n",
    "print(f\"F1 Score rf: {f1:.2f}\")"
   ]
  },
  {
   "cell_type": "code",
   "execution_count": 116,
   "id": "19da3591",
   "metadata": {},
   "outputs": [
    {
     "name": "stdout",
     "output_type": "stream",
     "text": [
      "F1 Score g: 0.84\n"
     ]
    }
   ],
   "source": [
    "# Calculate F1 Score\n",
    "f1 = f1_score(y_test, y_pred_rf_g, average='macro')\n",
    "print(f\"F1 Score g: {f1:.2f}\")"
   ]
  },
  {
   "cell_type": "code",
   "execution_count": 117,
   "id": "cb57d27a",
   "metadata": {},
   "outputs": [
    {
     "data": {
      "image/png": "[encoded data removed]",
      "text/plain": [
       "<Figure size 432x288 with 1 Axes>"
      ]
     },
     "metadata": {
      "needs_background": "light"
     },
     "output_type": "display_data"
    }
   ],
   "source": [
    "# Feature importance from Random Forest\n",
    "feature_importances = best_model.feature_importances_\n",
    "plt.barh(X.columns, feature_importances)\n",
    "plt.xlabel('Feature Importance')\n",
    "plt.title('Feature Importance from Random Forest')\n",
    "plt.show()"
   ]
  }
 ],
 "metadata": {
  "kernelspec": {
   "display_name": "Python 3",
   "language": "python",
   "name": "python3"
  },
  "language_info": {
   "codemirror_mode": {
    "name": "ipython",
    "version": 3
   },
   "file_extension": ".py",
   "mimetype": "text/x-python",
   "name": "python",
   "nbconvert_exporter": "python",
   "pygments_lexer": "ipython3",
   "version": "3.8.8"
  }
 },
 "nbformat": 4,
 "nbformat_minor": 5
}
