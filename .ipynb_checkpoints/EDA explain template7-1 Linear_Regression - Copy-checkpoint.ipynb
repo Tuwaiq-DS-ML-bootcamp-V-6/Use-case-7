{
 "cells": [
  {
   "cell_type": "markdown",
   "id": "8cbffa56-e5c1-4add-aa16-322513353154",
   "metadata": {},
   "source": [
    "### Import Libraries"
   ]
  },
  {
   "cell_type": "code",
   "execution_count": 1,
   "id": "49fc47df-2f9f-42fe-ab43-09299f38c8c8",
   "metadata": {},
   "outputs": [],
   "source": [
    "# To ignore warnings\n",
    "import warnings\n",
    "warnings.filterwarnings(\"ignore\")\n",
    "import pandas as pd\n",
    "import numpy as np\n",
    "import matplotlib.pyplot as plt\n",
    "import seaborn as sns\n",
    "\n",
    "from sklearn.model_selection import train_test_split\n",
    "from sklearn.metrics import mean_squared_error, r2_score, mean_absolute_error\n",
    "from sklearn.preprocessing import StandardScaler\n",
    "from sklearn.linear_model import LinearRegression, Ridge, Lasso\n",
    "from sklearn.model_selection import GridSearchCV\n",
    "from sklearn import metrics\n",
    "\n",
    "%matplotlib inline"
   ]
  },
  {
   "cell_type": "markdown",
   "id": "efbd91de-1243-48b4-b6ef-6612c77b7537",
   "metadata": {},
   "source": [
    "### Load the Data"
   ]
  },
  {
   "cell_type": "code",
   "execution_count": 2,
   "id": "1c8742f3-de67-4fef-b634-efd83cd775f6",
   "metadata": {},
   "outputs": [],
   "source": [
    "player = pd.read_csv(\"final_data.csv\")"
   ]
  },
  {
   "cell_type": "code",
   "execution_count": 3,
   "id": "db6a4e19-4504-4c3b-bbfe-4b9819627f55",
   "metadata": {},
   "outputs": [
    {
     "data": {
      "text/plain": [
       "(10754, 22)"
      ]
     },
     "execution_count": 3,
     "metadata": {},
     "output_type": "execute_result"
    }
   ],
   "source": [
    "player.shape"
   ]
  },
  {
   "cell_type": "code",
   "execution_count": 4,
   "id": "ef9d6218-1dbc-45f0-a83d-181da1b0e119",
   "metadata": {},
   "outputs": [
    {
     "data": {
      "text/html": [
       "<div>\n",
       "<style scoped>\n",
       "    .dataframe tbody tr th:only-of-type {\n",
       "        vertical-align: middle;\n",
       "    }\n",
       "\n",
       "    .dataframe tbody tr th {\n",
       "        vertical-align: top;\n",
       "    }\n",
       "\n",
       "    .dataframe thead th {\n",
       "        text-align: right;\n",
       "    }\n",
       "</style>\n",
       "<table border=\"1\" class=\"dataframe\">\n",
       "  <thead>\n",
       "    <tr style=\"text-align: right;\">\n",
       "      <th></th>\n",
       "      <th>player</th>\n",
       "      <th>team</th>\n",
       "      <th>name</th>\n",
       "      <th>position</th>\n",
       "      <th>height</th>\n",
       "      <th>age</th>\n",
       "      <th>appearance</th>\n",
       "      <th>goals</th>\n",
       "      <th>assists</th>\n",
       "      <th>yellow cards</th>\n",
       "      <th>...</th>\n",
       "      <th>goals conceded</th>\n",
       "      <th>clean sheets</th>\n",
       "      <th>minutes played</th>\n",
       "      <th>days_injured</th>\n",
       "      <th>games_injured</th>\n",
       "      <th>award</th>\n",
       "      <th>current_value</th>\n",
       "      <th>highest_value</th>\n",
       "      <th>position_encoded</th>\n",
       "      <th>winger</th>\n",
       "    </tr>\n",
       "  </thead>\n",
       "  <tbody>\n",
       "    <tr>\n",
       "      <th>0</th>\n",
       "      <td>/david-de-gea/profil/spieler/59377</td>\n",
       "      <td>Manchester United</td>\n",
       "      <td>David de Gea</td>\n",
       "      <td>Goalkeeper</td>\n",
       "      <td>189.0</td>\n",
       "      <td>32.0</td>\n",
       "      <td>104</td>\n",
       "      <td>0.0</td>\n",
       "      <td>0.0</td>\n",
       "      <td>0.009585</td>\n",
       "      <td>...</td>\n",
       "      <td>1.217252</td>\n",
       "      <td>0.335463</td>\n",
       "      <td>9390</td>\n",
       "      <td>42</td>\n",
       "      <td>5</td>\n",
       "      <td>13</td>\n",
       "      <td>15000000</td>\n",
       "      <td>70000000</td>\n",
       "      <td>1</td>\n",
       "      <td>0</td>\n",
       "    </tr>\n",
       "    <tr>\n",
       "      <th>1</th>\n",
       "      <td>/jack-butland/profil/spieler/128899</td>\n",
       "      <td>Manchester United</td>\n",
       "      <td>Jack Butland</td>\n",
       "      <td>Goalkeeper</td>\n",
       "      <td>196.0</td>\n",
       "      <td>30.0</td>\n",
       "      <td>15</td>\n",
       "      <td>0.0</td>\n",
       "      <td>0.0</td>\n",
       "      <td>0.069018</td>\n",
       "      <td>...</td>\n",
       "      <td>1.242331</td>\n",
       "      <td>0.207055</td>\n",
       "      <td>1304</td>\n",
       "      <td>510</td>\n",
       "      <td>58</td>\n",
       "      <td>1</td>\n",
       "      <td>1500000</td>\n",
       "      <td>22000000</td>\n",
       "      <td>1</td>\n",
       "      <td>0</td>\n",
       "    </tr>\n",
       "  </tbody>\n",
       "</table>\n",
       "<p>2 rows × 22 columns</p>\n",
       "</div>"
      ],
      "text/plain": [
       "                                player               team          name  \\\n",
       "0   /david-de-gea/profil/spieler/59377  Manchester United  David de Gea   \n",
       "1  /jack-butland/profil/spieler/128899  Manchester United  Jack Butland   \n",
       "\n",
       "     position  height   age  appearance  goals  assists  yellow cards  ...  \\\n",
       "0  Goalkeeper   189.0  32.0         104    0.0      0.0      0.009585  ...   \n",
       "1  Goalkeeper   196.0  30.0          15    0.0      0.0      0.069018  ...   \n",
       "\n",
       "   goals conceded  clean sheets  minutes played  days_injured  games_injured  \\\n",
       "0        1.217252      0.335463            9390            42              5   \n",
       "1        1.242331      0.207055            1304           510             58   \n",
       "\n",
       "   award  current_value  highest_value  position_encoded  winger  \n",
       "0     13       15000000       70000000                 1       0  \n",
       "1      1        1500000       22000000                 1       0  \n",
       "\n",
       "[2 rows x 22 columns]"
      ]
     },
     "execution_count": 4,
     "metadata": {},
     "output_type": "execute_result"
    }
   ],
   "source": [
    "player.head(2)"
   ]
  },
  {
   "cell_type": "markdown",
   "id": "a057e9aa-b9dd-454a-babe-6406fd3492f2",
   "metadata": {},
   "source": [
    "### Preprocess the Data"
   ]
  },
  {
   "cell_type": "markdown",
   "id": "98269a63-2b94-40a0-b4e3-f4fa66b88a01",
   "metadata": {},
   "source": [
    "#### 1. Simple EDA + Data Quality checking"
   ]
  },
  {
   "cell_type": "code",
   "execution_count": 5,
   "id": "e37e1fa4-248a-4d71-ae01-fbe2ece3d4a1",
   "metadata": {},
   "outputs": [
    {
     "data": {
      "text/html": [
       "<div>\n",
       "<style scoped>\n",
       "    .dataframe tbody tr th:only-of-type {\n",
       "        vertical-align: middle;\n",
       "    }\n",
       "\n",
       "    .dataframe tbody tr th {\n",
       "        vertical-align: top;\n",
       "    }\n",
       "\n",
       "    .dataframe thead th {\n",
       "        text-align: right;\n",
       "    }\n",
       "</style>\n",
       "<table border=\"1\" class=\"dataframe\">\n",
       "  <thead>\n",
       "    <tr style=\"text-align: right;\">\n",
       "      <th></th>\n",
       "      <th>player</th>\n",
       "      <th>team</th>\n",
       "      <th>name</th>\n",
       "      <th>position</th>\n",
       "      <th>height</th>\n",
       "      <th>age</th>\n",
       "      <th>appearance</th>\n",
       "      <th>goals</th>\n",
       "      <th>assists</th>\n",
       "      <th>yellow cards</th>\n",
       "      <th>...</th>\n",
       "      <th>goals conceded</th>\n",
       "      <th>clean sheets</th>\n",
       "      <th>minutes played</th>\n",
       "      <th>days_injured</th>\n",
       "      <th>games_injured</th>\n",
       "      <th>award</th>\n",
       "      <th>current_value</th>\n",
       "      <th>highest_value</th>\n",
       "      <th>position_encoded</th>\n",
       "      <th>winger</th>\n",
       "    </tr>\n",
       "  </thead>\n",
       "  <tbody>\n",
       "  </tbody>\n",
       "</table>\n",
       "<p>0 rows × 22 columns</p>\n",
       "</div>"
      ],
      "text/plain": [
       "Empty DataFrame\n",
       "Columns: [player, team, name, position, height, age, appearance, goals, assists, yellow cards, second yellow cards, red cards, goals conceded, clean sheets, minutes played, days_injured, games_injured, award, current_value, highest_value, position_encoded, winger]\n",
       "Index: []\n",
       "\n",
       "[0 rows x 22 columns]"
      ]
     },
     "execution_count": 5,
     "metadata": {},
     "output_type": "execute_result"
    }
   ],
   "source": [
    "# uniqeness\n",
    "player.drop_duplicates(inplace=True)\n",
    "player[player.duplicated()]"
   ]
  },
  {
   "cell_type": "code",
   "execution_count": 6,
   "id": "9256ce7d-d3ae-4a91-a7d4-90994e43b619",
   "metadata": {},
   "outputs": [
    {
     "data": {
      "text/plain": [
       "player                 0\n",
       "team                   0\n",
       "name                   0\n",
       "position               0\n",
       "height                 0\n",
       "age                    0\n",
       "appearance             0\n",
       "goals                  0\n",
       "assists                0\n",
       "yellow cards           0\n",
       "second yellow cards    0\n",
       "red cards              0\n",
       "goals conceded         0\n",
       "clean sheets           0\n",
       "minutes played         0\n",
       "days_injured           0\n",
       "games_injured          0\n",
       "award                  0\n",
       "current_value          0\n",
       "highest_value          0\n",
       "position_encoded       0\n",
       "winger                 0\n",
       "dtype: int64"
      ]
     },
     "execution_count": 6,
     "metadata": {},
     "output_type": "execute_result"
    }
   ],
   "source": [
    "# Completeness\n",
    "player.isnull().sum()"
   ]
  },
  {
   "cell_type": "code",
   "execution_count": 7,
   "id": "a3646f19-368a-49f0-b12f-b2dc69cdebf5",
   "metadata": {},
   "outputs": [
    {
     "data": {
      "text/plain": [
       "player                  object\n",
       "team                    object\n",
       "name                    object\n",
       "position                object\n",
       "height                 float64\n",
       "age                    float64\n",
       "appearance               int64\n",
       "goals                  float64\n",
       "assists                float64\n",
       "yellow cards           float64\n",
       "second yellow cards    float64\n",
       "red cards              float64\n",
       "goals conceded         float64\n",
       "clean sheets           float64\n",
       "minutes played           int64\n",
       "days_injured             int64\n",
       "games_injured            int64\n",
       "award                    int64\n",
       "current_value            int64\n",
       "highest_value            int64\n",
       "position_encoded         int64\n",
       "winger                   int64\n",
       "dtype: object"
      ]
     },
     "execution_count": 7,
     "metadata": {},
     "output_type": "execute_result"
    }
   ],
   "source": [
    "# Accurecy types\n",
    "player.dtypes"
   ]
  },
  {
   "cell_type": "code",
   "execution_count": 8,
   "id": "1d60d369-801d-4993-9915-309b5e03ccd8",
   "metadata": {},
   "outputs": [],
   "source": [
    "# Accurecy - Outlier\n",
    "# Convert categorical variables using OneHotEncoding\n",
    "\n",
    "categorical_features = ['team', 'position']\n",
    "\n",
    "numeric_features = ['height', 'age', 'appearance','goals', 'assists', 'yellow cards',\n",
    "                    'second yellow cards','red cards', 'goals conceded','clean sheets',\n",
    "                    'minutes played', 'days_injured','games_injured', 'award',\n",
    "                    'current_value','highest_value','position_encoded',\n",
    "                    'winger']"
   ]
  },
  {
   "cell_type": "code",
   "execution_count": 9,
   "id": "88fc4c51-c2db-4c0d-9c2e-506546851b34",
   "metadata": {},
   "outputs": [
    {
     "name": "stdout",
     "output_type": "stream",
     "text": [
      "team\n",
      "Daejeon Hana Citizen      46\n",
      "Jeonbuk Hyundai Motors    46\n",
      "FC Seoul                  45\n",
      "Gangwon FC                43\n",
      "Daegu FC                  42\n",
      "                          ..\n",
      "FC Barcelona              22\n",
      "Atlético de Madrid        22\n",
      "CA Osasuna                22\n",
      "Hatayspor                 12\n",
      "Gaziantep FK               6\n",
      "Name: count, Length: 374, dtype: int64\n",
      "position\n",
      "Defender Centre-Back          1821\n",
      "Attack Centre-Forward         1353\n",
      "Goalkeeper                    1229\n",
      "midfield-CentralMidfield      1149\n",
      "midfield-DefensiveMidfield     900\n",
      "Defender Right-Back            867\n",
      "Defender Left-Back             807\n",
      "midfield-AttackingMidfield     769\n",
      "Attack-RightWinger             717\n",
      "Attack-LeftWinger              714\n",
      "midfield-RightMidfield         102\n",
      "midfield-LeftMidfield          100\n",
      "midfield                        75\n",
      "Attack-SecondStriker            65\n",
      "Attack                          53\n",
      "Defender                        33\n",
      "Name: count, dtype: int64\n"
     ]
    }
   ],
   "source": [
    "for i in categorical_features:\n",
    "    print (player[i].value_counts())"
   ]
  },
  {
   "cell_type": "code",
   "execution_count": 10,
   "id": "b491a2d6-92e9-4824-b2b5-c83f0cf22d9e",
   "metadata": {},
   "outputs": [
    {
     "name": "stdout",
     "output_type": "stream",
     "text": [
      "height\n",
      "180.000000    744\n",
      "185.000000    608\n",
      "175.000000    596\n",
      "178.000000    594\n",
      "183.000000    572\n",
      "188.000000    493\n",
      "184.000000    458\n",
      "182.000000    449\n",
      "181.240353    440\n",
      "186.000000    423\n",
      "187.000000    419\n",
      "176.000000    390\n",
      "177.000000    372\n",
      "190.000000    371\n",
      "173.000000    366\n",
      "179.000000    359\n",
      "181.000000    355\n",
      "170.000000    312\n",
      "191.000000    272\n",
      "174.000000    270\n",
      "189.000000    255\n",
      "172.000000    254\n",
      "192.000000    203\n",
      "193.000000    181\n",
      "171.000000    169\n",
      "168.000000    124\n",
      "194.000000    117\n",
      "169.000000    107\n",
      "195.000000     98\n",
      "167.000000     85\n",
      "196.000000     68\n",
      "166.000000     44\n",
      "165.000000     42\n",
      "197.000000     31\n",
      "198.000000     24\n",
      "163.000000     16\n",
      "160.000000     15\n",
      "164.000000     14\n",
      "199.000000     12\n",
      "200.000000     12\n",
      "202.000000      6\n",
      "162.000000      6\n",
      "161.000000      3\n",
      "206.000000      2\n",
      "204.000000      1\n",
      "156.000000      1\n",
      "159.000000      1\n",
      "Name: count, dtype: int64\n",
      "age\n",
      "22.000000    841\n",
      "23.000000    823\n",
      "26.000000    812\n",
      "25.000000    772\n",
      "24.000000    767\n",
      "21.000000    715\n",
      "28.000000    678\n",
      "27.000000    666\n",
      "29.000000    650\n",
      "30.000000    617\n",
      "20.000000    601\n",
      "31.000000    484\n",
      "32.000000    428\n",
      "19.000000    411\n",
      "33.000000    383\n",
      "34.000000    257\n",
      "18.000000    224\n",
      "35.000000    177\n",
      "36.000000    149\n",
      "37.000000     90\n",
      "17.000000     80\n",
      "38.000000     36\n",
      "39.000000     20\n",
      "40.000000     19\n",
      "16.000000     19\n",
      "26.041903     15\n",
      "42.000000      7\n",
      "41.000000      6\n",
      "15.000000      6\n",
      "43.000000      1\n",
      "Name: count, dtype: int64\n",
      "appearance\n",
      "0      389\n",
      "1      333\n",
      "4      225\n",
      "17     221\n",
      "10     216\n",
      "      ... \n",
      "98       3\n",
      "107      3\n",
      "106      2\n",
      "104      2\n",
      "103      1\n",
      "Name: count, Length: 108, dtype: int64\n",
      "goals\n",
      "0.000000    4354\n",
      "1.000000      10\n",
      "0.324910       8\n",
      "0.400000       6\n",
      "0.230769       6\n",
      "            ... \n",
      "0.195652       1\n",
      "0.334650       1\n",
      "0.633927       1\n",
      "0.806801       1\n",
      "0.312139       1\n",
      "Name: count, Length: 5329, dtype: int64\n",
      "assists\n",
      "0.000000    4539\n",
      "0.100784       6\n",
      "1.000000       6\n",
      "0.174081       6\n",
      "0.111111       6\n",
      "            ... \n",
      "0.147589       1\n",
      "0.176384       1\n",
      "0.188186       1\n",
      "0.015915       1\n",
      "0.208333       1\n",
      "Name: count, Length: 5065, dtype: int64\n",
      "yellow cards\n",
      "0.000000    2213\n",
      "0.142857      16\n",
      "0.333333      16\n",
      "0.250000      15\n",
      "0.125000      14\n",
      "            ... \n",
      "0.029202       1\n",
      "0.239203       1\n",
      "0.154004       1\n",
      "0.116167       1\n",
      "0.221402       1\n",
      "Name: count, Length: 6291, dtype: int64\n",
      "second yellow cards\n",
      "0.000000    9585\n",
      "0.025035       3\n",
      "0.021464       3\n",
      "0.021388       3\n",
      "0.036364       3\n",
      "            ... \n",
      "0.019007       1\n",
      "0.016657       1\n",
      "0.065934       1\n",
      "0.024045       1\n",
      "0.057878       1\n",
      "Name: count, Length: 1095, dtype: int64\n",
      "red cards\n",
      "0.000000    9423\n",
      "0.039233       3\n",
      "0.018572       3\n",
      "0.018821       3\n",
      "0.019811       3\n",
      "            ... \n",
      "0.030685       1\n",
      "0.016184       1\n",
      "0.038643       1\n",
      "0.017678       1\n",
      "0.104046       1\n",
      "Name: count, Length: 1219, dtype: int64\n",
      "goals conceded\n",
      "0.000000    9739\n",
      "1.000000      36\n",
      "2.000000      27\n",
      "1.500000      20\n",
      "1.333333      12\n",
      "            ... \n",
      "1.722222       1\n",
      "2.052632       1\n",
      "1.493776       1\n",
      "1.187755       1\n",
      "1.431373       1\n",
      "Name: count, Length: 742, dtype: int64\n",
      "clean sheets\n",
      "0.000000     9800\n",
      "0.500000       33\n",
      "0.333333       23\n",
      "0.250000       19\n",
      "1.000000       16\n",
      "             ... \n",
      "0.410865        1\n",
      "0.203046        1\n",
      "10.588235       1\n",
      "0.065598        1\n",
      "0.254902        1\n",
      "Name: count, Length: 635, dtype: int64\n",
      "minutes played\n",
      "0       405\n",
      "90       98\n",
      "180      41\n",
      "1530     39\n",
      "450      37\n",
      "       ... \n",
      "1718      1\n",
      "8411      1\n",
      "6621      1\n",
      "6369      1\n",
      "820       1\n",
      "Name: count, Length: 5036, dtype: int64\n",
      "days_injured\n",
      "0       4117\n",
      "14        72\n",
      "7         51\n",
      "10        51\n",
      "21        44\n",
      "        ... \n",
      "622        1\n",
      "522        1\n",
      "525        1\n",
      "637        1\n",
      "1307       1\n",
      "Name: count, Length: 772, dtype: int64\n",
      "games_injured\n",
      "0      4227\n",
      "2       277\n",
      "4       252\n",
      "3       250\n",
      "1       247\n",
      "       ... \n",
      "201       1\n",
      "136       1\n",
      "169       1\n",
      "168       1\n",
      "146       1\n",
      "Name: count, Length: 154, dtype: int64\n",
      "award\n",
      "0     4773\n",
      "1     2211\n",
      "2     1223\n",
      "3      730\n",
      "4      460\n",
      "5      323\n",
      "6      216\n",
      "7      199\n",
      "8      121\n",
      "9      110\n",
      "10      72\n",
      "11      61\n",
      "13      42\n",
      "12      35\n",
      "14      35\n",
      "15      21\n",
      "17      16\n",
      "18      16\n",
      "16      13\n",
      "19      11\n",
      "20      11\n",
      "33       6\n",
      "22       6\n",
      "21       4\n",
      "25       4\n",
      "24       4\n",
      "26       4\n",
      "23       3\n",
      "35       2\n",
      "36       2\n",
      "29       2\n",
      "27       2\n",
      "32       2\n",
      "37       2\n",
      "31       1\n",
      "42       1\n",
      "28       1\n",
      "92       1\n",
      "34       1\n",
      "30       1\n",
      "57       1\n",
      "65       1\n",
      "53       1\n",
      "38       1\n",
      "43       1\n",
      "90       1\n",
      "Name: count, dtype: int64\n",
      "current_value\n",
      "1000000      473\n",
      "300000       456\n",
      "500000       441\n",
      "50000        422\n",
      "1500000      412\n",
      "            ... \n",
      "23000000       1\n",
      "180000000      1\n",
      "925000         1\n",
      "5800000        1\n",
      "150000000      1\n",
      "Name: count, Length: 128, dtype: int64\n",
      "highest_value\n",
      "1000000      470\n",
      "1500000      417\n",
      "2000000      411\n",
      "50000        362\n",
      "3000000      351\n",
      "            ... \n",
      "200000000      1\n",
      "130000000      1\n",
      "48000000       1\n",
      "170000000      1\n",
      "36500000       1\n",
      "Name: count, Length: 156, dtype: int64\n",
      "position_encoded\n",
      "2    3528\n",
      "3    3095\n",
      "4    2902\n",
      "1    1229\n",
      "Name: count, dtype: int64\n",
      "winger\n",
      "0    7447\n",
      "1    3307\n",
      "Name: count, dtype: int64\n"
     ]
    }
   ],
   "source": [
    "for i in numeric_features:\n",
    "    print (player[i].value_counts())"
   ]
  },
  {
   "cell_type": "code",
   "execution_count": 11,
   "id": "9796161a-e43b-4b3f-b01a-5dd4833c1381",
   "metadata": {},
   "outputs": [
    {
     "data": {
      "image/png": "[encoded data removed]",
      "text/plain": [
       "<Figure size 1500x800 with 1 Axes>"
      ]
     },
     "metadata": {},
     "output_type": "display_data"
    }
   ],
   "source": [
    "plt.figure(figsize=(15,8))\n",
    "#plt.boxplot(player['highest_value'])\n",
    "plt.hist(player[player['highest_value']<=0.25]['highest_value'],bins=100);"
   ]
  },
  {
   "cell_type": "code",
   "execution_count": 12,
   "id": "608913b9-d7f2-4559-9a5f-7a904886eac7",
   "metadata": {},
   "outputs": [
    {
     "data": {
      "image/png": "[encoded data removed]",
      "text/plain": [
       "<Figure size 1500x800 with 1 Axes>"
      ]
     },
     "metadata": {},
     "output_type": "display_data"
    }
   ],
   "source": [
    "plt.figure(figsize=(15,8))\n",
    "#plt.boxplot(player['goals'])\n",
    "plt.hist(player[(player['goals']<=0.5) & (player['goals']>0.0125)]['goals'], bins=100);"
   ]
  },
  {
   "cell_type": "code",
   "execution_count": 13,
   "id": "aa5fb1f8-1100-495c-b544-1987c30d8394",
   "metadata": {},
   "outputs": [
    {
     "data": {
      "image/png": "[encoded data removed]",
      "text/plain": [
       "<Figure size 1500x800 with 1 Axes>"
      ]
     },
     "metadata": {},
     "output_type": "display_data"
    }
   ],
   "source": [
    "plt.figure(figsize=(15,8))\n",
    "#plt.boxplot(player['assists']);\n",
    "plt.hist(player[(player['assists']<=0.2) & (player['assists']>0.0125)]['assists'],bins=100);"
   ]
  },
  {
   "cell_type": "code",
   "execution_count": 14,
   "id": "06fc28a1-71d5-4050-a000-ec977929dc48",
   "metadata": {},
   "outputs": [
    {
     "data": {
      "image/png": "[encoded data removed]",
      "text/plain": [
       "<Figure size 1500x800 with 1 Axes>"
      ]
     },
     "metadata": {},
     "output_type": "display_data"
    }
   ],
   "source": [
    "plt.figure(figsize=(15,8))\n",
    "#plt.boxplot(player['minutes played'])\n",
    "plt.hist(player[player['minutes played']<=5000]['minutes played'],bins=100);"
   ]
  },
  {
   "cell_type": "code",
   "execution_count": 15,
   "id": "28f61c6a-ac8a-475e-aec3-29ed39bf3e66",
   "metadata": {},
   "outputs": [
    {
     "data": {
      "image/png": "[encoded data removed]",
      "text/plain": [
       "<Figure size 1500x800 with 1 Axes>"
      ]
     },
     "metadata": {},
     "output_type": "display_data"
    }
   ],
   "source": [
    "plt.figure(figsize=(15,8))\n",
    "#plt.boxplot(player['height'])\n",
    "plt.hist(player[(player['height']<=195) & (player['height']>166)]['height'],bins=100);"
   ]
  },
  {
   "cell_type": "code",
   "execution_count": 16,
   "id": "55ac194c-f50e-4bc8-8c36-909e4a407d40",
   "metadata": {},
   "outputs": [
    {
     "data": {
      "image/png": "[encoded data removed]",
      "text/plain": [
       "<Figure size 1500x800 with 1 Axes>"
      ]
     },
     "metadata": {},
     "output_type": "display_data"
    }
   ],
   "source": [
    "plt.figure(figsize=(15,8))\n",
    "#plt.boxplot(player['days_injured'])\n",
    "plt.hist(player[(player['days_injured']<=350) & (player['days_injured']>0)]['days_injured'],bins=100);\n"
   ]
  },
  {
   "cell_type": "code",
   "execution_count": 17,
   "id": "44886c68-93f5-4ec5-9f75-1bc37cf0f2da",
   "metadata": {},
   "outputs": [
    {
     "data": {
      "image/png": "[encoded data removed]",
      "text/plain": [
       "<Figure size 1500x800 with 1 Axes>"
      ]
     },
     "metadata": {},
     "output_type": "display_data"
    }
   ],
   "source": [
    "plt.figure(figsize=(15,8))\n",
    "#plt.boxplot(player['games_injured'])\n",
    "plt.hist(player[(player['games_injured']<=80) & (player['games_injured']>0)]['games_injured'],bins=100);"
   ]
  },
  {
   "cell_type": "markdown",
   "id": "a82e23cc-325e-4142-89ed-74b571e96ead",
   "metadata": {},
   "source": [
    "#### 2. Feature engineering"
   ]
  },
  {
   "cell_type": "markdown",
   "id": "27cfab06-ccec-4ffc-a9be-b097bc1589eb",
   "metadata": {},
   "source": [
    "1. Feature scaling\n",
    "\n",
    "2. Aggregation\n",
    "\n",
    "3. One hot coding"
   ]
  },
  {
   "cell_type": "code",
   "execution_count": 18,
   "id": "4a321e33-954f-47d5-96b6-11941eb7b6c7",
   "metadata": {},
   "outputs": [
    {
     "data": {
      "text/html": [
       "<div>\n",
       "<style scoped>\n",
       "    .dataframe tbody tr th:only-of-type {\n",
       "        vertical-align: middle;\n",
       "    }\n",
       "\n",
       "    .dataframe tbody tr th {\n",
       "        vertical-align: top;\n",
       "    }\n",
       "\n",
       "    .dataframe thead th {\n",
       "        text-align: right;\n",
       "    }\n",
       "</style>\n",
       "<table border=\"1\" class=\"dataframe\">\n",
       "  <thead>\n",
       "    <tr style=\"text-align: right;\">\n",
       "      <th></th>\n",
       "      <th>player</th>\n",
       "      <th>team</th>\n",
       "      <th>name</th>\n",
       "      <th>position</th>\n",
       "      <th>height</th>\n",
       "      <th>age</th>\n",
       "      <th>appearance</th>\n",
       "      <th>goals</th>\n",
       "      <th>assists</th>\n",
       "      <th>yellow cards</th>\n",
       "      <th>...</th>\n",
       "      <th>goals conceded</th>\n",
       "      <th>clean sheets</th>\n",
       "      <th>minutes played</th>\n",
       "      <th>days_injured</th>\n",
       "      <th>games_injured</th>\n",
       "      <th>award</th>\n",
       "      <th>current_value</th>\n",
       "      <th>highest_value</th>\n",
       "      <th>position_encoded</th>\n",
       "      <th>winger</th>\n",
       "    </tr>\n",
       "  </thead>\n",
       "  <tbody>\n",
       "    <tr>\n",
       "      <th>0</th>\n",
       "      <td>/david-de-gea/profil/spieler/59377</td>\n",
       "      <td>Manchester United</td>\n",
       "      <td>David de Gea</td>\n",
       "      <td>Goalkeeper</td>\n",
       "      <td>189.0</td>\n",
       "      <td>32.0</td>\n",
       "      <td>104</td>\n",
       "      <td>0.0</td>\n",
       "      <td>0.0</td>\n",
       "      <td>0.009585</td>\n",
       "      <td>...</td>\n",
       "      <td>1.217252</td>\n",
       "      <td>0.335463</td>\n",
       "      <td>9390</td>\n",
       "      <td>42</td>\n",
       "      <td>5</td>\n",
       "      <td>13</td>\n",
       "      <td>15000000</td>\n",
       "      <td>70000000</td>\n",
       "      <td>1</td>\n",
       "      <td>0</td>\n",
       "    </tr>\n",
       "    <tr>\n",
       "      <th>1</th>\n",
       "      <td>/jack-butland/profil/spieler/128899</td>\n",
       "      <td>Manchester United</td>\n",
       "      <td>Jack Butland</td>\n",
       "      <td>Goalkeeper</td>\n",
       "      <td>196.0</td>\n",
       "      <td>30.0</td>\n",
       "      <td>15</td>\n",
       "      <td>0.0</td>\n",
       "      <td>0.0</td>\n",
       "      <td>0.069018</td>\n",
       "      <td>...</td>\n",
       "      <td>1.242331</td>\n",
       "      <td>0.207055</td>\n",
       "      <td>1304</td>\n",
       "      <td>510</td>\n",
       "      <td>58</td>\n",
       "      <td>1</td>\n",
       "      <td>1500000</td>\n",
       "      <td>22000000</td>\n",
       "      <td>1</td>\n",
       "      <td>0</td>\n",
       "    </tr>\n",
       "  </tbody>\n",
       "</table>\n",
       "<p>2 rows × 22 columns</p>\n",
       "</div>"
      ],
      "text/plain": [
       "                                player               team          name  \\\n",
       "0   /david-de-gea/profil/spieler/59377  Manchester United  David de Gea   \n",
       "1  /jack-butland/profil/spieler/128899  Manchester United  Jack Butland   \n",
       "\n",
       "     position  height   age  appearance  goals  assists  yellow cards  ...  \\\n",
       "0  Goalkeeper   189.0  32.0         104    0.0      0.0      0.009585  ...   \n",
       "1  Goalkeeper   196.0  30.0          15    0.0      0.0      0.069018  ...   \n",
       "\n",
       "   goals conceded  clean sheets  minutes played  days_injured  games_injured  \\\n",
       "0        1.217252      0.335463            9390            42              5   \n",
       "1        1.242331      0.207055            1304           510             58   \n",
       "\n",
       "   award  current_value  highest_value  position_encoded  winger  \n",
       "0     13       15000000       70000000                 1       0  \n",
       "1      1        1500000       22000000                 1       0  \n",
       "\n",
       "[2 rows x 22 columns]"
      ]
     },
     "execution_count": 18,
     "metadata": {},
     "output_type": "execute_result"
    }
   ],
   "source": [
    "player.head(2)"
   ]
  },
  {
   "cell_type": "code",
   "execution_count": 19,
   "id": "96d3cc64-76c9-48f6-ab1c-a51141f814a6",
   "metadata": {},
   "outputs": [
    {
     "data": {
      "text/plain": [
       "['team', 'position']"
      ]
     },
     "execution_count": 19,
     "metadata": {},
     "output_type": "execute_result"
    }
   ],
   "source": [
    "categorical_features"
   ]
  },
  {
   "cell_type": "code",
   "execution_count": 20,
   "id": "d28de52e-8065-4abc-9d1a-9c9040a1c890",
   "metadata": {},
   "outputs": [],
   "source": [
    "# one hot coding\n",
    "player = pd.get_dummies(player, columns=categorical_features)"
   ]
  },
  {
   "cell_type": "code",
   "execution_count": 21,
   "id": "f4c474f5-8ac5-4328-beb7-e7f50210541c",
   "metadata": {},
   "outputs": [
    {
     "data": {
      "text/plain": [
       "(10754, 410)"
      ]
     },
     "execution_count": 21,
     "metadata": {},
     "output_type": "execute_result"
    }
   ],
   "source": [
    "player.shape"
   ]
  },
  {
   "cell_type": "markdown",
   "id": "af41bf5e-b1c0-4258-9a71-72434026cce1",
   "metadata": {},
   "source": [
    "#### 3. Feature selection"
   ]
  },
  {
   "cell_type": "code",
   "execution_count": 22,
   "id": "140fb144-8096-4722-bb63-0b2689292c42",
   "metadata": {},
   "outputs": [
    {
     "name": "stdout",
     "output_type": "stream",
     "text": [
      "current_value          1.000000\n",
      "highest_value          0.834553\n",
      "minutes played         0.420542\n",
      "appearance             0.419656\n",
      "award                  0.300454\n",
      "assists                0.137415\n",
      "games_injured          0.135654\n",
      "goals                  0.121574\n",
      "days_injured           0.107686\n",
      "position_encoded       0.085154\n",
      "height                 0.040535\n",
      "winger                 0.005034\n",
      "red cards             -0.010171\n",
      "clean sheets          -0.011684\n",
      "yellow cards          -0.011766\n",
      "second yellow cards   -0.013889\n",
      "age                   -0.050156\n",
      "goals conceded        -0.063529\n",
      "Name: current_value, dtype: float64\n"
     ]
    }
   ],
   "source": [
    "# only use numeric data in my model!\n",
    "numeric_player = player.select_dtypes(include=[np.number])\n",
    "\n",
    "correlation = numeric_player.corr()\n",
    "print(correlation['current_value'].sort_values(ascending=False))"
   ]
  },
  {
   "cell_type": "code",
   "execution_count": 23,
   "id": "ac3c2576-fdfd-47ae-a9bf-9eb24257fd81",
   "metadata": {},
   "outputs": [
    {
     "data": {
      "text/plain": [
       "Index(['appearance', 'minutes played', 'award', 'current_value',\n",
       "       'highest_value'],\n",
       "      dtype='object')"
      ]
     },
     "execution_count": 23,
     "metadata": {},
     "output_type": "execute_result"
    }
   ],
   "source": [
    "# Set the correlation threshold\n",
    "threshold = 0.2  \n",
    "\n",
    "# Filter the correlations\n",
    "# We use `abs()` for absolute value to consider both strong positive and negative correlations\n",
    "selected_features = correlation[abs(correlation['current_value']) > threshold]['current_value'].index\n",
    "selected_features"
   ]
  },
  {
   "cell_type": "code",
   "execution_count": 24,
   "id": "5aee1dcd-ac8c-41e3-b378-ee17c62bf86d",
   "metadata": {},
   "outputs": [],
   "source": [
    "selected_features = ['appearance', 'minutes played', 'award', 'current_value','highest_value']"
   ]
  },
  {
   "cell_type": "code",
   "execution_count": 25,
   "id": "2954ca57-869d-4c37-95ce-1d2dffd1c85e",
   "metadata": {},
   "outputs": [
    {
     "data": {
      "text/html": [
       "<div>\n",
       "<style scoped>\n",
       "    .dataframe tbody tr th:only-of-type {\n",
       "        vertical-align: middle;\n",
       "    }\n",
       "\n",
       "    .dataframe tbody tr th {\n",
       "        vertical-align: top;\n",
       "    }\n",
       "\n",
       "    .dataframe thead th {\n",
       "        text-align: right;\n",
       "    }\n",
       "</style>\n",
       "<table border=\"1\" class=\"dataframe\">\n",
       "  <thead>\n",
       "    <tr style=\"text-align: right;\">\n",
       "      <th></th>\n",
       "      <th>appearance</th>\n",
       "      <th>minutes played</th>\n",
       "      <th>award</th>\n",
       "      <th>current_value</th>\n",
       "      <th>highest_value</th>\n",
       "    </tr>\n",
       "  </thead>\n",
       "  <tbody>\n",
       "    <tr>\n",
       "      <th>0</th>\n",
       "      <td>104</td>\n",
       "      <td>9390</td>\n",
       "      <td>13</td>\n",
       "      <td>15000000</td>\n",
       "      <td>70000000</td>\n",
       "    </tr>\n",
       "    <tr>\n",
       "      <th>1</th>\n",
       "      <td>15</td>\n",
       "      <td>1304</td>\n",
       "      <td>1</td>\n",
       "      <td>1500000</td>\n",
       "      <td>22000000</td>\n",
       "    </tr>\n",
       "    <tr>\n",
       "      <th>2</th>\n",
       "      <td>4</td>\n",
       "      <td>292</td>\n",
       "      <td>4</td>\n",
       "      <td>600000</td>\n",
       "      <td>6000000</td>\n",
       "    </tr>\n",
       "    <tr>\n",
       "      <th>3</th>\n",
       "      <td>82</td>\n",
       "      <td>6408</td>\n",
       "      <td>9</td>\n",
       "      <td>50000000</td>\n",
       "      <td>50000000</td>\n",
       "    </tr>\n",
       "    <tr>\n",
       "      <th>4</th>\n",
       "      <td>63</td>\n",
       "      <td>5031</td>\n",
       "      <td>21</td>\n",
       "      <td>40000000</td>\n",
       "      <td>80000000</td>\n",
       "    </tr>\n",
       "  </tbody>\n",
       "</table>\n",
       "</div>"
      ],
      "text/plain": [
       "   appearance  minutes played  award  current_value  highest_value\n",
       "0         104            9390     13       15000000       70000000\n",
       "1          15            1304      1        1500000       22000000\n",
       "2           4             292      4         600000        6000000\n",
       "3          82            6408      9       50000000       50000000\n",
       "4          63            5031     21       40000000       80000000"
      ]
     },
     "execution_count": 25,
     "metadata": {},
     "output_type": "execute_result"
    }
   ],
   "source": [
    "player = player[selected_features]\n",
    "player.head()"
   ]
  },
  {
   "cell_type": "markdown",
   "id": "d78f8828-13c1-4f6f-9fb5-6856d65538a8",
   "metadata": {},
   "source": [
    "#### 4. Prepare train and test data"
   ]
  },
  {
   "cell_type": "code",
   "execution_count": 27,
   "id": "dd38db21-e8d2-4042-b849-13186bb87e84",
   "metadata": {},
   "outputs": [],
   "source": [
    "# Prepare data\n",
    "X = player.drop(['current_value'], axis=1)\n",
    "y = player['current_value']\n",
    "\n",
    "# Split data into training and testing sets\n",
    "X_train, X_test, y_train, y_test = train_test_split(X, y,\n",
    "                                                    test_size=0.2,\n",
    "                                                    shuffle=True,\n",
    "                                                    random_state=42)\n",
    "\n",
    "# sacle the data\n",
    "scaler = StandardScaler()\n",
    "scaler.fit(X_train)\n",
    "X_train_scaled = scaler.transform(X_train)\n",
    "X_test_scaled = scaler.transform(X_test)"
   ]
  },
  {
   "cell_type": "markdown",
   "id": "025f9f84-b931-47d5-879a-0f6db6d1576c",
   "metadata": {},
   "source": [
    "### Buliding the Model"
   ]
  },
  {
   "cell_type": "code",
   "execution_count": 28,
   "id": "c0175127-26a7-40ad-a265-4b757cc92a8c",
   "metadata": {},
   "outputs": [],
   "source": [
    "model = LinearRegression()"
   ]
  },
  {
   "cell_type": "markdown",
   "id": "d60769bc-3b2e-498e-9de0-f9b0dc6a7d21",
   "metadata": {},
   "source": [
    "##### Ridge & Lasso regularization"
   ]
  },
  {
   "cell_type": "code",
   "execution_count": 45,
   "id": "d58da60f-16e7-4433-945f-3e59b828e030",
   "metadata": {},
   "outputs": [],
   "source": [
    "ridge_model = Ridge()"
   ]
  },
  {
   "cell_type": "code",
   "execution_count": 46,
   "id": "c268a7e7-843d-4a58-ae53-1defbba34b6f",
   "metadata": {},
   "outputs": [],
   "source": [
    "lasso_model = Lasso()"
   ]
  },
  {
   "cell_type": "code",
   "execution_count": 47,
   "id": "ae0acd05-9a2c-4faa-a6fb-0c61bf01410f",
   "metadata": {},
   "outputs": [],
   "source": [
    "param_grid = {\n",
    "    'alpha': [ 0, 0.000001,0.0001, 0.001, 0.01, 0.1, 1 ]  # Regularization strength\n",
    "}\n",
    "grid_search = GridSearchCV(estimator=ridge_model,\n",
    "                           param_grid=param_grid,\n",
    "                           cv=5,\n",
    "                           scoring='neg_mean_squared_error', \n",
    "                           verbose=1)\n",
    "\n",
    "grid_search_lasso = GridSearchCV(estimator=lasso_model,\n",
    "                           param_grid=param_grid,\n",
    "                           cv=5,\n",
    "                           scoring='neg_mean_squared_error', \n",
    "                           verbose=1)"
   ]
  },
  {
   "cell_type": "markdown",
   "id": "ebd8c86a-b56e-41f8-9ac7-1924342afac4",
   "metadata": {},
   "source": [
    "### Train the Model"
   ]
  },
  {
   "cell_type": "code",
   "execution_count": 48,
   "id": "a0234f92-e1cb-460b-9911-2c35f7c4fd37",
   "metadata": {},
   "outputs": [
    {
     "data": {
      "text/html": [
       "<style>#sk-container-id-2 {color: black;background-color: white;}#sk-container-id-2 pre{padding: 0;}#sk-container-id-2 div.sk-toggleable {background-color: white;}#sk-container-id-2 label.sk-toggleable__label {cursor: pointer;display: block;width: 100%;margin-bottom: 0;padding: 0.3em;box-sizing: border-box;text-align: center;}#sk-container-id-2 label.sk-toggleable__label-arrow:before {content: \"▸\";float: left;margin-right: 0.25em;color: #696969;}#sk-container-id-2 label.sk-toggleable__label-arrow:hover:before {color: black;}#sk-container-id-2 div.sk-estimator:hover label.sk-toggleable__label-arrow:before {color: black;}#sk-container-id-2 div.sk-toggleable__content {max-height: 0;max-width: 0;overflow: hidden;text-align: left;background-color: #f0f8ff;}#sk-container-id-2 div.sk-toggleable__content pre {margin: 0.2em;color: black;border-radius: 0.25em;background-color: #f0f8ff;}#sk-container-id-2 input.sk-toggleable__control:checked~div.sk-toggleable__content {max-height: 200px;max-width: 100%;overflow: auto;}#sk-container-id-2 input.sk-toggleable__control:checked~label.sk-toggleable__label-arrow:before {content: \"▾\";}#sk-container-id-2 div.sk-estimator input.sk-toggleable__control:checked~label.sk-toggleable__label {background-color: #d4ebff;}#sk-container-id-2 div.sk-label input.sk-toggleable__control:checked~label.sk-toggleable__label {background-color: #d4ebff;}#sk-container-id-2 input.sk-hidden--visually {border: 0;clip: rect(1px 1px 1px 1px);clip: rect(1px, 1px, 1px, 1px);height: 1px;margin: -1px;overflow: hidden;padding: 0;position: absolute;width: 1px;}#sk-container-id-2 div.sk-estimator {font-family: monospace;background-color: #f0f8ff;border: 1px dotted black;border-radius: 0.25em;box-sizing: border-box;margin-bottom: 0.5em;}#sk-container-id-2 div.sk-estimator:hover {background-color: #d4ebff;}#sk-container-id-2 div.sk-parallel-item::after {content: \"\";width: 100%;border-bottom: 1px solid gray;flex-grow: 1;}#sk-container-id-2 div.sk-label:hover label.sk-toggleable__label {background-color: #d4ebff;}#sk-container-id-2 div.sk-serial::before {content: \"\";position: absolute;border-left: 1px solid gray;box-sizing: border-box;top: 0;bottom: 0;left: 50%;z-index: 0;}#sk-container-id-2 div.sk-serial {display: flex;flex-direction: column;align-items: center;background-color: white;padding-right: 0.2em;padding-left: 0.2em;position: relative;}#sk-container-id-2 div.sk-item {position: relative;z-index: 1;}#sk-container-id-2 div.sk-parallel {display: flex;align-items: stretch;justify-content: center;background-color: white;position: relative;}#sk-container-id-2 div.sk-item::before, #sk-container-id-2 div.sk-parallel-item::before {content: \"\";position: absolute;border-left: 1px solid gray;box-sizing: border-box;top: 0;bottom: 0;left: 50%;z-index: -1;}#sk-container-id-2 div.sk-parallel-item {display: flex;flex-direction: column;z-index: 1;position: relative;background-color: white;}#sk-container-id-2 div.sk-parallel-item:first-child::after {align-self: flex-end;width: 50%;}#sk-container-id-2 div.sk-parallel-item:last-child::after {align-self: flex-start;width: 50%;}#sk-container-id-2 div.sk-parallel-item:only-child::after {width: 0;}#sk-container-id-2 div.sk-dashed-wrapped {border: 1px dashed gray;margin: 0 0.4em 0.5em 0.4em;box-sizing: border-box;padding-bottom: 0.4em;background-color: white;}#sk-container-id-2 div.sk-label label {font-family: monospace;font-weight: bold;display: inline-block;line-height: 1.2em;}#sk-container-id-2 div.sk-label-container {text-align: center;}#sk-container-id-2 div.sk-container {/* jupyter's `normalize.less` sets `[hidden] { display: none; }` but bootstrap.min.css set `[hidden] { display: none !important; }` so we also need the `!important` here to be able to override the default hidden behavior on the sphinx rendered scikit-learn.org. See: https://github.com/scikit-learn/scikit-learn/issues/21755 */display: inline-block !important;position: relative;}#sk-container-id-2 div.sk-text-repr-fallback {display: none;}</style><div id=\"sk-container-id-2\" class=\"sk-top-container\"><div class=\"sk-text-repr-fallback\"><pre>LinearRegression()</pre><b>In a Jupyter environment, please rerun this cell to show the HTML representation or trust the notebook. <br />On GitHub, the HTML representation is unable to render, please try loading this page with nbviewer.org.</b></div><div class=\"sk-container\" hidden><div class=\"sk-item\"><div class=\"sk-estimator sk-toggleable\"><input class=\"sk-toggleable__control sk-hidden--visually\" id=\"sk-estimator-id-2\" type=\"checkbox\" checked><label for=\"sk-estimator-id-2\" class=\"sk-toggleable__label sk-toggleable__label-arrow\">LinearRegression</label><div class=\"sk-toggleable__content\"><pre>LinearRegression()</pre></div></div></div></div></div>"
      ],
      "text/plain": [
       "LinearRegression()"
      ]
     },
     "execution_count": 48,
     "metadata": {},
     "output_type": "execute_result"
    }
   ],
   "source": [
    "# Fit the model on the training data\n",
    "model.fit(X_train_scaled, y_train)"
   ]
  },
  {
   "cell_type": "markdown",
   "id": "8bd55f80-99ca-40b3-8ee2-7289faa14194",
   "metadata": {},
   "source": [
    "##### Ridge & Lasso regularization"
   ]
  },
  {
   "cell_type": "code",
   "execution_count": 49,
   "id": "8041decc-1b3b-4096-a7ca-78127dd47357",
   "metadata": {},
   "outputs": [
    {
     "data": {
      "text/html": [
       "<style>#sk-container-id-3 {color: black;background-color: white;}#sk-container-id-3 pre{padding: 0;}#sk-container-id-3 div.sk-toggleable {background-color: white;}#sk-container-id-3 label.sk-toggleable__label {cursor: pointer;display: block;width: 100%;margin-bottom: 0;padding: 0.3em;box-sizing: border-box;text-align: center;}#sk-container-id-3 label.sk-toggleable__label-arrow:before {content: \"▸\";float: left;margin-right: 0.25em;color: #696969;}#sk-container-id-3 label.sk-toggleable__label-arrow:hover:before {color: black;}#sk-container-id-3 div.sk-estimator:hover label.sk-toggleable__label-arrow:before {color: black;}#sk-container-id-3 div.sk-toggleable__content {max-height: 0;max-width: 0;overflow: hidden;text-align: left;background-color: #f0f8ff;}#sk-container-id-3 div.sk-toggleable__content pre {margin: 0.2em;color: black;border-radius: 0.25em;background-color: #f0f8ff;}#sk-container-id-3 input.sk-toggleable__control:checked~div.sk-toggleable__content {max-height: 200px;max-width: 100%;overflow: auto;}#sk-container-id-3 input.sk-toggleable__control:checked~label.sk-toggleable__label-arrow:before {content: \"▾\";}#sk-container-id-3 div.sk-estimator input.sk-toggleable__control:checked~label.sk-toggleable__label {background-color: #d4ebff;}#sk-container-id-3 div.sk-label input.sk-toggleable__control:checked~label.sk-toggleable__label {background-color: #d4ebff;}#sk-container-id-3 input.sk-hidden--visually {border: 0;clip: rect(1px 1px 1px 1px);clip: rect(1px, 1px, 1px, 1px);height: 1px;margin: -1px;overflow: hidden;padding: 0;position: absolute;width: 1px;}#sk-container-id-3 div.sk-estimator {font-family: monospace;background-color: #f0f8ff;border: 1px dotted black;border-radius: 0.25em;box-sizing: border-box;margin-bottom: 0.5em;}#sk-container-id-3 div.sk-estimator:hover {background-color: #d4ebff;}#sk-container-id-3 div.sk-parallel-item::after {content: \"\";width: 100%;border-bottom: 1px solid gray;flex-grow: 1;}#sk-container-id-3 div.sk-label:hover label.sk-toggleable__label {background-color: #d4ebff;}#sk-container-id-3 div.sk-serial::before {content: \"\";position: absolute;border-left: 1px solid gray;box-sizing: border-box;top: 0;bottom: 0;left: 50%;z-index: 0;}#sk-container-id-3 div.sk-serial {display: flex;flex-direction: column;align-items: center;background-color: white;padding-right: 0.2em;padding-left: 0.2em;position: relative;}#sk-container-id-3 div.sk-item {position: relative;z-index: 1;}#sk-container-id-3 div.sk-parallel {display: flex;align-items: stretch;justify-content: center;background-color: white;position: relative;}#sk-container-id-3 div.sk-item::before, #sk-container-id-3 div.sk-parallel-item::before {content: \"\";position: absolute;border-left: 1px solid gray;box-sizing: border-box;top: 0;bottom: 0;left: 50%;z-index: -1;}#sk-container-id-3 div.sk-parallel-item {display: flex;flex-direction: column;z-index: 1;position: relative;background-color: white;}#sk-container-id-3 div.sk-parallel-item:first-child::after {align-self: flex-end;width: 50%;}#sk-container-id-3 div.sk-parallel-item:last-child::after {align-self: flex-start;width: 50%;}#sk-container-id-3 div.sk-parallel-item:only-child::after {width: 0;}#sk-container-id-3 div.sk-dashed-wrapped {border: 1px dashed gray;margin: 0 0.4em 0.5em 0.4em;box-sizing: border-box;padding-bottom: 0.4em;background-color: white;}#sk-container-id-3 div.sk-label label {font-family: monospace;font-weight: bold;display: inline-block;line-height: 1.2em;}#sk-container-id-3 div.sk-label-container {text-align: center;}#sk-container-id-3 div.sk-container {/* jupyter's `normalize.less` sets `[hidden] { display: none; }` but bootstrap.min.css set `[hidden] { display: none !important; }` so we also need the `!important` here to be able to override the default hidden behavior on the sphinx rendered scikit-learn.org. See: https://github.com/scikit-learn/scikit-learn/issues/21755 */display: inline-block !important;position: relative;}#sk-container-id-3 div.sk-text-repr-fallback {display: none;}</style><div id=\"sk-container-id-3\" class=\"sk-top-container\"><div class=\"sk-text-repr-fallback\"><pre>Ridge()</pre><b>In a Jupyter environment, please rerun this cell to show the HTML representation or trust the notebook. <br />On GitHub, the HTML representation is unable to render, please try loading this page with nbviewer.org.</b></div><div class=\"sk-container\" hidden><div class=\"sk-item\"><div class=\"sk-estimator sk-toggleable\"><input class=\"sk-toggleable__control sk-hidden--visually\" id=\"sk-estimator-id-3\" type=\"checkbox\" checked><label for=\"sk-estimator-id-3\" class=\"sk-toggleable__label sk-toggleable__label-arrow\">Ridge</label><div class=\"sk-toggleable__content\"><pre>Ridge()</pre></div></div></div></div></div>"
      ],
      "text/plain": [
       "Ridge()"
      ]
     },
     "execution_count": 49,
     "metadata": {},
     "output_type": "execute_result"
    }
   ],
   "source": [
    "ridge_model.fit(X_train_scaled, y_train)"
   ]
  },
  {
   "cell_type": "code",
   "execution_count": 50,
   "id": "66d1c738-8f4f-46c6-b820-687563f14dc6",
   "metadata": {},
   "outputs": [
    {
     "data": {
      "text/html": [
       "<style>#sk-container-id-4 {color: black;background-color: white;}#sk-container-id-4 pre{padding: 0;}#sk-container-id-4 div.sk-toggleable {background-color: white;}#sk-container-id-4 label.sk-toggleable__label {cursor: pointer;display: block;width: 100%;margin-bottom: 0;padding: 0.3em;box-sizing: border-box;text-align: center;}#sk-container-id-4 label.sk-toggleable__label-arrow:before {content: \"▸\";float: left;margin-right: 0.25em;color: #696969;}#sk-container-id-4 label.sk-toggleable__label-arrow:hover:before {color: black;}#sk-container-id-4 div.sk-estimator:hover label.sk-toggleable__label-arrow:before {color: black;}#sk-container-id-4 div.sk-toggleable__content {max-height: 0;max-width: 0;overflow: hidden;text-align: left;background-color: #f0f8ff;}#sk-container-id-4 div.sk-toggleable__content pre {margin: 0.2em;color: black;border-radius: 0.25em;background-color: #f0f8ff;}#sk-container-id-4 input.sk-toggleable__control:checked~div.sk-toggleable__content {max-height: 200px;max-width: 100%;overflow: auto;}#sk-container-id-4 input.sk-toggleable__control:checked~label.sk-toggleable__label-arrow:before {content: \"▾\";}#sk-container-id-4 div.sk-estimator input.sk-toggleable__control:checked~label.sk-toggleable__label {background-color: #d4ebff;}#sk-container-id-4 div.sk-label input.sk-toggleable__control:checked~label.sk-toggleable__label {background-color: #d4ebff;}#sk-container-id-4 input.sk-hidden--visually {border: 0;clip: rect(1px 1px 1px 1px);clip: rect(1px, 1px, 1px, 1px);height: 1px;margin: -1px;overflow: hidden;padding: 0;position: absolute;width: 1px;}#sk-container-id-4 div.sk-estimator {font-family: monospace;background-color: #f0f8ff;border: 1px dotted black;border-radius: 0.25em;box-sizing: border-box;margin-bottom: 0.5em;}#sk-container-id-4 div.sk-estimator:hover {background-color: #d4ebff;}#sk-container-id-4 div.sk-parallel-item::after {content: \"\";width: 100%;border-bottom: 1px solid gray;flex-grow: 1;}#sk-container-id-4 div.sk-label:hover label.sk-toggleable__label {background-color: #d4ebff;}#sk-container-id-4 div.sk-serial::before {content: \"\";position: absolute;border-left: 1px solid gray;box-sizing: border-box;top: 0;bottom: 0;left: 50%;z-index: 0;}#sk-container-id-4 div.sk-serial {display: flex;flex-direction: column;align-items: center;background-color: white;padding-right: 0.2em;padding-left: 0.2em;position: relative;}#sk-container-id-4 div.sk-item {position: relative;z-index: 1;}#sk-container-id-4 div.sk-parallel {display: flex;align-items: stretch;justify-content: center;background-color: white;position: relative;}#sk-container-id-4 div.sk-item::before, #sk-container-id-4 div.sk-parallel-item::before {content: \"\";position: absolute;border-left: 1px solid gray;box-sizing: border-box;top: 0;bottom: 0;left: 50%;z-index: -1;}#sk-container-id-4 div.sk-parallel-item {display: flex;flex-direction: column;z-index: 1;position: relative;background-color: white;}#sk-container-id-4 div.sk-parallel-item:first-child::after {align-self: flex-end;width: 50%;}#sk-container-id-4 div.sk-parallel-item:last-child::after {align-self: flex-start;width: 50%;}#sk-container-id-4 div.sk-parallel-item:only-child::after {width: 0;}#sk-container-id-4 div.sk-dashed-wrapped {border: 1px dashed gray;margin: 0 0.4em 0.5em 0.4em;box-sizing: border-box;padding-bottom: 0.4em;background-color: white;}#sk-container-id-4 div.sk-label label {font-family: monospace;font-weight: bold;display: inline-block;line-height: 1.2em;}#sk-container-id-4 div.sk-label-container {text-align: center;}#sk-container-id-4 div.sk-container {/* jupyter's `normalize.less` sets `[hidden] { display: none; }` but bootstrap.min.css set `[hidden] { display: none !important; }` so we also need the `!important` here to be able to override the default hidden behavior on the sphinx rendered scikit-learn.org. See: https://github.com/scikit-learn/scikit-learn/issues/21755 */display: inline-block !important;position: relative;}#sk-container-id-4 div.sk-text-repr-fallback {display: none;}</style><div id=\"sk-container-id-4\" class=\"sk-top-container\"><div class=\"sk-text-repr-fallback\"><pre>Lasso()</pre><b>In a Jupyter environment, please rerun this cell to show the HTML representation or trust the notebook. <br />On GitHub, the HTML representation is unable to render, please try loading this page with nbviewer.org.</b></div><div class=\"sk-container\" hidden><div class=\"sk-item\"><div class=\"sk-estimator sk-toggleable\"><input class=\"sk-toggleable__control sk-hidden--visually\" id=\"sk-estimator-id-4\" type=\"checkbox\" checked><label for=\"sk-estimator-id-4\" class=\"sk-toggleable__label sk-toggleable__label-arrow\">Lasso</label><div class=\"sk-toggleable__content\"><pre>Lasso()</pre></div></div></div></div></div>"
      ],
      "text/plain": [
       "Lasso()"
      ]
     },
     "execution_count": 50,
     "metadata": {},
     "output_type": "execute_result"
    }
   ],
   "source": [
    "lasso_model.fit(X_train_scaled, y_train)"
   ]
  },
  {
   "cell_type": "code",
   "execution_count": 51,
   "id": "2606b076-e5af-400c-83a9-d67c63ef381d",
   "metadata": {},
   "outputs": [
    {
     "name": "stdout",
     "output_type": "stream",
     "text": [
      "Fitting 5 folds for each of 7 candidates, totalling 35 fits\n"
     ]
    },
    {
     "data": {
      "text/html": [
       "<style>#sk-container-id-5 {color: black;background-color: white;}#sk-container-id-5 pre{padding: 0;}#sk-container-id-5 div.sk-toggleable {background-color: white;}#sk-container-id-5 label.sk-toggleable__label {cursor: pointer;display: block;width: 100%;margin-bottom: 0;padding: 0.3em;box-sizing: border-box;text-align: center;}#sk-container-id-5 label.sk-toggleable__label-arrow:before {content: \"▸\";float: left;margin-right: 0.25em;color: #696969;}#sk-container-id-5 label.sk-toggleable__label-arrow:hover:before {color: black;}#sk-container-id-5 div.sk-estimator:hover label.sk-toggleable__label-arrow:before {color: black;}#sk-container-id-5 div.sk-toggleable__content {max-height: 0;max-width: 0;overflow: hidden;text-align: left;background-color: #f0f8ff;}#sk-container-id-5 div.sk-toggleable__content pre {margin: 0.2em;color: black;border-radius: 0.25em;background-color: #f0f8ff;}#sk-container-id-5 input.sk-toggleable__control:checked~div.sk-toggleable__content {max-height: 200px;max-width: 100%;overflow: auto;}#sk-container-id-5 input.sk-toggleable__control:checked~label.sk-toggleable__label-arrow:before {content: \"▾\";}#sk-container-id-5 div.sk-estimator input.sk-toggleable__control:checked~label.sk-toggleable__label {background-color: #d4ebff;}#sk-container-id-5 div.sk-label input.sk-toggleable__control:checked~label.sk-toggleable__label {background-color: #d4ebff;}#sk-container-id-5 input.sk-hidden--visually {border: 0;clip: rect(1px 1px 1px 1px);clip: rect(1px, 1px, 1px, 1px);height: 1px;margin: -1px;overflow: hidden;padding: 0;position: absolute;width: 1px;}#sk-container-id-5 div.sk-estimator {font-family: monospace;background-color: #f0f8ff;border: 1px dotted black;border-radius: 0.25em;box-sizing: border-box;margin-bottom: 0.5em;}#sk-container-id-5 div.sk-estimator:hover {background-color: #d4ebff;}#sk-container-id-5 div.sk-parallel-item::after {content: \"\";width: 100%;border-bottom: 1px solid gray;flex-grow: 1;}#sk-container-id-5 div.sk-label:hover label.sk-toggleable__label {background-color: #d4ebff;}#sk-container-id-5 div.sk-serial::before {content: \"\";position: absolute;border-left: 1px solid gray;box-sizing: border-box;top: 0;bottom: 0;left: 50%;z-index: 0;}#sk-container-id-5 div.sk-serial {display: flex;flex-direction: column;align-items: center;background-color: white;padding-right: 0.2em;padding-left: 0.2em;position: relative;}#sk-container-id-5 div.sk-item {position: relative;z-index: 1;}#sk-container-id-5 div.sk-parallel {display: flex;align-items: stretch;justify-content: center;background-color: white;position: relative;}#sk-container-id-5 div.sk-item::before, #sk-container-id-5 div.sk-parallel-item::before {content: \"\";position: absolute;border-left: 1px solid gray;box-sizing: border-box;top: 0;bottom: 0;left: 50%;z-index: -1;}#sk-container-id-5 div.sk-parallel-item {display: flex;flex-direction: column;z-index: 1;position: relative;background-color: white;}#sk-container-id-5 div.sk-parallel-item:first-child::after {align-self: flex-end;width: 50%;}#sk-container-id-5 div.sk-parallel-item:last-child::after {align-self: flex-start;width: 50%;}#sk-container-id-5 div.sk-parallel-item:only-child::after {width: 0;}#sk-container-id-5 div.sk-dashed-wrapped {border: 1px dashed gray;margin: 0 0.4em 0.5em 0.4em;box-sizing: border-box;padding-bottom: 0.4em;background-color: white;}#sk-container-id-5 div.sk-label label {font-family: monospace;font-weight: bold;display: inline-block;line-height: 1.2em;}#sk-container-id-5 div.sk-label-container {text-align: center;}#sk-container-id-5 div.sk-container {/* jupyter's `normalize.less` sets `[hidden] { display: none; }` but bootstrap.min.css set `[hidden] { display: none !important; }` so we also need the `!important` here to be able to override the default hidden behavior on the sphinx rendered scikit-learn.org. See: https://github.com/scikit-learn/scikit-learn/issues/21755 */display: inline-block !important;position: relative;}#sk-container-id-5 div.sk-text-repr-fallback {display: none;}</style><div id=\"sk-container-id-5\" class=\"sk-top-container\"><div class=\"sk-text-repr-fallback\"><pre>GridSearchCV(cv=5, estimator=Ridge(),\n",
       "             param_grid={&#x27;alpha&#x27;: [0, 1e-06, 0.0001, 0.001, 0.01, 0.1, 1]},\n",
       "             scoring=&#x27;neg_mean_squared_error&#x27;, verbose=1)</pre><b>In a Jupyter environment, please rerun this cell to show the HTML representation or trust the notebook. <br />On GitHub, the HTML representation is unable to render, please try loading this page with nbviewer.org.</b></div><div class=\"sk-container\" hidden><div class=\"sk-item sk-dashed-wrapped\"><div class=\"sk-label-container\"><div class=\"sk-label sk-toggleable\"><input class=\"sk-toggleable__control sk-hidden--visually\" id=\"sk-estimator-id-5\" type=\"checkbox\" ><label for=\"sk-estimator-id-5\" class=\"sk-toggleable__label sk-toggleable__label-arrow\">GridSearchCV</label><div class=\"sk-toggleable__content\"><pre>GridSearchCV(cv=5, estimator=Ridge(),\n",
       "             param_grid={&#x27;alpha&#x27;: [0, 1e-06, 0.0001, 0.001, 0.01, 0.1, 1]},\n",
       "             scoring=&#x27;neg_mean_squared_error&#x27;, verbose=1)</pre></div></div></div><div class=\"sk-parallel\"><div class=\"sk-parallel-item\"><div class=\"sk-item\"><div class=\"sk-label-container\"><div class=\"sk-label sk-toggleable\"><input class=\"sk-toggleable__control sk-hidden--visually\" id=\"sk-estimator-id-6\" type=\"checkbox\" ><label for=\"sk-estimator-id-6\" class=\"sk-toggleable__label sk-toggleable__label-arrow\">estimator: Ridge</label><div class=\"sk-toggleable__content\"><pre>Ridge()</pre></div></div></div><div class=\"sk-serial\"><div class=\"sk-item\"><div class=\"sk-estimator sk-toggleable\"><input class=\"sk-toggleable__control sk-hidden--visually\" id=\"sk-estimator-id-7\" type=\"checkbox\" ><label for=\"sk-estimator-id-7\" class=\"sk-toggleable__label sk-toggleable__label-arrow\">Ridge</label><div class=\"sk-toggleable__content\"><pre>Ridge()</pre></div></div></div></div></div></div></div></div></div></div>"
      ],
      "text/plain": [
       "GridSearchCV(cv=5, estimator=Ridge(),\n",
       "             param_grid={'alpha': [0, 1e-06, 0.0001, 0.001, 0.01, 0.1, 1]},\n",
       "             scoring='neg_mean_squared_error', verbose=1)"
      ]
     },
     "execution_count": 51,
     "metadata": {},
     "output_type": "execute_result"
    }
   ],
   "source": [
    "grid_search.fit(X_train_scaled, y_train)"
   ]
  },
  {
   "cell_type": "code",
   "execution_count": 52,
   "id": "f3f200e4-b1f8-4575-adfb-1cc90bb8bb79",
   "metadata": {},
   "outputs": [
    {
     "name": "stdout",
     "output_type": "stream",
     "text": [
      "Fitting 5 folds for each of 7 candidates, totalling 35 fits\n"
     ]
    },
    {
     "data": {
      "text/html": [
       "<style>#sk-container-id-6 {color: black;background-color: white;}#sk-container-id-6 pre{padding: 0;}#sk-container-id-6 div.sk-toggleable {background-color: white;}#sk-container-id-6 label.sk-toggleable__label {cursor: pointer;display: block;width: 100%;margin-bottom: 0;padding: 0.3em;box-sizing: border-box;text-align: center;}#sk-container-id-6 label.sk-toggleable__label-arrow:before {content: \"▸\";float: left;margin-right: 0.25em;color: #696969;}#sk-container-id-6 label.sk-toggleable__label-arrow:hover:before {color: black;}#sk-container-id-6 div.sk-estimator:hover label.sk-toggleable__label-arrow:before {color: black;}#sk-container-id-6 div.sk-toggleable__content {max-height: 0;max-width: 0;overflow: hidden;text-align: left;background-color: #f0f8ff;}#sk-container-id-6 div.sk-toggleable__content pre {margin: 0.2em;color: black;border-radius: 0.25em;background-color: #f0f8ff;}#sk-container-id-6 input.sk-toggleable__control:checked~div.sk-toggleable__content {max-height: 200px;max-width: 100%;overflow: auto;}#sk-container-id-6 input.sk-toggleable__control:checked~label.sk-toggleable__label-arrow:before {content: \"▾\";}#sk-container-id-6 div.sk-estimator input.sk-toggleable__control:checked~label.sk-toggleable__label {background-color: #d4ebff;}#sk-container-id-6 div.sk-label input.sk-toggleable__control:checked~label.sk-toggleable__label {background-color: #d4ebff;}#sk-container-id-6 input.sk-hidden--visually {border: 0;clip: rect(1px 1px 1px 1px);clip: rect(1px, 1px, 1px, 1px);height: 1px;margin: -1px;overflow: hidden;padding: 0;position: absolute;width: 1px;}#sk-container-id-6 div.sk-estimator {font-family: monospace;background-color: #f0f8ff;border: 1px dotted black;border-radius: 0.25em;box-sizing: border-box;margin-bottom: 0.5em;}#sk-container-id-6 div.sk-estimator:hover {background-color: #d4ebff;}#sk-container-id-6 div.sk-parallel-item::after {content: \"\";width: 100%;border-bottom: 1px solid gray;flex-grow: 1;}#sk-container-id-6 div.sk-label:hover label.sk-toggleable__label {background-color: #d4ebff;}#sk-container-id-6 div.sk-serial::before {content: \"\";position: absolute;border-left: 1px solid gray;box-sizing: border-box;top: 0;bottom: 0;left: 50%;z-index: 0;}#sk-container-id-6 div.sk-serial {display: flex;flex-direction: column;align-items: center;background-color: white;padding-right: 0.2em;padding-left: 0.2em;position: relative;}#sk-container-id-6 div.sk-item {position: relative;z-index: 1;}#sk-container-id-6 div.sk-parallel {display: flex;align-items: stretch;justify-content: center;background-color: white;position: relative;}#sk-container-id-6 div.sk-item::before, #sk-container-id-6 div.sk-parallel-item::before {content: \"\";position: absolute;border-left: 1px solid gray;box-sizing: border-box;top: 0;bottom: 0;left: 50%;z-index: -1;}#sk-container-id-6 div.sk-parallel-item {display: flex;flex-direction: column;z-index: 1;position: relative;background-color: white;}#sk-container-id-6 div.sk-parallel-item:first-child::after {align-self: flex-end;width: 50%;}#sk-container-id-6 div.sk-parallel-item:last-child::after {align-self: flex-start;width: 50%;}#sk-container-id-6 div.sk-parallel-item:only-child::after {width: 0;}#sk-container-id-6 div.sk-dashed-wrapped {border: 1px dashed gray;margin: 0 0.4em 0.5em 0.4em;box-sizing: border-box;padding-bottom: 0.4em;background-color: white;}#sk-container-id-6 div.sk-label label {font-family: monospace;font-weight: bold;display: inline-block;line-height: 1.2em;}#sk-container-id-6 div.sk-label-container {text-align: center;}#sk-container-id-6 div.sk-container {/* jupyter's `normalize.less` sets `[hidden] { display: none; }` but bootstrap.min.css set `[hidden] { display: none !important; }` so we also need the `!important` here to be able to override the default hidden behavior on the sphinx rendered scikit-learn.org. See: https://github.com/scikit-learn/scikit-learn/issues/21755 */display: inline-block !important;position: relative;}#sk-container-id-6 div.sk-text-repr-fallback {display: none;}</style><div id=\"sk-container-id-6\" class=\"sk-top-container\"><div class=\"sk-text-repr-fallback\"><pre>GridSearchCV(cv=5, estimator=Lasso(),\n",
       "             param_grid={&#x27;alpha&#x27;: [0, 1e-06, 0.0001, 0.001, 0.01, 0.1, 1]},\n",
       "             scoring=&#x27;neg_mean_squared_error&#x27;, verbose=1)</pre><b>In a Jupyter environment, please rerun this cell to show the HTML representation or trust the notebook. <br />On GitHub, the HTML representation is unable to render, please try loading this page with nbviewer.org.</b></div><div class=\"sk-container\" hidden><div class=\"sk-item sk-dashed-wrapped\"><div class=\"sk-label-container\"><div class=\"sk-label sk-toggleable\"><input class=\"sk-toggleable__control sk-hidden--visually\" id=\"sk-estimator-id-8\" type=\"checkbox\" ><label for=\"sk-estimator-id-8\" class=\"sk-toggleable__label sk-toggleable__label-arrow\">GridSearchCV</label><div class=\"sk-toggleable__content\"><pre>GridSearchCV(cv=5, estimator=Lasso(),\n",
       "             param_grid={&#x27;alpha&#x27;: [0, 1e-06, 0.0001, 0.001, 0.01, 0.1, 1]},\n",
       "             scoring=&#x27;neg_mean_squared_error&#x27;, verbose=1)</pre></div></div></div><div class=\"sk-parallel\"><div class=\"sk-parallel-item\"><div class=\"sk-item\"><div class=\"sk-label-container\"><div class=\"sk-label sk-toggleable\"><input class=\"sk-toggleable__control sk-hidden--visually\" id=\"sk-estimator-id-9\" type=\"checkbox\" ><label for=\"sk-estimator-id-9\" class=\"sk-toggleable__label sk-toggleable__label-arrow\">estimator: Lasso</label><div class=\"sk-toggleable__content\"><pre>Lasso()</pre></div></div></div><div class=\"sk-serial\"><div class=\"sk-item\"><div class=\"sk-estimator sk-toggleable\"><input class=\"sk-toggleable__control sk-hidden--visually\" id=\"sk-estimator-id-10\" type=\"checkbox\" ><label for=\"sk-estimator-id-10\" class=\"sk-toggleable__label sk-toggleable__label-arrow\">Lasso</label><div class=\"sk-toggleable__content\"><pre>Lasso()</pre></div></div></div></div></div></div></div></div></div></div>"
      ],
      "text/plain": [
       "GridSearchCV(cv=5, estimator=Lasso(),\n",
       "             param_grid={'alpha': [0, 1e-06, 0.0001, 0.001, 0.01, 0.1, 1]},\n",
       "             scoring='neg_mean_squared_error', verbose=1)"
      ]
     },
     "execution_count": 52,
     "metadata": {},
     "output_type": "execute_result"
    }
   ],
   "source": [
    "grid_search_lasso.fit(X_train_scaled, y_train)"
   ]
  },
  {
   "cell_type": "markdown",
   "id": "9f4e927a-3544-4ccb-9232-0b6b51971c9e",
   "metadata": {},
   "source": [
    "## Test the Model"
   ]
  },
  {
   "cell_type": "code",
   "execution_count": 53,
   "id": "7e63844a-2711-43f7-a73d-038d0cf2fc74",
   "metadata": {},
   "outputs": [],
   "source": [
    "# Predict and evaluate the model\n",
    "y_pred = model.predict(X_test_scaled)"
   ]
  },
  {
   "cell_type": "markdown",
   "id": "4eeba210-10dc-4d73-971a-34c6d595b319",
   "metadata": {},
   "source": [
    "##### Ridge & Lasso regularization"
   ]
  },
  {
   "cell_type": "code",
   "execution_count": 54,
   "id": "99c5e6cd-3a87-4f35-bcef-c21511eb8cec",
   "metadata": {},
   "outputs": [],
   "source": [
    "y_pred_ridge = ridge_model.predict(X_test_scaled)"
   ]
  },
  {
   "cell_type": "code",
   "execution_count": 55,
   "id": "77a64e0c-4d73-4f21-8b88-3356ddece062",
   "metadata": {},
   "outputs": [],
   "source": [
    "y_pred_lasso = lasso_model.predict(X_test_scaled)"
   ]
  },
  {
   "cell_type": "code",
   "execution_count": 56,
   "id": "bb5fc35b-f3f2-4707-a7c2-b1271730ef54",
   "metadata": {},
   "outputs": [
    {
     "name": "stdout",
     "output_type": "stream",
     "text": [
      "Best parameters found 'Ridge':  {'alpha': 0}\n"
     ]
    }
   ],
   "source": [
    "# Best hyperparameter\n",
    "print(\"Best parameters found 'Ridge': \", grid_search.best_params_)\n",
    "\n",
    "# Best model\n",
    "best_ridge = grid_search.best_estimator_"
   ]
  },
  {
   "cell_type": "code",
   "execution_count": 57,
   "id": "33d424f6-ae9e-490b-b7cd-9c623f26e880",
   "metadata": {},
   "outputs": [
    {
     "name": "stdout",
     "output_type": "stream",
     "text": [
      "Best parameters found 'Lasso':  {'alpha': 0}\n"
     ]
    }
   ],
   "source": [
    "# Best hyperparameter\n",
    "print(\"Best parameters found 'Lasso': \", grid_search_lasso.best_params_)\n",
    "\n",
    "# Best model\n",
    "best_ridge = grid_search_lasso.best_estimator_"
   ]
  },
  {
   "cell_type": "code",
   "execution_count": 58,
   "id": "06dc0a07-e912-450c-8c18-8476ea2a660b",
   "metadata": {},
   "outputs": [],
   "source": [
    "y_pred_ridge_cv = best_ridge.predict(X_test_scaled)"
   ]
  },
  {
   "cell_type": "markdown",
   "id": "909c9505-a199-4349-aa21-0ad1a3ae8308",
   "metadata": {},
   "source": [
    "## Interpretation of the Model"
   ]
  },
  {
   "cell_type": "code",
   "execution_count": 59,
   "id": "4e5afd74-3d99-4fd5-887c-dd595d439a48",
   "metadata": {},
   "outputs": [
    {
     "data": {
      "text/html": [
       "<div>\n",
       "<style scoped>\n",
       "    .dataframe tbody tr th:only-of-type {\n",
       "        vertical-align: middle;\n",
       "    }\n",
       "\n",
       "    .dataframe tbody tr th {\n",
       "        vertical-align: top;\n",
       "    }\n",
       "\n",
       "    .dataframe thead th {\n",
       "        text-align: right;\n",
       "    }\n",
       "</style>\n",
       "<table border=\"1\" class=\"dataframe\">\n",
       "  <thead>\n",
       "    <tr style=\"text-align: right;\">\n",
       "      <th></th>\n",
       "      <th>Coefficient</th>\n",
       "    </tr>\n",
       "  </thead>\n",
       "  <tbody>\n",
       "    <tr>\n",
       "      <th>appearance</th>\n",
       "      <td>-1.067133e+06</td>\n",
       "    </tr>\n",
       "    <tr>\n",
       "      <th>minutes played</th>\n",
       "      <td>1.971712e+06</td>\n",
       "    </tr>\n",
       "    <tr>\n",
       "      <th>award</th>\n",
       "      <td>-1.891462e+06</td>\n",
       "    </tr>\n",
       "    <tr>\n",
       "      <th>highest_value</th>\n",
       "      <td>8.139863e+06</td>\n",
       "    </tr>\n",
       "  </tbody>\n",
       "</table>\n",
       "</div>"
      ],
      "text/plain": [
       "                 Coefficient\n",
       "appearance     -1.067133e+06\n",
       "minutes played  1.971712e+06\n",
       "award          -1.891462e+06\n",
       "highest_value   8.139863e+06"
      ]
     },
     "execution_count": 59,
     "metadata": {},
     "output_type": "execute_result"
    }
   ],
   "source": [
    "coeff_df = pd.DataFrame(model.coef_,X.columns,columns=['Coefficient'])\n",
    "coeff_df"
   ]
  },
  {
   "cell_type": "code",
   "execution_count": 60,
   "id": "0457d796-4122-4122-8687-3df1e4266415",
   "metadata": {},
   "outputs": [
    {
     "name": "stdout",
     "output_type": "stream",
     "text": [
      "3622354.9924444957\n"
     ]
    }
   ],
   "source": [
    "print(model.intercept_)"
   ]
  },
  {
   "cell_type": "markdown",
   "id": "cf59f316-ff54-4af9-9902-8e85f264b7b1",
   "metadata": {},
   "source": [
    "##### Ridge & Lasso regularization"
   ]
  },
  {
   "cell_type": "code",
   "execution_count": 61,
   "id": "953ea383-5dd6-456e-bdbb-c29e9e521892",
   "metadata": {},
   "outputs": [
    {
     "data": {
      "text/html": [
       "<div>\n",
       "<style scoped>\n",
       "    .dataframe tbody tr th:only-of-type {\n",
       "        vertical-align: middle;\n",
       "    }\n",
       "\n",
       "    .dataframe tbody tr th {\n",
       "        vertical-align: top;\n",
       "    }\n",
       "\n",
       "    .dataframe thead th {\n",
       "        text-align: right;\n",
       "    }\n",
       "</style>\n",
       "<table border=\"1\" class=\"dataframe\">\n",
       "  <thead>\n",
       "    <tr style=\"text-align: right;\">\n",
       "      <th></th>\n",
       "      <th>Coefficient</th>\n",
       "    </tr>\n",
       "  </thead>\n",
       "  <tbody>\n",
       "    <tr>\n",
       "      <th>appearance</th>\n",
       "      <td>-1.067114e+06</td>\n",
       "    </tr>\n",
       "    <tr>\n",
       "      <th>minutes played</th>\n",
       "      <td>1.971693e+06</td>\n",
       "    </tr>\n",
       "    <tr>\n",
       "      <th>award</th>\n",
       "      <td>-1.891460e+06</td>\n",
       "    </tr>\n",
       "    <tr>\n",
       "      <th>highest_value</th>\n",
       "      <td>8.139860e+06</td>\n",
       "    </tr>\n",
       "  </tbody>\n",
       "</table>\n",
       "</div>"
      ],
      "text/plain": [
       "                 Coefficient\n",
       "appearance     -1.067114e+06\n",
       "minutes played  1.971693e+06\n",
       "award          -1.891460e+06\n",
       "highest_value   8.139860e+06"
      ]
     },
     "execution_count": 61,
     "metadata": {},
     "output_type": "execute_result"
    }
   ],
   "source": [
    "coeff_df = pd.DataFrame(lasso_model.coef_,X.columns,columns=['Coefficient'])\n",
    "coeff_df"
   ]
  },
  {
   "cell_type": "code",
   "execution_count": 62,
   "id": "57180ced-ecdf-4d72-b82e-fcece45a72eb",
   "metadata": {},
   "outputs": [
    {
     "data": {
      "text/html": [
       "<div>\n",
       "<style scoped>\n",
       "    .dataframe tbody tr th:only-of-type {\n",
       "        vertical-align: middle;\n",
       "    }\n",
       "\n",
       "    .dataframe tbody tr th {\n",
       "        vertical-align: top;\n",
       "    }\n",
       "\n",
       "    .dataframe thead th {\n",
       "        text-align: right;\n",
       "    }\n",
       "</style>\n",
       "<table border=\"1\" class=\"dataframe\">\n",
       "  <thead>\n",
       "    <tr style=\"text-align: right;\">\n",
       "      <th></th>\n",
       "      <th>Coefficient</th>\n",
       "    </tr>\n",
       "  </thead>\n",
       "  <tbody>\n",
       "    <tr>\n",
       "      <th>appearance</th>\n",
       "      <td>-1.063434e+06</td>\n",
       "    </tr>\n",
       "    <tr>\n",
       "      <th>minutes played</th>\n",
       "      <td>1.968459e+06</td>\n",
       "    </tr>\n",
       "    <tr>\n",
       "      <th>award</th>\n",
       "      <td>-1.890426e+06</td>\n",
       "    </tr>\n",
       "    <tr>\n",
       "      <th>highest_value</th>\n",
       "      <td>8.138118e+06</td>\n",
       "    </tr>\n",
       "  </tbody>\n",
       "</table>\n",
       "</div>"
      ],
      "text/plain": [
       "                 Coefficient\n",
       "appearance     -1.063434e+06\n",
       "minutes played  1.968459e+06\n",
       "award          -1.890426e+06\n",
       "highest_value   8.138118e+06"
      ]
     },
     "execution_count": 62,
     "metadata": {},
     "output_type": "execute_result"
    }
   ],
   "source": [
    "coeff_df = pd.DataFrame(ridge_model.coef_,X.columns,columns=['Coefficient'])\n",
    "coeff_df"
   ]
  },
  {
   "cell_type": "code",
   "execution_count": 63,
   "id": "1b559f2c-49c1-4f34-9010-85329ba2d3a3",
   "metadata": {},
   "outputs": [
    {
     "data": {
      "text/html": [
       "<div>\n",
       "<style scoped>\n",
       "    .dataframe tbody tr th:only-of-type {\n",
       "        vertical-align: middle;\n",
       "    }\n",
       "\n",
       "    .dataframe tbody tr th {\n",
       "        vertical-align: top;\n",
       "    }\n",
       "\n",
       "    .dataframe thead th {\n",
       "        text-align: right;\n",
       "    }\n",
       "</style>\n",
       "<table border=\"1\" class=\"dataframe\">\n",
       "  <thead>\n",
       "    <tr style=\"text-align: right;\">\n",
       "      <th></th>\n",
       "      <th>Coefficient</th>\n",
       "    </tr>\n",
       "  </thead>\n",
       "  <tbody>\n",
       "    <tr>\n",
       "      <th>appearance</th>\n",
       "      <td>-1.067133e+06</td>\n",
       "    </tr>\n",
       "    <tr>\n",
       "      <th>minutes played</th>\n",
       "      <td>1.971712e+06</td>\n",
       "    </tr>\n",
       "    <tr>\n",
       "      <th>award</th>\n",
       "      <td>-1.891462e+06</td>\n",
       "    </tr>\n",
       "    <tr>\n",
       "      <th>highest_value</th>\n",
       "      <td>8.139863e+06</td>\n",
       "    </tr>\n",
       "  </tbody>\n",
       "</table>\n",
       "</div>"
      ],
      "text/plain": [
       "                 Coefficient\n",
       "appearance     -1.067133e+06\n",
       "minutes played  1.971712e+06\n",
       "award          -1.891462e+06\n",
       "highest_value   8.139863e+06"
      ]
     },
     "execution_count": 63,
     "metadata": {},
     "output_type": "execute_result"
    }
   ],
   "source": [
    "coeff_df = pd.DataFrame(best_ridge.coef_,X.columns,columns=['Coefficient'])\n",
    "coeff_df"
   ]
  },
  {
   "cell_type": "markdown",
   "id": "5f789445-7a67-4817-85bf-1236ae3bb5ed",
   "metadata": {},
   "source": [
    "1. Mean Square Error"
   ]
  },
  {
   "cell_type": "code",
   "execution_count": 33,
   "id": "34c447be-8b79-42e4-baf6-e9503c5a86ac",
   "metadata": {},
   "outputs": [],
   "source": [
    "y_base = [y_train.mean()] * len(y_test)"
   ]
  },
  {
   "cell_type": "code",
   "execution_count": 34,
   "id": "71090fdd-f918-4e85-937b-98895d04e526",
   "metadata": {},
   "outputs": [
    {
     "name": "stdout",
     "output_type": "stream",
     "text": [
      "Mean Squared Error of base model: 90434700474058.52\n"
     ]
    }
   ],
   "source": [
    "# our benchmark model\n",
    "mse_base = mean_squared_error(y_test, y_base )\n",
    "print(f'Mean Squared Error of base model: {mse_base}')"
   ]
  },
  {
   "cell_type": "code",
   "execution_count": 35,
   "id": "d875df72-8982-4240-b1b3-96a34bbe4c67",
   "metadata": {},
   "outputs": [
    {
     "name": "stdout",
     "output_type": "stream",
     "text": [
      "Mean Squared Error for training: 21529110391273.445\n",
      "Mean Squared Error for testing: 23838959700918.492\n"
     ]
    }
   ],
   "source": [
    "mse_train = mean_squared_error(y_train, model.predict(X_train_scaled))\n",
    "mse_test = mean_squared_error(y_test, y_pred)\n",
    "print(f'Mean Squared Error for training: {mse_train}')\n",
    "print(f'Mean Squared Error for testing: {mse_test}')"
   ]
  },
  {
   "cell_type": "markdown",
   "id": "aeba86a3-6474-46d5-b70e-7f95fb331973",
   "metadata": {},
   "source": [
    "2. Mean Absolute Error"
   ]
  },
  {
   "cell_type": "code",
   "execution_count": 36,
   "id": "2fe91c53-3214-4626-955e-d79b282d61af",
   "metadata": {},
   "outputs": [
    {
     "name": "stdout",
     "output_type": "stream",
     "text": [
      "Mean Absolute  Error of base model: 4482422.870661328\n"
     ]
    }
   ],
   "source": [
    "# our benchmark model\n",
    "mse_base = mean_absolute_error(y_test, y_base )\n",
    "print(f'Mean Absolute  Error of base model: {mse_base}')"
   ]
  },
  {
   "cell_type": "code",
   "execution_count": 37,
   "id": "67b75c11-86c7-44a8-94fe-cc2f74334bb9",
   "metadata": {},
   "outputs": [
    {
     "name": "stdout",
     "output_type": "stream",
     "text": [
      "Mean Absolute Error for training: 2095891.6080662932\n",
      "Mean Absolute Error for testing: 2148392.200503236\n"
     ]
    }
   ],
   "source": [
    "mae_train = mean_absolute_error(y_train, model.predict(X_train_scaled))\n",
    "mae_test = mean_absolute_error(y_test, y_pred)\n",
    "print(f'Mean Absolute Error for training: {mae_train}')\n",
    "print(f'Mean Absolute Error for testing: {mae_test}')"
   ]
  },
  {
   "cell_type": "markdown",
   "id": "b3e880bf-9fd0-4c1a-be6c-569dca4108e7",
   "metadata": {},
   "source": [
    "3. Root Mean Absolute Error"
   ]
  },
  {
   "cell_type": "code",
   "execution_count": 38,
   "id": "6603a799-60db-405f-abce-9a407de4a0af",
   "metadata": {},
   "outputs": [
    {
     "name": "stdout",
     "output_type": "stream",
     "text": [
      "Root Mean Squared  Error of base model: 2117.1733208836085\n"
     ]
    }
   ],
   "source": [
    "# our benchmark model\n",
    "print(f'Root Mean Squared  Error of base model: {np.sqrt(mse_base)}')"
   ]
  },
  {
   "cell_type": "code",
   "execution_count": 39,
   "id": "ca987b0d-3815-4bea-9e53-c659bb37c8a9",
   "metadata": {},
   "outputs": [
    {
     "name": "stdout",
     "output_type": "stream",
     "text": [
      "Root Mean Squared Error for training: 4639947.240138992\n",
      "Root Mean Squared Error for testing: 4882515.714354485\n"
     ]
    }
   ],
   "source": [
    "print(f'Root Mean Squared Error for training: {np.sqrt(mse_train)}')\n",
    "print(f'Root Mean Squared Error for testing: {np.sqrt(mse_test)}')"
   ]
  },
  {
   "cell_type": "markdown",
   "id": "c66085fe-c733-499a-b1d3-9cbf2c5b35df",
   "metadata": {},
   "source": [
    "4. R Square"
   ]
  },
  {
   "cell_type": "code",
   "execution_count": 40,
   "id": "2b275187-2a0a-47b1-b233-c8636c2ba0a7",
   "metadata": {},
   "outputs": [
    {
     "name": "stdout",
     "output_type": "stream",
     "text": [
      "R Square for training: 0.7335162692635426\n",
      "R Square for testing: 0.7363958516354421\n"
     ]
    }
   ],
   "source": [
    "r2_score_train = r2_score(y_train, model.predict(X_train_scaled))\n",
    "r2_score_test = r2_score(y_test, y_pred)\n",
    "print(f'R Square for training: {r2_score_train}')\n",
    "print(f'R Square for testing: {r2_score_test}')"
   ]
  },
  {
   "cell_type": "code",
   "execution_count": 41,
   "id": "5bd2a3df-44f0-43d6-bbf2-1537300c6810",
   "metadata": {},
   "outputs": [],
   "source": [
    "predictions = model.predict(X_test_scaled)\n",
    "#predictions"
   ]
  },
  {
   "cell_type": "code",
   "execution_count": 42,
   "id": "13128df9-08f1-497b-872d-6a4475ed44ed",
   "metadata": {},
   "outputs": [],
   "source": [
    "Real_Values = np.array(y_test)\n",
    "#Real_Values"
   ]
  },
  {
   "cell_type": "code",
   "execution_count": 43,
   "id": "99d62e83-e80a-4c78-8ec1-86b293d3baab",
   "metadata": {},
   "outputs": [
    {
     "data": {
      "image/png": "[encoded data removed]",
      "text/plain": [
       "<Figure size 640x480 with 1 Axes>"
      ]
     },
     "metadata": {},
     "output_type": "display_data"
    }
   ],
   "source": [
    "plt.scatter(Real_Values,predictions); \n"
   ]
  },
  {
   "cell_type": "code",
   "execution_count": 44,
   "id": "8df9b65f-2067-4257-b1b4-d96805224d59",
   "metadata": {},
   "outputs": [
    {
     "data": {
      "image/png": "[encoded data removed]",
      "text/plain": [
       "<Figure size 640x480 with 1 Axes>"
      ]
     },
     "metadata": {},
     "output_type": "display_data"
    }
   ],
   "source": [
    "sns.distplot((y_test-predictions),bins=50); # it's good if we get normal distribution\n"
   ]
  },
  {
   "cell_type": "code",
   "execution_count": null,
   "id": "f768be38-d8d0-49ac-b872-a9a2f0ca7738",
   "metadata": {},
   "outputs": [],
   "source": []
  }
 ],
 "metadata": {
  "kernelspec": {
   "display_name": "Python 3 (ipykernel)",
   "language": "python",
   "name": "python3"
  },
  "language_info": {
   "codemirror_mode": {
    "name": "ipython",
    "version": 3
   },
   "file_extension": ".py",
   "mimetype": "text/x-python",
   "name": "python",
   "nbconvert_exporter": "python",
   "pygments_lexer": "ipython3",
   "version": "3.11.7"
  }
 },
 "nbformat": 4,
 "nbformat_minor": 5
}
